{
  "metadata": {
    "colab": {
      "provenance": [],
      "toc_visible": true
    },
    "kernelspec": {
      "display_name": "Python (Pyodide)",
      "language": "python",
      "name": "python"
    },
    "language_info": {
      "codemirror_mode": {
        "name": "python",
        "version": 3
      },
      "file_extension": ".py",
      "mimetype": "text/x-python",
      "name": "python",
      "nbconvert_exporter": "python",
      "pygments_lexer": "ipython3",
      "version": "3.8"
    }
  },
  "nbformat_minor": 4,
  "nbformat": 4,
  "cells": [
    {
      "cell_type": "markdown",
      "source": "# **Lesson 6. 카시트 판매량 분석 및 예측**",
      "metadata": {
        "id": "qXUBfCONOdID",
        "tags": []
      }
    },
    {
      "cell_type": "markdown",
      "source": "* 실습 배경\n    * 카시트 전문 기업의 영업팀장 A씨는 최근 계속해서 하락하는 매출 감소로 고민 중입니다.\n    * 경쟁사들의 가격 경쟁력으로 인해 마케팅과 광고 비용을 줄이는 등의 노력으로도 매출 회복이 쉽지 않은 상황입니다.\n    * 더불어 자국내 시장에서의 매출 증대에 한계를 느끼고 있는데,\n    * 그 이유 중 하나는 지역별 영업이익의 차이와 지역별 소비력 파악의 어려움 때문입니다.\n    * 이에 영업팀장 A씨는 매출 감소의 주요 원인을 찾고, 매출 회복을 위한 전략을 수립하고자 합니다.\n\n* 데이터 분석 목표\n    * ① 문제 정의 및 요인 파악을 위한 가설 확인\n    * ② 중요 변수 발견\n        * 어떤 변수가 카시트 판매 매출에 영향을 미치는지 변수를 확인\n    * ③ 매출과 매출에 영향을 주는 변수 간의 관계 분석\n        * 매출에 영향을 주는 변수(독립 변수)가 카시트 판매 매출에 어떠한 영향을 미치는지 분석\n",
      "metadata": {
        "id": "QB2bBgnB8NM7"
      }
    },
    {
      "cell_type": "markdown",
      "source": "## **1.환경준비**",
      "metadata": {
        "id": "DAR82IvULLEt"
      }
    },
    {
      "cell_type": "markdown",
      "source": "### **(1) 라이브러리 로딩**",
      "metadata": {
        "id": "QDhLvPrGqhKA"
      }
    },
    {
      "cell_type": "code",
      "source": "# jupyter lite에서 패키지 설치\nimport piplite\nawait piplite.install(\"seaborn\")",
      "metadata": {},
      "execution_count": null,
      "outputs": []
    },
    {
      "cell_type": "code",
      "source": "import pandas as pd\nimport numpy as np\n\nimport matplotlib.pyplot as plt\nimport seaborn as sns",
      "metadata": {
        "id": "bTVrr9iaLNsy"
      },
      "execution_count": null,
      "outputs": []
    },
    {
      "cell_type": "markdown",
      "source": "### **(2) 데이터 로딩**",
      "metadata": {
        "id": "PICN-zK6qlil"
      }
    },
    {
      "cell_type": "markdown",
      "source": "|\t변수명\t|\t설명\t|\t구분\t|  데이터 유형 |\n|----|----|----|----|\n|\tSales \t|\t 각 지역 판매량(단위 : 1000개)\t|\ttarget\t| 수치형 |\n|\tCompPrice \t|\t지역별 경쟁사 판매가격(달러)\t|\tfeature\t| 수치형 |\n|\tPrice \t|\t 자사 지역별 판매가격(달러)\t|\tfeature\t| 수치형 |\n|\tShelveLoc \t|\t 진열상태(범주 : Bad, Medium, Good) \t|\tfeature\t| 범주형 |\n|\tUS \t|\t 매장이 미국에 있는지 여부(범주 : Yes, No)\t|\tfeature\t| 범주형 |\n|\tIncome \t|\t 지역 주민 평균 소득(천 달러)\t|\tfeature\t| 수치형 |\n|\tUrban \t|\t 매장이 도시에 있는지 여부(범주 : Yes, No)\t|\tfeature\t| 범주형 |\n\n",
      "metadata": {
        "id": "zYKHwYHatC4k"
      }
    },
    {
      "cell_type": "code",
      "source": "path = 'carseat.csv'\ndata = pd.read_csv(path)",
      "metadata": {
        "id": "QG28HshT8SfH"
      },
      "execution_count": null,
      "outputs": []
    },
    {
      "cell_type": "markdown",
      "source": "## **2.기본 탐색**",
      "metadata": {
        "id": "SpEFHt5QewTI"
      }
    },
    {
      "cell_type": "markdown",
      "source": "### **(1) 상위, 하위 5개의 정보 확인**\n* .head()\n* .tail()",
      "metadata": {
        "id": "thQJEoEze3ke"
      }
    },
    {
      "cell_type": "code",
      "source": "",
      "metadata": {
        "id": "BY7a4N5wewj5"
      },
      "execution_count": null,
      "outputs": []
    },
    {
      "cell_type": "code",
      "source": "",
      "metadata": {
        "id": "ykqYxZC_ewge"
      },
      "execution_count": null,
      "outputs": []
    },
    {
      "cell_type": "markdown",
      "source": "### **(2) 데이터프레임 정보 확인**\n* .info()",
      "metadata": {
        "id": "k1328Lu7ewP1"
      }
    },
    {
      "cell_type": "code",
      "source": "",
      "metadata": {
        "id": "3QbiOdtFfO7e"
      },
      "execution_count": null,
      "outputs": []
    },
    {
      "cell_type": "markdown",
      "source": "## **3.단변량 분석**",
      "metadata": {
        "id": "J-JZ79AtfVAB"
      }
    },
    {
      "cell_type": "markdown",
      "source": "### **(1) 수치형 변수**\n\n* 기초통계량 : .describe()\n* 그래프 : 히스토그램, 박스플롯 등",
      "metadata": {
        "id": "k9yKRvZjfm06"
      }
    },
    {
      "cell_type": "markdown",
      "source": "#### **1)  Sales**",
      "metadata": {
        "id": "S7P-tDDUfp8y"
      }
    },
    {
      "cell_type": "markdown",
      "source": "* 기초통계량",
      "metadata": {
        "id": "MQNTMLD9hcgT"
      }
    },
    {
      "cell_type": "code",
      "source": "var = 'Sales'\ndata[var].describe()",
      "metadata": {
        "id": "VgDfL98cfqQh"
      },
      "execution_count": null,
      "outputs": []
    },
    {
      "cell_type": "markdown",
      "source": "* 그래프",
      "metadata": {
        "id": "77sKtv0uheUM"
      }
    },
    {
      "cell_type": "code",
      "source": "plt.figure(figsize = (8,6))\nplt.subplot(2,1,1)\nsns.histplot(x = var, data = data, bins = 30, kde = True)\nplt.grid()\n\nplt.subplot(2,1,2)\nsns.boxplot(x = var, data = data)\nplt.grid()\n\nplt.tight_layout()\nplt.show()",
      "metadata": {
        "id": "X4F_b0sCfwDe"
      },
      "execution_count": null,
      "outputs": []
    },
    {
      "cell_type": "markdown",
      "source": "* 파악한 내용을 적어 봅시다.",
      "metadata": {
        "id": "y9JvAUNHhftm"
      }
    },
    {
      "cell_type": "code",
      "source": "",
      "metadata": {
        "id": "-eT2mZ_dhhVO"
      },
      "execution_count": null,
      "outputs": []
    },
    {
      "cell_type": "markdown",
      "source": "#### **2)  CompPrice**",
      "metadata": {
        "id": "Gmjy0Wzbfw5b"
      }
    },
    {
      "cell_type": "markdown",
      "source": "* 기초통계량",
      "metadata": {
        "id": "pTkemVWChjO4"
      }
    },
    {
      "cell_type": "code",
      "source": "",
      "metadata": {
        "id": "EE7lH8qlkwYb"
      },
      "execution_count": null,
      "outputs": []
    },
    {
      "cell_type": "markdown",
      "source": "* 그래프",
      "metadata": {
        "id": "4U38-xGDkwYb"
      }
    },
    {
      "cell_type": "code",
      "source": "",
      "metadata": {
        "id": "VS6X3_KEkwYb"
      },
      "execution_count": null,
      "outputs": []
    },
    {
      "cell_type": "markdown",
      "source": "* 파악한 내용을 적어 봅시다.",
      "metadata": {
        "id": "vQCyrgDrhjO5"
      }
    },
    {
      "cell_type": "code",
      "source": "",
      "metadata": {
        "id": "vBuJr0qrfw5c"
      },
      "execution_count": null,
      "outputs": []
    },
    {
      "cell_type": "markdown",
      "source": "#### **3) Income**",
      "metadata": {
        "id": "n6Ur695UgeKW"
      }
    },
    {
      "cell_type": "markdown",
      "source": "* 기초통계량",
      "metadata": {
        "id": "gzxbxdVphkV5"
      }
    },
    {
      "cell_type": "code",
      "source": "",
      "metadata": {
        "id": "rm4kb2oVk0Rt"
      },
      "execution_count": null,
      "outputs": []
    },
    {
      "cell_type": "markdown",
      "source": "* 그래프",
      "metadata": {
        "id": "9_tE3oKuk0Ru"
      }
    },
    {
      "cell_type": "code",
      "source": "",
      "metadata": {
        "id": "2-A-1eb1k0Ru"
      },
      "execution_count": null,
      "outputs": []
    },
    {
      "cell_type": "markdown",
      "source": "* 파악한 내용을 적어 봅시다.",
      "metadata": {
        "id": "I9a3LleihkV6"
      }
    },
    {
      "cell_type": "code",
      "source": "",
      "metadata": {
        "id": "4IJTIKKkhkV6"
      },
      "execution_count": null,
      "outputs": []
    },
    {
      "cell_type": "markdown",
      "source": "#### **4) Price**",
      "metadata": {
        "id": "Qv1cwLe-gk1J"
      }
    },
    {
      "cell_type": "markdown",
      "source": "* 기초통계량",
      "metadata": {
        "id": "1fHwU7D3hlwp"
      }
    },
    {
      "cell_type": "code",
      "source": "",
      "metadata": {
        "id": "5XMdy_TRk1Yy"
      },
      "execution_count": null,
      "outputs": []
    },
    {
      "cell_type": "markdown",
      "source": "* 그래프",
      "metadata": {
        "id": "Frm3o5YVk1Yy"
      }
    },
    {
      "cell_type": "code",
      "source": "",
      "metadata": {
        "id": "zSnkjZQhk1Yy"
      },
      "execution_count": null,
      "outputs": []
    },
    {
      "cell_type": "markdown",
      "source": "* 파악한 내용을 적어 봅시다.",
      "metadata": {
        "id": "ri70q276hlw1"
      }
    },
    {
      "cell_type": "code",
      "source": "",
      "metadata": {
        "id": "lmYxUVZghlw1"
      },
      "execution_count": null,
      "outputs": []
    },
    {
      "cell_type": "markdown",
      "source": "### **(2) 범주형 변수**\n* 기초통계량 : 범주별 빈도수/비율\n* 그래프 : 막대 그래프(sns.countplot)",
      "metadata": {
        "id": "vDU0LiUZgtfj"
      }
    },
    {
      "cell_type": "markdown",
      "source": "#### **1)  ShelveLoc**",
      "metadata": {
        "id": "MrXP5wQJgtfj"
      }
    },
    {
      "cell_type": "markdown",
      "source": "* 기초통계량",
      "metadata": {
        "id": "VcNNrb75hns-"
      }
    },
    {
      "cell_type": "code",
      "source": "var = 'ShelveLoc'\nprint(data[var].value_counts())\nprint(data[var].value_counts(normalize = True))",
      "metadata": {
        "id": "kqLaa6a9k2vL"
      },
      "execution_count": null,
      "outputs": []
    },
    {
      "cell_type": "markdown",
      "source": "* 그래프",
      "metadata": {
        "id": "wPpZ7DDVk2vM"
      }
    },
    {
      "cell_type": "code",
      "source": "plt.figure(figsize = (8,4))\nplt.subplot(1,2,1)\nsns.countplot(x = var, data = data)\nplt.grid()\n\nplt.subplot(1,2,2)\ntemp = data[var].value_counts()\nplt.pie(temp.values, labels = temp.index, autopct = '%.1f%%')\n\nplt.tight_layout()\nplt.show()",
      "metadata": {
        "id": "E8QYG6Jwk2vM"
      },
      "execution_count": null,
      "outputs": []
    },
    {
      "cell_type": "markdown",
      "source": "* 파악한 내용을 적어 봅시다.",
      "metadata": {
        "id": "bygE98Hwhns_"
      }
    },
    {
      "cell_type": "code",
      "source": "",
      "metadata": {
        "id": "tf31eJnWhns_"
      },
      "execution_count": null,
      "outputs": []
    },
    {
      "cell_type": "markdown",
      "source": "#### **2) Urban**",
      "metadata": {
        "id": "o0iyuz2egtfk"
      }
    },
    {
      "cell_type": "markdown",
      "source": "* 기초통계량",
      "metadata": {
        "id": "K_lwasnihpBc"
      }
    },
    {
      "cell_type": "code",
      "source": "",
      "metadata": {
        "id": "rfdiF9xUk4Hx"
      },
      "execution_count": null,
      "outputs": []
    },
    {
      "cell_type": "markdown",
      "source": "* 그래프",
      "metadata": {
        "id": "WAxBR_Wxk4Hx"
      }
    },
    {
      "cell_type": "code",
      "source": "",
      "metadata": {
        "id": "nqstgPuUk4Hx"
      },
      "execution_count": null,
      "outputs": []
    },
    {
      "cell_type": "markdown",
      "source": "* 파악한 내용을 적어 봅시다.",
      "metadata": {
        "id": "1i9OIjtchpBd"
      }
    },
    {
      "cell_type": "code",
      "source": "",
      "metadata": {
        "id": "k6tFt-CPhpBe"
      },
      "execution_count": null,
      "outputs": []
    },
    {
      "cell_type": "markdown",
      "source": "#### **3) US**",
      "metadata": {
        "id": "vn5grt7Egtfk"
      }
    },
    {
      "cell_type": "markdown",
      "source": "* 기초통계량",
      "metadata": {
        "id": "9_Hh92qehqMh"
      }
    },
    {
      "cell_type": "code",
      "source": "",
      "metadata": {
        "id": "V_9IeQitk5W6"
      },
      "execution_count": null,
      "outputs": []
    },
    {
      "cell_type": "markdown",
      "source": "* 그래프",
      "metadata": {
        "id": "fGfliWQpk5W6"
      }
    },
    {
      "cell_type": "code",
      "source": "",
      "metadata": {
        "id": "QYKjqtvYk5W6"
      },
      "execution_count": null,
      "outputs": []
    },
    {
      "cell_type": "markdown",
      "source": "* 파악한 내용을 적어 봅시다.",
      "metadata": {
        "id": "OH3URk2DhqMj"
      }
    },
    {
      "cell_type": "code",
      "source": "",
      "metadata": {
        "id": "QKhW6PAghqMj"
      },
      "execution_count": null,
      "outputs": []
    },
    {
      "cell_type": "markdown",
      "source": "## **4.이변량분석**",
      "metadata": {
        "id": "4hzLzBmgJCPm"
      }
    },
    {
      "cell_type": "markdown",
      "source": "* 그래프 : scatter\n",
      "metadata": {
        "id": "YA2VBs_Ppx9f"
      }
    },
    {
      "cell_type": "code",
      "source": "target = 'Sales'",
      "metadata": {
        "id": "qZ13M3G6y1h3"
      },
      "execution_count": null,
      "outputs": []
    },
    {
      "cell_type": "markdown",
      "source": "### **(1) 숫자형 X --> Y**",
      "metadata": {
        "id": "VOUBk-eqqBZD"
      }
    },
    {
      "cell_type": "markdown",
      "source": "#### **1) CompPrice -> Sales**",
      "metadata": {
        "id": "afL0_rKpEoTz"
      }
    },
    {
      "cell_type": "markdown",
      "source": "* 그래프",
      "metadata": {
        "id": "VoWrOOgZjUHy"
      }
    },
    {
      "cell_type": "code",
      "source": "var = 'CompPrice'\nsns.scatterplot(x=var, y = target, data = data)\nplt.grid()\nplt.show()",
      "metadata": {
        "id": "4Fo6Vzsiyv6d"
      },
      "execution_count": null,
      "outputs": []
    },
    {
      "cell_type": "markdown",
      "source": " * 파악한 내용을 적어 봅시다.",
      "metadata": {
        "id": "uP5mxn4kzpYL"
      }
    },
    {
      "cell_type": "code",
      "source": "",
      "metadata": {
        "id": "sjhPcWfPjbmI"
      },
      "execution_count": null,
      "outputs": []
    },
    {
      "cell_type": "markdown",
      "source": "#### **2) Income -> Sales**",
      "metadata": {
        "id": "WkqKQdQADSiq"
      }
    },
    {
      "cell_type": "markdown",
      "source": "* 그래프",
      "metadata": {
        "id": "skHG6G-HjeI2"
      }
    },
    {
      "cell_type": "code",
      "source": "",
      "metadata": {
        "id": "wGgqYXeajeI3"
      },
      "execution_count": null,
      "outputs": []
    },
    {
      "cell_type": "markdown",
      "source": " * 파악한 내용을 적어 봅시다.",
      "metadata": {
        "id": "ByKBXW7zjeI3"
      }
    },
    {
      "cell_type": "code",
      "source": "",
      "metadata": {
        "id": "_n1V1Z5HjeI4"
      },
      "execution_count": null,
      "outputs": []
    },
    {
      "cell_type": "markdown",
      "source": "#### **3) Price -> Sales**",
      "metadata": {
        "id": "dGm2hHTFDSo4"
      }
    },
    {
      "cell_type": "markdown",
      "source": "* 그래프",
      "metadata": {
        "id": "XR9npWRqjitT"
      }
    },
    {
      "cell_type": "code",
      "source": "",
      "metadata": {
        "id": "qW1GUaTGjitU"
      },
      "execution_count": null,
      "outputs": []
    },
    {
      "cell_type": "markdown",
      "source": " * 파악한 내용을 적어 봅시다.",
      "metadata": {
        "id": "jZzcZQd9jitU"
      }
    },
    {
      "cell_type": "code",
      "source": "",
      "metadata": {
        "id": "33OIztN6jitU"
      },
      "execution_count": null,
      "outputs": []
    },
    {
      "cell_type": "markdown",
      "source": "### **(2) 범주형 X --> Y**",
      "metadata": {
        "id": "uFKvj_10EoQi"
      }
    },
    {
      "cell_type": "markdown",
      "source": "* 그래프 : 평균비교 막대그래프",
      "metadata": {
        "id": "lqdUhrlqqGfh"
      }
    },
    {
      "cell_type": "markdown",
      "source": "#### **1) ShelveLoc-> Sales**",
      "metadata": {
        "id": "Um7zx9GQEoNk"
      }
    },
    {
      "cell_type": "markdown",
      "source": "* 그래프",
      "metadata": {
        "id": "x6-EDDfS0AHi"
      }
    },
    {
      "cell_type": "code",
      "source": "var = 'ShelveLoc'\nsns.barplot(x=var, y=target, data = data)\nplt.grid()\nplt.show()",
      "metadata": {
        "id": "JWa_TXpt0EXI"
      },
      "execution_count": null,
      "outputs": []
    },
    {
      "cell_type": "markdown",
      "source": " * 파악한 내용을 적어 봅시다.",
      "metadata": {
        "id": "mDUboUHNj_hf"
      }
    },
    {
      "cell_type": "code",
      "source": "",
      "metadata": {
        "id": "lANyrDEpj_hg"
      },
      "execution_count": null,
      "outputs": []
    },
    {
      "cell_type": "markdown",
      "source": "#### **2) Urban -> Sales**",
      "metadata": {
        "id": "hak8yqOtqXU6"
      }
    },
    {
      "cell_type": "markdown",
      "source": "* 그래프",
      "metadata": {
        "id": "ZnJn1GjXkBhP"
      }
    },
    {
      "cell_type": "code",
      "source": "",
      "metadata": {
        "id": "0ihmeQAVkBhP"
      },
      "execution_count": null,
      "outputs": []
    },
    {
      "cell_type": "markdown",
      "source": " * 파악한 내용을 적어 봅시다.",
      "metadata": {
        "id": "pvFR59YKkBhP"
      }
    },
    {
      "cell_type": "code",
      "source": "",
      "metadata": {
        "id": "ZjnD9l6XkBhQ"
      },
      "execution_count": null,
      "outputs": []
    },
    {
      "cell_type": "markdown",
      "source": "#### **3) US-> Sales**",
      "metadata": {
        "id": "tNvcGTRdDR7W"
      }
    },
    {
      "cell_type": "markdown",
      "source": "* 그래프",
      "metadata": {
        "id": "SipbprzRkCt4"
      }
    },
    {
      "cell_type": "code",
      "source": "",
      "metadata": {
        "id": "rkudUE3xkCt5"
      },
      "execution_count": null,
      "outputs": []
    },
    {
      "cell_type": "markdown",
      "source": " * 파악한 내용을 적어 봅시다.",
      "metadata": {
        "id": "WrkrHWPOkCt5"
      }
    },
    {
      "cell_type": "code",
      "source": "",
      "metadata": {
        "id": "xJr4dBNLkCt5"
      },
      "execution_count": null,
      "outputs": []
    },
    {
      "cell_type": "markdown",
      "source": "### **(3) 관계 정리하기**",
      "metadata": {
        "id": "jAegTwTNANYZ"
      }
    },
    {
      "cell_type": "markdown",
      "source": "* 강한관계",
      "metadata": {
        "id": "FlI3Rsn_ANYc"
      }
    },
    {
      "cell_type": "code",
      "source": "",
      "metadata": {
        "id": "Jd87-Q0fqbi5"
      },
      "execution_count": null,
      "outputs": []
    },
    {
      "cell_type": "markdown",
      "source": "* 중간관계",
      "metadata": {
        "id": "Ktdide4rANYd"
      }
    },
    {
      "cell_type": "code",
      "source": "",
      "metadata": {
        "id": "tagYT1uqqbi6"
      },
      "execution_count": null,
      "outputs": []
    },
    {
      "cell_type": "markdown",
      "source": "* 관계없음",
      "metadata": {
        "id": "Kop_jo4nANYd"
      }
    },
    {
      "cell_type": "code",
      "source": "",
      "metadata": {
        "id": "BiaX1oJjqbi7"
      },
      "execution_count": null,
      "outputs": []
    },
    {
      "cell_type": "markdown",
      "source": "## **5.예측 모델링**",
      "metadata": {
        "id": "AhopsdLVqglH"
      }
    },
    {
      "cell_type": "code",
      "source": "from sklearn.model_selection import train_test_split\nfrom sklearn.linear_model import LinearRegression\nfrom sklearn.metrics import *",
      "metadata": {
        "id": "c1qy6xHXs7Uc",
        "trusted": true
      },
      "execution_count": 1,
      "outputs": []
    },
    {
      "cell_type": "markdown",
      "source": "### **(1) 데이터 준비**\n* 모델링을 위해서는 데이터가 특별한 형태로 준비되어야 합니다.\n    * 본 실습에서는 준비에 대한 세세한 내용을 다루지는 않습니다.\n    * 가변수화 : 범주형 --> 수치형 변환\n    * 데이터 분할 : 학습용과 검증용 분할\n        * 학습용 : 모델링 용도\n        * 검증용 : 모델 성능 측정(검증)",
      "metadata": {
        "id": "E9-cspoEqy6A"
      }
    },
    {
      "cell_type": "code",
      "source": "# 데이터 분할1 : x, y 분할\nx = data.drop(target, axis = 1)\ny = data[target]",
      "metadata": {
        "id": "gaSC14wcqjy4"
      },
      "execution_count": null,
      "outputs": []
    },
    {
      "cell_type": "code",
      "source": "# 가변수화\ndef dummy_var(x):\n    x['ShelveLoc'] = pd.Categorical(x['ShelveLoc'], categories=['Good','Medium','Bad'])\n    x['Urban'] = pd.Categorical(x['Urban'], categories=['Yes','No'])\n    x['US'] = pd.Categorical(x['US'], categories=['Yes','No'])\n\n    category_cols = ['ShelveLoc', 'Urban', 'US']\n    x = pd.get_dummies(x, columns = category_cols, drop_first = True)\n    return x\n\nx = dummy_var(x)",
      "metadata": {
        "id": "AqLlrhnCscJc"
      },
      "execution_count": null,
      "outputs": []
    },
    {
      "cell_type": "code",
      "source": "# 데이터 분할2 : 학습용 : 검증용\nx_train, x_val, y_train, y_val = train_test_split(x, y, test_size = 0.2, random_state = 20)",
      "metadata": {
        "id": "bd5sIiADsyYf"
      },
      "execution_count": null,
      "outputs": []
    },
    {
      "cell_type": "markdown",
      "source": "### **(2) 모델링 및 평가**\n\n* 모델링 절차\n    * 선언\n    * 학습(모델링) : x_train, y_train\n    * 예측 : x_val\n    * 평가 : y_val, 예측값\n\n* 아래 주석으로 되어 있는 코드를 그대로 작성해 봅시다.",
      "metadata": {
        "id": "jWBw4A8-tOcR"
      }
    },
    {
      "cell_type": "code",
      "source": "# 선언 : model = LinearRegression()\n\n",
      "metadata": {
        "id": "vZxA7syQtMdv"
      },
      "execution_count": null,
      "outputs": []
    },
    {
      "cell_type": "code",
      "source": "# 학습 : model.fit(x_train, y_train)\n\n",
      "metadata": {
        "id": "lXXil6LnteQF"
      },
      "execution_count": null,
      "outputs": []
    },
    {
      "cell_type": "code",
      "source": "# 예측 : pred = model.predict(x_val)\n\n",
      "metadata": {
        "id": "ApoZuLCnths3"
      },
      "execution_count": null,
      "outputs": []
    },
    {
      "cell_type": "code",
      "source": "# 평가(평균오차) : mean_absolute_error(y_val, pred)\n\n",
      "metadata": {
        "id": "KOdxaCjotpIM"
      },
      "execution_count": null,
      "outputs": []
    },
    {
      "cell_type": "markdown",
      "source": "### **(3) 모델 사용**\n\n* 아래와 같은 새로운 정보에 대해서 판매량을 예측해 봅시다.\n|CompPrice|Income|Price|ShelveLoc|US|Urban|\n|----|----|----|----|----|----|\n|120(달러)|30(천 달러)|100(달러)|Good|Yes|No|\n",
      "metadata": {
        "tags": []
      }
    },
    {
      "cell_type": "code",
      "source": "# 새로운 데이터 준비\nnew_data = pd.DataFrame({'CompPrice':[120], 'Income':[30], 'Price':[100],\n                        'ShelveLoc':['Good'], 'Urban':['Yes'], 'US':['No']})\n\n# 전처리\nnew_data = dummy_var(new_data)\n\n# 판매량 예측\nmodel.predict(new_data)[0]",
      "metadata": {},
      "execution_count": null,
      "outputs": []
    }
  ]
}