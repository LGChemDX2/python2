{
 "cells": [
  {
   "cell_type": "markdown",
   "metadata": {
    "id": "mVOYUVwYNrob"
   },
   "source": [
    "# **Topic 3. 배열 조회하기_실습**"
   ]
  },
  {
   "cell_type": "markdown",
   "metadata": {
    "id": "utLFC-VbpSBq"
   },
   "source": [
    "## **(1) 환경준비**\n"
   ]
  },
  {
   "cell_type": "markdown",
   "metadata": {
    "id": "rq2adXCMo4jo"
   },
   "source": [
    "### **1) 라이브러리 로딩**"
   ]
  },
  {
   "cell_type": "code",
   "execution_count": null,
   "metadata": {
    "id": "kffev7V1pJOh"
   },
   "outputs": [],
   "source": [
    "import numpy as np"
   ]
  },
  {
   "cell_type": "markdown",
   "metadata": {
    "id": "Ew25w97Do6lQ"
   },
   "source": [
    "### **2) 데이터 준비**"
   ]
  },
  {
   "cell_type": "code",
   "execution_count": null,
   "metadata": {
    "id": "T6PzAucTpSBr"
   },
   "outputs": [],
   "source": [
    "a = np.array([[11, 12, 13, 14],\n",
    "              [15, 16, 17, 18],\n",
    "              [19, 20, 21, 22]])"
   ]
  },
  {
   "cell_type": "markdown",
   "metadata": {
    "id": "HmYZbaRSpSBs"
   },
   "source": [
    "## **(2) 실습문제**\n",
    "위 배열을 이용하여 실습문제를 푸시오."
   ]
  },
  {
   "cell_type": "markdown",
   "metadata": {
    "id": "QrkCsl3OXvsn"
   },
   "source": [
    "### 1) 실습1 : 인덱스 조회\n",
    "* 다음의 결과를 얻도록 조회하시오.\n",
    "    * 16\n",
    "    * [19 20 21 22]\n",
    "    * [13 17 21]"
   ]
  },
  {
   "cell_type": "code",
   "execution_count": null,
   "metadata": {
    "id": "ApqO5386Xvso"
   },
   "outputs": [],
   "source": [
    "# 16\n"
   ]
  },
  {
   "cell_type": "code",
   "execution_count": null,
   "metadata": {
    "id": "uIjFmF22jYGx"
   },
   "outputs": [],
   "source": [
    "# [19 20 21 22]\n"
   ]
  },
  {
   "cell_type": "code",
   "execution_count": null,
   "metadata": {
    "id": "lGsn9kGgjYD5"
   },
   "outputs": [],
   "source": [
    "# [13 17 21]\n"
   ]
  },
  {
   "cell_type": "markdown",
   "metadata": {
    "id": "I4_tua_lf6Zg"
   },
   "source": [
    "### 2) 실습2 : 범위조회(슬라이싱)\n",
    "\n",
    "* 다음의 결과를 얻도록 조회하시오.\n",
    "    * [[15 16 17 18]  \n",
    "      [19, 20, 21, 22]]\n",
    "    * [[16 17]  \n",
    "      [20 21]]"
   ]
  },
  {
   "cell_type": "code",
   "execution_count": null,
   "metadata": {
    "id": "9yjklA7Ggogg"
   },
   "outputs": [],
   "source": [
    "# [[15 16 17 18]\n",
    "# [19, 20, 21, 22]]\n"
   ]
  },
  {
   "cell_type": "code",
   "execution_count": null,
   "metadata": {
    "id": "Tao5gy56f6Zh"
   },
   "outputs": [],
   "source": [
    "# [[16 17]\n",
    "# [20 21]]\n"
   ]
  },
  {
   "cell_type": "markdown",
   "metadata": {
    "id": "BRPWXDq5f6nq"
   },
   "source": [
    "### 3) 실습3 : 조건조회"
   ]
  },
  {
   "cell_type": "markdown",
   "metadata": {
    "id": "QWua7Tc4kX-b"
   },
   "source": [
    "* 17보다 큰 값을 조회하시오.\n",
    "    * 조건문의 결과 출력\n",
    "    * 조건문에 해당되는 값 조회"
   ]
  },
  {
   "cell_type": "code",
   "execution_count": null,
   "metadata": {
    "id": "AaqtSRczf6nr"
   },
   "outputs": [],
   "source": [
    "# 조건문\n"
   ]
  },
  {
   "cell_type": "code",
   "execution_count": null,
   "metadata": {
    "id": "q7rI6Qazkq6I"
   },
   "outputs": [],
   "source": [
    "# 조건조회\n"
   ]
  }
 ],
 "metadata": {
  "colab": {
   "provenance": []
  },
  "kernelspec": {
   "display_name": "Python 3 (ipykernel)",
   "language": "python",
   "name": "python3"
  },
  "language_info": {
   "codemirror_mode": {
    "name": "ipython",
    "version": 3
   },
   "file_extension": ".py",
   "mimetype": "text/x-python",
   "name": "python",
   "nbconvert_exporter": "python",
   "pygments_lexer": "ipython3",
   "version": "3.11.5"
  },
  "toc-autonumbering": false,
  "toc-showmarkdowntxt": false
 },
 "nbformat": 4,
 "nbformat_minor": 4
}
