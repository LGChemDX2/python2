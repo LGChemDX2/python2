{
  "metadata": {
    "colab": {
      "provenance": [],
      "toc_visible": true
    },
    "toc-autonumbering": false,
    "toc-showmarkdowntxt": false,
    "kernelspec": {
      "name": "python",
      "display_name": "Python (Pyodide)",
      "language": "python"
    },
    "language_info": {
      "codemirror_mode": {
        "name": "python",
        "version": 3
      },
      "file_extension": ".py",
      "mimetype": "text/x-python",
      "name": "python",
      "nbconvert_exporter": "python",
      "pygments_lexer": "ipython3",
      "version": "3.8"
    }
  },
  "nbformat_minor": 4,
  "nbformat": 4,
  "cells": [
    {
      "cell_type": "markdown",
      "source": "# **Lesson 1.Numpy 기초_예제**\n데이터 분석 초급 과정 2 (Python) > Module1. 데이터 분석을 위한 Python 라이브러리",
      "metadata": {
        "id": "mVOYUVwYNrob"
      }
    },
    {
      "cell_type": "markdown",
      "source": "## **(1) 환경준비**",
      "metadata": {
        "id": "jtOUt7kVWs9D"
      }
    },
    {
      "cell_type": "markdown",
      "source": "### **1) 라이브러리 불러오기**\n- Numpy 배열을 사용하려면 우선 **Numpy** 라이브러리를 불러와야 합니다.\n- Numpy 라이브러리는 일반적으로 **np** 별칭을 붙여 불러옵니다.",
      "metadata": {
        "id": "s1HBUG3GXvsj"
      }
    },
    {
      "cell_type": "code",
      "source": "import numpy as np\nimport pandas as pd",
      "metadata": {
        "id": "1xqiuyahWs9E"
      },
      "execution_count": null,
      "outputs": []
    },
    {
      "cell_type": "markdown",
      "source": "### **2) 데이터 로딩**",
      "metadata": {
        "id": "KH0k96uzXvsk",
        "tags": []
      }
    },
    {
      "cell_type": "markdown",
      "source": "* 매장이 있는 각 지역별 데이터\n\n|\t변수명\t|\t설명\t|\t구분\t|\n|----|----|----|\n|\tSales \t|\t 각 지역 판매량(단위 : 1000개)\t|\tTarget\t|\n|\tCompPrice \t|\t지역별 경쟁사 판매가격(달러)\t|\tfeature\t|\n|\tAdvertising \t|\t 각 지역, 회사의 광고 예산(단위 : 1000달러)\t|\tfeature\t|\n|\tPopulation \t|\t 지역 인구수(단위 : 1000명)\t|\tfeature\t|\n|\tPrice \t|\t 자사 지역별 판매가격(달러)\t|\tfeature\t|\n|\tShelveLoc \t|\t 진열상태\t|\tfeature\t|\n|\tAge \t|\t 지역 인구의 평균 연령\t|\tfeature\t|\n|\tUS \t|\t 매장이 미국에 있는지 여부\t|\tfeature\t|\n|\tUrban \t|\t 매장이 도시에 있는지 여부\t|\tfeature\t|\n|\tEducation \t|\t 평균학력수준(범주 : 10 ~ 18)\t|\tfeature\t|",
      "metadata": {
        "id": "BoKrDJbPXvsl",
        "tags": []
      }
    },
    {
      "cell_type": "code",
      "source": "path = 'carseat.csv'  # 제공된 데이터 로딩\ncarseat = pd.read_csv(path)",
      "metadata": {
        "id": "o4Lae74jXvsl"
      },
      "execution_count": null,
      "outputs": []
    },
    {
      "cell_type": "markdown",
      "source": "----",
      "metadata": {
        "id": "JqgG1UZsXvsn"
      }
    },
    {
      "cell_type": "markdown",
      "source": "## **(2) Topic 1. Numpy 소개**",
      "metadata": {
        "id": "uwdjFYCiXLGH"
      }
    },
    {
      "cell_type": "markdown",
      "source": "### **1) 분석 가능한 데이터 구조**",
      "metadata": {
        "id": "QrkCsl3OXvsn"
      }
    },
    {
      "cell_type": "markdown",
      "source": "* 2차원 형태의 데이터 구조 살펴보기",
      "metadata": {
        "id": "sIEzay61Q_Xa"
      }
    },
    {
      "cell_type": "code",
      "source": "carseat.head()",
      "metadata": {
        "id": "ApqO5386Xvso"
      },
      "execution_count": null,
      "outputs": []
    },
    {
      "cell_type": "markdown",
      "source": "### **2) Numpy로 구조 살펴보기**",
      "metadata": {
        "id": "w4JjpqooXvsp"
      }
    },
    {
      "cell_type": "code",
      "source": "print(np.array(carseat))",
      "metadata": {
        "id": "le9GvN_fRG6M"
      },
      "execution_count": null,
      "outputs": []
    },
    {
      "cell_type": "markdown",
      "source": "----",
      "metadata": {
        "id": "Bl6Un7NKXvsr"
      }
    },
    {
      "cell_type": "markdown",
      "source": "## **(3) Topic 2. 배열 생성하고 다루기**",
      "metadata": {
        "id": "kyX1_LhsXvsr"
      }
    },
    {
      "cell_type": "markdown",
      "source": "\n### 1) 배열 생성하기\n\n- 편의를 위해 **Numpy 배열**을 그냥 **배열**이라고 부르기로 합시다.\n- 이후 데이터 처리시 배열로 변환해 연산을 하거나, 결과가 배열로 표시되는 경우가 있습니다.\n- 배열에 대한 개념은 정확히 파악해 두기를 권고합니다.",
      "metadata": {
        "id": "XPklNj6HVqwF"
      }
    },
    {
      "cell_type": "markdown",
      "source": "<img src='https://raw.githubusercontent.com/Jangrae/img/master/array.png' width=300 align=\"left\"/>",
      "metadata": {
        "id": "SCZ06y9XVqwG"
      }
    },
    {
      "cell_type": "code",
      "source": "",
      "metadata": {
        "id": "TdsD82QmfrRj"
      },
      "execution_count": null,
      "outputs": []
    },
    {
      "cell_type": "markdown",
      "source": "**[용어]**\n- axis: 배열의 각 축\n- rank: 축의 개수\n- shape: 축의 길이, 배열의 크기\n\n  \n**[3 x 4 배열의 경우]**\n- axis 0 과 axis 1 을 갖는 2차원 배열\n- rank 2 array\n- shape는 (3, 4)",
      "metadata": {
        "id": "v6_mxJENNgqI"
      }
    },
    {
      "cell_type": "code",
      "source": "# 1차원 리스트\na1 = [1, 2, 3, 4, 5]\n\n# 배열로 변환\nb1 = np.array(a1)\n\n# 확인\nprint(b1)",
      "metadata": {
        "id": "zviakX46zEzg"
      },
      "execution_count": null,
      "outputs": []
    },
    {
      "cell_type": "code",
      "source": "# 2차원 리스트\n# a2 = [[1.5, 2.5, 3.2], [4.2, 5.7, 6.4]]\na2 = [[1.5, 2.5, 3.2],\n      [4.2, 5.7, 6.4]]\n\n# 배열로 변환\nb2 = np.array(a2)\n\n# 확인\nprint(b2)",
      "metadata": {
        "id": "3t8-tbQaznfw"
      },
      "execution_count": null,
      "outputs": []
    },
    {
      "cell_type": "code",
      "source": "# 3차원 리스트\n# a3 = [[[1, 3, 1], [4, 7, 6], [8, 3, 4]], [[6, 2, 4], [8, 1, 5], [3, 5, 9]]]\na3 = [[[1, 3, 1],\n       [4, 7, 6],\n       [8, 3, 4]],\n      [[6, 2, 4],\n       [8, 1, 5],\n       [3, 5, 9]]]\n\n# 배열로 변환\nb3 = np.array(a3)\n\n# 확인\nprint(b3)",
      "metadata": {
        "id": "y4QCIoCvz3ov"
      },
      "execution_count": null,
      "outputs": []
    },
    {
      "cell_type": "markdown",
      "source": "### **2) 배열 속성 확인하기**\n\n- 배열 정보를 확인하는 다음 속성들을 기억하시기 바랍니다.\n- 특히 shape 속성은 이후에도 많이 사용될 것입니다.",
      "metadata": {
        "id": "vxMxUvQIVqwI"
      }
    },
    {
      "cell_type": "markdown",
      "source": "<img src='https://github.com/DA4BAM/image/blob/main/1,2,3%20%EC%B0%A8%EC%9B%90.png?raw=true' width=800 align=\"left\"/>",
      "metadata": {
        "id": "gVHjrTHZRSbm"
      }
    },
    {
      "cell_type": "markdown",
      "source": "* **차원 확인**\n    - ndim 속성으로 배열 차원을 확인합니다.",
      "metadata": {
        "id": "U5qjQi8E1pw0"
      }
    },
    {
      "cell_type": "code",
      "source": "# 차원 확인\nprint(b1.ndim)\nprint(b2.ndim)\nprint(b3.ndim)",
      "metadata": {
        "id": "FxXWyFPyx3P-",
        "tags": []
      },
      "execution_count": null,
      "outputs": []
    },
    {
      "cell_type": "markdown",
      "source": "* **형태(크기) 확인**\n    - shape 속성으로 배열 형태를 확인합니다.\n    - 결과는 다음과 같은 형태의 튜플로 표시됩니다.\n        - 1차원: (x, )\n        - 2차원: (x, y)\n        - 3차원: (x, y, z)\n    - 앞에서 부터 axis 0, axis 1, axis 2의 크기를 의미합니다.",
      "metadata": {
        "id": "hDchV5CI1vX4"
      }
    },
    {
      "cell_type": "code",
      "source": "# 형태(크기) 확인\nprint(b1.shape)\nprint(b2.shape)\nprint(b3.shape)",
      "metadata": {
        "id": "_hQjcnXx1oZl"
      },
      "execution_count": null,
      "outputs": []
    },
    {
      "cell_type": "markdown",
      "source": "* **요소 자료형 확인**\n    - dtype 속성으로 배열에 포함된 요소들의 자료형을 확인합니다.\n    - 배열은 한 가지 자료형만 가질 수 있다는 특징이 있습니다.",
      "metadata": {
        "id": "8jV7CzBY1yr_"
      }
    },
    {
      "cell_type": "code",
      "source": "# 요소 자료형 형식 확인\nprint(b1.dtype)\nprint(b2.dtype)\nprint(b3.dtype)",
      "metadata": {
        "id": "Y96maPXA1olN"
      },
      "execution_count": null,
      "outputs": []
    },
    {
      "cell_type": "markdown",
      "source": "### **3) 배열 형태 변경하기(reshape)**",
      "metadata": {
        "id": "5VDYaXuKTVLO"
      }
    },
    {
      "cell_type": "markdown",
      "source": "- 배열을 사용할 때 다양한 형태(Shape)로 변환할 필요가 있습니다.\n- 배열에 포함된 **요소가 사라지지 않는 형태**라면 자유롭게 변환할 수 있습니다.\n- (3, 4) → (2, 6) → (4, 3) → (12, 1) → (6, 2) 등등 요소 개수만 변하지 않으면 됩니다.",
      "metadata": {
        "id": "T90fbLEsVqwV"
      }
    },
    {
      "cell_type": "code",
      "source": "# (2, 3) 형태의 2차원 배열 만들기\na = np.array([[1, 2, 3],\n              [4, 5, 6]])\n\n# 확인\nprint(a)",
      "metadata": {
        "id": "75VTZ0vqVqwf"
      },
      "execution_count": null,
      "outputs": []
    },
    {
      "cell_type": "markdown",
      "source": "* **(2, 3) → (3, 2)**",
      "metadata": {
        "id": "foYfLnZaVqwf"
      }
    },
    {
      "cell_type": "code",
      "source": "# (3, 2) 형태의 2차원 배열로 Reshape\nb = a.reshape(3, 2) # np.array(a, (3,2))\n\n# 확인\nprint(b)",
      "metadata": {
        "id": "4ZGXjZEKVqwj"
      },
      "execution_count": null,
      "outputs": []
    },
    {
      "cell_type": "markdown",
      "source": "* **(2, 3) → (6,)**",
      "metadata": {
        "id": "lDGU9KuXVqwk"
      }
    },
    {
      "cell_type": "code",
      "source": "# 1차원 배열로 Reshape\n# c = a.reshape(6,)\nc = a.reshape(6)\n\n# 확인\nprint(c)",
      "metadata": {
        "id": "2JY0g6WAVqwk"
      },
      "execution_count": null,
      "outputs": []
    },
    {
      "cell_type": "markdown",
      "source": "* **-1의 편리성**\n\n    - **(*m*, -1)** 또는 **(-1, *n*)** 처럼 사용해 행 또는 열 크기 한 쪽만 지정할 수 있습니다.",
      "metadata": {
        "id": "pzyFKxilVqwm"
      }
    },
    {
      "cell_type": "code",
      "source": "# (2, 3) 형태의 2차원 배열 만들기\na = np.array([[1, 2, 3],\n              [4, 5, 6]])\n\n# 확인\nprint(a)",
      "metadata": {
        "id": "rFyQiMDJVqwn"
      },
      "execution_count": null,
      "outputs": []
    },
    {
      "cell_type": "code",
      "source": "# reshape(m, -1) 형태로 지정하여 Reshape 가능\nprint(a.reshape(1, -1))\nprint()\n\nprint(a.reshape(2, -1))\nprint()\n\nprint(a.reshape(3, -1))\nprint()\n\n#print(a.reshape(4, -1))\n#print(a.reshape(5, -1))\n\nprint(a.reshape(6, -1))",
      "metadata": {
        "id": "sCjMu_Dv3P7s"
      },
      "execution_count": null,
      "outputs": []
    },
    {
      "cell_type": "markdown",
      "source": "## **(4) Topic 3. 배열 조회하기**",
      "metadata": {
        "id": "yYrHnGmuXvsv"
      }
    },
    {
      "cell_type": "markdown",
      "source": "### **1) 인덱스로 조회하기**",
      "metadata": {
        "id": "Yi_NenuFXvsv",
        "tags": []
      }
    },
    {
      "cell_type": "code",
      "source": "# 배열 생성\na = np.array([23, 3, 16, 45, 11])\nprint(a)",
      "metadata": {
        "id": "jhHOzoOxXvsw"
      },
      "execution_count": null,
      "outputs": []
    },
    {
      "cell_type": "code",
      "source": "# 조회1\nprint(a[0], a[3])",
      "metadata": {
        "id": "w1FUqLVcT2cN"
      },
      "execution_count": null,
      "outputs": []
    },
    {
      "cell_type": "code",
      "source": "# 조회2\nprint(a[-1], a[-3])",
      "metadata": {
        "id": "TaP8SePMT8nG"
      },
      "execution_count": null,
      "outputs": []
    },
    {
      "cell_type": "code",
      "source": "# 2차원 배열 만들기\nb = np.array([[1, 2, 3],\n              [4, 5, 6],\n              [7, 8, 9],\n              [10, 11, 12]])\n\n# 확인\nprint(b)",
      "metadata": {
        "id": "wunca74MUb83"
      },
      "execution_count": null,
      "outputs": []
    },
    {
      "cell_type": "code",
      "source": "# 첫 번째 행, 두 번째 열 요소 조회\nprint(b[0, 1])",
      "metadata": {
        "id": "ySIeasjKUixJ"
      },
      "execution_count": null,
      "outputs": []
    },
    {
      "cell_type": "code",
      "source": "# 행 인덱스로 조회(열 인덱스 생략)\nprint(b[1])",
      "metadata": {
        "id": "H5SYVLUWZZE7"
      },
      "execution_count": null,
      "outputs": []
    },
    {
      "cell_type": "markdown",
      "source": "### **2) 범위 조회(슬라이싱)**",
      "metadata": {
        "id": "0aiB9RCfXvsx"
      }
    },
    {
      "cell_type": "markdown",
      "source": "* 1차원 배열의 범위 조회",
      "metadata": {
        "id": "ou2OYkAKab4K"
      }
    },
    {
      "cell_type": "code",
      "source": "# 1차원 배열 만들기\na = np.array([23, 3, 16, 45, 11])\n\n# 확인\nprint(a)",
      "metadata": {
        "id": "j-tw7KSoaeOZ"
      },
      "execution_count": null,
      "outputs": []
    },
    {
      "cell_type": "code",
      "source": "# 조회1\nprint(a[1:4])",
      "metadata": {
        "id": "N-LLEj3daeK4"
      },
      "execution_count": null,
      "outputs": []
    },
    {
      "cell_type": "code",
      "source": "# 조회2 : 시작인덱스 생략\nprint(a[:2])",
      "metadata": {
        "id": "pZry018UawIw"
      },
      "execution_count": null,
      "outputs": []
    },
    {
      "cell_type": "code",
      "source": "# 조회3 : 끝인덱스 생략\nprint(a[2:])",
      "metadata": {
        "id": "MCWwiZ7SawEh"
      },
      "execution_count": null,
      "outputs": []
    },
    {
      "cell_type": "markdown",
      "source": "* 2차원 배열 범위 조회",
      "metadata": {
        "id": "WthztU6Pa6CH"
      }
    },
    {
      "cell_type": "code",
      "source": "# 2차원 배열 만들기\nb = np.array([[1, 2, 3],\n              [4, 5, 6],\n              [7, 8, 9],\n              [10, 11, 12]])\n\n# 확인\nprint(b)",
      "metadata": {
        "id": "kDahzfNXUHO_"
      },
      "execution_count": null,
      "outputs": []
    },
    {
      "cell_type": "code",
      "source": "# 행 범위 조회\nprint(b[1:3])",
      "metadata": {
        "id": "rL3URfDIaY5A"
      },
      "execution_count": null,
      "outputs": []
    },
    {
      "cell_type": "code",
      "source": "# 열 인덱스로 조회\nprint(b[:, 1])",
      "metadata": {
        "id": "Y4lYSfv7bFay"
      },
      "execution_count": null,
      "outputs": []
    },
    {
      "cell_type": "code",
      "source": "# 열 범위 조회\nprint(b[:, 0:2])",
      "metadata": {
        "id": "AcYBmxVKbFXr"
      },
      "execution_count": null,
      "outputs": []
    },
    {
      "cell_type": "code",
      "source": "# 행, 열 범위 조회\nprint(b[1:3, 0:2])",
      "metadata": {
        "id": "zGcaJD1SbFUW"
      },
      "execution_count": null,
      "outputs": []
    },
    {
      "cell_type": "markdown",
      "source": "### **3) 조건조회**",
      "metadata": {
        "id": "iLzZM7OXXvsy"
      }
    },
    {
      "cell_type": "markdown",
      "source": "* 조건문",
      "metadata": {
        "id": "hWaSuJ0aXvsz"
      }
    },
    {
      "cell_type": "code",
      "source": "# 1차원 배열 만들기\na = np.array([23, 3, 16, 45, 11])\n\n# 확인\nprint(a)",
      "metadata": {
        "id": "GAtljnnIXvsz"
      },
      "execution_count": null,
      "outputs": []
    },
    {
      "cell_type": "code",
      "source": "# 조건문\nprint(a >= 20)",
      "metadata": {
        "id": "8fap4v8xXvsz"
      },
      "execution_count": null,
      "outputs": []
    },
    {
      "cell_type": "markdown",
      "source": "* 조건조회",
      "metadata": {
        "id": "VDBCxGGvbtOf"
      }
    },
    {
      "cell_type": "code",
      "source": "print(a[a >= 20])",
      "metadata": {
        "id": "nVY6KsY5Xvsz"
      },
      "execution_count": null,
      "outputs": []
    },
    {
      "cell_type": "markdown",
      "source": "## **(5) Topic 4. 배열 연산**",
      "metadata": {
        "id": "C47G83P2b6iy"
      }
    },
    {
      "cell_type": "markdown",
      "source": "### **1) 집계함수 사용하기**",
      "metadata": {
        "id": "BPb846Okb6iy",
        "tags": []
      }
    },
    {
      "cell_type": "markdown",
      "source": "* 기본 연산(사칙연산)",
      "metadata": {
        "id": "kSAG5LoIcIxp"
      }
    },
    {
      "cell_type": "markdown",
      "source": "<img src='https://github.com/DA4BAM/image/blob/main/%EB%B0%B0%EC%97%B4%EC%97%B0%EC%82%B0.png?raw=true' width=600 align=\"left\"/>",
      "metadata": {
        "id": "EJiJ8zNzTybz"
      }
    },
    {
      "cell_type": "code",
      "source": "# 두 개의 (2, 2) 형태의 2차원 배열 만들기\nx = np.array([[1, 2], [3, 4]])\ny = np.array([[5, 6], [7, 8]])\n\n# 확인\nprint(x)\nprint(y)",
      "metadata": {
        "id": "GC_-C1rqb6iz",
        "outputId": "bccc769c-bfdd-4274-f455-d140c7ff8007"
      },
      "execution_count": null,
      "outputs": [
        {
          "name": "stdout",
          "output_type": "stream",
          "text": "[[1 2]\n\n [3 4]]\n\n[[5 6]\n\n [7 8]]\n"
        }
      ]
    },
    {
      "cell_type": "code",
      "source": "# 배열 더하기\nprint(x + y)\n\n# 또는\nprint(np.add(x, y))",
      "metadata": {
        "id": "Wqiwa0LSVqy4",
        "outputId": "cd3f1b16-f53a-403a-aa00-0c3e20b9a27c"
      },
      "execution_count": null,
      "outputs": [
        {
          "name": "stdout",
          "output_type": "stream",
          "text": "[[ 6  8]\n\n [10 12]]\n\n[[ 6  8]\n\n [10 12]]\n"
        }
      ]
    },
    {
      "cell_type": "code",
      "source": "# 배열 빼기\nprint(x - y)\n\n# 또는\nprint(np.subtract(x, y))",
      "metadata": {
        "id": "1y0US63EVqy5",
        "outputId": "66355d34-d26e-42e5-9c0f-f402320e2a4d"
      },
      "execution_count": null,
      "outputs": [
        {
          "name": "stdout",
          "output_type": "stream",
          "text": "[[-4 -4]\n\n [-4 -4]]\n\n[[-4 -4]\n\n [-4 -4]]\n"
        }
      ]
    },
    {
      "cell_type": "code",
      "source": "# 배열 곱하기\nprint(x * y)\n\n# 또는\nprint(np.multiply(x, y))",
      "metadata": {
        "id": "b6Vbf3qDVqy6",
        "outputId": "725a3a19-1597-489b-e502-faf202558df3"
      },
      "execution_count": null,
      "outputs": [
        {
          "name": "stdout",
          "output_type": "stream",
          "text": "[[ 5 12]\n\n [21 32]]\n\n[[ 5 12]\n\n [21 32]]\n"
        }
      ]
    },
    {
      "cell_type": "code",
      "source": "# 배열 나누기\nprint(x / y)\n\n# 또는\nprint(np.divide(x, y))",
      "metadata": {
        "id": "bRTZEgBLVqy6",
        "outputId": "4fe71d06-9108-4b15-933b-c6e5db8ab354"
      },
      "execution_count": null,
      "outputs": [
        {
          "name": "stdout",
          "output_type": "stream",
          "text": "[[0.2        0.33333333]\n\n [0.42857143 0.5       ]]\n\n[[0.2        0.33333333]\n\n [0.42857143 0.5       ]]\n"
        }
      ]
    },
    {
      "cell_type": "markdown",
      "source": "* 배열 내 집계함수\n    - np.sum()\n        * axis = 0 : 열 기준 집계\n        * axis = 1 : 행 기준 집계\n        * 생략하면 : 전체 집계\n    - 동일한 형태로 사용 가능한 함수 : np.max(), np.min, np.mean(), np.std()",
      "metadata": {
        "id": "-vRKOFHicgL8"
      }
    },
    {
      "cell_type": "code",
      "source": "a = np.array([[1,5,7],[2,3,8]])\nprint(a)",
      "metadata": {
        "id": "AL09SXqIva6h",
        "outputId": "2b745efc-7d51-4e78-a6ea-43ef247bd5e7"
      },
      "execution_count": null,
      "outputs": [
        {
          "name": "stdout",
          "output_type": "stream",
          "text": "[[1 5 7]\n\n [2 3 8]]\n"
        }
      ]
    },
    {
      "cell_type": "code",
      "source": "# 전체 집계\nprint(np.sum(a))\n\n# 행 방향 집계\nprint(np.sum(a, axis = 0))\n\n# 열 방향 집계\nprint(np.sum(a, axis = 1))",
      "metadata": {
        "id": "Z7n5jBiku3bG",
        "outputId": "6888af86-8b4d-446f-e817-67045f4f3303"
      },
      "execution_count": null,
      "outputs": [
        {
          "name": "stdout",
          "output_type": "stream",
          "text": "26\n\n[ 3  8 15]\n\n[13 13]\n"
        }
      ]
    },
    {
      "cell_type": "markdown",
      "source": "### **2) 유용한 함수들**",
      "metadata": {
        "id": "IMR_PAjoctwY",
        "tags": []
      }
    },
    {
      "cell_type": "markdown",
      "source": "* **가장 큰(작은) 값의 인덱스**",
      "metadata": {
        "id": "VBEeHjvkY7kS"
      }
    },
    {
      "cell_type": "markdown",
      "source": "<img src='https://github.com/DA4BAM/image/blob/main/%EB%B0%B0%EC%97%B4_argmin.png?raw=true' width=800 align=\"left\"/>",
      "metadata": {
        "id": "sum-br9WT0U6"
      }
    },
    {
      "cell_type": "code",
      "source": "print(a)\n# 전체 중에서 가장 큰 값의 인덱스\nprint(np.argmax(a))\n\n# 행 방향 최댓값의 인덱스\nprint(np.argmax(a, axis = 0))\n\n# 열 방향 최댓값의 인덱스\nprint(np.argmax(a, axis = 1))\n",
      "metadata": {
        "id": "89tDTqanFH4x",
        "outputId": "8a96ccd5-d9b8-4d30-e89f-c97a65c2d45e"
      },
      "execution_count": null,
      "outputs": [
        {
          "name": "stdout",
          "output_type": "stream",
          "text": "[[1 5 7]\n\n [2 3 8]]\n\n5\n\n[1 0 1]\n\n[2 2]\n"
        }
      ]
    },
    {
      "cell_type": "markdown",
      "source": "* **조건에 따라 다른 값 지정하기**\n\n    * np.where(조건문, True일때 값, False일 때 값)",
      "metadata": {
        "id": "wEL5_LNbY7kS"
      }
    },
    {
      "cell_type": "code",
      "source": "# 선언\na = np.array([1,3,2,7])\n\n# 조건\nnp.where(a > 2, 1, 0)",
      "metadata": {
        "id": "b4vqUAjgY7kS",
        "outputId": "deaaa352-6ea5-43b0-a551-a4946b530ef2"
      },
      "execution_count": null,
      "outputs": [
        {
          "execution_count": 15,
          "output_type": "execute_result",
          "data": {
            "text/plain": [
              "array([0, 1, 0, 1])"
            ]
          },
          "metadata": {}
        }
      ]
    },
    {
      "cell_type": "code",
      "source": "",
      "metadata": {
        "id": "AxCaerEHSvOf"
      },
      "execution_count": null,
      "outputs": []
    }
  ]
}