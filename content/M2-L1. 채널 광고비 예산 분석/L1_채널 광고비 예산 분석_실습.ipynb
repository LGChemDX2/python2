{
  "metadata": {
    "colab": {
      "provenance": [],
      "toc_visible": true
    },
    "kernelspec": {
      "name": "python",
      "display_name": "Python (Pyodide)",
      "language": "python"
    },
    "language_info": {
      "codemirror_mode": {
        "name": "python",
        "version": 3
      },
      "file_extension": ".py",
      "mimetype": "text/x-python",
      "name": "python",
      "nbconvert_exporter": "python",
      "pygments_lexer": "ipython3",
      "version": "3.8"
    }
  },
  "nbformat_minor": 4,
  "nbformat": 4,
  "cells": [
    {
      "cell_type": "markdown",
      "source": "# Lesson 1. 채널 광고비 예산 분석",
      "metadata": {
        "id": "qXUBfCONOdID"
      }
    },
    {
      "cell_type": "markdown",
      "source": "# 1.비즈니스 시나리오",
      "metadata": {
        "id": "790IJBdRWl9r"
      }
    },
    {
      "cell_type": "markdown",
      "source": "* 십수 년 전만 하더라도 광고를 위한 중요한 채널은 신문과 TV, 라디오였습니다.\n* 여러분은 전통적인 광고 채널을 선호하는 고객사의 광고비 예산을 분석하여\n* 최고의 매출을 얻기 위한 방안을 검토하고자 합니다.\n* 이번 실습에서는 분석의 첫 번째 단계인 단변량 분석을 수행합니다.\n",
      "metadata": {
        "id": "XOiIUDJ1i11u"
      }
    },
    {
      "cell_type": "markdown",
      "source": "# 2.환경준비",
      "metadata": {
        "id": "c1uOWzZl_YZH"
      }
    },
    {
      "cell_type": "markdown",
      "source": "## (1) 라이브러리 불러오기",
      "metadata": {
        "id": "LS2rtJiJlaF0"
      }
    },
    {
      "cell_type": "code",
      "source": "# jupyter lite에서 패키지 설치\nimport piplite\nawait piplite.install(\"seaborn\")",
      "metadata": {
        "id": "7W2IatTOeCqM"
      },
      "execution_count": null,
      "outputs": []
    },
    {
      "cell_type": "code",
      "source": "import numpy as np\nimport pandas as pd\n\nimport matplotlib.pyplot as plt\nimport seaborn as sns",
      "metadata": {
        "id": "ba319GIZlcFB"
      },
      "execution_count": null,
      "outputs": []
    },
    {
      "cell_type": "markdown",
      "source": "## (2) 데이터 로딩",
      "metadata": {
        "id": "TCceTRSHqibR"
      }
    },
    {
      "cell_type": "markdown",
      "source": "|\t변수명\t|\t설명\t|\t구분\t|\n|----|----|----|\n|\tTV \t|\t TV 광고비 예산(단위 1,000 달러)\t|\t수치형\t|\n|\tRadio \t|\t Radio 광고비 예산(단위 1,000 달러)\t|\t수치형\t|\n|\tNewspaper \t|\t 신문 광고비 예산(단위 1,000 달러)\t|\t수치형\t|\n|\tSales \t|\t 매출액(단위 1,000 달러)\t|\t수치형\t|",
      "metadata": {
        "id": "zYKHwYHatC4k"
      }
    },
    {
      "cell_type": "code",
      "source": "path = 'advertising.csv'\ndata = pd.read_csv(path)",
      "metadata": {
        "id": "08FGuKtjpGOj"
      },
      "execution_count": null,
      "outputs": []
    },
    {
      "cell_type": "markdown",
      "source": "# 3.데이터 기본 조회",
      "metadata": {
        "id": "QfgTNZJZeCqN"
      }
    },
    {
      "cell_type": "markdown",
      "source": "## (1) 상위 5개 행 조회",
      "metadata": {
        "tags": [],
        "id": "bfPa1OZmeCqN"
      }
    },
    {
      "cell_type": "code",
      "source": "",
      "metadata": {
        "id": "nghdYXH_eCqN"
      },
      "execution_count": null,
      "outputs": []
    },
    {
      "cell_type": "markdown",
      "source": "## (2) 데이터프레임 정보 조회(.info())",
      "metadata": {
        "id": "glNX0BHWeCqO"
      }
    },
    {
      "cell_type": "code",
      "source": "",
      "metadata": {
        "id": "PZi6M76NeCqO"
      },
      "execution_count": null,
      "outputs": []
    },
    {
      "cell_type": "markdown",
      "source": "# 4.단변량분석 : 숫자형 변수",
      "metadata": {
        "id": "ZJnWzY5-Ww3h"
      }
    },
    {
      "cell_type": "markdown",
      "source": "## (1) Sales",
      "metadata": {
        "id": "2KcdJrQNfJCZ"
      }
    },
    {
      "cell_type": "code",
      "source": "var = 'Sales'",
      "metadata": {
        "id": "Q5mGnZ5ffJCZ"
      },
      "execution_count": null,
      "outputs": []
    },
    {
      "cell_type": "markdown",
      "source": "1) 변수의 비즈니스 의미",
      "metadata": {
        "id": "RkXL80PpfJCa"
      }
    },
    {
      "cell_type": "markdown",
      "source": "* 판매액(단위 : 1000$)",
      "metadata": {
        "id": "07TIjIVhTHU0"
      }
    },
    {
      "cell_type": "markdown",
      "source": "2) 기초통계량(수치화)",
      "metadata": {
        "id": "H9_8VoENfJCa"
      }
    },
    {
      "cell_type": "code",
      "source": "data[var].describe()",
      "metadata": {
        "id": "DJpEltSbfJCa"
      },
      "execution_count": null,
      "outputs": []
    },
    {
      "cell_type": "markdown",
      "source": "3) 분포 확인(시각화)",
      "metadata": {
        "id": "2mgIyJ3vfJCa"
      }
    },
    {
      "cell_type": "code",
      "source": "plt.figure(figsize = (5,6))\nplt.subplot(3,1,1)\nsns.histplot(x = var, bins = 20, data = data)\n\nplt.subplot(3,1,2)\nsns.kdeplot(x = var, data = data)\n\nplt.subplot(3,1,3)\nsns.boxplot(x = var, data = data)\n\nplt.tight_layout()\nplt.show()",
      "metadata": {
        "id": "8Nnz494-fJCa"
      },
      "execution_count": null,
      "outputs": []
    },
    {
      "cell_type": "markdown",
      "source": "4) 아래 항목을 적어 봅시다.\n* 값의 범위\n* 평균\n* 희박구간, 밀집구간",
      "metadata": {
        "id": "s2MLcqE0fJCa"
      }
    },
    {
      "cell_type": "code",
      "source": "# 값의 범위\n",
      "metadata": {
        "id": "uQLSxqD5eCqP"
      },
      "execution_count": null,
      "outputs": []
    },
    {
      "cell_type": "code",
      "source": "# 평균\n",
      "metadata": {
        "id": "3PVoFT01eCqQ"
      },
      "execution_count": null,
      "outputs": []
    },
    {
      "cell_type": "code",
      "source": "# 희박 구간\n\n\n# 밀집 구간\n",
      "metadata": {
        "id": "PIc-ZsTQeCqQ"
      },
      "execution_count": null,
      "outputs": []
    },
    {
      "cell_type": "markdown",
      "source": "5) 파악 가능한 비즈니스 사항을 적어 봅시다.",
      "metadata": {
        "id": "hr8edCgEfJCb"
      }
    },
    {
      "cell_type": "code",
      "source": "",
      "metadata": {
        "id": "sveHQDGueCqQ"
      },
      "execution_count": null,
      "outputs": []
    },
    {
      "cell_type": "markdown",
      "source": "## (2) TV",
      "metadata": {
        "tags": [],
        "id": "JSp-RakCeCqQ"
      }
    },
    {
      "cell_type": "code",
      "source": "var =",
      "metadata": {
        "id": "Thb_F2DneCqQ"
      },
      "execution_count": null,
      "outputs": []
    },
    {
      "cell_type": "markdown",
      "source": "1) 변수의 비즈니스 의미",
      "metadata": {
        "id": "tTq10Z6teCqQ"
      }
    },
    {
      "cell_type": "markdown",
      "source": "*",
      "metadata": {
        "id": "PObgIopHeCqQ"
      }
    },
    {
      "cell_type": "markdown",
      "source": "2) 기초통계량(수치화)",
      "metadata": {
        "id": "Md1GSq3ueCqR"
      }
    },
    {
      "cell_type": "code",
      "source": "data[var].",
      "metadata": {
        "id": "Ojh4Ohs0eCqR"
      },
      "execution_count": null,
      "outputs": []
    },
    {
      "cell_type": "markdown",
      "source": "3) 분포 확인(시각화)",
      "metadata": {
        "id": "K3cfkMegeCqR"
      }
    },
    {
      "cell_type": "code",
      "source": "plt.figure(figsize = (5,6))\nplt.subplot( )\nsns.h ( ,  ,  )\n\nplt.subplot( )\nsns.k (  ,  )\n\nplt.subplot( )\nsns.b (  ,  )\n\nplt.tight_layout()\nplt.show()",
      "metadata": {
        "id": "D0p_u42CeCqR"
      },
      "execution_count": null,
      "outputs": []
    },
    {
      "cell_type": "markdown",
      "source": "4) 아래 항목을 적어 봅시다.\n* 값의 범위\n* 평균\n* 희박구간, 밀집구간",
      "metadata": {
        "id": "kbUCaMTQeCqR"
      }
    },
    {
      "cell_type": "code",
      "source": "# 값의 범위\n",
      "metadata": {
        "id": "DO0FQG8peCqR"
      },
      "execution_count": null,
      "outputs": []
    },
    {
      "cell_type": "code",
      "source": "# 평균\n",
      "metadata": {
        "id": "nKKbEhiqeCqS"
      },
      "execution_count": null,
      "outputs": []
    },
    {
      "cell_type": "code",
      "source": "# 희박 구간\n\n\n# 밀집 구간",
      "metadata": {
        "id": "ugG1gOjJeCqS"
      },
      "execution_count": null,
      "outputs": []
    },
    {
      "cell_type": "markdown",
      "source": "5) 파악 가능한 비즈니스 사항을 적어 봅시다.",
      "metadata": {
        "id": "wWF4YLfueCqS"
      }
    },
    {
      "cell_type": "code",
      "source": "",
      "metadata": {
        "id": "NpAG8YXMeCqS"
      },
      "execution_count": null,
      "outputs": []
    },
    {
      "cell_type": "markdown",
      "source": "## (3) Radio",
      "metadata": {
        "tags": [],
        "id": "zXfVvOsKeCqS"
      }
    },
    {
      "cell_type": "code",
      "source": "var =",
      "metadata": {
        "id": "_mMfHIojeCqS"
      },
      "execution_count": null,
      "outputs": []
    },
    {
      "cell_type": "markdown",
      "source": "1) 변수의 비즈니스 의미",
      "metadata": {
        "id": "Xc9huRxMeCqS"
      }
    },
    {
      "cell_type": "markdown",
      "source": "*",
      "metadata": {
        "id": "T0kTp4pDeCqS"
      }
    },
    {
      "cell_type": "markdown",
      "source": "2) 기초통계량(수치화)",
      "metadata": {
        "id": "yx2dK79AeCqS"
      }
    },
    {
      "cell_type": "code",
      "source": "data[var].",
      "metadata": {
        "id": "uBo09pnIeCqS"
      },
      "execution_count": null,
      "outputs": []
    },
    {
      "cell_type": "markdown",
      "source": "3) 분포 확인(시각화)",
      "metadata": {
        "id": "dOqDaIr4eCqT"
      }
    },
    {
      "cell_type": "code",
      "source": "plt.figure(figsize = (5,6))\nplt.subplot( )\nsns.h ( ,  ,  )\n\nplt.subplot( )\nsns.k (  ,  )\n\nplt.subplot( )\nsns.b (  ,  )\n\nplt.tight_layout()\nplt.show()",
      "metadata": {
        "id": "fht-IXsieCqT"
      },
      "execution_count": null,
      "outputs": []
    },
    {
      "cell_type": "markdown",
      "source": "4) 아래 항목을 적어 봅시다.\n* 값의 범위\n* 평균\n* 희박구간, 밀집구간",
      "metadata": {
        "id": "tsrFeP29eCqT"
      }
    },
    {
      "cell_type": "code",
      "source": "# 값의 범위\n",
      "metadata": {
        "id": "AfJVhdbXeCqT"
      },
      "execution_count": null,
      "outputs": []
    },
    {
      "cell_type": "code",
      "source": "# 평균\n",
      "metadata": {
        "id": "ggNyKmkWeCqT"
      },
      "execution_count": null,
      "outputs": []
    },
    {
      "cell_type": "code",
      "source": "# 희박 구간\n\n\n# 밀집 구간",
      "metadata": {
        "id": "JdgkDlICeCqT"
      },
      "execution_count": null,
      "outputs": []
    },
    {
      "cell_type": "markdown",
      "source": "5) 파악 가능한 비즈니스 사항을 적어 봅시다.",
      "metadata": {
        "id": "RZ37gkMXeCqT"
      }
    },
    {
      "cell_type": "code",
      "source": "",
      "metadata": {
        "id": "7brakaNceCqT"
      },
      "execution_count": null,
      "outputs": []
    },
    {
      "cell_type": "markdown",
      "source": "## (4) Newspaper",
      "metadata": {
        "tags": [],
        "id": "1DxI55uleCqT"
      }
    },
    {
      "cell_type": "code",
      "source": "var =",
      "metadata": {
        "id": "mKHofjxqeCqU"
      },
      "execution_count": null,
      "outputs": []
    },
    {
      "cell_type": "markdown",
      "source": "1) 변수의 비즈니스 의미",
      "metadata": {
        "id": "eU7X5gqTeCqU"
      }
    },
    {
      "cell_type": "markdown",
      "source": "*",
      "metadata": {
        "id": "vXdMvQ6IeCqU"
      }
    },
    {
      "cell_type": "markdown",
      "source": "2) 기초통계량(수치화)",
      "metadata": {
        "id": "leltdeV2eCqU"
      }
    },
    {
      "cell_type": "code",
      "source": "data[var].",
      "metadata": {
        "id": "Ed7CtcoWeCqU"
      },
      "execution_count": null,
      "outputs": []
    },
    {
      "cell_type": "markdown",
      "source": "3) 분포 확인(시각화)",
      "metadata": {
        "id": "3izud_4WeCqU"
      }
    },
    {
      "cell_type": "code",
      "source": "plt.figure(figsize = (5,6))\nplt.subplot( )\nsns.h ( ,  ,  )\n\nplt.subplot( )\nsns.k (  ,  )\n\nplt.subplot( )\nsns.b (  ,  )\n\nplt.tight_layout()\nplt.show()",
      "metadata": {
        "id": "-MuM95WUeCqU"
      },
      "execution_count": null,
      "outputs": []
    },
    {
      "cell_type": "markdown",
      "source": "4) 아래 항목을 적어 봅시다.\n* 값의 범위\n* 평균\n* 희박구간, 밀집구간",
      "metadata": {
        "id": "lxrRULE2eCqU"
      }
    },
    {
      "cell_type": "code",
      "source": "# 값의 범위\n",
      "metadata": {
        "id": "kXgOywlceCqU"
      },
      "execution_count": null,
      "outputs": []
    },
    {
      "cell_type": "code",
      "source": "# 평균\n",
      "metadata": {
        "id": "mbcNfZW8eCqV"
      },
      "execution_count": null,
      "outputs": []
    },
    {
      "cell_type": "code",
      "source": "# 희박 구간\n\n\n# 밀집 구간\n",
      "metadata": {
        "id": "3Pgd0NB_eCqV"
      },
      "execution_count": null,
      "outputs": []
    },
    {
      "cell_type": "markdown",
      "source": "5) 파악 가능한 비즈니스 사항을 적어 봅시다.",
      "metadata": {
        "id": "fTEEnvC2eCqV"
      }
    },
    {
      "cell_type": "code",
      "source": "",
      "metadata": {
        "id": "UqFT4xTxeCqV"
      },
      "execution_count": null,
      "outputs": []
    }
  ]
}