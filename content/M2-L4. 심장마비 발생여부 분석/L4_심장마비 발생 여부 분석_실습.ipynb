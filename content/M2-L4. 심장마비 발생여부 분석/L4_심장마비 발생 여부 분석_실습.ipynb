{
  "metadata": {
    "colab": {
      "provenance": [],
      "collapsed_sections": [
        "NzM65bOSB6ir"
      ],
      "toc_visible": true
    },
    "kernelspec": {
      "name": "python",
      "display_name": "Python (Pyodide)",
      "language": "python"
    },
    "language_info": {
      "codemirror_mode": {
        "name": "python",
        "version": 3
      },
      "file_extension": ".py",
      "mimetype": "text/x-python",
      "name": "python",
      "nbconvert_exporter": "python",
      "pygments_lexer": "ipython3",
      "version": "3.8"
    }
  },
  "nbformat_minor": 4,
  "nbformat": 4,
  "cells": [
    {
      "cell_type": "markdown",
      "source": "# **Lesson 4. 심장마비 발생 여부 분석**",
      "metadata": {
        "id": "qXUBfCONOdID"
      }
    },
    {
      "cell_type": "markdown",
      "source": "# **1.비즈니스 시나리오**",
      "metadata": {
        "id": "790IJBdRWl9r"
      }
    },
    {
      "cell_type": "markdown",
      "source": "* 질병관리본부에서 배포한 보도자료에 따르면, 한국의 심혈관 질환 사망은 연간 53,150명으로, 질병으로 인한 전체 사망의 약 19%를 차지하고 있다고 합니다.\n* 특이한 것은 뇌혈관질환 사망률은 지속적으로 감소한 반면, 심혈관 질환 사망률은 지속적으로 상승 추세를 보이고 있다는 것인데요. 심혈관 질환이 있거나 발병 위험률이 높은 사람은 이를 조기에 발견하고 관리해주는 것이 매우 중요합니다.\n* 그렇다면, 이번 실습에서는 수집된 데이터를 활용해 심장마비 발생에 영향을 미치는 요인은 무엇인지 분석해 봅시다.\n\n\n",
      "metadata": {
        "id": "XOiIUDJ1i11u",
        "tags": []
      }
    },
    {
      "cell_type": "markdown",
      "source": "# **2.환경준비**",
      "metadata": {
        "id": "c1uOWzZl_YZH"
      }
    },
    {
      "cell_type": "markdown",
      "source": "## (1) 라이브러리 불러오기",
      "metadata": {
        "id": "LS2rtJiJlaF0"
      }
    },
    {
      "cell_type": "code",
      "source": "# jupyter lite에서 패키지 설치\nimport piplite\nawait piplite.install(\"seaborn\")",
      "metadata": {
        "id": "1-KzyJcozmBU",
        "trusted": true
      },
      "execution_count": null,
      "outputs": []
    },
    {
      "cell_type": "code",
      "source": "import numpy as np\nimport pandas as pd\n\nimport matplotlib.pyplot as plt\nimport seaborn as sns\n\nfrom statsmodels.graphics.mosaicplot import mosaic",
      "metadata": {
        "id": "ba319GIZlcFB",
        "trusted": true
      },
      "execution_count": null,
      "outputs": []
    },
    {
      "cell_type": "markdown",
      "source": "## (2) 데이터 로딩",
      "metadata": {
        "id": "TCceTRSHqibR"
      }
    },
    {
      "cell_type": "code",
      "source": "data = pd.read_csv('heart_attack.csv')\ndata.head()",
      "metadata": {
        "id": "08FGuKtjpGOj",
        "trusted": true
      },
      "execution_count": null,
      "outputs": []
    },
    {
      "cell_type": "markdown",
      "source": "* 변수 설명\n    * sex : 성별 (1 = male; 0 = female)\n    * exang: 운동시 협심증 여부 (1 = yes; 0 = no)\n    * cp : 가슴통증 종류\n        * Value 1: 일반 협심증\n        * Value 2: 비정형 협심증\n        * Value 3: 비 협심증 통증\n        * Value 4: 무증상\n    * trestbps : 혈압\n    * chol : 콜레스테롤 수치\n    * target : 0 = 심장마비가능성 낮음. 1= 심장마비가능성 높음\n",
      "metadata": {
        "id": "zYKHwYHatC4k"
      }
    },
    {
      "cell_type": "markdown",
      "source": "# **3.데이터 정보조회**",
      "metadata": {
        "id": "bjJWMK9TzmBV"
      }
    },
    {
      "cell_type": "markdown",
      "source": "## (1) 상,하위 데이터 조회",
      "metadata": {
        "id": "Yhc3WESNzmBV"
      }
    },
    {
      "cell_type": "code",
      "source": "",
      "metadata": {
        "id": "v0yzerSjzmBV",
        "trusted": true
      },
      "execution_count": null,
      "outputs": []
    },
    {
      "cell_type": "code",
      "source": "",
      "metadata": {
        "id": "uaK-RvEBzmBV",
        "trusted": true
      },
      "execution_count": null,
      "outputs": []
    },
    {
      "cell_type": "markdown",
      "source": "## (2) 데이터프레임 정보 조회(info)",
      "metadata": {
        "id": "kN0cqszpzmBW"
      }
    },
    {
      "cell_type": "code",
      "source": "",
      "metadata": {
        "id": "6tvylcmFzmBW",
        "trusted": true
      },
      "execution_count": null,
      "outputs": []
    },
    {
      "cell_type": "markdown",
      "source": "# **4.이변량분석 : 범주형 --> 범주형**\n\n* 시각화 : 모자익플롯",
      "metadata": {
        "id": "A7QYqGKWdMZi",
        "tags": []
      }
    },
    {
      "cell_type": "code",
      "source": "target = 'target'",
      "metadata": {
        "id": "j2vZKPKkzmBW",
        "trusted": true
      },
      "execution_count": null,
      "outputs": []
    },
    {
      "cell_type": "markdown",
      "source": "## (1) sex -- > target",
      "metadata": {
        "id": "m5zcg9CCg86m"
      }
    },
    {
      "cell_type": "markdown",
      "source": "* 교차표와 그래프",
      "metadata": {
        "id": "Z4CqANbHzmBW"
      }
    },
    {
      "cell_type": "code",
      "source": "var = 'sex'\n\n# 교차표\ndisplay(pd.crosstab(data[target], data[var], normalize = 'columns'))\n\n# 그래프\nmosaic(data, [var, target])\nplt.axhline(1-data[target].mean(), color = 'red')\nplt.show()",
      "metadata": {
        "id": "kZLBDivPzmBW",
        "trusted": true
      },
      "execution_count": null,
      "outputs": []
    },
    {
      "cell_type": "markdown",
      "source": "* 파악된 내용을 적어 봅시다.",
      "metadata": {
        "id": "XZsiH_dYBvG0"
      }
    },
    {
      "cell_type": "code",
      "source": "",
      "metadata": {
        "id": "d-rqhoYcBxgA",
        "trusted": true
      },
      "execution_count": null,
      "outputs": []
    },
    {
      "cell_type": "markdown",
      "source": "## (2) cp -- > target",
      "metadata": {
        "id": "NzM65bOSB6ir",
        "tags": []
      }
    },
    {
      "cell_type": "markdown",
      "source": "* 교차표와 그래프",
      "metadata": {
        "id": "HzY5dmsLzmBX"
      }
    },
    {
      "cell_type": "code",
      "source": "",
      "metadata": {
        "id": "gP_3hBQOzmBX",
        "trusted": true
      },
      "execution_count": null,
      "outputs": []
    },
    {
      "cell_type": "markdown",
      "source": "* 파악된 내용을 적어 봅시다.",
      "metadata": {
        "id": "WZPyPjopzmBX"
      }
    },
    {
      "cell_type": "code",
      "source": "",
      "metadata": {
        "id": "j5PxGchAzmBX"
      },
      "execution_count": null,
      "outputs": []
    },
    {
      "cell_type": "markdown",
      "source": "## (3) exang -- > target",
      "metadata": {
        "tags": [],
        "id": "bs1tV2yozmBX"
      }
    },
    {
      "cell_type": "markdown",
      "source": "* 교차표와 그래프",
      "metadata": {
        "id": "g2dZVXtuzmBX"
      }
    },
    {
      "cell_type": "code",
      "source": "",
      "metadata": {
        "id": "b55-USm9zmBX",
        "trusted": true
      },
      "execution_count": null,
      "outputs": []
    },
    {
      "cell_type": "markdown",
      "source": "* 파악된 내용을 적어 봅시다.",
      "metadata": {
        "id": "xvmFoL9NzmBX"
      }
    },
    {
      "cell_type": "code",
      "source": "",
      "metadata": {
        "id": "PCVXCqgSzmBX"
      },
      "execution_count": null,
      "outputs": []
    },
    {
      "cell_type": "markdown",
      "source": "# **5.이변량분석 : 수치형 --> 범주형**\n\n* 시각화 : 평균 비교 막대 그래프",
      "metadata": {
        "tags": [],
        "id": "aDstNINzzmBX"
      }
    },
    {
      "cell_type": "markdown",
      "source": "## (1) trestbps -- > target",
      "metadata": {
        "id": "kWO8MPCjzmBY"
      }
    },
    {
      "cell_type": "markdown",
      "source": "* 그래프",
      "metadata": {
        "id": "U12UPw2izmBY"
      }
    },
    {
      "cell_type": "code",
      "source": "var = 'trestbps'\n\n# 그래프\nsns.barplot(x = target, y = var, data = data)\nplt.grid()\nplt.show()",
      "metadata": {
        "id": "KMpA6IXRzmBY",
        "trusted": true
      },
      "execution_count": null,
      "outputs": []
    },
    {
      "cell_type": "markdown",
      "source": "* 파악된 내용을 적어 봅시다.",
      "metadata": {
        "id": "L-zpq_RNzmBY"
      }
    },
    {
      "cell_type": "code",
      "source": "",
      "metadata": {
        "id": "jwiWw7CKzmBY"
      },
      "execution_count": null,
      "outputs": []
    },
    {
      "cell_type": "markdown",
      "source": "## (2) chol -- > target",
      "metadata": {
        "tags": [],
        "id": "0oESjNQczmBl"
      }
    },
    {
      "cell_type": "markdown",
      "source": "* 그래프",
      "metadata": {
        "id": "0_FfhyD7zmBl"
      }
    },
    {
      "cell_type": "code",
      "source": "",
      "metadata": {
        "id": "TPev4eC-zmBl",
        "trusted": true
      },
      "execution_count": null,
      "outputs": []
    },
    {
      "cell_type": "markdown",
      "source": "* 파악된 내용을 적어 봅시다.",
      "metadata": {
        "id": "s124uPeAzmBl"
      }
    },
    {
      "cell_type": "code",
      "source": "",
      "metadata": {
        "id": "AwHpQEjWzmBl"
      },
      "execution_count": null,
      "outputs": []
    }
  ]
}