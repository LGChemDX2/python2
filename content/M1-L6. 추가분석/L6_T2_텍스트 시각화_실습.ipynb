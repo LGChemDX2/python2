{
  "metadata": {
    "colab": {
      "provenance": [],
      "toc_visible": true
    },
    "toc-autonumbering": false,
    "toc-showmarkdowntxt": false,
    "kernelspec": {
      "display_name": "Python (Pyodide)",
      "language": "python",
      "name": "python"
    },
    "language_info": {
      "codemirror_mode": {
        "name": "python",
        "version": 3
      },
      "file_extension": ".py",
      "mimetype": "text/x-python",
      "name": "python",
      "nbconvert_exporter": "python",
      "pygments_lexer": "ipython3",
      "version": "3.8"
    }
  },
  "nbformat_minor": 4,
  "nbformat": 4,
  "cells": [
    {
      "cell_type": "markdown",
      "source": "# **Topic 2. 텍스트 시각화_실습**",
      "metadata": {
        "id": "mVOYUVwYNrob"
      }
    },
    {
      "cell_type": "markdown",
      "source": "## **(1) 환경준비**",
      "metadata": {
        "id": "jtOUt7kVWs9D"
      }
    },
    {
      "cell_type": "code",
      "source": "# jupyter lite에서 패키지 설치\nimport piplite\nawait piplite.install(\"seaborn\")\nawait piplite.install(\"wordcloud\")",
      "metadata": {
        "id": "zzroL4bqDNnR",
        "trusted": true
      },
      "execution_count": null,
      "outputs": []
    },
    {
      "cell_type": "code",
      "source": "import pandas as pd\nimport numpy as np\nimport matplotlib.pyplot as plt\nimport seaborn as sns\n\nfrom collections import Counter\nfrom wordcloud import WordCloud",
      "metadata": {
        "id": "j-ggcuejWF7F",
        "trusted": true
      },
      "execution_count": null,
      "outputs": []
    },
    {
      "cell_type": "markdown",
      "source": "## **(2) 실습1 : 텍스트 전처리**\n\n* ① 텍스트 파일 읽기 :\n    * 주어진 데이터는 제인오스틴의 유명한 소설 '엠마(emma.txt)' 입니다.\n    * 이 파일을 읽어서 변수 text에 저장합니다.\n* ② 문장에서 단어 추출하기 : 저장한 변수 text로 부터 단어를 분리해서 리스트로 저장합니다.\n* ③ 추출한 단어 정제 : 쉼표와 마침표 제거, 모두 소문자로 변환합니다.",
      "metadata": {
        "id": "nT8jaWQoWJvI"
      }
    },
    {
      "cell_type": "markdown",
      "source": "* **① 텍스트 파일 읽기**",
      "metadata": {
        "id": "YbcG6POAXDsM"
      }
    },
    {
      "cell_type": "code",
      "source": "# 텍스트 파일을 읽기 모드('r')로 오픈합니다.\nfile = o ( , \"r\")\ntext = file.r () # 파일 내용을 읽어서 text에 저장하기\nfile.c () # 오픈한 파일을 닫기",
      "metadata": {
        "id": "DhZz67UbUxOA",
        "trusted": true
      },
      "execution_count": null,
      "outputs": []
    },
    {
      "cell_type": "code",
      "source": "# 저장한 내용을 확인해 봅시다.\ntext",
      "metadata": {
        "tags": [],
        "id": "MCZzuQpYDNnS",
        "trusted": true
      },
      "execution_count": null,
      "outputs": []
    },
    {
      "cell_type": "markdown",
      "source": "* **② 문장에서 단어 추출하기**",
      "metadata": {
        "id": "Bro5QrG8XCxJ"
      }
    },
    {
      "cell_type": "code",
      "source": "# 텍스트들을 단어 단위로 잘라 리스트에 담습니다.\nwordList = text.s ()",
      "metadata": {
        "id": "UGyTvp0UXMIY",
        "trusted": true
      },
      "execution_count": null,
      "outputs": []
    },
    {
      "cell_type": "code",
      "source": "wordList[:10]",
      "metadata": {
        "id": "M-Bh6sb-DNnS",
        "trusted": true
      },
      "execution_count": null,
      "outputs": []
    },
    {
      "cell_type": "markdown",
      "source": "* **③ 추출한 단어 정제**",
      "metadata": {
        "id": "9oppvtfSDNnT"
      }
    },
    {
      "cell_type": "code",
      "source": "# 단어의 갯수\nn = len(wordList)\n\n# 리스트에서 단어 하나씩 뽑아다가 수정하기\nfor i in range(n):\n    wordList[i] = wordList[i].r ( , )    # 단어에서 , 빼기\n    wordList[i] = wordList[i].r ( , )    # 단어에서 . 빼기\n    wordList[i] = wordList[i].l ()       # 모두 소문자로 변환",
      "metadata": {
        "id": "T4EJ7ZDFDNnT",
        "trusted": true
      },
      "execution_count": null,
      "outputs": []
    },
    {
      "cell_type": "code",
      "source": "wordList[:10]",
      "metadata": {
        "id": "47ECIwLkDNnT",
        "trusted": true
      },
      "execution_count": null,
      "outputs": []
    },
    {
      "cell_type": "markdown",
      "source": "## **(3) 실습2 : 키워드 분석**\n* ① 단어 빈도수 계산\n    * Counter 함수로 빈도수를 계산하여 딕셔너리 형태로 저장합니다.\n    * 불용어를 제외합니다.\n* ② 시각화(워드클라우드)",
      "metadata": {
        "id": "EgZjRretYB3q"
      }
    },
    {
      "cell_type": "markdown",
      "source": "* **① 단어 빈도수 계산**",
      "metadata": {
        "id": "gX83ybZiYB39"
      }
    },
    {
      "cell_type": "code",
      "source": "# Counter 함수 : 단어와 빈도수를 계산하여 딕셔너리형태로 저장\nwordCount = C (wordList)",
      "metadata": {
        "id": "YgXlqUofYB39",
        "trusted": true
      },
      "execution_count": null,
      "outputs": []
    },
    {
      "cell_type": "code",
      "source": "# 아래 불용어 목록에 더 추가해 봅시다.\ndel_word = ['the','a','is','are', 'not','of','on','that','this','we','have','will'\n            ,'and','be','to', 'from', 'was', 'And','had','it','he','as','our','let','i','with'\n            ,'The','his','were','in','by']\n\nfor w in del_word :       # del_word에서 하나씩 읽어서\n    if w in wordCount :   # 읽은 단어가 wordCount에 있으면\n        del wordCount[w]  # wordCount에서 해당 단어 삭제",
      "metadata": {
        "id": "ajRzr5xGDNnT",
        "trusted": true
      },
      "execution_count": null,
      "outputs": []
    },
    {
      "cell_type": "markdown",
      "source": "* **② 시각화(워드클라우드)**",
      "metadata": {
        "id": "QfMyLGYHYB3-"
      }
    },
    {
      "cell_type": "code",
      "source": "# word cloud 그리기 : 크기를 입력하고, 위에서 만든 키워드빈도 데이터를 넣어서 워드클라우드를 만들어 봅시다.\nwordcloud = WordCloud(width =  , height =  ).generate_from_frequencies(w )\n\nplt.figure(figsize=(8,6)) # 그림 크기 조정 가로 8, 세로 6\nplt.imshow(wordcloud)      # 이미지 보여줄 준비\nplt.show()                 # 화면에 출력",
      "metadata": {
        "id": "qgNEWn5-YB3-",
        "trusted": true
      },
      "execution_count": null,
      "outputs": []
    },
    {
      "cell_type": "code",
      "source": "",
      "metadata": {
        "id": "0MUaEsWLDNnU"
      },
      "execution_count": null,
      "outputs": []
    }
  ]
}