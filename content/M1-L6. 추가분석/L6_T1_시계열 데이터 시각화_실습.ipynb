{
  "cells": [
    {
      "cell_type": "markdown",
      "metadata": {
        "id": "mVOYUVwYNrob"
      },
      "source": [
        "# **Topic 1. 시계열 데이터 시각화_실습**"
      ]
    },
    {
      "cell_type": "markdown",
      "metadata": {
        "id": "jtOUt7kVWs9D"
      },
      "source": [
        "## **(1) 환경준비**"
      ]
    },
    {
      "cell_type": "markdown",
      "metadata": {
        "id": "Uj2_4_07WDpA"
      },
      "source": [
        "### 1) 라이브러리 불러오기"
      ]
    },
    {
      "cell_type": "code",
      "execution_count": null,
      "metadata": {
        "id": "CBbIiTVQ9l-t"
      },
      "outputs": [],
      "source": [
        "# jupyter lite에서 패키지 설치\n",
        "import piplite\n",
        "await piplite.install(\"seaborn\")"
      ]
    },
    {
      "cell_type": "code",
      "execution_count": null,
      "metadata": {
        "id": "j-ggcuejWF7F"
      },
      "outputs": [],
      "source": [
        "import pandas as pd\n",
        "import numpy as np\n",
        "import matplotlib.pyplot as plt\n",
        "import seaborn as sns"
      ]
    },
    {
      "cell_type": "markdown",
      "metadata": {
        "id": "nT8jaWQoWJvI"
      },
      "source": [
        "### 2) 데이터 불러오기"
      ]
    },
    {
      "cell_type": "markdown",
      "metadata": {
        "id": "k7paU3uF9l-u"
      },
      "source": [
        "* **[retail 데이터 셋 정보]**"
      ]
    },
    {
      "cell_type": "markdown",
      "metadata": {
        "id": "AKfZSXkZ7nq6"
      },
      "source": [
        "|\t변수\t|\t설명\t|\n",
        "|----|----|\n",
        "|date| 날짜 |\n",
        "|sales| 판매량|"
      ]
    },
    {
      "cell_type": "code",
      "execution_count": null,
      "metadata": {
        "id": "5bYePZL-45qo"
      },
      "outputs": [],
      "source": [
        "retail = pd.read_csv('retail.csv')\n",
        "retail['date'] = pd.to_datetime(retail['date']) # 날짜 타입으로 변환\n",
        "retail.head()"
      ]
    },
    {
      "cell_type": "markdown",
      "metadata": {
        "id": "KH0k96uzXvsk",
        "tags": []
      },
      "source": [
        "## **(2) 실습1 : 라인차트**\n",
        "\n",
        "* ① retail 전체 데이터에 대해 라인차트를 그려 봅시다.\n",
        "* ② 6~7월에 대한 라인차트를 그려봅시다.\n",
        "* ③ 두 그래프로 부터 보이는 패턴을 적어봅시다."
      ]
    },
    {
      "cell_type": "markdown",
      "metadata": {
        "id": "r-S_C49I9Ncq"
      },
      "source": [
        "① retail 전체 데이터에 대해 라인차트를 그려 봅시다."
      ]
    },
    {
      "cell_type": "code",
      "execution_count": null,
      "metadata": {
        "id": "8oPLTJEwXvsm"
      },
      "outputs": [],
      "source": [
        "plt.plot(  ,  )\n",
        "plt.grid()\n",
        "plt.show()"
      ]
    },
    {
      "cell_type": "markdown",
      "metadata": {
        "id": "1UABhuth2krW"
      },
      "source": [
        "② 6~7월에 대한 라인차트를 그려봅시다."
      ]
    },
    {
      "cell_type": "code",
      "execution_count": null,
      "metadata": {
        "id": "1FglpLd32krW"
      },
      "outputs": [],
      "source": [
        "temp = retail.loc[retail['date'].dt.month.between(  ,  )]\n",
        "plt.plot(   )\n",
        "plt.xticks(rotation = 45)\n",
        "plt.grid()\n",
        "plt.show()"
      ]
    },
    {
      "cell_type": "markdown",
      "metadata": {
        "id": "XIf15VkM9l-v"
      },
      "source": [
        "③ 두 그래프로 부터 보이는 패턴을 적어봅시다."
      ]
    },
    {
      "cell_type": "code",
      "execution_count": null,
      "metadata": {
        "id": "983z6I1T9l-v"
      },
      "outputs": [],
      "source": []
    },
    {
      "cell_type": "markdown",
      "metadata": {
        "tags": [],
        "id": "TELzSeHb9l-v"
      },
      "source": [
        "## **(3) 실습2 : 패턴 도출**\n",
        "* ① 7일 이동평균 변수를 추가하고 라인차트로 그려봅시다.\n",
        "* ② 7일전과의 차이 변수를 추가하고 히스토그램으로 그려봅시다."
      ]
    },
    {
      "cell_type": "markdown",
      "metadata": {
        "id": "I7Q2s8uv9l-v"
      },
      "source": [
        "① 7일 이동평균 변수를 추가하고 라인차트로 그려봅시다."
      ]
    },
    {
      "cell_type": "code",
      "execution_count": null,
      "metadata": {
        "id": "DzaMS26K9l-v"
      },
      "outputs": [],
      "source": [
        "# 이동평균 추가\n",
        "retail['sales_MA7'] = retail['sales'].r ( , min_periods = 1).m\n",
        "retail.head()"
      ]
    },
    {
      "cell_type": "code",
      "execution_count": null,
      "metadata": {
        "id": "gJEEFKF49r3X"
      },
      "outputs": [],
      "source": [
        "# 이동평균 추가한 라인차트\n",
        "plt.plot(  )\n",
        "plt.plot(  )\n",
        "plt.l\n",
        "plt.grid()\n",
        "plt.show()"
      ]
    },
    {
      "cell_type": "markdown",
      "metadata": {
        "id": "Uhq4JXAB9l-v"
      },
      "source": [
        "② 7일전과의 차이 변수를 추가하고 히스토그램으로 그려봅시다."
      ]
    },
    {
      "cell_type": "code",
      "execution_count": null,
      "metadata": {
        "id": "Aabyx9YY9l-v"
      },
      "outputs": [],
      "source": [
        "# 변화량 추가\n",
        "retail['sales_diff7'] = retail['sales'].d\n",
        "retail.head(10)"
      ]
    },
    {
      "cell_type": "code",
      "execution_count": null,
      "metadata": {
        "id": "svCV3iOV9l-w"
      },
      "outputs": [],
      "source": [
        "# 히스토그램 비교\n",
        "plt.figure(figsize = (8,4))\n",
        "plt.subplot( )\n",
        "sns.h (x =  , data =  , bins = 30)\n",
        "plt.subplot( )\n",
        "sns.h (x =  , data =  , bins = 30)\n",
        "\n",
        "plt.tight_layout()\n",
        "plt.show()"
      ]
    }
  ],
  "metadata": {
    "colab": {
      "provenance": [],
      "toc_visible": true
    },
    "kernelspec": {
      "display_name": "Python 3 (ipykernel)",
      "language": "python",
      "name": "python3"
    },
    "language_info": {
      "codemirror_mode": {
        "name": "ipython",
        "version": 3
      },
      "file_extension": ".py",
      "mimetype": "text/x-python",
      "name": "python",
      "nbconvert_exporter": "python",
      "pygments_lexer": "ipython3",
      "version": "3.11.5"
    },
    "toc-autonumbering": false,
    "toc-showmarkdowntxt": false
  },
  "nbformat": 4,
  "nbformat_minor": 0
}