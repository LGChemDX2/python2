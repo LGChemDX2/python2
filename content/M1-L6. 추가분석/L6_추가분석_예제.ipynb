{
  "metadata": {
    "colab": {
      "provenance": [],
      "toc_visible": true
    },
    "toc-autonumbering": false,
    "toc-showmarkdowntxt": false,
    "kernelspec": {
      "name": "python",
      "display_name": "Python (Pyodide)",
      "language": "python"
    },
    "language_info": {
      "codemirror_mode": {
        "name": "python",
        "version": 3
      },
      "file_extension": ".py",
      "mimetype": "text/x-python",
      "name": "python",
      "nbconvert_exporter": "python",
      "pygments_lexer": "ipython3",
      "version": "3.8"
    }
  },
  "nbformat_minor": 0,
  "nbformat": 4,
  "cells": [
    {
      "cell_type": "markdown",
      "source": [
        "# **Lesson 6. 추가분석_예제**"
      ],
      "metadata": {
        "id": "mVOYUVwYNrob"
      }
    },
    {
      "cell_type": "markdown",
      "source": [
        "## **(1) 환경준비**"
      ],
      "metadata": {
        "id": "nm01F0E7V274",
        "tags": []
      }
    },
    {
      "cell_type": "markdown",
      "source": [
        "### 1) 라이브러리 불러오기"
      ],
      "metadata": {
        "id": "Uj2_4_07WDpA"
      }
    },
    {
      "cell_type": "code",
      "source": [
        "# jupyter lite에서 패키지 설치\n",
        "import piplite\n",
        "await piplite.install(\"seaborn\")\n",
        "await piplite.install(\"wordcloud\")"
      ],
      "metadata": {
        "trusted": true,
        "id": "Yq0p7EWS3QbP"
      },
      "execution_count": null,
      "outputs": []
    },
    {
      "cell_type": "code",
      "source": [
        "import pandas as pd\n",
        "import numpy as np\n",
        "import matplotlib.pyplot as plt\n",
        "import seaborn as sns\n",
        "\n",
        "from collections import Counter\n",
        "from wordcloud import WordCloud"
      ],
      "metadata": {
        "id": "j-ggcuejWF7F",
        "trusted": true
      },
      "execution_count": null,
      "outputs": []
    },
    {
      "cell_type": "markdown",
      "source": [
        "### 2) 데이터 불러오기"
      ],
      "metadata": {
        "id": "nT8jaWQoWJvI"
      }
    },
    {
      "cell_type": "markdown",
      "source": [
        "* **[KOSPI 데이터 셋 정보]**"
      ],
      "metadata": {
        "id": "1C8OqP3O3QbQ"
      }
    },
    {
      "cell_type": "markdown",
      "source": [
        "| 변수   | 설명        |\n",
        "| ----  | ----       |\n",
        "| Date   | 날짜         |\n",
        "| Close  | 지수(종가)   |\n",
        "| Volume | 거래량       |"
      ],
      "metadata": {
        "id": "AKfZSXkZ7nq6"
      }
    },
    {
      "cell_type": "code",
      "source": [
        "kospi = pd.read_csv('KOSPI_2018.csv', usecols = ['Date','Close','Volume'])\n",
        "kospi['Date'] = pd.to_datetime(kospi['Date']) # 날짜 타입으로 변환\n",
        "kospi.head()"
      ],
      "metadata": {
        "id": "5bYePZL-45qo",
        "trusted": true
      },
      "execution_count": null,
      "outputs": []
    },
    {
      "cell_type": "markdown",
      "source": [
        "* **[retail 데이터 셋 정보]**"
      ],
      "metadata": {
        "tags": [],
        "id": "h_dIyrCI3QbQ"
      }
    },
    {
      "cell_type": "markdown",
      "source": [
        "| 변수   | 설명        |\n",
        "| ----  | ----       |\n",
        "| date   | 날짜         |\n",
        "| sales  | 판매량  |"
      ],
      "metadata": {
        "id": "ATpBFVQx3QbQ"
      }
    },
    {
      "cell_type": "code",
      "source": [
        "retail = pd.read_csv('retail.csv')\n",
        "retail['date'] = pd.to_datetime(retail['date']) # 날짜 타입으로 변환\n",
        "retail.head()"
      ],
      "metadata": {
        "trusted": true,
        "id": "b49oNtBm3QbR"
      },
      "execution_count": null,
      "outputs": []
    },
    {
      "cell_type": "markdown",
      "source": [
        "----"
      ],
      "metadata": {
        "id": "JqgG1UZsXvsn"
      }
    },
    {
      "cell_type": "markdown",
      "source": [
        "## **(2) Topic 1. 시계열 데이터 시각화**"
      ],
      "metadata": {
        "id": "uwdjFYCiXLGH"
      }
    },
    {
      "cell_type": "markdown",
      "source": [
        "### **1) 라인차트**"
      ],
      "metadata": {
        "id": "QrkCsl3OXvsn",
        "tags": []
      }
    },
    {
      "cell_type": "markdown",
      "source": [
        "* 2017년 5월에 대해서 라인차트를 그려 봅시다."
      ],
      "metadata": {
        "id": "T3TBXa_u3QbR"
      }
    },
    {
      "cell_type": "code",
      "source": [
        "temp = retail.loc[retail['date'].dt.month == 5]\n",
        "plt.plot(temp['date'] , temp['sales'], marker = '.' )\n",
        "plt.xticks(rotation = 45)\n",
        "plt.grid()\n",
        "plt.show()"
      ],
      "metadata": {
        "id": "HPNJ7Sp_S9sf",
        "tags": [],
        "trusted": true
      },
      "execution_count": null,
      "outputs": []
    },
    {
      "cell_type": "markdown",
      "source": [
        "### **2) 패턴 도출**"
      ],
      "metadata": {
        "tags": [],
        "id": "0y74rh6J3QbR"
      }
    },
    {
      "cell_type": "markdown",
      "source": [
        "* **① 이동평균 추가**"
      ],
      "metadata": {
        "id": "mGV9PndiTao3"
      }
    },
    {
      "cell_type": "code",
      "source": [
        "# 라인차트\n",
        "plt.plot(kospi['Date'], kospi['Close'])\n",
        "plt.grid()\n",
        "plt.show()"
      ],
      "metadata": {
        "trusted": true,
        "id": "ECOsZ5kY3QbS"
      },
      "execution_count": null,
      "outputs": []
    },
    {
      "cell_type": "code",
      "source": [
        "# 이동평균 추가\n",
        "kospi['Close_MA20'] = kospi['Close'].rolling(20, min_periods = 1).mean()\n",
        "kospi.head()"
      ],
      "metadata": {
        "trusted": true,
        "id": "uPeqjFY73QbS"
      },
      "execution_count": null,
      "outputs": []
    },
    {
      "cell_type": "code",
      "source": [
        "# 이동평균 추가한 라인차트\n",
        "plt.plot(kospi['Date'], kospi['Close'], label = 'Close')\n",
        "plt.plot(kospi['Date'], kospi['Close_MA20'], label = 'Close_MA20')\n",
        "plt.legend()\n",
        "plt.grid()\n",
        "plt.show()"
      ],
      "metadata": {
        "trusted": true,
        "id": "E60gkKWa3QbS"
      },
      "execution_count": null,
      "outputs": []
    },
    {
      "cell_type": "markdown",
      "source": [
        "* **② 변화량 시각화**"
      ],
      "metadata": {
        "id": "xtNInujs3QbS"
      }
    },
    {
      "cell_type": "code",
      "source": [
        "# 변화량 추가\n",
        "kospi['Close_diff'] = kospi['Close'].diff()\n",
        "kospi.head()"
      ],
      "metadata": {
        "trusted": true,
        "id": "hzIJNMPQ3QbS"
      },
      "execution_count": null,
      "outputs": []
    },
    {
      "cell_type": "code",
      "source": [
        "# 히스토그램 비교\n",
        "plt.figure(figsize = (8,4))\n",
        "plt.subplot(1,2,1)\n",
        "sns.histplot(x = 'Close', data = kospi, bins = 50)\n",
        "plt.subplot(1,2,2)\n",
        "sns.histplot(x='Close_diff', data = kospi, bins = 50)\n",
        "\n",
        "plt.tight_layout()\n",
        "plt.show()"
      ],
      "metadata": {
        "tags": [],
        "trusted": true,
        "id": "9B1NkGKn3QbS"
      },
      "execution_count": null,
      "outputs": []
    },
    {
      "cell_type": "markdown",
      "source": [
        "## **(3) Topic 2. 텍스트 시각화**"
      ],
      "metadata": {
        "id": "kyX1_LhsXvsr"
      }
    },
    {
      "cell_type": "markdown",
      "source": [
        "### **1) 텍스트 전처리**"
      ],
      "metadata": {
        "id": "XPklNj6HVqwF"
      }
    },
    {
      "cell_type": "markdown",
      "source": [
        "* **① 텍스트 파일 읽기**"
      ],
      "metadata": {
        "id": "YbcG6POAXDsM"
      }
    },
    {
      "cell_type": "code",
      "source": [
        "# 텍스트 파일을 읽기 모드('r')로 오픈합니다.\n",
        "file = open('dream.txt', \"r\")\n",
        "text = file.read() # 파일 내용을 읽어서 text에 저장합니다.\n",
        "file.close() # 오픈한 파일을 닫습니다."
      ],
      "metadata": {
        "id": "DhZz67UbUxOA",
        "trusted": true
      },
      "execution_count": null,
      "outputs": []
    },
    {
      "cell_type": "code",
      "source": [
        "# 저장한 내용을 확인해 봅시다.\n",
        "text"
      ],
      "metadata": {
        "tags": [],
        "collapsed": true,
        "jupyter": {
          "outputs_hidden": true
        },
        "trusted": true,
        "id": "_qVK7mx-3QbT"
      },
      "execution_count": null,
      "outputs": []
    },
    {
      "cell_type": "markdown",
      "source": [
        "* **② 문장에서 단어 추출하기**"
      ],
      "metadata": {
        "id": "Bro5QrG8XCxJ"
      }
    },
    {
      "cell_type": "code",
      "source": [
        "# 텍스트들을 단어 단위로 잘라 리스트에 담습니다.\n",
        "wordList = text.split()"
      ],
      "metadata": {
        "id": "UGyTvp0UXMIY",
        "trusted": true
      },
      "execution_count": null,
      "outputs": []
    },
    {
      "cell_type": "code",
      "source": [
        "wordList[:10]"
      ],
      "metadata": {
        "trusted": true,
        "id": "pPqIWO323QbT"
      },
      "execution_count": null,
      "outputs": []
    },
    {
      "cell_type": "markdown",
      "source": [
        "* **③ 추출한 단어 정제**"
      ],
      "metadata": {
        "id": "Z7XngXdX3QbT"
      }
    },
    {
      "cell_type": "code",
      "source": [
        "# 단어의 갯수\n",
        "n = len(wordList)\n",
        "\n",
        "# 리스트에서 단어 하나씩 뽑아다가 수정합니다.\n",
        "for i in range(n):\n",
        "    wordList[i] = wordList[i].replace(',','')   # 단어에서 , 빼기\n",
        "    wordList[i] = wordList[i].replace('.','')   # 단어에서 . 빼기\n",
        "    wordList[i] = wordList[i].lower()           # 모두 소문자로 변환"
      ],
      "metadata": {
        "trusted": true,
        "id": "TYPKl_rQ3QbT"
      },
      "execution_count": null,
      "outputs": []
    },
    {
      "cell_type": "code",
      "source": [
        "wordList[:10]"
      ],
      "metadata": {
        "id": "otf3VSLD9OXu"
      },
      "execution_count": null,
      "outputs": []
    },
    {
      "cell_type": "markdown",
      "source": [
        "### **2) 키워드 분석**"
      ],
      "metadata": {
        "id": "EgZjRretYB3q"
      }
    },
    {
      "cell_type": "markdown",
      "source": [
        "* **① 단어별 빈도수 계산**"
      ],
      "metadata": {
        "id": "gX83ybZiYB39"
      }
    },
    {
      "cell_type": "code",
      "source": [
        "# Counter 함수 : 단어와 빈도수를 계산하여 딕셔너리형태로 저장\n",
        "wordCount = Counter(wordList)"
      ],
      "metadata": {
        "id": "YgXlqUofYB39",
        "tags": [],
        "trusted": true
      },
      "execution_count": null,
      "outputs": []
    },
    {
      "cell_type": "code",
      "source": [
        "# wordCount에서 특정 단어 빈도수 계산\n",
        "wordCount['dream']"
      ],
      "metadata": {
        "trusted": true,
        "id": "2RHLBsHW3QbU"
      },
      "execution_count": null,
      "outputs": []
    },
    {
      "cell_type": "code",
      "source": [
        "# 불용어는 제외합시다.\n",
        "del_word = ['the','a','is','are', 'not','of','on','that','this','we','have','will'\n",
        "            ,'and','be','to', 'from', 'was', 'And','had','it','he','as','our','let','i','with'\n",
        "            ,'his','were','in','by']\n",
        "\n",
        "for w in del_word :        # del_word에서 하나씩 읽어서\n",
        "    if w in wordCount :    # 읽은 단어가 wordCount에 있으면\n",
        "        del wordCount[w]   # wordCount에서 해당 단어 삭제"
      ],
      "metadata": {
        "trusted": true,
        "id": "c58Glicn3Qbb"
      },
      "execution_count": null,
      "outputs": []
    },
    {
      "cell_type": "markdown",
      "source": [
        "* **③ 시각화 : 워드클라우드**"
      ],
      "metadata": {
        "id": "QfMyLGYHYB3-"
      }
    },
    {
      "cell_type": "code",
      "source": [
        "# word cloud 그리기\n",
        "# 해상도 설정 : width = 600, height = 400\n",
        "wordcloud = WordCloud(width = 600, height = 400).generate_from_frequencies(wordCount)\n",
        "\n",
        "plt.figure(figsize=(8,6)) # 그림 크기 조정 가로 8, 세로 6\n",
        "plt.imshow(wordcloud)      # 이미지 보여줄 준비\n",
        "plt.show()                 # 화면에 출력"
      ],
      "metadata": {
        "id": "qgNEWn5-YB3-",
        "trusted": true
      },
      "execution_count": null,
      "outputs": []
    },
    {
      "cell_type": "code",
      "source": [],
      "metadata": {
        "id": "hKjGpyZT3Qbb"
      },
      "execution_count": null,
      "outputs": []
    }
  ]
}