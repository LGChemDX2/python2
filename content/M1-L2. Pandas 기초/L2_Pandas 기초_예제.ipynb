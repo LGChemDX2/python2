{
  "metadata": {
    "colab": {
      "provenance": [],
      "toc_visible": true
    },
    "toc-autonumbering": false,
    "toc-showmarkdowntxt": false,
    "kernelspec": {
      "name": "python",
      "display_name": "Python (Pyodide)",
      "language": "python"
    },
    "language_info": {
      "codemirror_mode": {
        "name": "python",
        "version": 3
      },
      "file_extension": ".py",
      "mimetype": "text/x-python",
      "name": "python",
      "nbconvert_exporter": "python",
      "pygments_lexer": "ipython3",
      "version": "3.8"
    }
  },
  "nbformat_minor": 4,
  "nbformat": 4,
  "cells": [
    {
      "cell_type": "markdown",
      "source": "# **Lesson 2.Pandas 기초_예제**\n데이터 분석 초급 과정 2 (Python) > Module1. 데이터 분석을 위한 Python 라이브러리",
      "metadata": {
        "id": "mVOYUVwYNrob"
      }
    },
    {
      "cell_type": "markdown",
      "source": "----",
      "metadata": {
        "id": "JqgG1UZsXvsn"
      }
    },
    {
      "cell_type": "markdown",
      "source": "## **(1) Topic 1. Pandas 소개**",
      "metadata": {
        "id": "uwdjFYCiXLGH"
      }
    },
    {
      "cell_type": "markdown",
      "source": "### **1) Pandas 란?**",
      "metadata": {
        "id": "QrkCsl3OXvsn"
      }
    },
    {
      "cell_type": "markdown",
      "source": "* 라이브러리 로딩\n    * Pandas 라이브러리는 일반적으로 pd 별칭을 붙여 불러옵니다.",
      "metadata": {
        "id": "mGV9PndiTao3"
      }
    },
    {
      "cell_type": "code",
      "source": "import pandas as pd",
      "metadata": {
        "id": "HPNJ7Sp_S9sf"
      },
      "execution_count": null,
      "outputs": []
    },
    {
      "cell_type": "markdown",
      "source": "### **2) 데이터프레임과 시리즈**",
      "metadata": {
        "id": "lzAGQLLVTeG7"
      }
    },
    {
      "cell_type": "markdown",
      "source": "**① 데이터 불러오기**  \n* 이 부분은 다음 토픽에서 다룹니다. 여기서는 일단 실행을 합니다.",
      "metadata": {
        "id": "f5UUFNdCTlQV"
      }
    },
    {
      "cell_type": "code",
      "source": "path = 'air.csv'  # 제공된 데이터 로딩\nair = pd.read_csv(path)",
      "metadata": {
        "id": "ItAfOhWTTj7P"
      },
      "execution_count": null,
      "outputs": []
    },
    {
      "cell_type": "markdown",
      "source": "**② 데이터프레임(data frame)**  \n* 표 형태의 2차원 구조",
      "metadata": {
        "id": "LZsokcCMTwXp"
      }
    },
    {
      "cell_type": "code",
      "source": "air",
      "metadata": {
        "id": "ckmD3irnTyZK"
      },
      "execution_count": null,
      "outputs": []
    },
    {
      "cell_type": "markdown",
      "source": "**③ 시리즈(series)**  \n* 1차원 구조 : 데이터프레임에서 열(Column) 하나를 떼어내면 바로 **시리즈**\n* 데이터프레임에서 칼럼 하나를 조회하는 방법 : **dataframe['열이름']**",
      "metadata": {
        "id": "HdffMgPiUecZ"
      }
    },
    {
      "cell_type": "code",
      "source": "# 데이터프레임 air의 Solar.R 열 조\nair['Solar.R']",
      "metadata": {
        "id": "ewAMnXm4Ueca"
      },
      "execution_count": null,
      "outputs": []
    },
    {
      "cell_type": "markdown",
      "source": "## **(2) Topic 2. 데이터프레임 생성 및 탐색**",
      "metadata": {
        "id": "kyX1_LhsXvsr"
      }
    },
    {
      "cell_type": "markdown",
      "source": "\n### **1) 데이터프레임 생성**\n\n- 데이터프레임을 직접 생성할 수도 있고,\n- csv 파일에서 불러올 수도 있습니다.",
      "metadata": {
        "id": "XPklNj6HVqwF"
      }
    },
    {
      "cell_type": "markdown",
      "source": "**① 데이터프레임 직접 만들기**\n\n- **pd.DataFrame()** 함수를 사용해 데이터프레임을 직접 만들 수 있습니다.\n- 대부분 리스트, 딕셔너리, Numpy 배열로부터 데이터프레임을 만듭니다.",
      "metadata": {
        "id": "ETVUejBgIJNL"
      }
    },
    {
      "cell_type": "code",
      "source": "# 1. 딕셔너리 만들기\ndict1 = {'Name': ['Gildong', 'Sarang', 'Jiemae', 'Yeoin'],\n        'Level': ['Gold', 'Bronze', 'Silver', 'Gold'],\n        'Score': [56000, 23000, 44000, 52000]}\n\n# 확인\nprint(dict1)",
      "metadata": {
        "id": "6LkPm72OYnVU"
      },
      "execution_count": null,
      "outputs": []
    },
    {
      "cell_type": "code",
      "source": "# 2. 데이터프레임 만들기\ndf = pd.DataFrame(dict1)\n\n# 확인\ndf",
      "metadata": {
        "id": "zxpku5yMOW6u",
        "tags": []
      },
      "execution_count": null,
      "outputs": []
    },
    {
      "cell_type": "markdown",
      "source": "**② CSV파일 읽어오기**\n\n- 분석용 데이터는 대부분 파일에서 읽어 가져오니 잘 익혀야 할 기능입니다.\n- **read_csv()** 함수를 사용해서 CSV 파일에서 데이터를 읽어옵니다.",
      "metadata": {
        "id": "zGDF1AkjIJOX"
      }
    },
    {
      "cell_type": "code",
      "source": "path = 'air.csv'\nair = pd.read_csv(path)\n\n# 확인\nair",
      "metadata": {
        "id": "DIY8NYXGIJOZ"
      },
      "execution_count": null,
      "outputs": []
    },
    {
      "cell_type": "markdown",
      "source": "### **2) 데이터프레임 탐색**",
      "metadata": {
        "id": "vxMxUvQIVqwI"
      }
    },
    {
      "cell_type": "markdown",
      "source": "* **상위, 하위 몇개 정보 살펴보기**",
      "metadata": {
        "id": "U5qjQi8E1pw0"
      }
    },
    {
      "cell_type": "code",
      "source": "# 상위 5개\nair.head()",
      "metadata": {
        "id": "FxXWyFPyx3P-",
        "tags": []
      },
      "execution_count": null,
      "outputs": []
    },
    {
      "cell_type": "code",
      "source": "# 상위 3개\nair.head(3)",
      "metadata": {
        "id": "YsDEu4HmC954"
      },
      "execution_count": null,
      "outputs": []
    },
    {
      "cell_type": "code",
      "source": "# 하위 5개\nair.tail()",
      "metadata": {
        "id": "9MEHrJPCDCSt"
      },
      "execution_count": null,
      "outputs": []
    },
    {
      "cell_type": "code",
      "source": "# 하위 3개\nair.tail(3)",
      "metadata": {
        "id": "5zokVCRKDF_A"
      },
      "execution_count": null,
      "outputs": []
    },
    {
      "cell_type": "markdown",
      "source": "* **칼럼이름 조회**\n- 방법1 : df.columns\n- 방법2 : list(df)",
      "metadata": {
        "id": "zw4KciMAKINb"
      }
    },
    {
      "cell_type": "code",
      "source": "# 방법1 : df.columns\nair.columns",
      "metadata": {
        "id": "j3mxtpLRKINb"
      },
      "execution_count": null,
      "outputs": []
    },
    {
      "cell_type": "code",
      "source": "# 방법2 : list(df)\nlist(air)",
      "metadata": {
        "id": "ogQphfKpKS6u"
      },
      "execution_count": null,
      "outputs": []
    },
    {
      "cell_type": "markdown",
      "source": "* **형태(크기) 확인**\n    - shape 속성으로 데이터프레임의 형태를 확인합니다.",
      "metadata": {
        "id": "hDchV5CI1vX4"
      }
    },
    {
      "cell_type": "code",
      "source": "air.shape",
      "metadata": {
        "id": "_hQjcnXx1oZl"
      },
      "execution_count": null,
      "outputs": []
    },
    {
      "cell_type": "markdown",
      "source": "* **info()**",
      "metadata": {
        "id": "8jV7CzBY1yr_"
      }
    },
    {
      "cell_type": "code",
      "source": "air.info()",
      "metadata": {
        "id": "Y96maPXA1olN"
      },
      "execution_count": null,
      "outputs": []
    },
    {
      "cell_type": "markdown",
      "source": "* **정렬 조회**\n* df.sort_values(by = , ascending =)",
      "metadata": {
        "id": "jOjIFKuLGx9d"
      }
    },
    {
      "cell_type": "code",
      "source": "# 단일 열 기준 정렬\nair.sort_values(by = 'Ozone', ascending = False)",
      "metadata": {
        "id": "vltpLMhjGx9e"
      },
      "execution_count": null,
      "outputs": []
    },
    {
      "cell_type": "code",
      "source": "# 여러 열 기준 정렬\nair.sort_values(by = ['Ozone', 'Temp'], ascending = [False, True] )",
      "metadata": {
        "id": "hy-zj1XMJV9K"
      },
      "execution_count": null,
      "outputs": []
    },
    {
      "cell_type": "markdown",
      "source": "## **(3) Topic 3. 데이터프레임 조건 조회**",
      "metadata": {
        "id": "yYrHnGmuXvsv"
      }
    },
    {
      "cell_type": "markdown",
      "source": "### **1) 조건문**",
      "metadata": {
        "id": "Yi_NenuFXvsv",
        "tags": []
      }
    },
    {
      "cell_type": "markdown",
      "source": "* 특정 열 조회\n    * 1차원(시리즈)으로 조회 : 데이터프레임['칼럼']\n    * 2차원(데이터프레임)으로 조회 : 데이터프레임[['칼럼']]",
      "metadata": {
        "id": "oZUbVSPbhGCy"
      }
    },
    {
      "cell_type": "code",
      "source": "# 1차원(시리즈)으로 조회\nair['Temp']",
      "metadata": {
        "id": "jhHOzoOxXvsw"
      },
      "execution_count": null,
      "outputs": []
    },
    {
      "cell_type": "code",
      "source": "# 2차원(데이터프레임)으로 조회\nair[['Temp']]",
      "metadata": {
        "id": "w1FUqLVcT2cN"
      },
      "execution_count": null,
      "outputs": []
    },
    {
      "cell_type": "markdown",
      "source": "* 조건문\n    * 조건 연산자 : >, <, >=, <=, ==, !=",
      "metadata": {
        "id": "K7uJwaUnjFR9"
      }
    },
    {
      "cell_type": "code",
      "source": "air['Temp'] < 70",
      "metadata": {
        "id": "zlPXh5YMjFR_"
      },
      "execution_count": null,
      "outputs": []
    },
    {
      "cell_type": "markdown",
      "source": "### **2) 조건조회**",
      "metadata": {
        "id": "mPS_evXGtQma",
        "tags": []
      }
    },
    {
      "cell_type": "markdown",
      "source": "* 조건조회 : .loc[   ,   ]",
      "metadata": {
        "id": "vfJZeFgVlGx_"
      }
    },
    {
      "cell_type": "code",
      "source": "air.loc[air['Temp'] < 70, ['Ozone','Temp']]",
      "metadata": {
        "id": "682BM0a1jFR_"
      },
      "execution_count": null,
      "outputs": []
    },
    {
      "cell_type": "code",
      "source": "# 여러조건은 and로 연결\nair.loc[(air['Temp'] < 80) & (air['Ozone'] < 20)]",
      "metadata": {
        "id": "uaflSJwwn2jy"
      },
      "execution_count": null,
      "outputs": []
    },
    {
      "cell_type": "code",
      "source": "# 여러조건을 or로 연결\nair.loc[(air['Temp'] < 80) | (air['Ozone'] < 20)]",
      "metadata": {
        "id": "iw10XRIrn2hI"
      },
      "execution_count": null,
      "outputs": []
    },
    {
      "cell_type": "code",
      "source": "# 열 이름만 조회\nair.loc[:, ['Ozone', 'Temp']]",
      "metadata": {
        "id": "y19RQv-vn2eV"
      },
      "execution_count": null,
      "outputs": []
    },
    {
      "cell_type": "markdown",
      "source": "- **between(값1, 값2)**: 값1 ~ 값2까지 범위안의 데이터만 조회합니다.\n\n    * inclusive = 'both' (기본값)\n        * 'left', 'right', 'neither'",
      "metadata": {
        "id": "tEv4D7z_3kBn"
      }
    },
    {
      "cell_type": "code",
      "source": "air.loc[air['Temp'].between(70, 80)]",
      "metadata": {
        "id": "IvnE4lU12L2H"
      },
      "execution_count": null,
      "outputs": []
    },
    {
      "cell_type": "code",
      "source": "air.loc[air['Temp'].between(70, 80, inclusive = 'left')]",
      "metadata": {
        "id": "4XgIysu7p5VA"
      },
      "execution_count": null,
      "outputs": []
    },
    {
      "cell_type": "markdown",
      "source": "* isin()\n    - **isin([값1, 값2,..., 값n])**: 값1 또는 값2 또는...값n인 데이터만 조회합니다.\n    - 주의 isin(**리스트**) 값들을 리스트 형태로 입력해야 합니다.",
      "metadata": {
        "id": "uiFKTXgA2OLW"
      }
    },
    {
      "cell_type": "code",
      "source": "air.loc[ air['Temp'].isin([70, 80, 90])]",
      "metadata": {
        "id": "dSkW1YQQp5SH"
      },
      "execution_count": null,
      "outputs": []
    },
    {
      "cell_type": "code",
      "source": "",
      "metadata": {
        "id": "HlKJ1O4hp5Po"
      },
      "execution_count": null,
      "outputs": []
    },
    {
      "cell_type": "code",
      "source": "",
      "metadata": {
        "id": "BcOVOKuZp5NN"
      },
      "execution_count": null,
      "outputs": []
    },
    {
      "cell_type": "code",
      "source": "",
      "metadata": {
        "id": "fIP4uqkqp5LG"
      },
      "execution_count": null,
      "outputs": []
    },
    {
      "cell_type": "code",
      "source": "",
      "metadata": {
        "id": "i-TjCtczp5Hr"
      },
      "execution_count": null,
      "outputs": []
    },
    {
      "cell_type": "markdown",
      "source": "## **(4) Topic 4. 데이터프레임 집계**\n\n- 상세 데이터가 아닌 집계된 데이터에 대한 분석을 자주 요구하니 익숙해져야 할 내용입니다.\n- sum(), mean(), max(), min(), count() 메서드를 사용해 지정한 열 또는 열들을 기준으로 집계합니다.\n- 평균을 구하는 메서드가 avg()가 아닌 mean() 임을 주의하기 바랍니다.",
      "metadata": {
        "id": "hElggTFXYnWj"
      }
    },
    {
      "cell_type": "code",
      "source": "# 데이터 읽어오기\npath = 'titanic.csv'\ntitanic = pd.read_csv(path)\n\n# 상위 5개 확인\ntitanic.head(5)",
      "metadata": {
        "id": "hbf9ziXivEwi"
      },
      "execution_count": null,
      "outputs": []
    },
    {
      "cell_type": "markdown",
      "source": "### **1) 집계함수**\n\n- 특정 값의 평균은 다음과 같이 구할 수 있습니다.",
      "metadata": {
        "id": "o-uh09tLEIov"
      }
    },
    {
      "cell_type": "code",
      "source": "titanic['Age'].mean()",
      "metadata": {
        "id": "5G3GjCHBuvmo"
      },
      "execution_count": null,
      "outputs": []
    },
    {
      "cell_type": "code",
      "source": "titanic[['Age', 'Fare']].mean()",
      "metadata": {
        "id": "grqU4RY1uzrk"
      },
      "execution_count": null,
      "outputs": []
    },
    {
      "cell_type": "markdown",
      "source": "### **2) 열 기준 집계(group by)**\n\n* df.groupby( ‘기준칼럼’, as_index = )[‘집계칼럼’].집계함수\n    * 기준칼럼 :\n        * ‘~~별’ 에 해당되는 변수 혹은 리스트\n        * 예: 월 별, 지역 별 등\n    * 집계칼럼\n        * 집계함수로 집계할 변수 혹은 리스트. (예 : 매출액 합계 )\n    * as_index = False\n        * 기준칼럼을 인덱스로 사용할 것인가?\n        * 우리는 False로 지정 ==> 인덱스가 아니라 칼럼으로 지정\n\n",
      "metadata": {
        "id": "KVxqg_X_B9sy"
      }
    },
    {
      "cell_type": "code",
      "source": "titanic.groupby('Sex', as_index=False)['Age'].mean()",
      "metadata": {
        "id": "BJzZz0mWBVxR"
      },
      "execution_count": null,
      "outputs": []
    },
    {
      "cell_type": "markdown",
      "source": "- [['data']].sum()과 같이 하면 열이 여럿이라는 의미여서 결과가 **데이터프레임**이 됩니다.",
      "metadata": {
        "id": "9yMNSptEDLJx"
      }
    },
    {
      "cell_type": "code",
      "source": "titanic.groupby(['Pclass','Sex'], as_index=False)[['Age','Fare']].mean()",
      "metadata": {
        "id": "q6NqdqIvDLJ0"
      },
      "execution_count": null,
      "outputs": []
    }
  ]
}