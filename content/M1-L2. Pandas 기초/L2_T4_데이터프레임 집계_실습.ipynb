{
  "cells": [
    {
      "cell_type": "markdown",
      "metadata": {
        "id": "mVOYUVwYNrob"
      },
      "source": [
        "# **Topic 4. 데이터프레임 집계_실습**"
      ]
    },
    {
      "cell_type": "markdown",
      "source": [
        "## **(1) 환경준비**"
      ],
      "metadata": {
        "id": "q_PDYJQF-r9i"
      }
    },
    {
      "cell_type": "markdown",
      "source": [
        "* 라이브러리 로딩"
      ],
      "metadata": {
        "id": "Xsmk5erF-vLZ"
      }
    },
    {
      "cell_type": "code",
      "execution_count": null,
      "metadata": {
        "id": "5wESq357-vLZ"
      },
      "outputs": [],
      "source": [
        "import pandas as pd"
      ]
    },
    {
      "cell_type": "markdown",
      "source": [
        "* 데이터 준비"
      ],
      "metadata": {
        "id": "bSjEB5oz-xja"
      }
    },
    {
      "cell_type": "code",
      "source": [
        "data = pd.read_csv('boston.csv')\n",
        "data['medv_group'] = pd.cut(data['medv'], bins = [0, 20, 35, 50], labels = ['low','medium','high'])\n",
        "data.head()"
      ],
      "metadata": {
        "id": "soY1hNBl-z6A"
      },
      "execution_count": null,
      "outputs": []
    },
    {
      "cell_type": "markdown",
      "source": [
        "|\t변수\t|\t설명\t|\n",
        "|----|----|\n",
        "|\tmedv\t|\t타운별 집값(중위수)\t|\n",
        "|\tmedv_group\t|\t타운별 집값 그룹('low','medium','high')\t|\n",
        "|\tcrim\t|\t범죄율\t|\n",
        "|\tzn2\t|\t25,000 평방피트를 초과 거주지역 비율 (범주: 0-하, 1-중, 2-상)\t|\n",
        "|\tindus\t|\t비소매상업지역 면적 비율\t|\n",
        "|\tchas\t|\t찰스강변 위치(범주 : 강변1, 아니면 0)\t|\n",
        "|\tnox\t|\t일산화질소 농도\t|\n",
        "|\trm\t|\t주택당 방 수\t|\n",
        "|\tage\t|\t1940년 이전에 건축된 주택의 비율\t|\n",
        "|\tdis\t|\t직업센터의 거리\t|\n",
        "|\trad\t|\t방사형 고속도로까지의 거리\t|\n",
        "|\ttax\t|\t재산세율\t|\n",
        "|\tptratio\t|\t학생/교사 비율\t|\n",
        "|\tlstat\t|\t인구 중 하위 계층 비율\t|\n"
      ],
      "metadata": {
        "id": "W07fwF8zeix4"
      }
    },
    {
      "cell_type": "markdown",
      "metadata": {
        "id": "jtOUt7kVWs9D"
      },
      "source": [
        "## **(2) 실습1 : 집계함수**\n",
        "\n",
        "* ① 집값(medv)의 평균을 구하시오.\n",
        "* ② 주택당 방수(rm)과 범죄율(crim)의 최댓값을 구하시오."
      ]
    },
    {
      "cell_type": "markdown",
      "source": [
        "① 집값(medv)의 평균을 구하시오."
      ],
      "metadata": {
        "id": "KRln0NL_8lRF"
      }
    },
    {
      "cell_type": "code",
      "execution_count": null,
      "metadata": {
        "id": "1xqiuyahWs9E"
      },
      "outputs": [],
      "source": [
        "data[    ].m"
      ]
    },
    {
      "cell_type": "markdown",
      "source": [
        "② 주택당 방수(rm)과 범죄율(crim)의 최댓값을 구하시오."
      ],
      "metadata": {
        "id": "KTiD22ZP8oZB"
      }
    },
    {
      "cell_type": "code",
      "source": [
        "data[[    ]].m"
      ],
      "metadata": {
        "id": "560DerZ112_h"
      },
      "execution_count": null,
      "outputs": []
    },
    {
      "cell_type": "markdown",
      "metadata": {
        "tags": [],
        "id": "KH0k96uzXvsk"
      },
      "source": [
        "## **(3) 실습2 : 열 기준 집계(group by)**\n",
        "\n",
        "* ① 집값 그룹(medv_group) 별 범죄율(crim)의 평균을 조회하시오.\n",
        "* ② 집값 그룹(medv_group) 별 교사1명당 학생수(ptratio)의 최솟값을 조회하시오.\n",
        "* ③ 집값 그룹(medv_group) 별, 찰스강변여부(chas) 별 하위계층비율(lstat)의 평균값을 조회하시오.\n",
        "* ④ 고속도로와 거리(rad)가 5 이내인 타운에 대해서, 집값 그룹(medv_group) 별, 방 수(rm)의 평균값을 조회하시오."
      ]
    },
    {
      "cell_type": "markdown",
      "source": [
        "① 집값 그룹(medv_group) 별 범죄율(crim)의 평균을 조회하시오."
      ],
      "metadata": {
        "id": "r-S_C49I9Ncq"
      }
    },
    {
      "cell_type": "code",
      "execution_count": null,
      "metadata": {
        "id": "8oPLTJEwXvsm"
      },
      "outputs": [],
      "source": [
        "data.g    (   , as_index = False)[    ].m"
      ]
    },
    {
      "cell_type": "markdown",
      "source": [
        "② 집값 그룹(medv_group) 별 교사1명당 학생수(ptratio)의 최솟값을 조회하시오.\n"
      ],
      "metadata": {
        "id": "vTM-aCiQBuRN"
      }
    },
    {
      "cell_type": "code",
      "execution_count": null,
      "metadata": {
        "id": "OwjMl_JDBuRO"
      },
      "outputs": [],
      "source": [
        "data.    (   , as_index = False)[   ]."
      ]
    },
    {
      "cell_type": "markdown",
      "source": [
        "③ 집값 그룹(medv_group) 별, 찰스강변여부(chas) 별 하위계층비율(lstat)의 평균값을 조회하시오."
      ],
      "metadata": {
        "id": "xrcCCAwzB1Wv"
      }
    },
    {
      "cell_type": "code",
      "execution_count": null,
      "metadata": {
        "id": "EYrz8V3kB1Wv"
      },
      "outputs": [],
      "source": [
        "data.    (   , as_index = False)[   ]."
      ]
    },
    {
      "cell_type": "markdown",
      "source": [
        "④ 고속도로와 거리(rad)가 5 이내인 타운에 대해서, 집값 그룹(medv_group) 별, 방 수(rm)의 평균값을 조회하시오."
      ],
      "metadata": {
        "id": "O2YaW1rrGHot"
      }
    },
    {
      "cell_type": "code",
      "source": [
        "data.loc[data['rad']   5].g   (   , as_index = False)[   ]."
      ],
      "metadata": {
        "id": "_Ah3mYVmGHfY"
      },
      "execution_count": null,
      "outputs": []
    },
    {
      "cell_type": "code",
      "source": [],
      "metadata": {
        "id": "jj4RRcRdGKxZ"
      },
      "execution_count": null,
      "outputs": []
    }
  ],
  "metadata": {
    "colab": {
      "provenance": [],
      "toc_visible": true
    },
    "kernelspec": {
      "display_name": "Python 3 (ipykernel)",
      "language": "python",
      "name": "python3"
    },
    "language_info": {
      "codemirror_mode": {
        "name": "ipython",
        "version": 3
      },
      "file_extension": ".py",
      "mimetype": "text/x-python",
      "name": "python",
      "nbconvert_exporter": "python",
      "pygments_lexer": "ipython3",
      "version": "3.10.9"
    },
    "toc-autonumbering": false,
    "toc-showmarkdowntxt": false
  },
  "nbformat": 4,
  "nbformat_minor": 0
}