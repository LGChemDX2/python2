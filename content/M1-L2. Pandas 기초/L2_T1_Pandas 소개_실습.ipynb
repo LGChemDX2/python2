{
  "cells": [
    {
      "cell_type": "markdown",
      "metadata": {
        "id": "mVOYUVwYNrob"
      },
      "source": [
        "# **Topic 1. Pandas 소개_실습**"
      ]
    },
    {
      "cell_type": "markdown",
      "metadata": {
        "id": "jtOUt7kVWs9D"
      },
      "source": [
        "## **(1) 실습1 : 라이브러리 불러오기**\n",
        "\n",
        "* ① Pandas 라이브러리를 불러옵니다.\n",
        "    * 별칭은 pd로 지정\n",
        "* ② Pandas 로 부터 함수 DataFrame 을 불러옵니다."
      ]
    },
    {
      "cell_type": "code",
      "execution_count": null,
      "metadata": {
        "id": "1xqiuyahWs9E"
      },
      "outputs": [],
      "source": [
        "import      as"
      ]
    },
    {
      "cell_type": "code",
      "source": [
        "from      import"
      ],
      "metadata": {
        "id": "560DerZ112_h"
      },
      "execution_count": null,
      "outputs": []
    },
    {
      "cell_type": "markdown",
      "metadata": {
        "tags": [],
        "id": "KH0k96uzXvsk"
      },
      "source": [
        "## **(2) 실습2 : 데이터프레임 둘러보기**"
      ]
    },
    {
      "cell_type": "markdown",
      "metadata": {
        "tags": [],
        "id": "TeEzScRuXvsm"
      },
      "source": [
        "* **air quality 데이터셋**\n",
        "    * 1973 뉴욕의 공기 오염도 측정 데이터\n",
        "\n",
        "|\t변수명\t|\t설명\t|\t구분\t|\n",
        "|----|----|----|\n",
        "|\tOzone \t|\t 오존농도\t|\tTarget\t|\n",
        "|\tSolar.R \t|\t태양복사열\t|\tfeature\t|\n",
        "|\tWind \t|\t 바람세기\t|\tfeature\t|\n",
        "|\tTemp \t|\t 온도(화씨)\t|\tfeature\t|\n",
        "|\tDate \t|\t yyyy-mm-dd\t|\tfeature\t|"
      ]
    },
    {
      "cell_type": "code",
      "execution_count": null,
      "metadata": {
        "id": "8oPLTJEwXvsm"
      },
      "outputs": [],
      "source": [
        "# 제공된 데이터 파일을 air로 저장합시다.\n",
        "air = pd.    (   )"
      ]
    },
    {
      "cell_type": "markdown",
      "metadata": {
        "id": "1UABhuth2krW"
      },
      "source": [
        "* **아래 코드를 실행한 후 다음을 설명해 봅시다.**"
      ]
    },
    {
      "cell_type": "code",
      "execution_count": null,
      "metadata": {
        "id": "1FglpLd32krW"
      },
      "outputs": [],
      "source": [
        "air.head()"
      ]
    },
    {
      "cell_type": "markdown",
      "source": [
        "* 열 이름을 적어 봅시다.\n",
        "\n"
      ],
      "metadata": {
        "id": "CjCje52HeYEo"
      }
    },
    {
      "cell_type": "code",
      "source": [
        "# 열 이름을 적어 봅시다.\n"
      ],
      "metadata": {
        "id": "gtk6BDGnUbO7"
      },
      "execution_count": null,
      "outputs": []
    },
    {
      "cell_type": "code",
      "source": [
        "# 행 의미는 무엇인가요?\n"
      ],
      "metadata": {
        "id": "EscKEEmJUdlZ"
      },
      "execution_count": null,
      "outputs": []
    }
  ],
  "metadata": {
    "colab": {
      "provenance": [],
      "toc_visible": true
    },
    "kernelspec": {
      "display_name": "Python 3 (ipykernel)",
      "language": "python",
      "name": "python3"
    },
    "language_info": {
      "codemirror_mode": {
        "name": "ipython",
        "version": 3
      },
      "file_extension": ".py",
      "mimetype": "text/x-python",
      "name": "python",
      "nbconvert_exporter": "python",
      "pygments_lexer": "ipython3",
      "version": "3.10.9"
    },
    "toc-autonumbering": false,
    "toc-showmarkdowntxt": false
  },
  "nbformat": 4,
  "nbformat_minor": 0
}