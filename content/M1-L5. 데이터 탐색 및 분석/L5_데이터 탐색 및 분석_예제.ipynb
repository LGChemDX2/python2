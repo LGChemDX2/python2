{
  "metadata": {
    "kernelspec": {
      "name": "python",
      "display_name": "Python (Pyodide)",
      "language": "python"
    },
    "language_info": {
      "codemirror_mode": {
        "name": "python",
        "version": 3
      },
      "file_extension": ".py",
      "mimetype": "text/x-python",
      "name": "python",
      "nbconvert_exporter": "python",
      "pygments_lexer": "ipython3",
      "version": "3.8"
    },
    "colab": {
      "collapsed_sections": [
        "XPklNj6HVqwF"
      ],
      "provenance": [],
      "toc_visible": true
    },
    "toc-autonumbering": false,
    "toc-showmarkdowntxt": false
  },
  "nbformat_minor": 4,
  "nbformat": 4,
  "cells": [
    {
      "cell_type": "markdown",
      "source": "# **Lesson 5. 데이터 탐색과 분석_예제**",
      "metadata": {
        "id": "mVOYUVwYNrob"
      }
    },
    {
      "cell_type": "markdown",
      "source": "## **(1) 환경준비**",
      "metadata": {
        "id": "nm01F0E7V274",
        "tags": []
      }
    },
    {
      "cell_type": "markdown",
      "source": "### 1) 라이브러리 불러오기",
      "metadata": {
        "id": "Uj2_4_07WDpA"
      }
    },
    {
      "cell_type": "code",
      "source": "# jupyter lite에서 패키지 설치\nimport piplite\nawait piplite.install(\"seaborn\")",
      "metadata": {
        "id": "IP2o_A93bznA"
      },
      "outputs": [],
      "execution_count": null
    },
    {
      "cell_type": "code",
      "source": "import pandas as pd\nimport numpy as np\nimport matplotlib.pyplot as plt\nimport seaborn as sns\n\n# mosaic plot\nfrom statsmodels.graphics.mosaicplot import mosaic",
      "metadata": {
        "id": "j-ggcuejWF7F"
      },
      "outputs": [],
      "execution_count": null
    },
    {
      "cell_type": "markdown",
      "source": "### 2) 데이터 불러오기",
      "metadata": {
        "id": "nT8jaWQoWJvI"
      }
    },
    {
      "cell_type": "markdown",
      "source": "* **[air quality 데이터 셋 정보]**",
      "metadata": {
        "id": "DVjmaTaibznC"
      }
    },
    {
      "cell_type": "markdown",
      "source": "|\t변수\t|\t설명\t|\n|----|----|\n|Ozone| 오존 농도 |\n|Solar.R| 태양복사량|\n|Wind| 풍속|\n|Temp| 기온|\n|Date| 연,월,일|",
      "metadata": {
        "id": "AKfZSXkZ7nq6"
      }
    },
    {
      "cell_type": "code",
      "source": "air = pd.read_csv('air.csv')\nair['Date'] = pd.to_datetime(air['Date']) # 날짜 타입으로 변환\nair.dropna(axis = 0, inplace = True) #\nair.head()",
      "metadata": {
        "id": "5bYePZL-45qo"
      },
      "outputs": [],
      "execution_count": null
    },
    {
      "cell_type": "markdown",
      "source": "* **[titanic 데이터 셋 정보]**",
      "metadata": {
        "tags": [],
        "id": "4qU36yEvbznD"
      }
    },
    {
      "cell_type": "markdown",
      "source": "|\t변수\t|\t설명\t|\t값 설명\t|\n|----|----|----|\n|\t**PassengerId**\t|\t승객ID\t|\t일련번호\t|\n|\t**Survived**\t|\t생존여부\t|\t0 - 사망, 1- 생존\t|\n|\t**Pclass**\t|\tTicket class\t|\t1 = 1st, 2 = 2nd, 3 = 3rd\t|\n|\t**Name**\t|\t탑승객 이름\t|\t\t|\n|\t**Sex**\t|\t성별\t|\t\t|\n|\t**Age**\t|\t연령\t|\t\t|\n|\t**Fare**\t|\t운임\t|\t\t|\n|\t**Embarked**\t|\t승선지\t|\tC = Cherbourg, Q = Queenstown, S = Southampton\t|\n",
      "metadata": {
        "id": "WK5N_3z9bznD"
      }
    },
    {
      "cell_type": "code",
      "source": "titanic = pd.read_csv('titanic.csv')\ntitanic.dropna(inplace = True)\ntitanic.head()",
      "metadata": {
        "id": "0B8z2exsbznE"
      },
      "outputs": [],
      "execution_count": null
    },
    {
      "cell_type": "markdown",
      "source": "----",
      "metadata": {
        "id": "JqgG1UZsXvsn"
      }
    },
    {
      "cell_type": "markdown",
      "source": "## **(2) Topic 1. 하나의 정보 탐색하기**",
      "metadata": {
        "id": "uwdjFYCiXLGH"
      }
    },
    {
      "cell_type": "markdown",
      "source": "### **1) 수치형 정보 분석하기**",
      "metadata": {
        "id": "QrkCsl3OXvsn",
        "tags": []
      }
    },
    {
      "cell_type": "markdown",
      "source": "* ①기초 통계량",
      "metadata": {
        "id": "mGV9PndiTao3"
      }
    },
    {
      "cell_type": "code",
      "source": "# 평균\ntitanic['Fare'].mean()",
      "metadata": {
        "id": "HPNJ7Sp_S9sf"
      },
      "outputs": [],
      "execution_count": null
    },
    {
      "cell_type": "code",
      "source": "# 중앙값\ntitanic['Fare'].median()",
      "metadata": {
        "id": "nSIWO6_sbznF"
      },
      "outputs": [],
      "execution_count": null
    },
    {
      "cell_type": "code",
      "source": "# 최빈값\ntitanic['Pclass'].mode()",
      "metadata": {
        "id": "eAirEa5SbznF"
      },
      "outputs": [],
      "execution_count": null
    },
    {
      "cell_type": "markdown",
      "source": "* ② 기초 통계량 한꺼번에 조회 : .describe()",
      "metadata": {
        "id": "96i4bUzTT-pv"
      }
    },
    {
      "cell_type": "code",
      "source": "titanic.describe()",
      "metadata": {
        "id": "fcl174mmT-qG"
      },
      "outputs": [],
      "execution_count": null
    },
    {
      "cell_type": "markdown",
      "source": "* ③ 시각화1 : 히스토그램(histogram)",
      "metadata": {
        "id": "DamPTrK7bznG"
      }
    },
    {
      "cell_type": "code",
      "source": "plt.hist(titanic['Fare'], bins = 30,edgecolor = 'gray')\nplt.grid()\nplt.show()",
      "metadata": {
        "id": "DHcY7a5UbznG"
      },
      "outputs": [],
      "execution_count": null
    },
    {
      "cell_type": "markdown",
      "source": "* ④ 시각화2 : 밀도함수 그래프(kde plot)",
      "metadata": {
        "id": "xbQjnP5sbznG"
      }
    },
    {
      "cell_type": "code",
      "source": "sns.kdeplot(titanic['Fare'])\nplt.grid()\nplt.show()",
      "metadata": {
        "id": "y8eJv8mHbznG"
      },
      "outputs": [],
      "execution_count": null
    },
    {
      "cell_type": "markdown",
      "source": "* ⑤ 시각화3 : 박스 플롯(box plot)",
      "metadata": {
        "id": "l_DcXiBSbznG"
      }
    },
    {
      "cell_type": "code",
      "source": "plt.figure(figsize = (8, 3))\nplt.subplot(1,2,1)\nplt.boxplot(titanic['Fare'])\nplt.grid()\n\nplt.subplot(1,2,2)\nplt.boxplot(titanic['Fare'], vert = False)\nplt.grid()\n\n\nplt.show()",
      "metadata": {
        "id": "H9cPqbDkbznG"
      },
      "outputs": [],
      "execution_count": null
    },
    {
      "cell_type": "markdown",
      "source": "### **2) 범주형 정보 분석하기**",
      "metadata": {
        "tags": [],
        "id": "owNNbvNtbznH"
      }
    },
    {
      "cell_type": "markdown",
      "source": "* ① 기초 통계량",
      "metadata": {
        "id": "Vn92fYiTbznH"
      }
    },
    {
      "cell_type": "code",
      "source": "# 범주별 빈도수\ntitanic['Embarked'].value_counts()",
      "metadata": {
        "id": "9IbXRlR6bznH"
      },
      "outputs": [],
      "execution_count": null
    },
    {
      "cell_type": "code",
      "source": "# 범주별 비율\ntitanic['Embarked'].value_counts(normalize = True)",
      "metadata": {
        "id": "38vmcqXMbznH"
      },
      "outputs": [],
      "execution_count": null
    },
    {
      "cell_type": "markdown",
      "source": "* ② 시각화1 : 막대 그래프",
      "metadata": {
        "id": "9sNvJrt8bznH"
      }
    },
    {
      "cell_type": "code",
      "source": "# 범주별 빈도수 - 막대 그래프\nsns.countplot(x = 'Embarked', data = titanic)\nplt.grid()\nplt.show()",
      "metadata": {
        "id": "AGoWXNkxbznH"
      },
      "outputs": [],
      "execution_count": null
    },
    {
      "cell_type": "markdown",
      "source": "* ③ 시각화2 : 파이 차트",
      "metadata": {
        "id": "rr346APTbznH"
      }
    },
    {
      "cell_type": "code",
      "source": "# 범주별 비율 - 파이 차트\n\n# 1) 먼저 집계\ntemp = titanic['Embarked'].value_counts()\n\n# 2) 파이 차트\nplt.pie(temp.values, labels = temp.index, autopct = '%.2f%%')\nplt.show()",
      "metadata": {
        "id": "C-nD-11TbznI"
      },
      "outputs": [],
      "execution_count": null
    },
    {
      "cell_type": "markdown",
      "source": "## **(3) Topic 2. 두 정보 비교하기**",
      "metadata": {
        "id": "kyX1_LhsXvsr"
      }
    },
    {
      "cell_type": "code",
      "source": "",
      "metadata": {
        "id": "UlqX9qFTfOoJ"
      },
      "outputs": [],
      "execution_count": null
    },
    {
      "cell_type": "markdown",
      "source": "### **1) 수치형 vs 수치형**",
      "metadata": {
        "id": "XPklNj6HVqwF"
      }
    },
    {
      "cell_type": "markdown",
      "source": "* **① 산점도**",
      "metadata": {
        "id": "YbcG6POAXDsM"
      }
    },
    {
      "cell_type": "code",
      "source": "plt.scatter(x= 'Temp', y = 'Ozone', data = air)\nplt.grid()\nplt.show()",
      "metadata": {
        "id": "DhZz67UbUxOA"
      },
      "outputs": [],
      "execution_count": null
    },
    {
      "cell_type": "code",
      "source": "sns.scatterplot(x= 'Temp', y = 'Ozone', data = air)\nplt.grid()\nplt.show()",
      "metadata": {
        "id": "rRf8djKyfgeG"
      },
      "outputs": [],
      "execution_count": null
    },
    {
      "cell_type": "markdown",
      "source": "* **② 상관분석(상관계수 비교)**",
      "metadata": {
        "id": "Bro5QrG8XCxJ"
      }
    },
    {
      "cell_type": "code",
      "source": "air.corr()\n\n#[안내] warning 메시지는 향후 버전에서 기본값이 'False'가 된다는 내용으로 무시하셔도 좋습니다.\n#경고 메시지를 없애려면 numeric_only 매개변수를 True나 False로 지정하면 됩니다.",
      "metadata": {
        "id": "UGyTvp0UXMIY"
      },
      "outputs": [],
      "execution_count": null
    },
    {
      "cell_type": "markdown",
      "source": "### **2) 범주형 vs 범주형**",
      "metadata": {
        "id": "EgZjRretYB3q"
      }
    },
    {
      "cell_type": "markdown",
      "source": "* **① 교차표(pd.crosstab)**",
      "metadata": {
        "id": "gX83ybZiYB39"
      }
    },
    {
      "cell_type": "code",
      "source": "# 교차표1 : count\npd.crosstab(titanic['Survived'], titanic['Sex'])",
      "metadata": {
        "id": "YgXlqUofYB39"
      },
      "outputs": [],
      "execution_count": null
    },
    {
      "cell_type": "code",
      "source": "# 교차표2 : normalize(비율)\npd.crosstab(titanic['Survived'], titanic['Sex'], normalize = 'columns')",
      "metadata": {
        "id": "NlKx_Eh_bznM"
      },
      "outputs": [],
      "execution_count": null
    },
    {
      "cell_type": "markdown",
      "source": "* **② 시각화 : 모자익플롯**",
      "metadata": {
        "id": "QfMyLGYHYB3-"
      }
    },
    {
      "cell_type": "code",
      "source": "# 모자익플롯\nmosaic(titanic, ['Sex', 'Survived'])\n\n# 전체 평균선 추가\nplt.axhline(1-titanic['Survived'].mean(), color = 'red')\nplt.show()",
      "metadata": {
        "id": "qgNEWn5-YB3-"
      },
      "outputs": [],
      "execution_count": null
    },
    {
      "cell_type": "markdown",
      "source": "### **3) 수치형 vs 범주형**",
      "metadata": {
        "id": "PKRE-zK8Y5B7"
      }
    },
    {
      "cell_type": "markdown",
      "source": "* **① 시각화 : 평균 비교 막대 그래프**",
      "metadata": {
        "id": "VMcqGhMiY5Ci"
      }
    },
    {
      "cell_type": "code",
      "source": "sns.barplot(x = 'Survived', y = 'Age', data = titanic)\nplt.grid()\nplt.show()",
      "metadata": {
        "id": "W_sZqmS5Y5Ci"
      },
      "outputs": [],
      "execution_count": null
    }
  ]
}