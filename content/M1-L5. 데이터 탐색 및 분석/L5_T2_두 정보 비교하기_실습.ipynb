{
  "metadata": {
    "colab": {
      "provenance": []
    },
    "toc-autonumbering": false,
    "toc-showmarkdowntxt": false,
    "kernelspec": {
      "name": "python",
      "display_name": "Python (Pyodide)",
      "language": "python"
    },
    "language_info": {
      "codemirror_mode": {
        "name": "ipython",
        "version": 3
      },
      "file_extension": ".py",
      "mimetype": "text/x-python",
      "name": "python",
      "nbconvert_exporter": "python",
      "pygments_lexer": "ipython3",
      "version": "3.9.13"
    }
  },
  "nbformat_minor": 4,
  "nbformat": 4,
  "cells": [
    {
      "cell_type": "markdown",
      "source": "# **Topic 2. 두 정보 비교하기_실습**",
      "metadata": {
        "id": "mVOYUVwYNrob"
      }
    },
    {
      "cell_type": "markdown",
      "source": "## **(1) 환경준비**",
      "metadata": {
        "id": "jtOUt7kVWs9D"
      }
    },
    {
      "cell_type": "markdown",
      "source": "### 1) 라이브러리 불러오기",
      "metadata": {
        "id": "Uj2_4_07WDpA"
      }
    },
    {
      "cell_type": "code",
      "source": "# jupyter lite에서 패키지 설치\nimport piplite\nawait piplite.install(\"seaborn\")",
      "metadata": {
        "id": "D_HwjLlBv6v4"
      },
      "execution_count": null,
      "outputs": []
    },
    {
      "cell_type": "code",
      "source": "import pandas as pd\nimport numpy as np\nimport matplotlib.pyplot as plt\nimport seaborn as sns\n\n# mosaic plot\nfrom statsmodels.graphics.mosaicplot import mosaic",
      "metadata": {
        "id": "j-ggcuejWF7F"
      },
      "execution_count": null,
      "outputs": []
    },
    {
      "cell_type": "markdown",
      "source": "### 2) 데이터 불러오기",
      "metadata": {
        "id": "nT8jaWQoWJvI"
      }
    },
    {
      "cell_type": "markdown",
      "source": "* 데이터 설명\n|칼럼명|설명|타입|\n|----|----|----|\n|total_bill|총금액|수치형|\n|tip|팁|수치형|\n|gender|성별|범주형|\n|smoke|흡연여부|범주형|\n|day|요일|범주형|\n|time|식사구분|범주형|\n|size|식사인원|수치형|\n\n",
      "metadata": {
        "id": "lmx2Z0mqv6v6"
      }
    },
    {
      "cell_type": "code",
      "source": "data = pd.read_csv('tips2.csv')\ndata.head()",
      "metadata": {
        "id": "YBqcYRwm81NU"
      },
      "execution_count": null,
      "outputs": []
    },
    {
      "cell_type": "markdown",
      "source": "## **(2) 실습1 : 수치형 vs 수치형**\n\n* ① total_bill과 tip에 대해 산점도를 그리고 관계를 살펴봅시다.\n* ② data에는 수치형 변수에 대해 상관계수를 구하고 가장 강한 상관관계를 찾아 봅시다.",
      "metadata": {
        "id": "KH0k96uzXvsk",
        "tags": []
      }
    },
    {
      "cell_type": "markdown",
      "source": "① total_bill과 tip에 대해 산점도를 그리고 관계를 살펴봅시다.",
      "metadata": {
        "id": "r-S_C49I9Ncq"
      }
    },
    {
      "cell_type": "code",
      "source": "sns.s    plot(x = , y= , data = data)\nplt.grid()\nplt.show()",
      "metadata": {
        "id": "6EMp5vcAv6v8"
      },
      "execution_count": null,
      "outputs": []
    },
    {
      "cell_type": "markdown",
      "source": "관계를 설명해 봅시다.",
      "metadata": {
        "id": "i-XMPwj7v6v8"
      }
    },
    {
      "cell_type": "code",
      "source": "",
      "metadata": {
        "id": "hlEu4uAFv6v8"
      },
      "execution_count": null,
      "outputs": []
    },
    {
      "cell_type": "markdown",
      "source": "② data에는 수치형 변수에 대해 상관계수를 구하고 가장 강한 상관관계를 찾아 봅시다.",
      "metadata": {
        "id": "O9jbhToSv6v8",
        "tags": []
      }
    },
    {
      "cell_type": "code",
      "source": "data.c",
      "metadata": {
        "id": "8oPLTJEwXvsm"
      },
      "execution_count": null,
      "outputs": []
    },
    {
      "cell_type": "code",
      "source": "",
      "metadata": {
        "id": "EruUhEKnv6v9"
      },
      "execution_count": null,
      "outputs": []
    },
    {
      "cell_type": "markdown",
      "source": "## **(3) 실습2 : 범주형 vs 범주형**\n\ngender와 time에 대해\n* ① 교차표를 만들어 봅시다.\n* ② 모자익플롯을 그려 봅시다.",
      "metadata": {
        "id": "g5r_tLzSv6v9",
        "tags": []
      }
    },
    {
      "cell_type": "markdown",
      "source": "① 교차표를 만들어 봅시다.\n",
      "metadata": {
        "id": "8FgUkYNIv6v9"
      }
    },
    {
      "cell_type": "code",
      "source": "# 전체 count\npd.c (data[ ], data[ ])",
      "metadata": {
        "id": "N9eU8VDnv6v9"
      },
      "execution_count": null,
      "outputs": []
    },
    {
      "cell_type": "code",
      "source": "# 칼럼기준 비율\npd.c (data[ ], data[ ], normalize  = 'columns')",
      "metadata": {
        "id": "gJEEFKF49r3X"
      },
      "execution_count": null,
      "outputs": []
    },
    {
      "cell_type": "markdown",
      "source": "② 모자익플롯을 그려 봅시다.",
      "metadata": {
        "id": "KNmS_YRNv6v9"
      }
    },
    {
      "cell_type": "code",
      "source": "mosaic(data, [  ,  ])\nplt.show()",
      "metadata": {
        "id": "sj_BfHWUv6v9"
      },
      "execution_count": null,
      "outputs": []
    },
    {
      "cell_type": "markdown",
      "source": "* 비즈니스를 파악해 봅시다.",
      "metadata": {
        "id": "_0iJWlksv6v9"
      }
    },
    {
      "cell_type": "code",
      "source": "",
      "metadata": {
        "id": "nHMysHGNv6v-"
      },
      "execution_count": null,
      "outputs": []
    },
    {
      "cell_type": "markdown",
      "source": "## **(4) 실습3 : 수치형 vs 범주형**\n\n* day(요일)과 tip에 대해 평균 비교 막대 그래프로 비교해 봅시다.",
      "metadata": {
        "id": "Ws6fzoDev6v-",
        "tags": []
      }
    },
    {
      "cell_type": "code",
      "source": "sns.b (x= , y =  , data = data)\nplt.grid()\nplt.show()",
      "metadata": {
        "id": "ht5wB4fsv6v-"
      },
      "execution_count": null,
      "outputs": []
    },
    {
      "cell_type": "markdown",
      "source": "* 비즈니스를 파악해 봅시다.",
      "metadata": {
        "id": "7RJpDin_v6v-"
      }
    },
    {
      "cell_type": "code",
      "source": "",
      "metadata": {
        "id": "y3ocI1n4v6v-"
      },
      "execution_count": null,
      "outputs": []
    }
  ]
}