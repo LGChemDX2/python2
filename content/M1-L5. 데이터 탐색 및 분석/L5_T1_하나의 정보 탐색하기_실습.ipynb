{
  "metadata": {
    "colab": {
      "provenance": [],
      "toc_visible": true
    },
    "toc-autonumbering": false,
    "toc-showmarkdowntxt": false,
    "kernelspec": {
      "name": "python",
      "display_name": "Python (Pyodide)",
      "language": "python"
    },
    "language_info": {
      "codemirror_mode": {
        "name": "python",
        "version": 3
      },
      "file_extension": ".py",
      "mimetype": "text/x-python",
      "name": "python",
      "nbconvert_exporter": "python",
      "pygments_lexer": "ipython3",
      "version": "3.8"
    }
  },
  "nbformat_minor": 4,
  "nbformat": 4,
  "cells": [
    {
      "cell_type": "markdown",
      "source": "# **Topic 1. 하나의 정보 탐색하기_실습**",
      "metadata": {
        "id": "mVOYUVwYNrob"
      }
    },
    {
      "cell_type": "markdown",
      "source": "## **(1) 환경준비**",
      "metadata": {
        "id": "jtOUt7kVWs9D"
      }
    },
    {
      "cell_type": "markdown",
      "source": "### 1) 라이브러리 불러오기",
      "metadata": {
        "id": "Uj2_4_07WDpA"
      }
    },
    {
      "cell_type": "code",
      "source": "# jupyter lite에서 패키지 설치\nimport piplite\nawait piplite.install(\"seaborn\")",
      "metadata": {
        "id": "C3SIvTOkmLVy"
      },
      "execution_count": null,
      "outputs": []
    },
    {
      "cell_type": "code",
      "source": "import pandas as pd\nimport numpy as np\nimport matplotlib.pyplot as plt\nimport seaborn as sns\n\n# mosaic plot\nfrom statsmodels.graphics.mosaicplot import mosaic",
      "metadata": {
        "id": "j-ggcuejWF7F"
      },
      "execution_count": 1,
      "outputs": []
    },
    {
      "cell_type": "markdown",
      "source": "### 2) 데이터 불러오기",
      "metadata": {
        "id": "nT8jaWQoWJvI"
      }
    },
    {
      "cell_type": "markdown",
      "source": "* 데이터 설명\n\n|칼럼명|설명|타입|\n|----|----|----|\n|total_bill|총금액|수치형|\n|tip|팁|수치형|\n|gender|성별|범주형|\n|smoke|흡연여부|범주형|\n|day|요일|범주형|\n|time|식사구분|범주형|\n|size|식사인원|수치형|\n\n",
      "metadata": {
        "id": "J5gtgf7dmZJ3"
      }
    },
    {
      "cell_type": "code",
      "source": "data = pd.read_csv('tips2.csv')\ndata.head()",
      "metadata": {
        "id": "YBqcYRwm81NU"
      },
      "execution_count": 2,
      "outputs": [
        {
          "execution_count": 2,
          "output_type": "execute_result",
          "data": {
            "text/html": [
              "<div>\n",
              "<style scoped>\n",
              "    .dataframe tbody tr th:only-of-type {\n",
              "        vertical-align: middle;\n",
              "    }\n",
              "\n",
              "    .dataframe tbody tr th {\n",
              "        vertical-align: top;\n",
              "    }\n",
              "\n",
              "    .dataframe thead th {\n",
              "        text-align: right;\n",
              "    }\n",
              "</style>\n",
              "<table border=\"1\" class=\"dataframe\">\n",
              "  <thead>\n",
              "    <tr style=\"text-align: right;\">\n",
              "      <th></th>\n",
              "      <th>total_bill</th>\n",
              "      <th>tip</th>\n",
              "      <th>gender</th>\n",
              "      <th>smoke</th>\n",
              "      <th>day</th>\n",
              "      <th>time</th>\n",
              "      <th>size</th>\n",
              "    </tr>\n",
              "  </thead>\n",
              "  <tbody>\n",
              "    <tr>\n",
              "      <th>0</th>\n",
              "      <td>16.99</td>\n",
              "      <td>1.01</td>\n",
              "      <td>Female</td>\n",
              "      <td>No</td>\n",
              "      <td>Sun</td>\n",
              "      <td>Dinner</td>\n",
              "      <td>2</td>\n",
              "    </tr>\n",
              "    <tr>\n",
              "      <th>1</th>\n",
              "      <td>10.34</td>\n",
              "      <td>1.66</td>\n",
              "      <td>Male</td>\n",
              "      <td>No</td>\n",
              "      <td>Sun</td>\n",
              "      <td>Dinner</td>\n",
              "      <td>3</td>\n",
              "    </tr>\n",
              "    <tr>\n",
              "      <th>2</th>\n",
              "      <td>21.01</td>\n",
              "      <td>3.50</td>\n",
              "      <td>Male</td>\n",
              "      <td>No</td>\n",
              "      <td>Sun</td>\n",
              "      <td>Dinner</td>\n",
              "      <td>3</td>\n",
              "    </tr>\n",
              "    <tr>\n",
              "      <th>3</th>\n",
              "      <td>23.68</td>\n",
              "      <td>3.31</td>\n",
              "      <td>Male</td>\n",
              "      <td>No</td>\n",
              "      <td>Sun</td>\n",
              "      <td>Dinner</td>\n",
              "      <td>2</td>\n",
              "    </tr>\n",
              "    <tr>\n",
              "      <th>4</th>\n",
              "      <td>24.59</td>\n",
              "      <td>3.61</td>\n",
              "      <td>Female</td>\n",
              "      <td>No</td>\n",
              "      <td>Sun</td>\n",
              "      <td>Dinner</td>\n",
              "      <td>4</td>\n",
              "    </tr>\n",
              "  </tbody>\n",
              "</table>\n",
              "</div>"
            ],
            "text/plain": [
              "   total_bill   tip  gender smoke  day    time  size\n",
              "0       16.99  1.01  Female    No  Sun  Dinner     2\n",
              "1       10.34  1.66    Male    No  Sun  Dinner     3\n",
              "2       21.01  3.50    Male    No  Sun  Dinner     3\n",
              "3       23.68  3.31    Male    No  Sun  Dinner     2\n",
              "4       24.59  3.61  Female    No  Sun  Dinner     4"
            ]
          },
          "metadata": {}
        }
      ]
    },
    {
      "cell_type": "markdown",
      "source": "## **(2) 실습1 : 수치형 정보 분석**\n\n* ① 데이터 셋에 .describe()를 이용하여 기초 통계량을 조회합니다.\n* ② total_bill에 대해 히스토그램, kde plot, box plot을 그리고 비즈니스를 파악해 봅시다.\n* ③ tip에 대해 히스토그램, kde plot, box plot을 그리고 비즈니스를 파악해 봅시다.",
      "metadata": {
        "id": "KH0k96uzXvsk",
        "tags": []
      }
    },
    {
      "cell_type": "markdown",
      "source": "① 데이터 셋에 .describe()를 이용하여 기초 통계량을 조회합니다.",
      "metadata": {
        "id": "r-S_C49I9Ncq"
      }
    },
    {
      "cell_type": "code",
      "source": "data.d",
      "metadata": {
        "id": "8oPLTJEwXvsm"
      },
      "execution_count": null,
      "outputs": []
    },
    {
      "cell_type": "markdown",
      "source": "② total_bill에 대해 히스토그램, kde plot, box plot을 그리고 비즈니스를 파악해 봅시다.",
      "metadata": {
        "id": "1UABhuth2krW"
      }
    },
    {
      "cell_type": "code",
      "source": "plt.figure(figsize = (12,4))\n\n# 히스토그램\nplt.subplot(1,3, )\nplt.h (data[  ], bins =  , edgecolor = 'gray')\n\n# kde plot\nplt.subplot(1,3, )\nsns.k (data[ ])\n\n# box plot\nplt.subplot(1,3, )\nplt.b (data[ ], vert =  )\n\nplt.tight_layout()\nplt.show()",
      "metadata": {
        "id": "1FglpLd32krW"
      },
      "execution_count": null,
      "outputs": []
    },
    {
      "cell_type": "markdown",
      "source": "* 비즈니스를 파악해 봅시다.",
      "metadata": {
        "id": "xiRnXMdDmLV2"
      }
    },
    {
      "cell_type": "code",
      "source": "",
      "metadata": {
        "id": "6LJ9dhTQmLV2"
      },
      "execution_count": null,
      "outputs": []
    },
    {
      "cell_type": "markdown",
      "source": "③ tip에 대해 히스토그램, kde plot, box plot을 그리고 비즈니스를 파악해 봅시다.",
      "metadata": {
        "id": "CjCje52HeYEo"
      }
    },
    {
      "cell_type": "code",
      "source": "plt.figure(figsize = (12,4))\n\n# 히스토그램\nplt.subplot(1,3, )\nplt.h (data[  ],    , edgecolor = 'gray')\n\n# kde plot\nplt.subplot(1,3, )\nsns.k (data[ ])\n\n# box plot\nplt.subplot(1,3, )\nplt.b (data[ ],  )\n\nplt.tight_layout()\nplt.show()",
      "metadata": {
        "id": "nGm9l-Uh9cJJ"
      },
      "execution_count": null,
      "outputs": []
    },
    {
      "cell_type": "markdown",
      "source": "* 비즈니스를 파악해 봅시다.",
      "metadata": {
        "id": "3LOwNh4pmLV2"
      }
    },
    {
      "cell_type": "code",
      "source": "",
      "metadata": {
        "id": "-W-c8JrSmLV3"
      },
      "execution_count": null,
      "outputs": []
    },
    {
      "cell_type": "markdown",
      "source": "## **(3) 실습2 : 범주형 정보 분석**\n다음 두 정보에 대한 범주형 변수의 기초  통계량과 막대그래프, 파이 차트를 통해 비즈니스를 파악해 봅시다.\n* ① gender\n* ② time",
      "metadata": {
        "id": "rfORtRpcmLV3",
        "tags": []
      }
    },
    {
      "cell_type": "markdown",
      "source": "① gender",
      "metadata": {
        "id": "Qr9yc_iQmLV3"
      }
    },
    {
      "cell_type": "code",
      "source": "# 기초 통계량1\ndata[ ].va",
      "metadata": {
        "id": "TC8M5Tu0mLV5"
      },
      "execution_count": null,
      "outputs": []
    },
    {
      "cell_type": "code",
      "source": "# 기초 통계량2\ndata[ ].va (n  = True)",
      "metadata": {
        "id": "gJEEFKF49r3X"
      },
      "execution_count": null,
      "outputs": []
    },
    {
      "cell_type": "code",
      "source": "# 시각화\nplt.figure(figsize = (8, 4))\nplt.subplot(1,2, )\nsns.co (x =  , data = data)\n\nplt.subplot(1,2, )\ntemp = data[ ].va\nplt.p (temp.values, labels = temp.index, autopct = '%.2f%%')\n\nplt.tight_layout()\nplt.show()",
      "metadata": {
        "id": "TlPY-WEzmLV6"
      },
      "execution_count": null,
      "outputs": []
    },
    {
      "cell_type": "markdown",
      "source": "* 비즈니스를 파악해 봅시다.",
      "metadata": {
        "id": "E3yzRGpxmLV6"
      }
    },
    {
      "cell_type": "code",
      "source": "",
      "metadata": {
        "id": "-1n7W3Q5mLV6"
      },
      "execution_count": null,
      "outputs": []
    },
    {
      "cell_type": "markdown",
      "source": "② time",
      "metadata": {
        "id": "u9O9fHbGmLV6"
      }
    },
    {
      "cell_type": "code",
      "source": "# 기초 통계량1\ndata[ ].va",
      "metadata": {
        "id": "BmP4fp7KmLV6"
      },
      "execution_count": null,
      "outputs": []
    },
    {
      "cell_type": "code",
      "source": "# 기초 통계량2\ndata[ ].va (n  = True)",
      "metadata": {
        "id": "i9h5f_wWmLV6"
      },
      "execution_count": null,
      "outputs": []
    },
    {
      "cell_type": "code",
      "source": "# 시각화\nplt.figure(figsize = (8, 4))\nplt.subplot(1,2, )\nsns.c  (x =  , data = data)\n\nplt.subplot(1,2, )\ntemp = data[ ].va\nplt.p (temp.values, labels = temp.index, autopct = '%.2f%%')\n\nplt.tight_layout()\nplt.show()",
      "metadata": {
        "id": "rnz4b_yHmLV6"
      },
      "execution_count": null,
      "outputs": []
    },
    {
      "cell_type": "markdown",
      "source": "* 비즈니스를 파악해 봅시다.",
      "metadata": {
        "id": "VZRf_BHdmLV6"
      }
    },
    {
      "cell_type": "code",
      "source": "",
      "metadata": {
        "id": "3xM9YNLRmLV7"
      },
      "execution_count": null,
      "outputs": []
    }
  ]
}