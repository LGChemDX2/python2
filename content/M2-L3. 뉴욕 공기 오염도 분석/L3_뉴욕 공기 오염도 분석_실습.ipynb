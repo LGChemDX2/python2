{
  "metadata": {
    "colab": {
      "provenance": [],
      "collapsed_sections": [
        "NzM65bOSB6ir",
        "htHk0SdnDeNW"
      ],
      "toc_visible": true
    },
    "kernelspec": {
      "name": "python",
      "display_name": "Python (Pyodide)",
      "language": "python"
    },
    "language_info": {
      "codemirror_mode": {
        "name": "python",
        "version": 3
      },
      "file_extension": ".py",
      "mimetype": "text/x-python",
      "name": "python",
      "nbconvert_exporter": "python",
      "pygments_lexer": "ipython3",
      "version": "3.8"
    }
  },
  "nbformat_minor": 4,
  "nbformat": 4,
  "cells": [
    {
      "cell_type": "markdown",
      "source": "# **Lesson 3. 뉴욕 공기 오염도 분석**",
      "metadata": {
        "id": "qXUBfCONOdID"
      }
    },
    {
      "cell_type": "markdown",
      "source": "# **1.비즈니스 시나리오**",
      "metadata": {
        "id": "790IJBdRWl9r"
      }
    },
    {
      "cell_type": "markdown",
      "source": "* 오존 농도와 관련 있는 요인은?\n    * 현재 세계에서 미세먼지 오염도가 가장 낮은 도시들은 미국, 일본, 유럽의 도시들입니다. 특히 뉴욕은 2016년 기준 전 세계에서 미세먼지 오염이 가장 낮은 대표적인 대도시입니다.\n    * 그러나 1950 ~ 60년대 뉴욕은 인류 역사상 최악의 대기오염, 미세먼지 오염 도시였었습니다.\n    * 뉴욕은 어떻게 공기 오염문제를 해결했을까요?\n    * 주어진 정보는 1973-05-01 ~ 1973-09-30 동안의 측정값입니다.\n제한된 정보이지만, 주어진 데이터로 부터 공기 오염도와 관련 있는 요인들을 분석해 봅시다.\n\n\n",
      "metadata": {
        "id": "XOiIUDJ1i11u"
      }
    },
    {
      "cell_type": "markdown",
      "source": "# 2.환경준비",
      "metadata": {
        "id": "c1uOWzZl_YZH"
      }
    },
    {
      "cell_type": "markdown",
      "source": "## (1) 라이브러리 불러오기",
      "metadata": {
        "id": "LS2rtJiJlaF0"
      }
    },
    {
      "cell_type": "code",
      "source": "# jupyter lite에서 패키지 설치\nimport piplite\nawait piplite.install(\"seaborn\")",
      "metadata": {
        "trusted": true
      },
      "execution_count": null,
      "outputs": []
    },
    {
      "cell_type": "code",
      "source": "import numpy as np\nimport pandas as pd\n\nimport matplotlib.pyplot as plt\nimport seaborn as sns",
      "metadata": {
        "id": "ba319GIZlcFB",
        "executionInfo": {
          "status": "ok",
          "timestamp": 1696462008841,
          "user_tz": -540,
          "elapsed": 2200,
          "user": {
            "displayName": "한기영",
            "userId": "13049187003176135487"
          }
        },
        "trusted": true
      },
      "execution_count": null,
      "outputs": []
    },
    {
      "cell_type": "markdown",
      "source": "## (2) 데이터 로딩",
      "metadata": {
        "id": "TCceTRSHqibR"
      }
    },
    {
      "cell_type": "code",
      "source": "data = pd.read_csv('NY_Airquality.csv')\ndata['Date'] = pd.to_datetime(data['Date'])",
      "metadata": {
        "id": "08FGuKtjpGOj",
        "colab": {
          "base_uri": "https://localhost:8080/",
          "height": 206
        },
        "executionInfo": {
          "status": "ok",
          "timestamp": 1696462027529,
          "user_tz": -540,
          "elapsed": 399,
          "user": {
            "displayName": "한기영",
            "userId": "13049187003176135487"
          }
        },
        "outputId": "30f1829d-4899-41b2-a865-ee552a3bdd58",
        "trusted": true
      },
      "execution_count": null,
      "outputs": []
    },
    {
      "cell_type": "markdown",
      "source": "|\t변수명\t|\t설명\t|\t구분\t|\n|----|----|----|\n|\tOzone \t|\t 오존 농도(공기 오염도)\t|\t수치형\t|\n|\tSolar.R \t|\t 태양 복사열의 양\t|\t수치형\t|\n|\tWind \t|\t 바람세기\t|\t수치형\t|\n|\tTemp \t|\t 온도\t|\t수치형\t|\n|\tDate\t|\t 날짜(yyyy-mm-dd)\t|\t\t|",
      "metadata": {
        "id": "zYKHwYHatC4k"
      }
    },
    {
      "cell_type": "markdown",
      "source": "# 3.데이터 정보조회",
      "metadata": {}
    },
    {
      "cell_type": "markdown",
      "source": "## (1) 상,하위 데이터 조회",
      "metadata": {}
    },
    {
      "cell_type": "code",
      "source": "# 상위 데이터 조회\n",
      "metadata": {},
      "execution_count": null,
      "outputs": []
    },
    {
      "cell_type": "code",
      "source": "# 하위 데이터 조회\n",
      "metadata": {},
      "execution_count": null,
      "outputs": []
    },
    {
      "cell_type": "markdown",
      "source": "## (2) 데이터프레임 정보 조회(info)",
      "metadata": {}
    },
    {
      "cell_type": "code",
      "source": "",
      "metadata": {},
      "execution_count": null,
      "outputs": []
    },
    {
      "cell_type": "markdown",
      "source": "# 4.이변량분석 : 수치형 --> 수치형\n\n* 시각화 : 산점도",
      "metadata": {
        "id": "A7QYqGKWdMZi"
      }
    },
    {
      "cell_type": "code",
      "source": "target = 'Ozone'",
      "metadata": {
        "trusted": true
      },
      "execution_count": null,
      "outputs": []
    },
    {
      "cell_type": "markdown",
      "source": "## (1) Solar.R --> Ozone",
      "metadata": {
        "id": "m5zcg9CCg86m"
      }
    },
    {
      "cell_type": "markdown",
      "source": "* 그래프",
      "metadata": {}
    },
    {
      "cell_type": "code",
      "source": "var = 'Solar.R'\nsns.scatterplot(x = var, y = target, data = data)\nplt.grid()\nplt.show()",
      "metadata": {
        "id": "fzfJAos6g86m",
        "colab": {
          "base_uri": "https://localhost:8080/"
        },
        "executionInfo": {
          "status": "ok",
          "timestamp": 1696310500533,
          "user_tz": -540,
          "elapsed": 18,
          "user": {
            "displayName": "한기영",
            "userId": "13049187003176135487"
          }
        },
        "outputId": "252a9df4-a31e-49b6-c4a8-d4230d1539c7",
        "trusted": true
      },
      "execution_count": null,
      "outputs": []
    },
    {
      "cell_type": "markdown",
      "source": "* 파악한 내용을 적어봅시다.",
      "metadata": {}
    },
    {
      "cell_type": "code",
      "source": "",
      "metadata": {
        "id": "d-rqhoYcBxgA"
      },
      "execution_count": null,
      "outputs": []
    },
    {
      "cell_type": "markdown",
      "source": "## (2) Temp --> Ozone",
      "metadata": {
        "id": "m5zcg9CCg86m"
      }
    },
    {
      "cell_type": "markdown",
      "source": "* 그래프",
      "metadata": {}
    },
    {
      "cell_type": "code",
      "source": "",
      "metadata": {
        "id": "fzfJAos6g86m",
        "colab": {
          "base_uri": "https://localhost:8080/"
        },
        "executionInfo": {
          "status": "ok",
          "timestamp": 1696310500533,
          "user_tz": -540,
          "elapsed": 18,
          "user": {
            "displayName": "한기영",
            "userId": "13049187003176135487"
          }
        },
        "outputId": "252a9df4-a31e-49b6-c4a8-d4230d1539c7",
        "trusted": true
      },
      "execution_count": null,
      "outputs": []
    },
    {
      "cell_type": "markdown",
      "source": "* 파악한 내용을 적어봅시다.",
      "metadata": {}
    },
    {
      "cell_type": "code",
      "source": "",
      "metadata": {
        "id": "d-rqhoYcBxgA"
      },
      "execution_count": null,
      "outputs": []
    },
    {
      "cell_type": "markdown",
      "source": "## (3) Wind --> Ozone",
      "metadata": {
        "id": "m5zcg9CCg86m"
      }
    },
    {
      "cell_type": "markdown",
      "source": "* 그래프",
      "metadata": {}
    },
    {
      "cell_type": "code",
      "source": "",
      "metadata": {
        "id": "fzfJAos6g86m",
        "colab": {
          "base_uri": "https://localhost:8080/"
        },
        "executionInfo": {
          "status": "ok",
          "timestamp": 1696310500533,
          "user_tz": -540,
          "elapsed": 18,
          "user": {
            "displayName": "한기영",
            "userId": "13049187003176135487"
          }
        },
        "outputId": "252a9df4-a31e-49b6-c4a8-d4230d1539c7"
      },
      "execution_count": null,
      "outputs": []
    },
    {
      "cell_type": "markdown",
      "source": "* 파악한 내용을 적어봅시다.",
      "metadata": {}
    },
    {
      "cell_type": "code",
      "source": "",
      "metadata": {
        "id": "d-rqhoYcBxgA"
      },
      "execution_count": null,
      "outputs": []
    },
    {
      "cell_type": "markdown",
      "source": "## (4) 상관계수\n* 전체 데이터프레임에 대해 .corr()을 이용해서 상관계수를 구하고,\n* Solar.R, Temp, Wind 중 어떤 변수가 Ozone과 가장 강한 관계인지 찾아봅시다.",
      "metadata": {
        "id": "m5zcg9CCg86m"
      }
    },
    {
      "cell_type": "code",
      "source": "",
      "metadata": {
        "id": "fzfJAos6g86m",
        "colab": {
          "base_uri": "https://localhost:8080/"
        },
        "executionInfo": {
          "status": "ok",
          "timestamp": 1696310500533,
          "user_tz": -540,
          "elapsed": 18,
          "user": {
            "displayName": "한기영",
            "userId": "13049187003176135487"
          }
        },
        "outputId": "252a9df4-a31e-49b6-c4a8-d4230d1539c7",
        "trusted": true
      },
      "execution_count": null,
      "outputs": []
    },
    {
      "cell_type": "markdown",
      "source": "* Ozone과 가장 강한 변수는?",
      "metadata": {}
    },
    {
      "cell_type": "code",
      "source": "",
      "metadata": {},
      "execution_count": null,
      "outputs": []
    },
    {
      "cell_type": "markdown",
      "source": "# 5.이변량분석 : 범주형 --> 수치형\n\n* 시각화 : 평균비교 막대그래프",
      "metadata": {
        "id": "A7QYqGKWdMZi"
      }
    },
    {
      "cell_type": "markdown",
      "source": "## (1) 요일 변수 추가",
      "metadata": {
        "id": "m5zcg9CCg86m",
        "tags": []
      }
    },
    {
      "cell_type": "code",
      "source": "data['Weekday'] = data['Date'].dt.weekday",
      "metadata": {
        "id": "fzfJAos6g86m",
        "colab": {
          "base_uri": "https://localhost:8080/"
        },
        "executionInfo": {
          "status": "ok",
          "timestamp": 1696310500533,
          "user_tz": -540,
          "elapsed": 18,
          "user": {
            "displayName": "한기영",
            "userId": "13049187003176135487"
          }
        },
        "outputId": "252a9df4-a31e-49b6-c4a8-d4230d1539c7",
        "trusted": true
      },
      "execution_count": null,
      "outputs": []
    },
    {
      "cell_type": "markdown",
      "source": "## (2) Weekday --> Ozone",
      "metadata": {
        "id": "m5zcg9CCg86m"
      }
    },
    {
      "cell_type": "markdown",
      "source": "* 그래프",
      "metadata": {}
    },
    {
      "cell_type": "code",
      "source": "var = ''\nsns.b    (x = var, y = target, data = data)\nplt.grid()\nplt.show()",
      "metadata": {
        "id": "fzfJAos6g86m",
        "colab": {
          "base_uri": "https://localhost:8080/"
        },
        "executionInfo": {
          "status": "ok",
          "timestamp": 1696310500533,
          "user_tz": -540,
          "elapsed": 18,
          "user": {
            "displayName": "한기영",
            "userId": "13049187003176135487"
          }
        },
        "outputId": "252a9df4-a31e-49b6-c4a8-d4230d1539c7",
        "trusted": true
      },
      "execution_count": null,
      "outputs": []
    },
    {
      "cell_type": "markdown",
      "source": "* 파악한 내용을 적어봅시다.",
      "metadata": {}
    },
    {
      "cell_type": "code",
      "source": "",
      "metadata": {},
      "execution_count": null,
      "outputs": []
    }
  ]
}