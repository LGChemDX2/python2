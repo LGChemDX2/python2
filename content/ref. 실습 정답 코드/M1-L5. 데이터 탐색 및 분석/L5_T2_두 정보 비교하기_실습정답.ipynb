{
  "metadata": {
    "kernelspec": {
      "name": "python",
      "display_name": "Python (Pyodide)",
      "language": "python"
    },
    "language_info": {
      "codemirror_mode": {
        "name": "python",
        "version": 3
      },
      "file_extension": ".py",
      "mimetype": "text/x-python",
      "name": "python",
      "nbconvert_exporter": "python",
      "pygments_lexer": "ipython3",
      "version": "3.8"
    },
    "colab": {
      "provenance": [],
      "toc_visible": true
    },
    "toc-autonumbering": false,
    "toc-showmarkdowntxt": false
  },
  "nbformat_minor": 4,
  "nbformat": 4,
  "cells": [
    {
      "cell_type": "markdown",
      "source": "# **Topic 2. 두 정보 비교하기_실습**",
      "metadata": {
        "id": "mVOYUVwYNrob"
      }
    },
    {
      "cell_type": "markdown",
      "source": "## **(1) 환경준비**",
      "metadata": {
        "id": "jtOUt7kVWs9D"
      }
    },
    {
      "cell_type": "markdown",
      "source": "### 1) 라이브러리 불러오기",
      "metadata": {
        "id": "Uj2_4_07WDpA"
      }
    },
    {
      "cell_type": "code",
      "source": "# jupyter lite에서 패키지 설치\nimport piplite\nawait piplite.install(\"seaborn\")",
      "metadata": {
        "id": "mR7sp4dLw7r3"
      },
      "outputs": [],
      "execution_count": null
    },
    {
      "cell_type": "code",
      "source": "import pandas as pd\nimport numpy as np\nimport matplotlib.pyplot as plt\nimport seaborn as sns\n\n# mosaic plot\nfrom statsmodels.graphics.mosaicplot import mosaic",
      "metadata": {
        "id": "j-ggcuejWF7F"
      },
      "outputs": [],
      "execution_count": null
    },
    {
      "cell_type": "markdown",
      "source": "### 2) 데이터 불러오기",
      "metadata": {
        "id": "nT8jaWQoWJvI"
      }
    },
    {
      "cell_type": "markdown",
      "source": "* 데이터 설명\n|칼럼명|설명|타입|\n|----|----|----|\n|total_bill|총금액|수치형|\n|tip|팁|수치형|\n|gender|성별|범주형|\n|smoke|흡연여부|범주형|\n|day|요일|범주형|\n|time|식사구분|범주형|\n|size|식사인원|수치형|\n\n",
      "metadata": {
        "id": "_-HixseKw7r6"
      }
    },
    {
      "cell_type": "code",
      "source": "data = pd.read_csv('tips2.csv')\ndata.head()",
      "metadata": {
        "id": "YBqcYRwm81NU",
        "outputId": "f618bf72-0359-4fb9-edfa-d0ba13adb333"
      },
      "outputs": [
        {
          "execution_count": 2,
          "output_type": "execute_result",
          "data": {
            "text/html": [
              "<div>\n",
              "<style scoped>\n",
              "    .dataframe tbody tr th:only-of-type {\n",
              "        vertical-align: middle;\n",
              "    }\n",
              "\n",
              "    .dataframe tbody tr th {\n",
              "        vertical-align: top;\n",
              "    }\n",
              "\n",
              "    .dataframe thead th {\n",
              "        text-align: right;\n",
              "    }\n",
              "</style>\n",
              "<table border=\"1\" class=\"dataframe\">\n",
              "  <thead>\n",
              "    <tr style=\"text-align: right;\">\n",
              "      <th></th>\n",
              "      <th>total_bill</th>\n",
              "      <th>tip</th>\n",
              "      <th>gender</th>\n",
              "      <th>smoke</th>\n",
              "      <th>day</th>\n",
              "      <th>time</th>\n",
              "      <th>size</th>\n",
              "    </tr>\n",
              "  </thead>\n",
              "  <tbody>\n",
              "    <tr>\n",
              "      <th>0</th>\n",
              "      <td>16.99</td>\n",
              "      <td>1.01</td>\n",
              "      <td>Female</td>\n",
              "      <td>No</td>\n",
              "      <td>Sun</td>\n",
              "      <td>Dinner</td>\n",
              "      <td>2</td>\n",
              "    </tr>\n",
              "    <tr>\n",
              "      <th>1</th>\n",
              "      <td>10.34</td>\n",
              "      <td>1.66</td>\n",
              "      <td>Male</td>\n",
              "      <td>No</td>\n",
              "      <td>Sun</td>\n",
              "      <td>Dinner</td>\n",
              "      <td>3</td>\n",
              "    </tr>\n",
              "    <tr>\n",
              "      <th>2</th>\n",
              "      <td>21.01</td>\n",
              "      <td>3.50</td>\n",
              "      <td>Male</td>\n",
              "      <td>No</td>\n",
              "      <td>Sun</td>\n",
              "      <td>Dinner</td>\n",
              "      <td>3</td>\n",
              "    </tr>\n",
              "    <tr>\n",
              "      <th>3</th>\n",
              "      <td>23.68</td>\n",
              "      <td>3.31</td>\n",
              "      <td>Male</td>\n",
              "      <td>No</td>\n",
              "      <td>Sun</td>\n",
              "      <td>Dinner</td>\n",
              "      <td>2</td>\n",
              "    </tr>\n",
              "    <tr>\n",
              "      <th>4</th>\n",
              "      <td>24.59</td>\n",
              "      <td>3.61</td>\n",
              "      <td>Female</td>\n",
              "      <td>No</td>\n",
              "      <td>Sun</td>\n",
              "      <td>Dinner</td>\n",
              "      <td>4</td>\n",
              "    </tr>\n",
              "  </tbody>\n",
              "</table>\n",
              "</div>"
            ],
            "text/plain": [
              "   total_bill   tip  gender smoke  day    time  size\n",
              "0       16.99  1.01  Female    No  Sun  Dinner     2\n",
              "1       10.34  1.66    Male    No  Sun  Dinner     3\n",
              "2       21.01  3.50    Male    No  Sun  Dinner     3\n",
              "3       23.68  3.31    Male    No  Sun  Dinner     2\n",
              "4       24.59  3.61  Female    No  Sun  Dinner     4"
            ]
          },
          "metadata": {}
        }
      ],
      "execution_count": null
    },
    {
      "cell_type": "markdown",
      "source": "## **(2) 실습1 : 수치형 vs 수치형**\n\n* ① total_bill과 tip에 대해 산점도를 그리고 관계를 살펴봅시다.\n* ② data에는 수치형 변수에 대해 상관계수를 구하고 가장 강한 상관관계를 찾아 봅시다.",
      "metadata": {
        "id": "KH0k96uzXvsk",
        "tags": []
      }
    },
    {
      "cell_type": "markdown",
      "source": "① total_bill과 tip에 대해 산점도를 그리고 관계를 살펴봅시다.",
      "metadata": {
        "id": "r-S_C49I9Ncq"
      }
    },
    {
      "cell_type": "code",
      "source": "sns.scatterplot(x = 'total_bill' , y= 'tip' , data = data)\nplt.grid()\nplt.show()",
      "metadata": {
        "id": "dTgV_6ZVw7r8",
        "outputId": "af08b966-52bf-41d3-b220-810968fc5174"
      },
      "outputs": [
        {
          "output_type": "display_data",
          "data": {
            "image/png": "[encoded data removed]",
            "text/plain": [
              "<Figure size 640x480 with 1 Axes>"
            ]
          },
          "metadata": {}
        }
      ],
      "execution_count": null
    },
    {
      "cell_type": "markdown",
      "source": "관계를 설명해 봅시다.",
      "metadata": {
        "id": "SpqVf28Rw7r8"
      }
    },
    {
      "cell_type": "code",
      "source": "# total_bill이 높아짐에 따라 tip도 높아진다.\n# 강한 양의 상관관계로 보인다.\n",
      "metadata": {
        "id": "Z-FURTH8w7r9"
      },
      "outputs": [],
      "execution_count": null
    },
    {
      "cell_type": "markdown",
      "source": "② data에는 수치형 변수에 대해 상관계수를 구하고 가장 강한 상관관계를 찾아 봅시다.",
      "metadata": {
        "id": "uCodDyAKw7r9"
      }
    },
    {
      "cell_type": "code",
      "source": "data.corr()\n\n#[안내] warning 메시지는 향후 버전에서 기본값이 'False'가 된다는 내용으로 무시하셔도 좋습니다.\n#경고 메시지를 없애려면 numeric_only 매개변수를 True나 False로 지정하면 됩니다.",
      "metadata": {
        "colab": {
          "base_uri": "https://localhost:8080/",
          "height": 143
        },
        "id": "8oPLTJEwXvsm",
        "outputId": "3bfd8f93-04b8-49c3-9dd8-6955a63031e9"
      },
      "outputs": [
        {
          "execution_count": 4,
          "output_type": "execute_result",
          "data": {
            "text/html": [
              "<div>\n",
              "<style scoped>\n",
              "    .dataframe tbody tr th:only-of-type {\n",
              "        vertical-align: middle;\n",
              "    }\n",
              "\n",
              "    .dataframe tbody tr th {\n",
              "        vertical-align: top;\n",
              "    }\n",
              "\n",
              "    .dataframe thead th {\n",
              "        text-align: right;\n",
              "    }\n",
              "</style>\n",
              "<table border=\"1\" class=\"dataframe\">\n",
              "  <thead>\n",
              "    <tr style=\"text-align: right;\">\n",
              "      <th></th>\n",
              "      <th>total_bill</th>\n",
              "      <th>tip</th>\n",
              "      <th>size</th>\n",
              "    </tr>\n",
              "  </thead>\n",
              "  <tbody>\n",
              "    <tr>\n",
              "      <th>total_bill</th>\n",
              "      <td>1.000000</td>\n",
              "      <td>0.675734</td>\n",
              "      <td>0.598315</td>\n",
              "    </tr>\n",
              "    <tr>\n",
              "      <th>tip</th>\n",
              "      <td>0.675734</td>\n",
              "      <td>1.000000</td>\n",
              "      <td>0.489299</td>\n",
              "    </tr>\n",
              "    <tr>\n",
              "      <th>size</th>\n",
              "      <td>0.598315</td>\n",
              "      <td>0.489299</td>\n",
              "      <td>1.000000</td>\n",
              "    </tr>\n",
              "  </tbody>\n",
              "</table>\n",
              "</div>"
            ],
            "text/plain": [
              "            total_bill       tip      size\n",
              "total_bill    1.000000  0.675734  0.598315\n",
              "tip           0.675734  1.000000  0.489299\n",
              "size          0.598315  0.489299  1.000000"
            ]
          },
          "metadata": {}
        }
      ],
      "execution_count": null
    },
    {
      "cell_type": "code",
      "source": "",
      "metadata": {
        "id": "1VhFFB91w7r9"
      },
      "outputs": [],
      "execution_count": null
    },
    {
      "cell_type": "markdown",
      "source": "## **(3) 실습2 : 범주형 vs 범주형**\n\ngender와 time에 대해\n* ① 교차표를 만들어 봅시다.\n* ② 모자익플롯을 그려 봅시다.",
      "metadata": {
        "tags": [],
        "id": "2mdUlK-4w7r9"
      }
    },
    {
      "cell_type": "markdown",
      "source": "① 교차표를 만들어 봅시다.\n",
      "metadata": {
        "id": "HoZ57BDtw7r-"
      }
    },
    {
      "cell_type": "code",
      "source": "# 전체 count\npd.crosstab(data['gender'], data['time'])",
      "metadata": {
        "colab": {
          "base_uri": "https://localhost:8080/",
          "height": 143
        },
        "outputId": "3bfd8f93-04b8-49c3-9dd8-6955a63031e9",
        "id": "SKvokSvqw7r-"
      },
      "outputs": [
        {
          "execution_count": 5,
          "output_type": "execute_result",
          "data": {
            "text/html": [
              "<div>\n",
              "<style scoped>\n",
              "    .dataframe tbody tr th:only-of-type {\n",
              "        vertical-align: middle;\n",
              "    }\n",
              "\n",
              "    .dataframe tbody tr th {\n",
              "        vertical-align: top;\n",
              "    }\n",
              "\n",
              "    .dataframe thead th {\n",
              "        text-align: right;\n",
              "    }\n",
              "</style>\n",
              "<table border=\"1\" class=\"dataframe\">\n",
              "  <thead>\n",
              "    <tr style=\"text-align: right;\">\n",
              "      <th>time</th>\n",
              "      <th>Dinner</th>\n",
              "      <th>Lunch</th>\n",
              "    </tr>\n",
              "    <tr>\n",
              "      <th>gender</th>\n",
              "      <th></th>\n",
              "      <th></th>\n",
              "    </tr>\n",
              "  </thead>\n",
              "  <tbody>\n",
              "    <tr>\n",
              "      <th>Female</th>\n",
              "      <td>52</td>\n",
              "      <td>35</td>\n",
              "    </tr>\n",
              "    <tr>\n",
              "      <th>Male</th>\n",
              "      <td>124</td>\n",
              "      <td>33</td>\n",
              "    </tr>\n",
              "  </tbody>\n",
              "</table>\n",
              "</div>"
            ],
            "text/plain": [
              "time    Dinner  Lunch\n",
              "gender               \n",
              "Female      52     35\n",
              "Male       124     33"
            ]
          },
          "metadata": {}
        }
      ],
      "execution_count": null
    },
    {
      "cell_type": "code",
      "source": "# 칼럼기준 비율\npd.crosstab(data['gender'], data['time' ], normalize  = 'columns')",
      "metadata": {
        "id": "gJEEFKF49r3X",
        "outputId": "c9a54ea7-6ac1-4776-a4da-74a7a038b5b4"
      },
      "outputs": [
        {
          "execution_count": 7,
          "output_type": "execute_result",
          "data": {
            "text/html": [
              "<div>\n",
              "<style scoped>\n",
              "    .dataframe tbody tr th:only-of-type {\n",
              "        vertical-align: middle;\n",
              "    }\n",
              "\n",
              "    .dataframe tbody tr th {\n",
              "        vertical-align: top;\n",
              "    }\n",
              "\n",
              "    .dataframe thead th {\n",
              "        text-align: right;\n",
              "    }\n",
              "</style>\n",
              "<table border=\"1\" class=\"dataframe\">\n",
              "  <thead>\n",
              "    <tr style=\"text-align: right;\">\n",
              "      <th>time</th>\n",
              "      <th>Dinner</th>\n",
              "      <th>Lunch</th>\n",
              "    </tr>\n",
              "    <tr>\n",
              "      <th>gender</th>\n",
              "      <th></th>\n",
              "      <th></th>\n",
              "    </tr>\n",
              "  </thead>\n",
              "  <tbody>\n",
              "    <tr>\n",
              "      <th>Female</th>\n",
              "      <td>0.295455</td>\n",
              "      <td>0.514706</td>\n",
              "    </tr>\n",
              "    <tr>\n",
              "      <th>Male</th>\n",
              "      <td>0.704545</td>\n",
              "      <td>0.485294</td>\n",
              "    </tr>\n",
              "  </tbody>\n",
              "</table>\n",
              "</div>"
            ],
            "text/plain": [
              "time      Dinner     Lunch\n",
              "gender                    \n",
              "Female  0.295455  0.514706\n",
              "Male    0.704545  0.485294"
            ]
          },
          "metadata": {}
        }
      ],
      "execution_count": null
    },
    {
      "cell_type": "markdown",
      "source": "② 모자익플롯을 그려 봅시다.",
      "metadata": {
        "id": "7wNESEvaw7r-"
      }
    },
    {
      "cell_type": "code",
      "source": "mosaic(data, ['time','gender'])\nplt.show()",
      "metadata": {
        "id": "fLunpi6Ow7r-",
        "outputId": "332a8cd2-a5c6-462f-973e-30bcdd0620b8"
      },
      "outputs": [
        {
          "output_type": "display_data",
          "data": {
            "image/png": "[encoded data removed]",
            "text/plain": [
              "<Figure size 640x480 with 3 Axes>"
            ]
          },
          "metadata": {}
        }
      ],
      "execution_count": null
    },
    {
      "cell_type": "markdown",
      "source": "* 비즈니스를 파악해 봅시다.",
      "metadata": {
        "id": "8WZBUK6Lw7r_"
      }
    },
    {
      "cell_type": "code",
      "source": "# time과 성별은 관련이 있다.\n# 점심때는 남여 비율이 대등, 저녁은 남자 비율이 월등히 높다.",
      "metadata": {
        "id": "tzb7EEV_w7r_"
      },
      "outputs": [],
      "execution_count": null
    },
    {
      "cell_type": "markdown",
      "source": "## **(4) 실습3 : 수치형 vs 범주형**\n\n* day(요일)과 tip에 대해 평균 비교 막대 그래프로 비교해 봅시다.",
      "metadata": {
        "tags": [],
        "id": "4M2dDPLPw7r_"
      }
    },
    {
      "cell_type": "code",
      "source": "sns.barplot(x= 'day' , y = 'tip'  , data = data)\nplt.grid()\nplt.show()",
      "metadata": {
        "colab": {
          "base_uri": "https://localhost:8080/",
          "height": 143
        },
        "outputId": "3bfd8f93-04b8-49c3-9dd8-6955a63031e9",
        "id": "v2cZ9WNHw7r_"
      },
      "outputs": [
        {
          "output_type": "display_data",
          "data": {
            "image/png": "[encoded data removed]",
            "text/plain": [
              "<Figure size 640x480 with 1 Axes>"
            ]
          },
          "metadata": {}
        }
      ],
      "execution_count": null
    },
    {
      "cell_type": "markdown",
      "source": "* 비즈니스를 파악해 봅시다.",
      "metadata": {
        "id": "BC64h8puw7r_"
      }
    },
    {
      "cell_type": "code",
      "source": "# 평일(목금) 보다 주말(토일)이 팁이 좀 더 높다\n# 요일과 팁은 관계가 있지만, 강하다고 보긴 어렵다.\n# 그런데, 팁은 총 금액과 연동되므로, 주말에 비싼 음식을 좀더 주문하는것은 아닐까?",
      "metadata": {
        "id": "34qMyB8uw7r_"
      },
      "outputs": [],
      "execution_count": null
    }
  ]
}