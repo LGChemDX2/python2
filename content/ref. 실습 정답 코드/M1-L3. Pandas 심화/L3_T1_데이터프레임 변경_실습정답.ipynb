{
  "cells": [
    {
      "cell_type": "markdown",
      "metadata": {
        "id": "mVOYUVwYNrob"
      },
      "source": [
        "# **Topic 1. 데이터프레임 변경_실습**"
      ]
    },
    {
      "cell_type": "markdown",
      "metadata": {
        "id": "oxnVE8m_vr8H"
      },
      "source": [
        "## **(1) 환경 준비**"
      ]
    },
    {
      "cell_type": "markdown",
      "source": [
        "* 라이브러리 로딩"
      ],
      "metadata": {
        "id": "juZbxdEKvz2K"
      }
    },
    {
      "cell_type": "code",
      "execution_count": null,
      "metadata": {
        "id": "SPPuEYrHvr8I"
      },
      "outputs": [],
      "source": [
        "import pandas as pd\n",
        "import numpy as np"
      ]
    },
    {
      "cell_type": "markdown",
      "source": [
        "* 데이터 로딩"
      ],
      "metadata": {
        "id": "GvCflNu5v1u1"
      }
    },
    {
      "cell_type": "code",
      "source": [
        "# tips 데이터\n",
        "tips = pd.read_csv('tips.csv')\n",
        "tips.head()"
      ],
      "metadata": {
        "id": "GusSAPnfvr8I"
      },
      "execution_count": null,
      "outputs": []
    },
    {
      "cell_type": "markdown",
      "metadata": {
        "id": "jtOUt7kVWs9D"
      },
      "source": [
        "## **(2) 실습1 : 열 이름 변경**\n",
        "\n"
      ]
    },
    {
      "cell_type": "markdown",
      "source": [
        "\n",
        "* 아래 칼럼의 이름을 변경하시오.(.rename())\n",
        "    * total_bill_amount --> tot_bill\n",
        "    * male_female --> gender\n",
        "    * dinner_lunch --> time"
      ],
      "metadata": {
        "id": "OHCM_OMVzQZ6"
      }
    },
    {
      "cell_type": "code",
      "execution_count": null,
      "metadata": {
        "id": "1xqiuyahWs9E"
      },
      "outputs": [],
      "source": [
        "tips.rename(columns = {'total_bill_amount': 'tot_bill',\n",
        "                   'male_female' : 'gender',\n",
        "                    'dinner_lunch' : 'time' }, inplace=True)\n",
        "tips.head()"
      ]
    },
    {
      "cell_type": "markdown",
      "metadata": {
        "tags": [],
        "id": "KH0k96uzXvsk"
      },
      "source": [
        "## **(3) 실습2 : 새 열 추가**"
      ]
    },
    {
      "cell_type": "markdown",
      "source": [
        "\n",
        "* 계산된 새 열을 추가하시오.\n",
        "    * tip / tot_bill --> tip_rate"
      ],
      "metadata": {
        "id": "5oXqNo3kzfsz"
      }
    },
    {
      "cell_type": "code",
      "source": [
        "tips['tip_rate'] = tips['tip'] / tips['tot_bill']\n",
        "tips.head()"
      ],
      "metadata": {
        "id": "WGVKpscHz2qO"
      },
      "execution_count": null,
      "outputs": []
    },
    {
      "cell_type": "markdown",
      "source": [
        "## **(4) 실습3 : 값 변경**"
      ],
      "metadata": {
        "id": "yXE11t6taHtE"
      }
    },
    {
      "cell_type": "markdown",
      "source": [
        "* tips의 tip이 4 보다 작고, 남자이면, 0으로 변경하시오."
      ],
      "metadata": {
        "id": "JsX6feBAaNie"
      }
    },
    {
      "cell_type": "code",
      "source": [
        "tips.loc[(tips['tip']< 4) & (tips['gender'] == 'Male'), 'tip'] = 0\n",
        "tips.head(10)"
      ],
      "metadata": {
        "id": "7PuXN1s70ZJw"
      },
      "execution_count": null,
      "outputs": []
    },
    {
      "cell_type": "markdown",
      "source": [
        "* tot_bill을 4등분 하여, 'b1','b2','b3','b4' 로 저장하시오.(단, 새로운 열 tb_grp 에 저장하시오.)"
      ],
      "metadata": {
        "id": "WgnRc-PEbgq7"
      }
    },
    {
      "cell_type": "code",
      "source": [
        "tips['tb_grp'] = pd.cut( tips['tot_bill'], 4, labels = ['b1','b2','b3','b4'])\n",
        "tips.head(10)"
      ],
      "metadata": {
        "id": "PogCBEQPb5so"
      },
      "execution_count": null,
      "outputs": []
    }
  ],
  "metadata": {
    "colab": {
      "provenance": []
    },
    "kernelspec": {
      "display_name": "Python 3 (ipykernel)",
      "language": "python",
      "name": "python3"
    },
    "language_info": {
      "codemirror_mode": {
        "name": "ipython",
        "version": 3
      },
      "file_extension": ".py",
      "mimetype": "text/x-python",
      "name": "python",
      "nbconvert_exporter": "python",
      "pygments_lexer": "ipython3",
      "version": "3.10.9"
    },
    "toc-autonumbering": false,
    "toc-showmarkdowntxt": false
  },
  "nbformat": 4,
  "nbformat_minor": 0
}