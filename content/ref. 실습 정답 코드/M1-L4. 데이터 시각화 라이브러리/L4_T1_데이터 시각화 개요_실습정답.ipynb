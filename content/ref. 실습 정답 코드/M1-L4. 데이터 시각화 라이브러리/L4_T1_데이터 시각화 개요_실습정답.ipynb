{
  "metadata": {
    "colab": {
      "provenance": [],
      "toc_visible": true
    },
    "toc-autonumbering": false,
    "toc-showmarkdowntxt": false,
    "kernelspec": {
      "name": "python",
      "display_name": "Python (Pyodide)",
      "language": "python"
    },
    "language_info": {
      "codemirror_mode": {
        "name": "python",
        "version": 3
      },
      "file_extension": ".py",
      "mimetype": "text/x-python",
      "name": "python",
      "nbconvert_exporter": "python",
      "pygments_lexer": "ipython3",
      "version": "3.8"
    }
  },
  "nbformat_minor": 4,
  "nbformat": 4,
  "cells": [
    {
      "cell_type": "markdown",
      "source": "# **Topic 1. 데이터 시각화 개요_실습**",
      "metadata": {
        "id": "mVOYUVwYNrob"
      }
    },
    {
      "cell_type": "markdown",
      "source": "## **(1) 실습 : 라이브러리 불러오기**\n\n* ① matplotlib.pyplot 라이브러리를 불러옵니다.\n    * 별칭은 plt로 지정\n* ② seaborn 라이브러리를 불러옵니다.\n    * 별칭은 sns로 지정",
      "metadata": {
        "id": "jtOUt7kVWs9D"
      }
    },
    {
      "cell_type": "code",
      "source": "# jupyter lite에서 패키지 설치\nimport piplite\nawait piplite.install(\"seaborn\")",
      "metadata": {
        "trusted": true
      },
      "execution_count": 1,
      "outputs": []
    },
    {
      "cell_type": "markdown",
      "source": "* ① matplotlib.pyplot",
      "metadata": {
        "id": "v6fzCG-GK-n1"
      }
    },
    {
      "cell_type": "code",
      "source": "import matplotlib.pyplot as plt",
      "metadata": {
        "id": "HPNJ7Sp_S9sf",
        "trusted": true
      },
      "execution_count": 2,
      "outputs": []
    },
    {
      "cell_type": "markdown",
      "source": "* ② seaborn\n",
      "metadata": {
        "id": "96i4bUzTT-pv"
      }
    },
    {
      "cell_type": "code",
      "source": "import seaborn as sns",
      "metadata": {
        "id": "fcl174mmT-qG",
        "trusted": true
      },
      "execution_count": 3,
      "outputs": []
    }
  ]
}