{
  "metadata": {
    "colab": {
      "provenance": [],
      "toc_visible": true
    },
    "toc-autonumbering": false,
    "toc-showmarkdowntxt": false,
    "kernelspec": {
      "name": "python",
      "display_name": "Python (Pyodide)",
      "language": "python"
    },
    "language_info": {
      "codemirror_mode": {
        "name": "python",
        "version": 3
      },
      "file_extension": ".py",
      "mimetype": "text/x-python",
      "name": "python",
      "nbconvert_exporter": "python",
      "pygments_lexer": "ipython3",
      "version": "3.8"
    }
  },
  "nbformat_minor": 0,
  "nbformat": 4,
  "cells": [
    {
      "cell_type": "markdown",
      "source": [
        "# **Topic 1. 시계열 데이터 시각화_실습**"
      ],
      "metadata": {
        "id": "mVOYUVwYNrob"
      }
    },
    {
      "cell_type": "markdown",
      "source": [
        "## **(1) 환경준비**"
      ],
      "metadata": {
        "id": "jtOUt7kVWs9D"
      }
    },
    {
      "cell_type": "markdown",
      "source": [
        "### 1) 라이브러리 불러오기"
      ],
      "metadata": {
        "id": "Uj2_4_07WDpA"
      }
    },
    {
      "cell_type": "code",
      "source": [
        "# jupyter lite에서 패키지 설치\n",
        "import piplite\n",
        "await piplite.install(\"seaborn\")"
      ],
      "metadata": {
        "trusted": true,
        "id": "OJBOgQy7_JlA"
      },
      "execution_count": null,
      "outputs": []
    },
    {
      "cell_type": "code",
      "source": [
        "import pandas as pd\n",
        "import numpy as np\n",
        "import matplotlib.pyplot as plt\n",
        "import seaborn as sns"
      ],
      "metadata": {
        "id": "j-ggcuejWF7F",
        "trusted": true
      },
      "execution_count": null,
      "outputs": []
    },
    {
      "cell_type": "markdown",
      "source": [
        "### 2) 데이터 불러오기"
      ],
      "metadata": {
        "id": "nT8jaWQoWJvI"
      }
    },
    {
      "cell_type": "markdown",
      "source": [
        "* **[retail 데이터 셋 정보]**"
      ],
      "metadata": {
        "id": "Zw6-4AGg_JlB"
      }
    },
    {
      "cell_type": "markdown",
      "source": [
        "|\t변수\t|\t설명\t|\n",
        "|----|----|\n",
        "|date| 날짜 |\n",
        "|sales| 판매량|"
      ],
      "metadata": {
        "id": "AKfZSXkZ7nq6"
      }
    },
    {
      "cell_type": "code",
      "source": [
        "retail = pd.read_csv('retail.csv')\n",
        "retail['date'] = pd.to_datetime(retail['date']) # 날짜 타입으로 변환\n",
        "retail.head()"
      ],
      "metadata": {
        "id": "5bYePZL-45qo",
        "trusted": true
      },
      "execution_count": null,
      "outputs": []
    },
    {
      "cell_type": "markdown",
      "source": [
        "## **(2) 실습1 : 라인차트**\n",
        "\n",
        "* ① retail 전체 데이터에 대해 라인차트를 그려 봅시다.\n",
        "* ② 6~7월에 대한 라인차트를 그려봅시다.\n",
        "* ③ 두 그래프로 부터 보이는 패턴을 적어봅시다."
      ],
      "metadata": {
        "id": "KH0k96uzXvsk",
        "tags": []
      }
    },
    {
      "cell_type": "markdown",
      "source": [
        "① retail 전체 데이터에 대해 라인차트를 그려 봅시다."
      ],
      "metadata": {
        "id": "r-S_C49I9Ncq"
      }
    },
    {
      "cell_type": "code",
      "source": [
        "plt.plot(retail['date'], retail['sales'])\n",
        "plt.grid()\n",
        "plt.show()"
      ],
      "metadata": {
        "id": "8oPLTJEwXvsm",
        "trusted": true
      },
      "execution_count": null,
      "outputs": []
    },
    {
      "cell_type": "markdown",
      "source": [
        "② 6~7월에 대한 라인차트를 그려봅시다."
      ],
      "metadata": {
        "id": "1UABhuth2krW"
      }
    },
    {
      "cell_type": "code",
      "source": [
        "temp = retail.loc[retail['date'].dt.month.between( 6, 7 )]\n",
        "plt.plot(temp['date'], temp['sales'] )\n",
        "plt.xticks(rotation = 45)\n",
        "plt.grid()\n",
        "plt.show()"
      ],
      "metadata": {
        "id": "1FglpLd32krW",
        "trusted": true
      },
      "execution_count": null,
      "outputs": []
    },
    {
      "cell_type": "markdown",
      "source": [
        "③ 두 그래프로 부터 보이는 패턴을 적어봅시다."
      ],
      "metadata": {
        "id": "YO2ZQosG_JlC"
      }
    },
    {
      "cell_type": "code",
      "source": [
        "# ① retail 전체 그래프 : 추세 - 여름에 판매량이 높고, 겨울은 낮다.\n",
        "# ② 6~7월 그래프 : 주기 - 주간단위 주기가 있다."
      ],
      "metadata": {
        "id": "dJwPcLRc_JlC"
      },
      "execution_count": null,
      "outputs": []
    },
    {
      "cell_type": "markdown",
      "source": [
        "## **(3) 실습2 : 패턴 도출**\n",
        "* ① 7일 이동평균 변수를 추가하고 라인차트로 그려봅시다.\n",
        "* ② 7일전과의 차이 변수를 추가하고 히스토그램으로 그려봅시다."
      ],
      "metadata": {
        "tags": [],
        "id": "W6QkX_QX_JlC"
      }
    },
    {
      "cell_type": "markdown",
      "source": [
        "① 7일 이동평균 변수를 추가하고 라인차트로 그려봅시다."
      ],
      "metadata": {
        "id": "0mNqVBz5_JlD"
      }
    },
    {
      "cell_type": "code",
      "source": [
        "# 이동평균 추가\n",
        "retail['sales_MA7'] = retail['sales'].rolling(7, min_periods = 1).mean()\n",
        "retail.head()"
      ],
      "metadata": {
        "trusted": true,
        "id": "APPaQHd5_JlD"
      },
      "execution_count": null,
      "outputs": []
    },
    {
      "cell_type": "code",
      "source": [
        "# 이동평균 추가한 라인차트\n",
        "plt.plot(retail['date'], retail['sales'], label = 'sales')\n",
        "plt.plot(retail['date'], retail['sales_MA7'], label = 'sales_MA7')\n",
        "plt.legend()\n",
        "plt.grid()\n",
        "plt.show()"
      ],
      "metadata": {
        "id": "gJEEFKF49r3X",
        "trusted": true
      },
      "execution_count": null,
      "outputs": []
    },
    {
      "cell_type": "markdown",
      "source": [
        "② 7일전과의 차이 변수를 추가하고 히스토그램으로 그려봅시다."
      ],
      "metadata": {
        "id": "LlpobiMQ_JlD"
      }
    },
    {
      "cell_type": "code",
      "source": [
        "# 변화량 추가\n",
        "retail['sales_diff7'] = retail['sales'].diff(7)\n",
        "retail.head(10)"
      ],
      "metadata": {
        "trusted": true,
        "id": "RdSxG3OF_JlD"
      },
      "execution_count": null,
      "outputs": []
    },
    {
      "cell_type": "code",
      "source": [
        "# 히스토그램 비교\n",
        "plt.figure(figsize = (8,4))\n",
        "plt.subplot(1,2,1)\n",
        "sns.histplot(x = 'sales', data = retail, bins = 30)\n",
        "plt.subplot(1,2,2)\n",
        "sns.histplot(x = 'sales_diff7', data = retail, bins = 30)\n",
        "\n",
        "plt.tight_layout()\n",
        "plt.show()"
      ],
      "metadata": {
        "trusted": true,
        "id": "v7aoW0oR_JlD"
      },
      "execution_count": null,
      "outputs": []
    }
  ]
}