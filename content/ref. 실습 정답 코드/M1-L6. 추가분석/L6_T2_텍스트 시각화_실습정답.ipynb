{
  "cells": [
    {
      "cell_type": "markdown",
      "metadata": {
        "id": "mVOYUVwYNrob"
      },
      "source": [
        "# **Topic 2. 텍스트 시각화_실습**"
      ]
    },
    {
      "cell_type": "markdown",
      "metadata": {
        "id": "jtOUt7kVWs9D"
      },
      "source": [
        "## **(1) 환경준비**"
      ]
    },
    {
      "cell_type": "code",
      "execution_count": null,
      "metadata": {
        "id": "_HsyvETZEkzQ"
      },
      "outputs": [],
      "source": [
        "# jupyter lite에서 패키지 설치\n",
        "import piplite\n",
        "await piplite.install(\"seaborn\")\n",
        "await piplite.install(\"wordcloud\")"
      ]
    },
    {
      "cell_type": "code",
      "execution_count": null,
      "metadata": {
        "id": "j-ggcuejWF7F"
      },
      "outputs": [],
      "source": [
        "import pandas as pd\n",
        "import numpy as np\n",
        "import matplotlib.pyplot as plt\n",
        "import seaborn as sns\n",
        "\n",
        "from collections import Counter\n",
        "from wordcloud import WordCloud"
      ]
    },
    {
      "cell_type": "markdown",
      "metadata": {
        "id": "nT8jaWQoWJvI"
      },
      "source": [
        "## **(2) 실습1 : 텍스트 전처리**\n",
        "\n",
        "* ① 텍스트 파일 읽기 :\n",
        "    * 주어진 데이터는 제인오스틴의 유명한 소설 '엠마(emma.txt)' 입니다.\n",
        "    * 이 파일을 읽어서 변수 text에 저장합니다.\n",
        "* ② 문장에서 단어 추출하기 : 저장한 변수 text로 부터 단어를 분리해서 리스트로 저장합니다.\n",
        "* ③ 추출한 단어 정제 : 쉼표와 마침표 제거, 모두 소문자로 변환합니다."
      ]
    },
    {
      "cell_type": "markdown",
      "metadata": {
        "id": "YbcG6POAXDsM"
      },
      "source": [
        "* **① 텍스트 파일 읽기**"
      ]
    },
    {
      "cell_type": "code",
      "execution_count": null,
      "metadata": {
        "id": "DhZz67UbUxOA"
      },
      "outputs": [],
      "source": [
        "# 텍스트 파일을 읽기 모드('r')로 오픈합니다.\n",
        "file = open('emma.txt', \"r\")\n",
        "text = file.read() # 파일 내용을 읽어서 text에 저장하기\n",
        "file.close() # 오픈한 파일을 닫기"
      ]
    },
    {
      "cell_type": "code",
      "execution_count": null,
      "metadata": {
        "collapsed": true,
        "jupyter": {
          "outputs_hidden": true
        },
        "tags": [],
        "id": "fabZic6FEkzR"
      },
      "outputs": [],
      "source": [
        "# 저장한 내용을 확인해 봅시다.\n",
        "text"
      ]
    },
    {
      "cell_type": "markdown",
      "metadata": {
        "id": "Bro5QrG8XCxJ"
      },
      "source": [
        "* **② 문장에서 단어 추출하기**"
      ]
    },
    {
      "cell_type": "code",
      "execution_count": null,
      "metadata": {
        "id": "UGyTvp0UXMIY"
      },
      "outputs": [],
      "source": [
        "# 텍스트들을 단어 단위로 잘라 리스트에 담습니다.\n",
        "wordList = text.split()"
      ]
    },
    {
      "cell_type": "code",
      "execution_count": null,
      "metadata": {
        "id": "h2DXFDxEEkzS"
      },
      "outputs": [],
      "source": [
        "wordList[:10]"
      ]
    },
    {
      "cell_type": "markdown",
      "metadata": {
        "id": "HmJsTgl-EkzS"
      },
      "source": [
        "* **③ 추출한 단어 정제**"
      ]
    },
    {
      "cell_type": "code",
      "execution_count": null,
      "metadata": {
        "id": "wNaR3aULEkzS"
      },
      "outputs": [],
      "source": [
        "# 단어의 갯수\n",
        "n = len(wordList)\n",
        "\n",
        "# 리스트에서 단어 하나씩 뽑아다가 수정하기\n",
        "for i in range(n):\n",
        "    wordList[i] = wordList[i].replace(',', '')   # 단어에서 , 빼기\n",
        "    wordList[i] = wordList[i].replace('.', '')   # 단어에서 . 빼기\n",
        "    wordList[i] = wordList[i].lower()        # 모두 소문자로 변환"
      ]
    },
    {
      "cell_type": "code",
      "execution_count": null,
      "metadata": {
        "id": "gPEc53wYEkzT"
      },
      "outputs": [],
      "source": [
        "wordList[:10]"
      ]
    },
    {
      "cell_type": "markdown",
      "metadata": {
        "id": "EgZjRretYB3q"
      },
      "source": [
        "## **(3) 실습2 : 키워드 분석**\n",
        "* ① 단어 빈도수 계산\n",
        "    * Counter 함수로 빈도수를 계산하여 딕셔너리 형태로 저장합니다.\n",
        "    * 불용어를 제외합니다.\n",
        "* ② 시각화(워드클라우드)"
      ]
    },
    {
      "cell_type": "markdown",
      "metadata": {
        "id": "gX83ybZiYB39"
      },
      "source": [
        "* **① 단어 빈도수 계산**"
      ]
    },
    {
      "cell_type": "code",
      "execution_count": null,
      "metadata": {
        "id": "YgXlqUofYB39"
      },
      "outputs": [],
      "source": [
        "# Counter 함수 : 단어와 빈도수를 계산하여 딕셔너리형태로 저장\n",
        "wordCount = Counter(wordList)"
      ]
    },
    {
      "cell_type": "code",
      "execution_count": null,
      "metadata": {
        "id": "KjlpWnoiEkzT"
      },
      "outputs": [],
      "source": [
        "# 아래 불용어 목록에 더 추가해 봅시다.\n",
        "del_word = ['the','a','is','are', 'not','of','on','that','this','we','have','will'\n",
        "            ,'and','be','to', 'from', 'was', 'And','had','it','he','as','our','let','i','with'\n",
        "            ,'The','his','were','in','by','you','she','her','for','very','mr','but','so']\n",
        "\n",
        "for w in del_word :       # del_word에서 하나씩 읽어서\n",
        "    if w in wordCount :   # 읽은 단어가 wordCount에 있으면\n",
        "        del wordCount[w]  # wordCount에서 해당 단어 삭제"
      ]
    },
    {
      "cell_type": "markdown",
      "metadata": {
        "id": "QfMyLGYHYB3-"
      },
      "source": [
        "* **② 시각화(워드클라우드)**"
      ]
    },
    {
      "cell_type": "code",
      "execution_count": null,
      "metadata": {
        "id": "qgNEWn5-YB3-"
      },
      "outputs": [],
      "source": [
        "# word cloud 그리기 : 크기를 입력하고, 위에서 만든 키워드빈도 데이터를 넣어서 워드클라우드를 만들어 봅시다.\n",
        "wordcloud = WordCloud(width = 600, height = 400).generate_from_frequencies(wordCount)\n",
        "\n",
        "plt.figure(figsize=(8,6)) # 그림 크기 조정 가로 8, 세로 6\n",
        "plt.imshow(wordcloud)      # 이미지 보여줄 준비\n",
        "plt.show()                 # 화면에 출력"
      ]
    },
    {
      "cell_type": "code",
      "execution_count": null,
      "metadata": {
        "id": "nDRueOEMEkzU"
      },
      "outputs": [],
      "source": []
    }
  ],
  "metadata": {
    "colab": {
      "provenance": [],
      "toc_visible": true
    },
    "kernelspec": {
      "display_name": "Python 3 (ipykernel)",
      "language": "python",
      "name": "python3"
    },
    "language_info": {
      "codemirror_mode": {
        "name": "ipython",
        "version": 3
      },
      "file_extension": ".py",
      "mimetype": "text/x-python",
      "name": "python",
      "nbconvert_exporter": "python",
      "pygments_lexer": "ipython3",
      "version": "3.11.5"
    },
    "toc-autonumbering": false,
    "toc-showmarkdowntxt": false
  },
  "nbformat": 4,
  "nbformat_minor": 0
}