{
  "cells": [
    {
      "cell_type": "markdown",
      "metadata": {
        "id": "qXUBfCONOdID"
      },
      "source": [
        "# **Lesson 7. 직원 퇴사 분석 및 예측**"
      ]
    },
    {
      "cell_type": "markdown",
      "metadata": {
        "id": "QB2bBgnB8NM7"
      },
      "source": [
        "* 실습 배경\n",
        "    * 00 회사의 인사팀 A 팀장은 최근 가속화되고 있는 직원들의 퇴사 현황에 대해 깊게 고민하고 있습니다. \n",
        "    * 이는 업무 공백뿐만 아니라, 향후 신규 직원을 영입하는 데에도 어려움을 초래하기 때문입니다.\n",
        "    * 최근 퇴사율을 줄이기 위해 퇴사가 예상되는 직원들과 개인 면담을 진행하거나 근무 만족도를 평가하기 위한 설문을 진행하는 등 다양한 노력을 시도하고 있지만, 여전히 퇴사율은 감소하지 않고 있는데요.\n",
        "    * 이에 A 팀장은 데이터 분석을 활용해 직원들이 퇴사하는 주요 원인을 파악하고, 복지와 근무 환경을 개선해 퇴사를 방지하기 위한 전략을 수립하고자 합니다.\n",
        "\n",
        "* 데이터 분석 목표\n",
        "    * ① 문제 정의 및 요인 파악을 위한 가설 확인\n",
        "    * ② 중요 변수 발견 : 어떤 변수가 퇴사여부에 영향을 미치는지 변수를 확인\n",
        "    * ③ 퇴사와 퇴사에 영향을 주는 변수 간의 관계 분석\n"
      ]
    },
    {
      "cell_type": "markdown",
      "metadata": {
        "id": "DAR82IvULLEt"
      },
      "source": [
        "## **1.환경준비**"
      ]
    },
    {
      "cell_type": "markdown",
      "metadata": {
        "id": "QDhLvPrGqhKA"
      },
      "source": [
        "### **(1) 라이브러리 로딩**"
      ]
    },
    {
      "cell_type": "code",
      "execution_count": null,
      "metadata": {
        "trusted": true
      },
      "outputs": [],
      "source": [
        "# jupyter lite에서 패키지 설치\n",
        "import piplite\n",
        "await piplite.install(\"seaborn\")"
      ]
    },
    {
      "cell_type": "code",
      "execution_count": null,
      "metadata": {
        "id": "bTVrr9iaLNsy",
        "trusted": true
      },
      "outputs": [],
      "source": [
        "import pandas as pd\n",
        "import numpy as np\n",
        "\n",
        "import matplotlib.pyplot as plt\n",
        "import seaborn as sns\n",
        "\n",
        "from statsmodels.graphics.mosaicplot import mosaic   "
      ]
    },
    {
      "cell_type": "markdown",
      "metadata": {
        "id": "PICN-zK6qlil"
      },
      "source": [
        "### **(2) 데이터 로딩**"
      ]
    },
    {
      "cell_type": "markdown",
      "metadata": {
        "id": "zYKHwYHatC4k"
      },
      "source": [
        "|\t변수명\t|\t설명\t|\t구분\t|  데이터 유형 |\n",
        "|----|----|----|----|\n",
        "|\tAttrition \t|\t 직원 이직여부(0-잔류, 1 - 이직)\t|\tTarget\t| 범주형 |\n",
        "|\tAge \t|\t직원 나이\t|\tfeature\t| 수치형 |\n",
        "|\tDistance \t|\t 출퇴근 거리\t|\tfeature\t| 수치형 |\n",
        "|\tGender \t|\t 성별(Female, Male) \t|\tfeature\t| 범주형 |\n",
        "|\tJobSat \t|\t 직무만족도\t|\tfeature\t| 범주형 |\n",
        "|\tMarital \t|\t 결혼상태(Single, Married, Divorced)\t|\tfeature\t| 범주형 |\n",
        "|\tIncome \t|\t 월급($) \t|\tfeature\t| 수치형 |\n",
        "|\tTotalYear \t|\t 총 경력 연수\t|\tfeature\t| 수치형 |\n",
        "\n"
      ]
    },
    {
      "cell_type": "code",
      "execution_count": null,
      "metadata": {
        "id": "QG28HshT8SfH",
        "trusted": true
      },
      "outputs": [],
      "source": [
        "path = 'Employee_Attrition.csv'\n",
        "data = pd.read_csv(path)"
      ]
    },
    {
      "cell_type": "markdown",
      "metadata": {
        "id": "SpEFHt5QewTI"
      },
      "source": [
        "## **2.기본 탐색**"
      ]
    },
    {
      "cell_type": "markdown",
      "metadata": {
        "id": "thQJEoEze3ke"
      },
      "source": [
        "### **(1) 상위, 하위 5개의 정보 확인**\n",
        "* .head()\n",
        "* .tail()"
      ]
    },
    {
      "cell_type": "code",
      "execution_count": null,
      "metadata": {
        "id": "BY7a4N5wewj5",
        "trusted": true
      },
      "outputs": [],
      "source": [
        "data.head()"
      ]
    },
    {
      "cell_type": "code",
      "execution_count": null,
      "metadata": {
        "id": "ykqYxZC_ewge",
        "trusted": true
      },
      "outputs": [],
      "source": [
        "data.tail()"
      ]
    },
    {
      "cell_type": "markdown",
      "metadata": {
        "id": "k1328Lu7ewP1",
        "tags": []
      },
      "source": [
        "### **(2) 데이터프레임 정보 확인**\n",
        "* .info()"
      ]
    },
    {
      "cell_type": "code",
      "execution_count": null,
      "metadata": {
        "id": "3QbiOdtFfO7e",
        "trusted": true
      },
      "outputs": [],
      "source": [
        "data.info()"
      ]
    },
    {
      "cell_type": "markdown",
      "metadata": {
        "id": "J-JZ79AtfVAB"
      },
      "source": [
        "## **3.단변량 분석**"
      ]
    },
    {
      "cell_type": "markdown",
      "metadata": {
        "id": "k9yKRvZjfm06"
      },
      "source": [
        "### **(1) 수치형 변수**\n",
        "\n",
        "* 기초통계량 : .describe()\n",
        "* 그래프 : 히스토그램, 박스플롯 등"
      ]
    },
    {
      "cell_type": "markdown",
      "metadata": {
        "id": "S7P-tDDUfp8y"
      },
      "source": [
        "#### **1)  Age**"
      ]
    },
    {
      "cell_type": "code",
      "execution_count": null,
      "metadata": {
        "trusted": true
      },
      "outputs": [],
      "source": [
        "var = 'Age'"
      ]
    },
    {
      "cell_type": "markdown",
      "metadata": {
        "id": "MQNTMLD9hcgT"
      },
      "source": [
        "* 기초통계량과 그래프"
      ]
    },
    {
      "cell_type": "code",
      "execution_count": null,
      "metadata": {
        "id": "VgDfL98cfqQh",
        "trusted": true
      },
      "outputs": [],
      "source": [
        "# 기초통계량\n",
        "display(data[[var]].describe().T)\n",
        "\n",
        "# 그래프\n",
        "plt.figure(figsize = (7,5))\n",
        "plt.subplot(2,1,1)\n",
        "sns.histplot(x = var, data = data, bins = 30, kde = True)\n",
        "plt.grid()\n",
        "\n",
        "plt.subplot(2,1,2)\n",
        "sns.boxplot(x = var, data = data)\n",
        "plt.grid()\n",
        "\n",
        "plt.tight_layout()\n",
        "plt.show()"
      ]
    },
    {
      "cell_type": "markdown",
      "metadata": {
        "id": "y9JvAUNHhftm"
      },
      "source": [
        "* 파악한 내용을 적어 봅시다."
      ]
    },
    {
      "cell_type": "code",
      "execution_count": null,
      "metadata": {
        "id": "-eT2mZ_dhhVO"
      },
      "outputs": [],
      "source": [
        "# 밀집구간 : 29~35 젊은 직원들이 많음\n",
        "# 희박구간 : 42~60 40대 직원이 적음\n",
        "# 정년이 60?"
      ]
    },
    {
      "cell_type": "markdown",
      "metadata": {
        "id": "Gmjy0Wzbfw5b"
      },
      "source": [
        "#### **2)  Distance**"
      ]
    },
    {
      "cell_type": "code",
      "execution_count": null,
      "metadata": {
        "trusted": true
      },
      "outputs": [],
      "source": [
        "var = 'Distance'"
      ]
    },
    {
      "cell_type": "markdown",
      "metadata": {
        "id": "MQNTMLD9hcgT"
      },
      "source": [
        "* 기초통계량과 그래프"
      ]
    },
    {
      "cell_type": "code",
      "execution_count": null,
      "metadata": {
        "id": "VgDfL98cfqQh",
        "trusted": true
      },
      "outputs": [],
      "source": [
        "# 기초통계량\n",
        "display(data[[var]].describe().T)\n",
        "\n",
        "# 그래프\n",
        "plt.figure(figsize = (7,5))\n",
        "plt.subplot(2,1,1)\n",
        "sns.histplot(x = var, data = data, bins = 30, kde = True)\n",
        "plt.grid()\n",
        "\n",
        "plt.subplot(2,1,2)\n",
        "sns.boxplot(x = var, data = data)\n",
        "plt.grid()\n",
        "\n",
        "plt.tight_layout()\n",
        "plt.show()"
      ]
    },
    {
      "cell_type": "markdown",
      "metadata": {
        "id": "vQCyrgDrhjO5"
      },
      "source": [
        "* 파악한 내용을 적어 봅시다."
      ]
    },
    {
      "cell_type": "code",
      "execution_count": null,
      "metadata": {
        "id": "vBuJr0qrfw5c"
      },
      "outputs": [],
      "source": [
        "# 밀집구간 : 1~2 - 회사 근처에 기숙사?\n",
        "# 희박구간 : 15~29 - 먼거리 출퇴근"
      ]
    },
    {
      "cell_type": "markdown",
      "metadata": {
        "id": "n6Ur695UgeKW",
        "tags": []
      },
      "source": [
        "#### **3) Income**"
      ]
    },
    {
      "cell_type": "code",
      "execution_count": null,
      "metadata": {
        "trusted": true
      },
      "outputs": [],
      "source": [
        "var = 'Income'"
      ]
    },
    {
      "cell_type": "markdown",
      "metadata": {
        "id": "MQNTMLD9hcgT"
      },
      "source": [
        "* 기초통계량과 그래프"
      ]
    },
    {
      "cell_type": "code",
      "execution_count": null,
      "metadata": {
        "id": "VgDfL98cfqQh",
        "trusted": true
      },
      "outputs": [],
      "source": [
        "# 기초통계량\n",
        "display(data[[var]].describe().T)\n",
        "\n",
        "# 그래프\n",
        "plt.figure(figsize = (7,5))\n",
        "plt.subplot(2,1,1)\n",
        "sns.histplot(x = var, data = data, bins = 30, kde = True)\n",
        "plt.grid()\n",
        "\n",
        "plt.subplot(2,1,2)\n",
        "sns.boxplot(x = var, data = data)\n",
        "plt.grid()\n",
        "\n",
        "plt.tight_layout()\n",
        "plt.show()"
      ]
    },
    {
      "cell_type": "markdown",
      "metadata": {
        "id": "I9a3LleihkV6"
      },
      "source": [
        "* 파악한 내용을 적어 봅시다."
      ]
    },
    {
      "cell_type": "code",
      "execution_count": null,
      "metadata": {
        "id": "4IJTIKKkhkV6"
      },
      "outputs": [],
      "source": [
        "# 75% 직원 1000 ~ 7500 달러\n",
        "# 25% 7500 ~ 20000"
      ]
    },
    {
      "cell_type": "markdown",
      "metadata": {
        "id": "Qv1cwLe-gk1J"
      },
      "source": [
        "#### **4) TotalYear**"
      ]
    },
    {
      "cell_type": "code",
      "execution_count": null,
      "metadata": {
        "trusted": true
      },
      "outputs": [],
      "source": [
        "var = 'TotalYear'"
      ]
    },
    {
      "cell_type": "markdown",
      "metadata": {
        "id": "MQNTMLD9hcgT"
      },
      "source": [
        "* 기초통계량과 그래프"
      ]
    },
    {
      "cell_type": "code",
      "execution_count": null,
      "metadata": {
        "id": "VgDfL98cfqQh",
        "trusted": true
      },
      "outputs": [],
      "source": [
        "# 기초통계량\n",
        "display(data[[var]].describe().T)\n",
        "\n",
        "# 그래프\n",
        "plt.figure(figsize = (7,5))\n",
        "plt.subplot(2,1,1)\n",
        "sns.histplot(x = var, data = data, bins = 30, kde = True)\n",
        "plt.grid()\n",
        "\n",
        "plt.subplot(2,1,2)\n",
        "sns.boxplot(x = var, data = data)\n",
        "plt.grid()\n",
        "\n",
        "plt.tight_layout()\n",
        "plt.show()"
      ]
    },
    {
      "cell_type": "markdown",
      "metadata": {
        "id": "ri70q276hlw1"
      },
      "source": [
        "* 파악한 내용을 적어 봅시다."
      ]
    },
    {
      "cell_type": "code",
      "execution_count": null,
      "metadata": {
        "id": "lmYxUVZghlw1"
      },
      "outputs": [],
      "source": [
        "# 밀집 : 6 ~ 9년차\n",
        "# 희박 : 14 ~ 40"
      ]
    },
    {
      "cell_type": "markdown",
      "metadata": {
        "id": "vDU0LiUZgtfj"
      },
      "source": [
        "### **(2) 범주형 변수**\n",
        "* 기초통계량 : 범주별 빈도수/비율\n",
        "* 그래프 : 막대 그래프(sns.countplot)"
      ]
    },
    {
      "cell_type": "markdown",
      "metadata": {
        "id": "MrXP5wQJgtfj"
      },
      "source": [
        "#### **1)  Attrition**"
      ]
    },
    {
      "cell_type": "code",
      "execution_count": null,
      "metadata": {
        "trusted": true
      },
      "outputs": [],
      "source": [
        "var = 'Attrition'"
      ]
    },
    {
      "cell_type": "markdown",
      "metadata": {
        "id": "VcNNrb75hns-"
      },
      "source": [
        "* 기초통계량과 그래프"
      ]
    },
    {
      "cell_type": "code",
      "execution_count": null,
      "metadata": {
        "id": "kqLaa6a9k2vL",
        "trusted": true
      },
      "outputs": [],
      "source": [
        "# 기초통계량\n",
        "cnt = data[var].value_counts()\n",
        "rate = data[var].value_counts(normalize = True)\n",
        "display(pd.DataFrame({'cnt':cnt, 'rate':rate}))\n",
        "\n",
        "# 그래프\n",
        "plt.figure(figsize = (8,4))\n",
        "plt.subplot(1,2,1)\n",
        "sns.countplot(x = var, data = data)\n",
        "plt.grid()\n",
        "\n",
        "plt.subplot(1,2,2)\n",
        "temp = data[var].value_counts()\n",
        "plt.pie(temp.values, labels = temp.index, autopct = '%.1f%%')\n",
        "\n",
        "plt.tight_layout()\n",
        "plt.show()"
      ]
    },
    {
      "cell_type": "markdown",
      "metadata": {
        "id": "bygE98Hwhns_"
      },
      "source": [
        "* 파악한 내용을 적어 봅시다."
      ]
    },
    {
      "cell_type": "code",
      "execution_count": null,
      "metadata": {
        "id": "tf31eJnWhns_"
      },
      "outputs": [],
      "source": [
        "# 잔류 직원 - 67.5%\n",
        "# 퇴사 직원 - 32.5%"
      ]
    },
    {
      "cell_type": "markdown",
      "metadata": {
        "id": "o0iyuz2egtfk"
      },
      "source": [
        "#### **2) Gender**"
      ]
    },
    {
      "cell_type": "code",
      "execution_count": null,
      "metadata": {
        "trusted": true
      },
      "outputs": [],
      "source": [
        "var = 'Gender'"
      ]
    },
    {
      "cell_type": "markdown",
      "metadata": {
        "id": "VcNNrb75hns-"
      },
      "source": [
        "* 기초통계량과 그래프"
      ]
    },
    {
      "cell_type": "code",
      "execution_count": null,
      "metadata": {
        "id": "kqLaa6a9k2vL",
        "trusted": true
      },
      "outputs": [],
      "source": [
        "# 기초통계량\n",
        "cnt = data[var].value_counts()\n",
        "rate = data[var].value_counts(normalize = True)\n",
        "display(pd.DataFrame({'cnt':cnt, 'rate':rate}))\n",
        "\n",
        "# 그래프\n",
        "plt.figure(figsize = (8,4))\n",
        "plt.subplot(1,2,1)\n",
        "sns.countplot(x = var, data = data)\n",
        "plt.grid()\n",
        "\n",
        "plt.subplot(1,2,2)\n",
        "temp = data[var].value_counts()\n",
        "plt.pie(temp.values, labels = temp.index, autopct = '%.1f%%')\n",
        "\n",
        "plt.tight_layout()\n",
        "plt.show()"
      ]
    },
    {
      "cell_type": "markdown",
      "metadata": {
        "id": "1i9OIjtchpBd"
      },
      "source": [
        "* 파악한 내용을 적어 봅시다."
      ]
    },
    {
      "cell_type": "code",
      "execution_count": null,
      "metadata": {
        "id": "k6tFt-CPhpBe"
      },
      "outputs": [],
      "source": [
        "# 남자 62.8%\n",
        "# 여자 37.2%"
      ]
    },
    {
      "cell_type": "markdown",
      "metadata": {
        "id": "vn5grt7Egtfk",
        "tags": []
      },
      "source": [
        "#### **3) JobSat**"
      ]
    },
    {
      "cell_type": "code",
      "execution_count": null,
      "metadata": {
        "trusted": true
      },
      "outputs": [],
      "source": [
        "var = 'JobSat'"
      ]
    },
    {
      "cell_type": "markdown",
      "metadata": {
        "id": "VcNNrb75hns-"
      },
      "source": [
        "* 기초통계량과 그래프"
      ]
    },
    {
      "cell_type": "code",
      "execution_count": null,
      "metadata": {
        "id": "kqLaa6a9k2vL",
        "trusted": true
      },
      "outputs": [],
      "source": [
        "# 기초통계량\n",
        "cnt = data[var].value_counts()\n",
        "rate = data[var].value_counts(normalize = True)\n",
        "display(pd.DataFrame({'cnt':cnt, 'rate':rate}))\n",
        "\n",
        "# 그래프\n",
        "plt.figure(figsize = (8,4))\n",
        "plt.subplot(1,2,1)\n",
        "sns.countplot(x = var, data = data)\n",
        "plt.grid()\n",
        "\n",
        "plt.subplot(1,2,2)\n",
        "temp = data[var].value_counts()\n",
        "plt.pie(temp.values, labels = temp.index, autopct = '%.1f%%')\n",
        "\n",
        "plt.tight_layout()\n",
        "plt.show()"
      ]
    },
    {
      "cell_type": "markdown",
      "metadata": {
        "id": "OH3URk2DhqMj"
      },
      "source": [
        "* 파악한 내용을 적어 봅시다."
      ]
    },
    {
      "cell_type": "code",
      "execution_count": null,
      "metadata": {
        "id": "QKhW6PAghqMj",
        "tags": []
      },
      "outputs": [],
      "source": [
        "# 전체 직원중 불만인 직원의 비율이 약 40%\n",
        "# 매우만족이 제일 높다. 30.8%"
      ]
    },
    {
      "cell_type": "markdown",
      "metadata": {
        "id": "vn5grt7Egtfk",
        "tags": []
      },
      "source": [
        "#### **4) Marital**"
      ]
    },
    {
      "cell_type": "code",
      "execution_count": null,
      "metadata": {
        "trusted": true
      },
      "outputs": [],
      "source": [
        "var = 'Marital'"
      ]
    },
    {
      "cell_type": "markdown",
      "metadata": {
        "id": "VcNNrb75hns-"
      },
      "source": [
        "* 기초통계량과 그래프"
      ]
    },
    {
      "cell_type": "code",
      "execution_count": null,
      "metadata": {
        "id": "kqLaa6a9k2vL",
        "trusted": true
      },
      "outputs": [],
      "source": [
        "# 기초통계량\n",
        "cnt = data[var].value_counts()\n",
        "rate = data[var].value_counts(normalize = True)\n",
        "display(pd.DataFrame({'cnt':cnt, 'rate':rate}))\n",
        "\n",
        "# 그래프\n",
        "plt.figure(figsize = (8,4))\n",
        "plt.subplot(1,2,1)\n",
        "sns.countplot(x = var, data = data)\n",
        "plt.grid()\n",
        "\n",
        "plt.subplot(1,2,2)\n",
        "temp = data[var].value_counts()\n",
        "plt.pie(temp.values, labels = temp.index, autopct = '%.1f%%')\n",
        "\n",
        "plt.tight_layout()\n",
        "plt.show()"
      ]
    },
    {
      "cell_type": "markdown",
      "metadata": {
        "id": "OH3URk2DhqMj"
      },
      "source": [
        "* 파악한 내용을 적어 봅시다."
      ]
    },
    {
      "cell_type": "code",
      "execution_count": null,
      "metadata": {
        "id": "QKhW6PAghqMj"
      },
      "outputs": [],
      "source": [
        "# 싱글 : 35.7%\n",
        "# 기혼 : 45.7%\n",
        "# 이혼 : 18.7%"
      ]
    },
    {
      "cell_type": "markdown",
      "metadata": {
        "id": "4hzLzBmgJCPm"
      },
      "source": [
        "## **4.이변량분석**"
      ]
    },
    {
      "cell_type": "code",
      "execution_count": null,
      "metadata": {
        "id": "qZ13M3G6y1h3",
        "trusted": true
      },
      "outputs": [],
      "source": [
        "target = 'Attrition'"
      ]
    },
    {
      "cell_type": "markdown",
      "metadata": {
        "id": "VOUBk-eqqBZD"
      },
      "source": [
        "### **(1) 숫자형 X --> Y**"
      ]
    },
    {
      "cell_type": "markdown",
      "metadata": {
        "id": "afL0_rKpEoTz"
      },
      "source": [
        "#### **1) Age -> Attrition**"
      ]
    },
    {
      "cell_type": "markdown",
      "metadata": {
        "id": "VoWrOOgZjUHy"
      },
      "source": [
        "* 그래프"
      ]
    },
    {
      "cell_type": "code",
      "execution_count": null,
      "metadata": {
        "id": "4Fo6Vzsiyv6d",
        "tags": [],
        "trusted": true
      },
      "outputs": [],
      "source": [
        "var = 'Age'\n",
        "sns.barplot(x = target, y = var, data = data)\n",
        "plt.grid()\n",
        "plt.show()"
      ]
    },
    {
      "cell_type": "markdown",
      "metadata": {
        "id": "uP5mxn4kzpYL"
      },
      "source": [
        " * 파악한 내용을 적어 봅시다."
      ]
    },
    {
      "cell_type": "code",
      "execution_count": null,
      "metadata": {
        "id": "sjhPcWfPjbmI"
      },
      "outputs": [],
      "source": [
        "# 나이와 퇴사여부는 관련이 있다."
      ]
    },
    {
      "cell_type": "markdown",
      "metadata": {
        "id": "WkqKQdQADSiq"
      },
      "source": [
        "#### **2) Distance -> Attrition**"
      ]
    },
    {
      "cell_type": "markdown",
      "metadata": {
        "id": "VoWrOOgZjUHy"
      },
      "source": [
        "* 그래프"
      ]
    },
    {
      "cell_type": "code",
      "execution_count": null,
      "metadata": {
        "id": "4Fo6Vzsiyv6d",
        "trusted": true
      },
      "outputs": [],
      "source": [
        "var = 'Distance'\n",
        "sns.barplot(x = target, y = var, data = data)\n",
        "plt.grid()\n",
        "plt.show()"
      ]
    },
    {
      "cell_type": "markdown",
      "metadata": {
        "id": "ByKBXW7zjeI3"
      },
      "source": [
        " * 파악한 내용을 적어 봅시다."
      ]
    },
    {
      "cell_type": "code",
      "execution_count": null,
      "metadata": {
        "id": "_n1V1Z5HjeI4"
      },
      "outputs": [],
      "source": [
        "# 출퇴근 거리와 퇴사여부는 관련이 있다. 그러나 크지는 않다."
      ]
    },
    {
      "cell_type": "markdown",
      "metadata": {
        "id": "dGm2hHTFDSo4"
      },
      "source": [
        "#### **3) Income -> Attrition**"
      ]
    },
    {
      "cell_type": "markdown",
      "metadata": {
        "id": "XR9npWRqjitT"
      },
      "source": [
        "* 그래프"
      ]
    },
    {
      "cell_type": "code",
      "execution_count": null,
      "metadata": {
        "id": "qW1GUaTGjitU",
        "trusted": true
      },
      "outputs": [],
      "source": [
        "var = 'Income'\n",
        "sns.barplot(x = target, y = var, data = data)\n",
        "plt.grid()\n",
        "plt.show()"
      ]
    },
    {
      "cell_type": "markdown",
      "metadata": {
        "id": "ByKBXW7zjeI3"
      },
      "source": [
        " * 파악한 내용을 적어 봅시다."
      ]
    },
    {
      "cell_type": "code",
      "execution_count": null,
      "metadata": {},
      "outputs": [],
      "source": [
        "# 월급과 퇴사여부는 관련이 크다."
      ]
    },
    {
      "cell_type": "markdown",
      "metadata": {
        "id": "dGm2hHTFDSo4",
        "tags": []
      },
      "source": [
        "#### **4) TotalYear -> Attrition**"
      ]
    },
    {
      "cell_type": "markdown",
      "metadata": {
        "id": "XR9npWRqjitT"
      },
      "source": [
        "* 그래프"
      ]
    },
    {
      "cell_type": "code",
      "execution_count": null,
      "metadata": {
        "id": "qW1GUaTGjitU",
        "trusted": true
      },
      "outputs": [],
      "source": [
        "var = 'TotalYear'\n",
        "sns.barplot(x = target, y = var, data = data)\n",
        "plt.grid()\n",
        "plt.show()"
      ]
    },
    {
      "cell_type": "markdown",
      "metadata": {
        "id": "jZzcZQd9jitU"
      },
      "source": [
        " * 파악한 내용을 적어 봅시다."
      ]
    },
    {
      "cell_type": "code",
      "execution_count": null,
      "metadata": {
        "id": "33OIztN6jitU"
      },
      "outputs": [],
      "source": [
        "# 총경력 연수와 퇴사여부는 관련이 크다."
      ]
    },
    {
      "cell_type": "markdown",
      "metadata": {
        "id": "uFKvj_10EoQi"
      },
      "source": [
        "### **(2) 범주형 X --> Y**"
      ]
    },
    {
      "cell_type": "markdown",
      "metadata": {
        "id": "Um7zx9GQEoNk"
      },
      "source": [
        "#### **1) Gender -> Attrition**"
      ]
    },
    {
      "cell_type": "markdown",
      "metadata": {
        "id": "x6-EDDfS0AHi"
      },
      "source": [
        "* 그래프"
      ]
    },
    {
      "cell_type": "code",
      "execution_count": null,
      "metadata": {
        "id": "JWa_TXpt0EXI",
        "trusted": true
      },
      "outputs": [],
      "source": [
        "var = 'Gender'\n",
        "mosaic(data, [var, target])\n",
        "plt.axhline(1-data[target].mean(), color = 'red')\n",
        "plt.show()"
      ]
    },
    {
      "cell_type": "markdown",
      "metadata": {
        "id": "mDUboUHNj_hf"
      },
      "source": [
        " * 파악한 내용을 적어 봅시다."
      ]
    },
    {
      "cell_type": "code",
      "execution_count": null,
      "metadata": {
        "id": "lANyrDEpj_hg"
      },
      "outputs": [],
      "source": [
        "# 여자 : 퇴사율이 살짝 낮고\n",
        "# 남자 : 살짝 높다.\n",
        "# 성별과 퇴사여부는 관계가 거의 없다."
      ]
    },
    {
      "cell_type": "markdown",
      "metadata": {
        "id": "hak8yqOtqXU6"
      },
      "source": [
        "#### **2) JobSat -> Attrition**"
      ]
    },
    {
      "cell_type": "markdown",
      "metadata": {
        "id": "ZnJn1GjXkBhP"
      },
      "source": [
        "* 그래프"
      ]
    },
    {
      "cell_type": "code",
      "execution_count": null,
      "metadata": {
        "id": "0ihmeQAVkBhP",
        "trusted": true
      },
      "outputs": [],
      "source": [
        "var = 'JobSat'\n",
        "mosaic(data, [var, target])\n",
        "plt.axhline(1-data[target].mean(), color = 'red')\n",
        "plt.show()"
      ]
    },
    {
      "cell_type": "markdown",
      "metadata": {
        "id": "pvFR59YKkBhP"
      },
      "source": [
        " * 파악한 내용을 적어 봅시다."
      ]
    },
    {
      "cell_type": "code",
      "execution_count": null,
      "metadata": {
        "id": "ZjnD9l6XkBhQ"
      },
      "outputs": [],
      "source": [
        "# 직무만족도와 퇴사여부는 관계가 있다. 아주 강하지는 않다."
      ]
    },
    {
      "cell_type": "markdown",
      "metadata": {
        "id": "tNvcGTRdDR7W"
      },
      "source": [
        "#### **3) Marital -> Attrition**"
      ]
    },
    {
      "cell_type": "markdown",
      "metadata": {
        "id": "SipbprzRkCt4"
      },
      "source": [
        "* 그래프"
      ]
    },
    {
      "cell_type": "code",
      "execution_count": null,
      "metadata": {
        "id": "rkudUE3xkCt5",
        "trusted": true
      },
      "outputs": [],
      "source": [
        "var = 'Marital'\n",
        "mosaic(data, [var, target])\n",
        "plt.axhline(1-data[target].mean(), color = 'red')\n",
        "plt.show()"
      ]
    },
    {
      "cell_type": "markdown",
      "metadata": {
        "id": "WrkrHWPOkCt5"
      },
      "source": [
        " * 파악한 내용을 적어 봅시다."
      ]
    },
    {
      "cell_type": "code",
      "execution_count": null,
      "metadata": {
        "id": "xJr4dBNLkCt5"
      },
      "outputs": [],
      "source": [
        "# 결혼상태와 퇴사여부는 관련이 크다\n",
        "# 미혼 : 퇴사를 많이 하고\n",
        "# 이혼 : 퇴사를 제일 적게 한다."
      ]
    },
    {
      "cell_type": "markdown",
      "metadata": {
        "id": "jAegTwTNANYZ"
      },
      "source": [
        "### **(3) 관계 정리하기**"
      ]
    },
    {
      "cell_type": "markdown",
      "metadata": {
        "id": "FlI3Rsn_ANYc"
      },
      "source": [
        "* 강한관계"
      ]
    },
    {
      "cell_type": "code",
      "execution_count": null,
      "metadata": {
        "id": "Jd87-Q0fqbi5"
      },
      "outputs": [],
      "source": [
        "# Income, TotalYear, Marital, JobSat"
      ]
    },
    {
      "cell_type": "markdown",
      "metadata": {
        "id": "Ktdide4rANYd"
      },
      "source": [
        "* 중간관계"
      ]
    },
    {
      "cell_type": "code",
      "execution_count": null,
      "metadata": {
        "id": "tagYT1uqqbi6",
        "trusted": true
      },
      "outputs": [],
      "source": [
        "# Age, Distance, "
      ]
    },
    {
      "cell_type": "markdown",
      "metadata": {
        "id": "Kop_jo4nANYd"
      },
      "source": [
        "* 관계없음"
      ]
    },
    {
      "cell_type": "code",
      "execution_count": null,
      "metadata": {
        "id": "BiaX1oJjqbi7"
      },
      "outputs": [],
      "source": [
        "# Gender"
      ]
    },
    {
      "cell_type": "markdown",
      "metadata": {
        "id": "AhopsdLVqglH"
      },
      "source": [
        "## **5.예측 모델링**"
      ]
    },
    {
      "cell_type": "code",
      "execution_count": null,
      "metadata": {
        "id": "c1qy6xHXs7Uc",
        "trusted": true
      },
      "outputs": [],
      "source": [
        "from sklearn.model_selection import train_test_split\n",
        "from sklearn.tree import DecisionTreeClassifier, plot_tree\n",
        "from sklearn.metrics import *"
      ]
    },
    {
      "cell_type": "markdown",
      "metadata": {
        "id": "E9-cspoEqy6A"
      },
      "source": [
        "### **(1) 데이터 준비**\n",
        "* 모델링을 위해서는 데이터가 특별한 형태로 준비되어야 합니다.\n",
        "    * 본 실습에서는 준비에 대한 세세한 내용을 다루지는 않습니다.\n",
        "    * 가변수화 : 범주형 --> 수치형 변환\n",
        "    * 데이터 분할 : 학습용과 검증용 분할\n",
        "        * 학습용 : 모델링 용도\n",
        "        * 검증용 : 모델 성능 측정(검증)"
      ]
    },
    {
      "cell_type": "code",
      "execution_count": null,
      "metadata": {
        "id": "gaSC14wcqjy4",
        "trusted": true
      },
      "outputs": [],
      "source": [
        "# 데이터 분할1 : x, y 분할\n",
        "x = data.drop(target, axis = 1)\n",
        "y = data[target]"
      ]
    },
    {
      "cell_type": "code",
      "execution_count": null,
      "metadata": {
        "id": "AqLlrhnCscJc",
        "trusted": true
      },
      "outputs": [],
      "source": [
        "# 가변수화\n",
        "category_cols = ['Gender', 'JobSat', 'Marital']\n",
        "x['Gender'] = pd.Categorical(x['Gender'], categories = ['Female', 'Male'])\n",
        "x['JobSat'] = pd.Categorical(x['JobSat'], categories = [1,2,3,4])\n",
        "x['Marital'] = pd.Categorical(x['Marital'], categories = ['Single', 'Married', 'Divorced'])\n",
        "\n",
        "x = pd.get_dummies(x, columns = category_cols, drop_first = True)"
      ]
    },
    {
      "cell_type": "code",
      "execution_count": null,
      "metadata": {
        "id": "bd5sIiADsyYf",
        "trusted": true
      },
      "outputs": [],
      "source": [
        "# 데이터 분할2 : 학습용 : 검증용\n",
        "x_train, x_test, y_train, y_test = train_test_split(x, y, test_size = 0.2, random_state = 20)"
      ]
    },
    {
      "cell_type": "markdown",
      "metadata": {
        "id": "jWBw4A8-tOcR"
      },
      "source": [
        "### **(2) 모델링 및 평가**\n",
        "\n",
        "* 모델링 절차\n",
        "    * 선언\n",
        "    * 학습(모델링) : x_train, y_train\n",
        "    * 예측 : x_test\n",
        "    * 평가 : y_test, 예측값\n",
        "\n",
        "* 아래 주석으로 되어 있는 코드를 그대로 작성해 봅시다."
      ]
    },
    {
      "cell_type": "code",
      "execution_count": null,
      "metadata": {
        "id": "vZxA7syQtMdv",
        "trusted": true
      },
      "outputs": [],
      "source": [
        "# 선언 : model = DecisionTreeClassifier(max_depth = 2)\n",
        "model = DecisionTreeClassifier(max_depth = 2)"
      ]
    },
    {
      "cell_type": "code",
      "execution_count": null,
      "metadata": {
        "id": "lXXil6LnteQF",
        "trusted": true
      },
      "outputs": [],
      "source": [
        "# 학습 : model.fit(x_train, y_train)\n",
        "model.fit(x_train, y_train)"
      ]
    },
    {
      "cell_type": "code",
      "execution_count": null,
      "metadata": {
        "id": "ApoZuLCnths3",
        "trusted": true
      },
      "outputs": [],
      "source": [
        "# 예측 : pred = model.predict(x_test)\n",
        "pred = model.predict(x_test)"
      ]
    },
    {
      "cell_type": "code",
      "execution_count": null,
      "metadata": {
        "id": "KOdxaCjotpIM",
        "trusted": true
      },
      "outputs": [],
      "source": [
        "# 평가(정확도) : accuracy_score(y_test, pred)\n",
        "accuracy_score(y_test, pred)"
      ]
    },
    {
      "cell_type": "markdown",
      "metadata": {},
      "source": [
        "* 모델 사용하기\n",
        "    * 최근 A 부서의 김OO 대리가 업무에 집중하지 못하는 것 같으므로, 생성한 모델을 활용해 퇴사 가능성을 예측해 봅시다\n",
        "        * Age : 35세\n",
        "        * Distance : 15\n",
        "        * Gender : Male\n",
        "        * JobSat : 2\n",
        "        * Marital : Single\n",
        "        * Income  : 4600\n",
        "        * TotalYear : 5"
      ]
    },
    {
      "cell_type": "code",
      "execution_count": 97,
      "metadata": {
        "trusted": true
      },
      "outputs": [],
      "source": [
        "# 데이터 전처리\n",
        "newdata = pd.DataFrame({'Age' : [35], 'Distance' : [15], 'Gender' : ['Male'], 'JobSat':[2], 'Marital' : ['Single'], \n",
        "                        'Income' : [4600], 'TotalYear' : [5]})\n",
        "\n",
        "category_cols = ['Gender', 'JobSat', 'Marital']\n",
        "newdata['Gender'] = pd.Categorical(newdata['Gender'], categories = ['Female', 'Male'])\n",
        "newdata['JobSat'] = pd.Categorical(newdata['JobSat'], categories = [1,2,3,4])\n",
        "newdata['Marital'] = pd.Categorical(newdata['Marital'], categories = ['Single', 'Married', 'Divorced'])\n",
        "\n",
        "newdata = pd.get_dummies(newdata, columns = category_cols, drop_first = True)"
      ]
    },
    {
      "cell_type": "code",
      "execution_count": 98,
      "metadata": {
        "trusted": true
      },
      "outputs": [
        {
          "data": {
            "text/plain": [
              "array([0], dtype=int64)"
            ]
          },
          "execution_count": 98,
          "metadata": {},
          "output_type": "execute_result"
        }
      ],
      "source": [
        "# 예측\n",
        "model.predict(newdata)"
      ]
    },
    {
      "cell_type": "code",
      "execution_count": null,
      "metadata": {},
      "outputs": [],
      "source": []
    }
  ],
  "metadata": {
    "colab": {
      "provenance": [],
      "toc_visible": true
    },
    "kernelspec": {
      "display_name": "Python (Pyodide)",
      "language": "python",
      "name": "python"
    },
    "language_info": {
      "codemirror_mode": {
        "name": "python",
        "version": 3
      },
      "file_extension": ".py",
      "mimetype": "text/x-python",
      "name": "python",
      "nbconvert_exporter": "python",
      "pygments_lexer": "ipython3",
      "version": "3.8"
    }
  },
  "nbformat": 4,
  "nbformat_minor": 4
}
