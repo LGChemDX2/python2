{
  "metadata": {
    "colab": {
      "provenance": [],
      "toc_visible": true
    },
    "kernelspec": {
      "name": "python",
      "display_name": "Python (Pyodide)",
      "language": "python"
    },
    "language_info": {
      "codemirror_mode": {
        "name": "python",
        "version": 3
      },
      "file_extension": ".py",
      "mimetype": "text/x-python",
      "name": "python",
      "nbconvert_exporter": "python",
      "pygments_lexer": "ipython3",
      "version": "3.8"
    }
  },
  "nbformat_minor": 4,
  "nbformat": 4,
  "cells": [
    {
      "cell_type": "markdown",
      "source": "# **Lesson 2.타이타닉호 탑승객 분석**",
      "metadata": {
        "id": "qXUBfCONOdID"
      }
    },
    {
      "cell_type": "markdown",
      "source": "# 1.비즈니스 시나리오",
      "metadata": {
        "id": "790IJBdRWl9r"
      }
    },
    {
      "cell_type": "markdown",
      "source": "* 타이타닉 탑승객 중 생존자는?\n    * 1912년 유럽에서 승객과 승무원 2200여명을 태우고 미국(뉴욕)으로\n향하는 도중, 빙산에 부딪쳐 침몰한 배 타이타닉호!\n    * 이때, 약 700여명만 생존했는데, 대부분은 구명보트를 타고 살았습니다.\n    * 그렇다면, 당시 어떤 사람들이 구명보트에 탈 수 있었을까요?\n    * 우선 탑승객의 정보를 분석해 봅시다.",
      "metadata": {
        "id": "XOiIUDJ1i11u"
      }
    },
    {
      "cell_type": "markdown",
      "source": "# 2.환경준비",
      "metadata": {
        "id": "c1uOWzZl_YZH"
      }
    },
    {
      "cell_type": "markdown",
      "source": "## (1) 라이브러리 불러오기",
      "metadata": {
        "id": "LS2rtJiJlaF0"
      }
    },
    {
      "cell_type": "code",
      "source": "# jupyter lite에서 패키지 설치\nimport piplite\nawait piplite.install(\"seaborn\")",
      "metadata": {
        "id": "OWVvGn5G4NJC"
      },
      "execution_count": null,
      "outputs": []
    },
    {
      "cell_type": "code",
      "source": "import numpy as np\nimport pandas as pd\n\nimport matplotlib.pyplot as plt\nimport seaborn as sns",
      "metadata": {
        "id": "ba319GIZlcFB"
      },
      "execution_count": null,
      "outputs": []
    },
    {
      "cell_type": "markdown",
      "source": "## (2) 데이터 로딩",
      "metadata": {
        "id": "TCceTRSHqibR"
      }
    },
    {
      "cell_type": "code",
      "source": "data = pd.read_csv('titanic_simple.csv')",
      "metadata": {
        "id": "08FGuKtjpGOj"
      },
      "execution_count": null,
      "outputs": []
    },
    {
      "cell_type": "markdown",
      "source": "|\t변수명\t|\t설명\t|\t구분\t|\n|----|----|----|\n|\tPassengerId \t|\t 승객ID\t|\t일련번호\t|\n|\tSurvived \t|\t 생존 여부(0-사망, 1-생존)\t|\t범주형\t|\n|\tPclass \t|\t 객실 등급(1,2,3)\t|\t범주형\t|\n|\tName \t|\t 승객 이름\t|\t문자열\t|\n|\tSex \t|\t 성별(male, female)\t|\t범주형\t|\n|\tEmbarked \t|\t 승선 지역(Southampton, Queenstown, Cherbourg)\t|\t범주형\t|",
      "metadata": {
        "id": "zYKHwYHatC4k"
      }
    },
    {
      "cell_type": "markdown",
      "source": "# 3.데이터 기본 조회",
      "metadata": {
        "id": "0I7qaTYN4NJE"
      }
    },
    {
      "cell_type": "markdown",
      "source": "## (1) 상위 5개 행 조회",
      "metadata": {
        "id": "kFmiqP5u4NJF",
        "tags": []
      }
    },
    {
      "cell_type": "code",
      "source": "data.head()",
      "metadata": {
        "id": "eTcJLWZl4NJF"
      },
      "execution_count": null,
      "outputs": []
    },
    {
      "cell_type": "markdown",
      "source": "## (2) 데이터프레임 정보 조회(.info())",
      "metadata": {
        "id": "bP33obyN4NJF"
      }
    },
    {
      "cell_type": "code",
      "source": "data.info()",
      "metadata": {
        "id": "9b-AFL0W4NJF"
      },
      "execution_count": null,
      "outputs": []
    },
    {
      "cell_type": "markdown",
      "source": "# 4.단변량분석 : 범주형 변수\n\n* 범주형 변수 분석 도구\n    * 기초통계량 : .value_counts()\n    * 시각화 : sns.countplot()\n* 분석할 내용\n    * 건수/비율이 높은 범주와, 낮은 범주를 찾고\n    * 이유를 파악(상상)해 봅시다.",
      "metadata": {
        "id": "A7QYqGKWdMZi"
      }
    },
    {
      "cell_type": "markdown",
      "source": "## (1) Survived",
      "metadata": {
        "id": "m5zcg9CCg86m"
      }
    },
    {
      "cell_type": "code",
      "source": "var = 'Survived'",
      "metadata": {
        "id": "n5M0Ik1C4NJG"
      },
      "execution_count": null,
      "outputs": []
    },
    {
      "cell_type": "markdown",
      "source": "* 기초통계량",
      "metadata": {
        "id": "G3U9TwMt-7aD"
      }
    },
    {
      "cell_type": "code",
      "source": "# 범주별 빈도수\ndata[var].value_counts()",
      "metadata": {
        "id": "fzfJAos6g86m"
      },
      "execution_count": null,
      "outputs": []
    },
    {
      "cell_type": "code",
      "source": "# 범주별 비율\ndata[var].value_counts(normalize = True)",
      "metadata": {
        "id": "48ZQmSGa_FMk"
      },
      "execution_count": null,
      "outputs": []
    },
    {
      "cell_type": "markdown",
      "source": "* 시각화\n    * plt.subplot을 이용해서 1행2열 프레임에 그래프 2개를 그려 봅시다.\n    * 그래프1 : sns.countplot\n    * 그래프2 : plt.pie",
      "metadata": {
        "id": "5USCGxUd_Jd3"
      }
    },
    {
      "cell_type": "code",
      "source": "# 그래프 크기\nplt.figure(figsize = (8, 4))\n\n# 그래프1 : 막대 그래프\nplt.subplot( 1 , 2 , 1 )\nsns.countplot(x = var    , data = data   )\nplt.grid()\n\n# 그래프2 : 파이차트\nplt.subplot( 1 , 2  , 2 )\n# 먼저 집계\ntemp = data[var].value_counts()\n\n# 그래프\nplt.pie(temp.values, labels = temp.index, autopct = '%.2f%%')\n\nplt.tight_layout()\nplt.show()",
      "metadata": {
        "id": "o8aTkvBa_LbJ"
      },
      "execution_count": null,
      "outputs": []
    },
    {
      "cell_type": "markdown",
      "source": "* 파악된 내용을 적어 봅시다.",
      "metadata": {
        "id": "XZsiH_dYBvG0"
      }
    },
    {
      "cell_type": "code",
      "source": "# 사망자 비율 61.6%, 생존자 비율 38.4%\n# 구명보트를 탄 사람만이 살았다.(구명보트 부족)",
      "metadata": {
        "id": "d-rqhoYcBxgA"
      },
      "execution_count": null,
      "outputs": []
    },
    {
      "cell_type": "markdown",
      "source": "## (2) Pclass",
      "metadata": {
        "id": "NzM65bOSB6ir"
      }
    },
    {
      "cell_type": "code",
      "source": "var = 'Pclass'",
      "metadata": {
        "id": "-_Yd8TJd4NJH"
      },
      "execution_count": null,
      "outputs": []
    },
    {
      "cell_type": "markdown",
      "source": "* 기초통계량",
      "metadata": {
        "id": "7_lpr0xhB6i-"
      }
    },
    {
      "cell_type": "code",
      "source": "# 범주별 빈도수\ndata[var].value_counts()",
      "metadata": {
        "id": "IyB2g58A4NJH"
      },
      "execution_count": null,
      "outputs": []
    },
    {
      "cell_type": "code",
      "source": "# 범주별 비율\ndata[var].value_counts(normalize= True)",
      "metadata": {
        "id": "KLt6YSgQ4NJH"
      },
      "execution_count": null,
      "outputs": []
    },
    {
      "cell_type": "markdown",
      "source": "* 시각화\n    * plt.subplot을 이용해서 1행2열 프레임에 그래프 2개를 그려 봅시다.\n    * 그래프1 : sns.countplot\n    * 그래프2 : plt.pie",
      "metadata": {
        "id": "2HAb6XxJ4NJI"
      }
    },
    {
      "cell_type": "code",
      "source": "# 그래프 크기\nplt.figure(figsize = (8, 4))\n\n# 그래프1 : 막대 그래프\nplt.subplot(1,2,1)\nsns.countplot(x = var, data = data)\nplt.grid()\n\n# 그래프2 : 파이차트\nplt.subplot(1,2,2)\n# 먼저 집계\ntemp = data[var].value_counts().sort_index()\n\n# 그래프\nplt.pie(temp.values, labels = temp.index, autopct = '%.2f%%')\n\nplt.show()",
      "metadata": {
        "id": "0l9z9JFl4NJI",
        "tags": []
      },
      "execution_count": null,
      "outputs": []
    },
    {
      "cell_type": "markdown",
      "source": "* 파악된 내용을 적어 봅시다.",
      "metadata": {
        "id": "nqsZp9LJB6jA"
      }
    },
    {
      "cell_type": "code",
      "source": "# 1등급 24%, 2등급 21%, 3등급 55%\n# 서민들이 주로 탑승\n# 원래 타이타닉호의 3등급 객실 수가 55%",
      "metadata": {
        "id": "cCYdbJAAB6jB"
      },
      "execution_count": null,
      "outputs": []
    },
    {
      "cell_type": "markdown",
      "source": "## (3) Sex",
      "metadata": {
        "id": "htHk0SdnDeNW"
      }
    },
    {
      "cell_type": "code",
      "source": "var = 'Sex'",
      "metadata": {
        "id": "eVX4URnR4NJI"
      },
      "execution_count": null,
      "outputs": []
    },
    {
      "cell_type": "markdown",
      "source": "* 기초통계량",
      "metadata": {
        "id": "9cQvLOhJE-AZ"
      }
    },
    {
      "cell_type": "code",
      "source": "# 범주별 빈도수\ndata[var].value_counts()",
      "metadata": {
        "id": "3Udzz3Ct4NJJ"
      },
      "execution_count": null,
      "outputs": []
    },
    {
      "cell_type": "code",
      "source": "# 범주별 비율\ndata[var].value_counts(normalize = True  )",
      "metadata": {
        "id": "rQqDUl_u4NJJ"
      },
      "execution_count": null,
      "outputs": []
    },
    {
      "cell_type": "markdown",
      "source": "* 시각화\n    * plt.subplot을 이용해서 1행2열 프레임에 그래프 2개를 그려 봅시다.\n    * 그래프1 : sns.countplot\n    * 그래프2 : plt.pie",
      "metadata": {
        "id": "G1n8bRFY4NJM"
      }
    },
    {
      "cell_type": "code",
      "source": "# 그래프 크기\nplt.figure(figsize = (8, 4))\n\n# 그래프1 : 막대 그래프\nplt.subplot(1,2,1)\nsns.countplot(x =  var, data = data)\nplt.grid()\n\n# 그래프2 : 파이차트\nplt.subplot( 1 , 2  ,2  )\n# 먼저 집계\ntemp = data[var].value_counts()\n\n# 그래프\nplt.pie(temp.values, labels = temp.index, autopct = '%.2f%%')\n\nplt.show()",
      "metadata": {
        "id": "YcCJ7ML_4NJN"
      },
      "execution_count": null,
      "outputs": []
    },
    {
      "cell_type": "markdown",
      "source": "* 파악된 내용을 적어 봅시다.",
      "metadata": {
        "id": "1wwUH_KSE-Ab"
      }
    },
    {
      "cell_type": "code",
      "source": "# 남자 65%, 여자 35%\n# 미국에 이주해서 일자리를 구하려는 남자 청년들이 많았을 것 같다.",
      "metadata": {
        "id": "KrO82Pg_E-Ab"
      },
      "execution_count": null,
      "outputs": []
    },
    {
      "cell_type": "markdown",
      "source": "## (4) Embarked",
      "metadata": {
        "id": "hzTj8EIqDoIq"
      }
    },
    {
      "cell_type": "code",
      "source": "var = 'Embarked'",
      "metadata": {
        "id": "rUxb3xZP4NJN"
      },
      "execution_count": null,
      "outputs": []
    },
    {
      "cell_type": "markdown",
      "source": "* 기초통계량",
      "metadata": {
        "id": "grkgb9vsE_xj"
      }
    },
    {
      "cell_type": "code",
      "source": "# 범주별 빈도수\ndata[var].value_counts()",
      "metadata": {
        "id": "VzMyB1Eq4NJN"
      },
      "execution_count": null,
      "outputs": []
    },
    {
      "cell_type": "code",
      "source": "# 범주별 비율\ndata[var].value_counts(normalize = True  )",
      "metadata": {
        "id": "0miNNG9B4NJN"
      },
      "execution_count": null,
      "outputs": []
    },
    {
      "cell_type": "markdown",
      "source": "* 시각화\n    * plt.subplot을 이용해서 1행2열 프레임에 그래프 2개를 그려 봅시다.\n    * 그래프1 : sns.countplot\n    * 그래프2 : plt.pie",
      "metadata": {
        "id": "ISL1YHY-4NJO"
      }
    },
    {
      "cell_type": "code",
      "source": "# 그래프 크기\nplt.figure(figsize = (8, 4))\n\n# 그래프1 : 막대 그래프\nplt.subplot(1, 2 ,1 )\nsns.countplot(x =  var, data = data)\nplt.grid()\n\n# 그래프2 : 파이차트\nplt.subplot( 1 , 2  , 2  )\n# 먼저 집계\ntemp = data[var].value_counts()\n\n# 그래프\nplt.pie(temp.values, labels = temp.index, autopct = '%.2f%%')\n\nplt.show()",
      "metadata": {
        "id": "90oqnBp-4NJO"
      },
      "execution_count": null,
      "outputs": []
    },
    {
      "cell_type": "markdown",
      "source": "* 파악된 내용을 적어 봅시다.",
      "metadata": {
        "id": "VVht8eRwE_xm"
      }
    },
    {
      "cell_type": "code",
      "source": "# 사우스햄튼 72.4%, 쉐부르 18.9%, 퀀즈타운 8.7%\n# 승선지역에 따라 생존여부는 관련이 있을까?",
      "metadata": {
        "id": "un-UsppzE_xm"
      },
      "execution_count": null,
      "outputs": []
    }
  ]
}