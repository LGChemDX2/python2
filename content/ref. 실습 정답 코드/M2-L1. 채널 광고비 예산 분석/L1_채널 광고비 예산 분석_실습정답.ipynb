{
  "metadata": {
    "colab": {
      "provenance": [],
      "toc_visible": true
    },
    "kernelspec": {
      "name": "python",
      "display_name": "Python (Pyodide)",
      "language": "python"
    },
    "language_info": {
      "codemirror_mode": {
        "name": "python",
        "version": 3
      },
      "file_extension": ".py",
      "mimetype": "text/x-python",
      "name": "python",
      "nbconvert_exporter": "python",
      "pygments_lexer": "ipython3",
      "version": "3.8"
    }
  },
  "nbformat_minor": 4,
  "nbformat": 4,
  "cells": [
    {
      "cell_type": "markdown",
      "source": "# Lesson 1. 채널 광고비 예산 분석",
      "metadata": {
        "id": "qXUBfCONOdID"
      }
    },
    {
      "cell_type": "markdown",
      "source": "# 1.비즈니스 시나리오",
      "metadata": {
        "id": "790IJBdRWl9r"
      }
    },
    {
      "cell_type": "markdown",
      "source": "* 십수 년 전만 하더라도 광고를 위한 중요한 채널은 신문과 TV, 라디오였습니다.\n* 여러분은 전통적인 광고 채널을 선호하는 고객사의 광고비 예산을 분석하여\n* 최고의 매출을 얻기 위한 방안을 검토하고자 합니다.\n* 이번 실습에서는 분석의 첫 번째 단계인 단변량 분석을 수행합니다.\n",
      "metadata": {
        "id": "XOiIUDJ1i11u"
      }
    },
    {
      "cell_type": "markdown",
      "source": "# 2.환경준비",
      "metadata": {
        "id": "c1uOWzZl_YZH"
      }
    },
    {
      "cell_type": "markdown",
      "source": "## (1) 라이브러리 불러오기",
      "metadata": {
        "id": "LS2rtJiJlaF0"
      }
    },
    {
      "cell_type": "code",
      "source": "# jupyter lite에서 패키지 설치\nimport piplite\nawait piplite.install(\"seaborn\")",
      "metadata": {
        "id": "VbgFiBdYaULE",
        "trusted": true
      },
      "execution_count": null,
      "outputs": []
    },
    {
      "cell_type": "code",
      "source": "import numpy as np\nimport pandas as pd\n\nimport matplotlib.pyplot as plt\nimport seaborn as sns",
      "metadata": {
        "id": "ba319GIZlcFB",
        "trusted": true
      },
      "execution_count": null,
      "outputs": []
    },
    {
      "cell_type": "markdown",
      "source": "## (2) 데이터 로딩",
      "metadata": {
        "id": "TCceTRSHqibR"
      }
    },
    {
      "cell_type": "markdown",
      "source": "|\t변수명\t|\t설명\t|\t구분\t|\n|----|----|----|\n|\tTV \t|\t TV 광고비 예산 (단위 1,000 달러)\t|\t수치형\t|\n|\tRadio \t|\t Radio 광고비 예산 (단위 1,000 달러)\t|\t수치형\t|\n|\tNewspaper \t|\t 신문 광고비 예산 (단위 1,000 달러)\t|\t수치형\t|\n|\tSales \t|\t 매출액 (단위 1,000 달러)\t|\t수치형\t|",
      "metadata": {
        "id": "zYKHwYHatC4k"
      }
    },
    {
      "cell_type": "code",
      "source": "path = 'advertising.csv'\ndata = pd.read_csv(path)",
      "metadata": {
        "id": "08FGuKtjpGOj",
        "trusted": true
      },
      "execution_count": null,
      "outputs": []
    },
    {
      "cell_type": "markdown",
      "source": "# 3.데이터 기본 조회",
      "metadata": {
        "id": "SHSND3MMaULF"
      }
    },
    {
      "cell_type": "markdown",
      "source": "## (1) 상위 5개 행 조회",
      "metadata": {
        "tags": [],
        "id": "rCjFWPGWaULF"
      }
    },
    {
      "cell_type": "code",
      "source": "data.head()",
      "metadata": {
        "id": "zxqQYj9ZaULF",
        "trusted": true
      },
      "execution_count": null,
      "outputs": []
    },
    {
      "cell_type": "markdown",
      "source": "## (2) 데이터프레임 정보 조회(.info())",
      "metadata": {
        "id": "6vuNziNEaULG"
      }
    },
    {
      "cell_type": "code",
      "source": "data.info()",
      "metadata": {
        "id": "Che9hRg3aULG",
        "trusted": true
      },
      "execution_count": null,
      "outputs": []
    },
    {
      "cell_type": "markdown",
      "source": "# 4.단변량분석 : 숫자형 변수",
      "metadata": {
        "id": "ZJnWzY5-Ww3h",
        "tags": []
      }
    },
    {
      "cell_type": "markdown",
      "source": "## (1) Sales",
      "metadata": {
        "id": "2KcdJrQNfJCZ"
      }
    },
    {
      "cell_type": "code",
      "source": "var = 'Sales'",
      "metadata": {
        "id": "Q5mGnZ5ffJCZ",
        "trusted": true
      },
      "execution_count": null,
      "outputs": []
    },
    {
      "cell_type": "markdown",
      "source": "1) 변수의 비즈니스 의미",
      "metadata": {
        "id": "RkXL80PpfJCa"
      }
    },
    {
      "cell_type": "markdown",
      "source": "* 판매액(단위 : 1000$)",
      "metadata": {
        "id": "07TIjIVhTHU0"
      }
    },
    {
      "cell_type": "markdown",
      "source": "2) 기초통계량(수치화)",
      "metadata": {
        "id": "H9_8VoENfJCa"
      }
    },
    {
      "cell_type": "code",
      "source": "data[var].describe()",
      "metadata": {
        "id": "DJpEltSbfJCa",
        "trusted": true
      },
      "execution_count": null,
      "outputs": []
    },
    {
      "cell_type": "markdown",
      "source": "3) 분포 확인(시각화)",
      "metadata": {
        "id": "2mgIyJ3vfJCa"
      }
    },
    {
      "cell_type": "code",
      "source": "plt.figure(figsize = (5,6))\nplt.subplot(3,1,1)\nsns.histplot(x = var, bins = 20, data = data)\n\nplt.subplot(3,1,2)\nsns.kdeplot(x = var, data = data)\n\nplt.subplot(3,1,3)\nsns.boxplot(x = var, data = data)\n\nplt.tight_layout()\nplt.show()",
      "metadata": {
        "id": "8Nnz494-fJCa",
        "trusted": true
      },
      "execution_count": null,
      "outputs": []
    },
    {
      "cell_type": "markdown",
      "source": "4) 아래 항목을 적어 봅시다.\n* 값의 범위\n* 평균\n* 희박구간, 밀집구간",
      "metadata": {
        "id": "s2MLcqE0fJCa"
      }
    },
    {
      "cell_type": "code",
      "source": "# 값의 범위\n# 1.6 ~ 27",
      "metadata": {
        "id": "k420Gx77aULI",
        "trusted": true
      },
      "execution_count": null,
      "outputs": []
    },
    {
      "cell_type": "code",
      "source": "# 평균\n# 14",
      "metadata": {
        "id": "KCHliJs2aULI",
        "trusted": true
      },
      "execution_count": null,
      "outputs": []
    },
    {
      "cell_type": "code",
      "source": "# 희박 구간\n# ~ 10, 17.4 ~\n\n# 밀집 구간\n# 10 ~ 14(17)",
      "metadata": {
        "id": "6quxQL42aULI",
        "trusted": true
      },
      "execution_count": null,
      "outputs": []
    },
    {
      "cell_type": "markdown",
      "source": "5) 파악 가능한 비즈니스 사항을 적어 봅시다.",
      "metadata": {
        "id": "hr8edCgEfJCb"
      }
    },
    {
      "cell_type": "code",
      "source": "# 매출액 1.6 ~ 27 범위, 평균 14\n# ~ 10 : 광고비 예산이 적게 책정된것은 아닐까?\n# 17.4 ~ : 광고비 예산이 크게 책정된것은 아닐까?\n# 10 ~ 17 : 대부분의 지역에 대한 광고비 예산 범위?",
      "metadata": {
        "id": "34KYl4XkaULI",
        "trusted": true
      },
      "execution_count": null,
      "outputs": []
    },
    {
      "cell_type": "markdown",
      "source": "## (2) TV",
      "metadata": {
        "tags": [],
        "id": "8cJABlGJaULJ"
      }
    },
    {
      "cell_type": "code",
      "source": "var = 'TV'",
      "metadata": {
        "id": "pQEH9G7UaULJ",
        "trusted": true
      },
      "execution_count": null,
      "outputs": []
    },
    {
      "cell_type": "markdown",
      "source": "1) 변수의 비즈니스 의미",
      "metadata": {
        "id": "CqypZmkjaULJ"
      }
    },
    {
      "cell_type": "markdown",
      "source": "* TV 광고비예산",
      "metadata": {
        "id": "eeMsKiG_aULJ"
      }
    },
    {
      "cell_type": "markdown",
      "source": "2) 기초통계량(수치화)",
      "metadata": {
        "id": "mY0XkGhyaULJ"
      }
    },
    {
      "cell_type": "code",
      "source": "data[var].describe()",
      "metadata": {
        "id": "wxp08Sj7aULJ",
        "trusted": true
      },
      "execution_count": null,
      "outputs": []
    },
    {
      "cell_type": "markdown",
      "source": "3) 분포 확인(시각화)",
      "metadata": {
        "id": "WftdW9wkaULJ"
      }
    },
    {
      "cell_type": "code",
      "source": "plt.figure(figsize = (5,6))\nplt.subplot(3,1,1)\nsns.histplot(x = var, bins = 20, data = data)\n\nplt.subplot(3,1,2)\nsns.kdeplot(x = var, data = data)\n\nplt.subplot(3,1,3)\nsns.boxplot(x = var, data = data)\n\nplt.tight_layout()\nplt.show()",
      "metadata": {
        "id": "P9KSSP8maULJ",
        "trusted": true
      },
      "execution_count": null,
      "outputs": []
    },
    {
      "cell_type": "markdown",
      "source": "4) 아래 항목을 적어 봅시다.\n* 값의 범위\n* 평균\n* 희박구간, 밀집구간",
      "metadata": {
        "id": "7xKo0PsgaULJ"
      }
    },
    {
      "cell_type": "code",
      "source": "# 값의 범위\n# 0.7 ~ 296",
      "metadata": {
        "id": "BaS2byIGaULJ",
        "trusted": true
      },
      "execution_count": null,
      "outputs": []
    },
    {
      "cell_type": "code",
      "source": "# 평균\n# 147",
      "metadata": {
        "id": "lbRCw1pqaULK",
        "trusted": true
      },
      "execution_count": null,
      "outputs": []
    },
    {
      "cell_type": "code",
      "source": "# 희박 구간\n# 특별히 희박/밀집 구간을 구분하기 어렵다.\n\n# 밀집 구간",
      "metadata": {
        "id": "XHqFTP0_aULK",
        "trusted": true
      },
      "execution_count": null,
      "outputs": []
    },
    {
      "cell_type": "markdown",
      "source": "5) 파악 가능한 비즈니스 사항을 적어 봅시다.",
      "metadata": {
        "id": "B-F9zD73aULK"
      }
    },
    {
      "cell_type": "code",
      "source": "# TV 광고비 0.7 ~ 300, 평균 147\n# 특별히 광고비 범위 내에서 밀집/희박 파악하기 어렵다.",
      "metadata": {
        "id": "M_TCLJpGaULK",
        "trusted": true
      },
      "execution_count": null,
      "outputs": []
    },
    {
      "cell_type": "markdown",
      "source": "## (3) Radio",
      "metadata": {
        "tags": [],
        "id": "XCajZqMpaULK"
      }
    },
    {
      "cell_type": "code",
      "source": "var = 'Radio'",
      "metadata": {
        "id": "ta-6mHEiaULK",
        "trusted": true
      },
      "execution_count": null,
      "outputs": []
    },
    {
      "cell_type": "markdown",
      "source": "1) 변수의 비즈니스 의미",
      "metadata": {
        "id": "ZJuj3IqYaULK"
      }
    },
    {
      "cell_type": "markdown",
      "source": "* Radio 광고비",
      "metadata": {
        "id": "RqbXwMG9aULK"
      }
    },
    {
      "cell_type": "markdown",
      "source": "2) 기초통계량(수치화)",
      "metadata": {
        "id": "VdkfnEfNaULK"
      }
    },
    {
      "cell_type": "code",
      "source": "data[var].describe()",
      "metadata": {
        "id": "EYgzRn-9aULK",
        "trusted": true
      },
      "execution_count": null,
      "outputs": []
    },
    {
      "cell_type": "markdown",
      "source": "3) 분포 확인(시각화)",
      "metadata": {
        "id": "JuvQ6XLTaULK"
      }
    },
    {
      "cell_type": "code",
      "source": "plt.figure(figsize = (5,6))\nplt.subplot(3,1,1)\nsns.histplot(x = var, bins = 20, data =data)\n\nplt.subplot(3,1,2)\nsns.kdeplot(x = var, data = data)\n\nplt.subplot(3,1,3)\nsns.boxplot(x = var, data =data)\n\nplt.tight_layout()\nplt.show()",
      "metadata": {
        "id": "HWzzCaTjaULL",
        "trusted": true
      },
      "execution_count": null,
      "outputs": []
    },
    {
      "cell_type": "markdown",
      "source": "4) 아래 항목을 적어 봅시다.\n* 값의 범위\n* 평균\n* 희박구간, 밀집구간",
      "metadata": {
        "id": "DccHmBXzaULL"
      }
    },
    {
      "cell_type": "code",
      "source": "# 값의 범위\n# 0 ~ 50",
      "metadata": {
        "id": "mjomoRmxaULL",
        "trusted": true
      },
      "execution_count": null,
      "outputs": []
    },
    {
      "cell_type": "code",
      "source": "# 평균\n# 23",
      "metadata": {
        "id": "4N1zSTyraULL",
        "trusted": true
      },
      "execution_count": null,
      "outputs": []
    },
    {
      "cell_type": "code",
      "source": "# 희박 구간\n# 특별히 희박/밀집 구간 구분이 어렵다.\n\n# 밀집 구간",
      "metadata": {
        "id": "RcMtXJIwaULL",
        "trusted": true
      },
      "execution_count": null,
      "outputs": []
    },
    {
      "cell_type": "markdown",
      "source": "5) 파악 가능한 비즈니스 사항을 적어 봅시다.",
      "metadata": {
        "id": "tLTqxcJYaULL"
      }
    },
    {
      "cell_type": "code",
      "source": "# 0 ~ 50, TV 광고비에 비해 약 1/6 수준\n# TV에 광고를 집중하는 것은 아닐까?",
      "metadata": {
        "id": "flCHYyFbaULL",
        "trusted": true
      },
      "execution_count": null,
      "outputs": []
    },
    {
      "cell_type": "markdown",
      "source": "## (4) Newspaper",
      "metadata": {
        "tags": [],
        "id": "dDNmEEtlaULL"
      }
    },
    {
      "cell_type": "code",
      "source": "var = 'Newspaper'",
      "metadata": {
        "id": "yvs17vQPaULL",
        "trusted": true
      },
      "execution_count": null,
      "outputs": []
    },
    {
      "cell_type": "markdown",
      "source": "1) 변수의 비즈니스 의미",
      "metadata": {
        "id": "UKRaK8jjaULL"
      }
    },
    {
      "cell_type": "markdown",
      "source": "* Newspaper 광고비",
      "metadata": {
        "id": "AZdPA8CjaULL"
      }
    },
    {
      "cell_type": "markdown",
      "source": "2) 기초통계량(수치화)",
      "metadata": {
        "id": "0a4c3oMbaULM"
      }
    },
    {
      "cell_type": "code",
      "source": "data[var].describe()",
      "metadata": {
        "id": "xHWwh8H7aULM",
        "trusted": true
      },
      "execution_count": null,
      "outputs": []
    },
    {
      "cell_type": "markdown",
      "source": "3) 분포 확인(시각화)",
      "metadata": {
        "id": "7V16gfplaULM"
      }
    },
    {
      "cell_type": "code",
      "source": "plt.figure(figsize = (5,6))\nplt.subplot(3,1,1)\nsns.histplot(x = var, bins = 20, data = data)\n\nplt.subplot(3,1,2)\nsns.kdeplot(x = var, data = data)\n\nplt.subplot(3,1,3)\nsns.boxplot(x = var, data = data)\n\nplt.tight_layout()\nplt.show()",
      "metadata": {
        "id": "IHdeHVYuaULM",
        "trusted": true
      },
      "execution_count": null,
      "outputs": []
    },
    {
      "cell_type": "markdown",
      "source": "4) 아래 항목을 적어 봅시다.\n* 값의 범위\n* 평균\n* 희박구간, 밀집구간",
      "metadata": {
        "id": "xDRxV9eAaULM"
      }
    },
    {
      "cell_type": "code",
      "source": "# 값의 범위\n# 0 ~114",
      "metadata": {
        "id": "wq2vjXOvaULM",
        "trusted": true
      },
      "execution_count": null,
      "outputs": []
    },
    {
      "cell_type": "code",
      "source": "# 평균\n# 30",
      "metadata": {
        "id": "ktkWA1mJaULM",
        "trusted": true
      },
      "execution_count": null,
      "outputs": []
    },
    {
      "cell_type": "code",
      "source": "# 희박 구간\n# 45 ~\n\n# 밀집 구간\n# 0 ~ 26",
      "metadata": {
        "id": "-vgAWTLvaULM",
        "trusted": true
      },
      "execution_count": null,
      "outputs": []
    },
    {
      "cell_type": "markdown",
      "source": "5) 파악 가능한 비즈니스 사항을 적어 봅시다.",
      "metadata": {
        "id": "3LmHNLvbaULM"
      }
    },
    {
      "cell_type": "code",
      "source": "# 0 ~114, TV 광고비 보다는 적지만, Radio보다는 높다.\n# 대체로 신문 광고비 0 ~ 26 범위 내에서 책정되는것으로 보인다.\n# 그러나, 드물지만, 45 ~ 높은 신문 광고비를 책정한 경우도 있다. --> 비즈니스 이유",
      "metadata": {
        "id": "09nTHScmaULN",
        "trusted": true
      },
      "execution_count": null,
      "outputs": []
    }
  ]
}