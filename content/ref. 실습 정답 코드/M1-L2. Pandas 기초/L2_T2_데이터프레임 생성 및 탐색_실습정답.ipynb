{
  "metadata": {
    "colab": {
      "provenance": [],
      "toc_visible": true
    },
    "toc-autonumbering": false,
    "toc-showmarkdowntxt": false,
    "kernelspec": {
      "name": "python",
      "display_name": "Python (Pyodide)",
      "language": "python"
    },
    "language_info": {
      "codemirror_mode": {
        "name": "python",
        "version": 3
      },
      "file_extension": ".py",
      "mimetype": "text/x-python",
      "name": "python",
      "nbconvert_exporter": "python",
      "pygments_lexer": "ipython3",
      "version": "3.8"
    }
  },
  "nbformat_minor": 4,
  "nbformat": 4,
  "cells": [
    {
      "cell_type": "markdown",
      "source": "# **Topic 2. 데이터프레임 생성 및 탐색_실습**",
      "metadata": {
        "id": "mVOYUVwYNrob"
      }
    },
    {
      "cell_type": "markdown",
      "source": "## **(1) 실습1 : 데이터프레임 생성**\n\n* ① Pandas 라이브러리를 불러옵니다.\n    * 별칭은 pd로 지정\n* ② 주어진 딕셔너리를 이용해서 데이터프레임을 생성해 봅시다.\n* ③ titanic.csv 파일로 부터 읽어 들여 데이터프레임을 저장해 봅시다.\n",
      "metadata": {
        "id": "jtOUt7kVWs9D"
      }
    },
    {
      "cell_type": "markdown",
      "source": "① Pandas 라이브러리를 불러옵니다.",
      "metadata": {
        "id": "KRln0NL_8lRF"
      }
    },
    {
      "cell_type": "code",
      "source": "import pandas as pd",
      "metadata": {
        "id": "1xqiuyahWs9E"
      },
      "execution_count": null,
      "outputs": []
    },
    {
      "cell_type": "markdown",
      "source": "② 주어진 딕셔너리를 이용해서 데이터프레임을 생성해 봅시다.",
      "metadata": {
        "id": "KTiD22ZP8oZB"
      }
    },
    {
      "cell_type": "code",
      "source": "# 딕셔너리 만들기\ndict1 = {'Name': ['Gildong', 'Sarang', 'Jiemae', 'Yeoin'],\n        'Age': [23,49,32,45]}\n\n# 확인\nprint(dict1)",
      "metadata": {
        "id": "560DerZ112_h"
      },
      "execution_count": null,
      "outputs": []
    },
    {
      "cell_type": "code",
      "source": "data = pd.DataFrame(dict1)",
      "metadata": {
        "id": "hCIeV27V8zib"
      },
      "execution_count": null,
      "outputs": []
    },
    {
      "cell_type": "markdown",
      "source": "③ boston.csv 파일로 부터 읽어 들여 데이터프레임을 저장해 봅시다.",
      "metadata": {
        "id": "pGMmbMBc81XC"
      }
    },
    {
      "cell_type": "code",
      "source": "data = pd.read_csv('boston.csv')",
      "metadata": {
        "id": "YBqcYRwm81NU"
      },
      "execution_count": null,
      "outputs": []
    },
    {
      "cell_type": "markdown",
      "source": "## **(2) 실습2 : 데이터프레임 탐색**\n\n실습1-③ 에서 저장한 데이터프레임에 대해서\n* ① 상위 3개, 하위 4개 행을 조회해 봅시다.\n* ② 데이터프레임의 칼럼 이름을 조회해 봅시다.\n* ③ 데이터프레임의 행과 열 수를 조회해 봅시다.\n* ④ 데이터프레임의 기본 정보를 조회해 봅시다.\n* ⑤ 'crim'을 기준으로 내림차순으로 정렬해 봅시다.\n",
      "metadata": {
        "tags": [],
        "id": "07_GYOitWAfr"
      }
    },
    {
      "cell_type": "markdown",
      "source": "① 상위 3개, 하위 4개 행을 조회해 봅시다.",
      "metadata": {
        "id": "r-S_C49I9Ncq"
      }
    },
    {
      "cell_type": "code",
      "source": "data.head(3)",
      "metadata": {
        "id": "8oPLTJEwXvsm"
      },
      "execution_count": null,
      "outputs": []
    },
    {
      "cell_type": "code",
      "source": "data.tail(4)",
      "metadata": {
        "id": "SXGGMBIG9VOe"
      },
      "execution_count": null,
      "outputs": []
    },
    {
      "cell_type": "markdown",
      "source": "② 데이터프레임의 칼럼 이름을 조회해 봅시다.",
      "metadata": {
        "id": "1UABhuth2krW"
      }
    },
    {
      "cell_type": "code",
      "source": "data.columns",
      "metadata": {
        "id": "1FglpLd32krW"
      },
      "execution_count": null,
      "outputs": []
    },
    {
      "cell_type": "code",
      "source": "list(data)",
      "metadata": {
        "id": "xkoMD69fohqx"
      },
      "execution_count": null,
      "outputs": []
    },
    {
      "cell_type": "markdown",
      "source": "③ 데이터프레임의 행과 열 수를 조회해 봅시다.",
      "metadata": {
        "id": "CjCje52HeYEo"
      }
    },
    {
      "cell_type": "code",
      "source": "data.shape",
      "metadata": {
        "id": "nGm9l-Uh9cJJ"
      },
      "execution_count": null,
      "outputs": []
    },
    {
      "cell_type": "markdown",
      "source": "④ 데이터프레임의 기본 정보를 조회해 봅시다.",
      "metadata": {
        "id": "ZxnLTqsT9e0h"
      }
    },
    {
      "cell_type": "code",
      "source": "data.info()",
      "metadata": {
        "id": "fJGgMzkX9czU"
      },
      "execution_count": null,
      "outputs": []
    },
    {
      "cell_type": "markdown",
      "source": "⑤ 'crim'을 기준으로 내림차순으로 정렬해 봅시다.",
      "metadata": {
        "id": "YQOMIHTv9gqx"
      }
    },
    {
      "cell_type": "code",
      "source": "data.sort_values(by='crim', ascending = False)",
      "metadata": {
        "id": "X47SaEw79f7s"
      },
      "execution_count": null,
      "outputs": []
    }
  ]
}