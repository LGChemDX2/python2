{
  "metadata": {
    "colab": {
      "provenance": [],
      "toc_visible": true
    },
    "toc-autonumbering": false,
    "toc-showmarkdowntxt": false,
    "kernelspec": {
      "name": "python",
      "display_name": "Python (Pyodide)",
      "language": "python"
    },
    "language_info": {
      "codemirror_mode": {
        "name": "python",
        "version": 3
      },
      "file_extension": ".py",
      "mimetype": "text/x-python",
      "name": "python",
      "nbconvert_exporter": "python",
      "pygments_lexer": "ipython3",
      "version": "3.8"
    }
  },
  "nbformat_minor": 4,
  "nbformat": 4,
  "cells": [
    {
      "cell_type": "markdown",
      "source": "# **Topic 4. 데이터프레임 집계_실습**",
      "metadata": {
        "id": "mVOYUVwYNrob"
      }
    },
    {
      "cell_type": "markdown",
      "source": "## **(1) 환경준비**",
      "metadata": {
        "id": "q_PDYJQF-r9i"
      }
    },
    {
      "cell_type": "markdown",
      "source": "* 라이브러리 로딩",
      "metadata": {
        "id": "Xsmk5erF-vLZ"
      }
    },
    {
      "cell_type": "code",
      "source": "import pandas as pd",
      "metadata": {
        "id": "5wESq357-vLZ",
        "trusted": true
      },
      "execution_count": 1,
      "outputs": []
    },
    {
      "cell_type": "markdown",
      "source": "* 데이터 준비",
      "metadata": {
        "id": "bSjEB5oz-xja"
      }
    },
    {
      "cell_type": "code",
      "source": "data = pd.read_csv('boston.csv')\ndata['medv_group'] = pd.cut(data['medv'], bins = [0, 20, 35, 50], labels = ['low','medium','high'])\ndata.head()",
      "metadata": {
        "id": "soY1hNBl-z6A",
        "trusted": true
      },
      "execution_count": 2,
      "outputs": [
        {
          "execution_count": 2,
          "output_type": "execute_result",
          "data": {
            "text/plain": "      crim    zn  indus  chas    nox     rm   age     dis  rad  tax  ptratio  \\\n0  0.00632  18.0   2.31     0  0.538  6.575  65.2  4.0900    1  296     15.3   \n1  0.02731   0.0   7.07     0  0.469  6.421  78.9  4.9671    2  242     17.8   \n2  0.02729   0.0   7.07     0  0.469  7.185  61.1  4.9671    2  242     17.8   \n3  0.03237   0.0   2.18     0  0.458  6.998  45.8  6.0622    3  222     18.7   \n4  0.06905   0.0   2.18     0  0.458  7.147  54.2  6.0622    3  222     18.7   \n\n   lstat  medv medv_group  \n0   4.98  24.0     medium  \n1   9.14  21.6     medium  \n2   4.03  34.7     medium  \n3   2.94  33.4     medium  \n4   5.33  36.2       high  ",
            "text/html": "<div>\n<style scoped>\n    .dataframe tbody tr th:only-of-type {\n        vertical-align: middle;\n    }\n\n    .dataframe tbody tr th {\n        vertical-align: top;\n    }\n\n    .dataframe thead th {\n        text-align: right;\n    }\n</style>\n<table border=\"1\" class=\"dataframe\">\n  <thead>\n    <tr style=\"text-align: right;\">\n      <th></th>\n      <th>crim</th>\n      <th>zn</th>\n      <th>indus</th>\n      <th>chas</th>\n      <th>nox</th>\n      <th>rm</th>\n      <th>age</th>\n      <th>dis</th>\n      <th>rad</th>\n      <th>tax</th>\n      <th>ptratio</th>\n      <th>lstat</th>\n      <th>medv</th>\n      <th>medv_group</th>\n    </tr>\n  </thead>\n  <tbody>\n    <tr>\n      <th>0</th>\n      <td>0.00632</td>\n      <td>18.0</td>\n      <td>2.31</td>\n      <td>0</td>\n      <td>0.538</td>\n      <td>6.575</td>\n      <td>65.2</td>\n      <td>4.0900</td>\n      <td>1</td>\n      <td>296</td>\n      <td>15.3</td>\n      <td>4.98</td>\n      <td>24.0</td>\n      <td>medium</td>\n    </tr>\n    <tr>\n      <th>1</th>\n      <td>0.02731</td>\n      <td>0.0</td>\n      <td>7.07</td>\n      <td>0</td>\n      <td>0.469</td>\n      <td>6.421</td>\n      <td>78.9</td>\n      <td>4.9671</td>\n      <td>2</td>\n      <td>242</td>\n      <td>17.8</td>\n      <td>9.14</td>\n      <td>21.6</td>\n      <td>medium</td>\n    </tr>\n    <tr>\n      <th>2</th>\n      <td>0.02729</td>\n      <td>0.0</td>\n      <td>7.07</td>\n      <td>0</td>\n      <td>0.469</td>\n      <td>7.185</td>\n      <td>61.1</td>\n      <td>4.9671</td>\n      <td>2</td>\n      <td>242</td>\n      <td>17.8</td>\n      <td>4.03</td>\n      <td>34.7</td>\n      <td>medium</td>\n    </tr>\n    <tr>\n      <th>3</th>\n      <td>0.03237</td>\n      <td>0.0</td>\n      <td>2.18</td>\n      <td>0</td>\n      <td>0.458</td>\n      <td>6.998</td>\n      <td>45.8</td>\n      <td>6.0622</td>\n      <td>3</td>\n      <td>222</td>\n      <td>18.7</td>\n      <td>2.94</td>\n      <td>33.4</td>\n      <td>medium</td>\n    </tr>\n    <tr>\n      <th>4</th>\n      <td>0.06905</td>\n      <td>0.0</td>\n      <td>2.18</td>\n      <td>0</td>\n      <td>0.458</td>\n      <td>7.147</td>\n      <td>54.2</td>\n      <td>6.0622</td>\n      <td>3</td>\n      <td>222</td>\n      <td>18.7</td>\n      <td>5.33</td>\n      <td>36.2</td>\n      <td>high</td>\n    </tr>\n  </tbody>\n</table>\n</div>"
          },
          "metadata": {}
        }
      ]
    },
    {
      "cell_type": "markdown",
      "source": "|\t변수\t|\t설명\t|\n|----|----|\n|\tmedv\t|\t타운별 집값(중위수)\t|\n|\tmedv_group\t|\t타운별 집값 그룹('low','medium','high')\t|\n|\tcrim\t|\t범죄율\t|\n|\tzn2\t|\t25,000 평방피트를 초과 거주지역 비율 (범주: 0-하, 1-중, 2-상)\t|\n|\tindus\t|\t비소매상업지역 면적 비율\t|\n|\tchas\t|\t찰스강변 위치(범주 : 강변1, 아니면 0)\t|\n|\tnox\t|\t일산화질소 농도\t|\n|\trm\t|\t주택당 방 수\t|\n|\tage\t|\t1940년 이전에 건축된 주택의 비율\t|\n|\tdis\t|\t직업센터의 거리\t|\n|\trad\t|\t방사형 고속도로까지의 거리\t|\n|\ttax\t|\t재산세율\t|\n|\tptratio\t|\t학생/교사 비율\t|\n|\tlstat\t|\t인구 중 하위 계층 비율\t|\n",
      "metadata": {
        "id": "W07fwF8zeix4"
      }
    },
    {
      "cell_type": "markdown",
      "source": "## **(2) 실습1 : 집계함수**\n\n* ① 집값(medv)의 평균을 구하시오.\n* ② 주택당 방수(rm)과 범죄율(crim)의 최댓값을 구하시오.",
      "metadata": {
        "id": "jtOUt7kVWs9D"
      }
    },
    {
      "cell_type": "markdown",
      "source": "① 집값(medv)의 평균을 구하시오.",
      "metadata": {
        "id": "KRln0NL_8lRF"
      }
    },
    {
      "cell_type": "code",
      "source": "data['medv'].mean()",
      "metadata": {
        "id": "1xqiuyahWs9E",
        "trusted": true
      },
      "execution_count": 3,
      "outputs": [
        {
          "execution_count": 3,
          "output_type": "execute_result",
          "data": {
            "text/plain": "22.532806324110677"
          },
          "metadata": {}
        }
      ]
    },
    {
      "cell_type": "markdown",
      "source": "② 주택당 방수(rm)과 범죄율(crim)의 최댓값을 구하시오.",
      "metadata": {
        "id": "KTiD22ZP8oZB"
      }
    },
    {
      "cell_type": "code",
      "source": "data[['rm','crim']].max()",
      "metadata": {
        "id": "560DerZ112_h",
        "trusted": true
      },
      "execution_count": 4,
      "outputs": [
        {
          "execution_count": 4,
          "output_type": "execute_result",
          "data": {
            "text/plain": "rm       8.7800\ncrim    88.9762\ndtype: float64"
          },
          "metadata": {}
        }
      ]
    },
    {
      "cell_type": "markdown",
      "source": "## **(3) 실습2 : 열 기준 집계(group by)**\n\n* ① 집값 그룹(medv_group) 별 범죄율(crim)의 평균을 조회하시오.\n* ② 집값 그룹(medv_group) 별 교사1명당 학생수(ptratio)의 최솟값을 조회하시오.\n* ③ 집값 그룹(medv_group) 별, 찰스강변여부(chas) 별 하위계층비율(lstat)의 평균값을 조회하시오.\n* ④ 고속도로와 거리(rad)가 5 이내인 타운에 대해서, 집값 그룹(medv_group) 별, 방 수(rm)의 평균값을 조회하시오.",
      "metadata": {
        "tags": [],
        "id": "KH0k96uzXvsk"
      }
    },
    {
      "cell_type": "markdown",
      "source": "① 집값 그룹(medv_group) 별 범죄율(crim)의 평균을 조회하시오.",
      "metadata": {
        "id": "r-S_C49I9Ncq"
      }
    },
    {
      "cell_type": "code",
      "source": "data.groupby('medv_group', as_index = False)['crim'].mean()",
      "metadata": {
        "id": "8oPLTJEwXvsm",
        "trusted": true
      },
      "execution_count": 5,
      "outputs": [
        {
          "execution_count": 5,
          "output_type": "execute_result",
          "data": {
            "text/plain": "  medv_group      crim\n0        low  7.235553\n1     medium  0.912439\n2       high  1.064089",
            "text/html": "<div>\n<style scoped>\n    .dataframe tbody tr th:only-of-type {\n        vertical-align: middle;\n    }\n\n    .dataframe tbody tr th {\n        vertical-align: top;\n    }\n\n    .dataframe thead th {\n        text-align: right;\n    }\n</style>\n<table border=\"1\" class=\"dataframe\">\n  <thead>\n    <tr style=\"text-align: right;\">\n      <th></th>\n      <th>medv_group</th>\n      <th>crim</th>\n    </tr>\n  </thead>\n  <tbody>\n    <tr>\n      <th>0</th>\n      <td>low</td>\n      <td>7.235553</td>\n    </tr>\n    <tr>\n      <th>1</th>\n      <td>medium</td>\n      <td>0.912439</td>\n    </tr>\n    <tr>\n      <th>2</th>\n      <td>high</td>\n      <td>1.064089</td>\n    </tr>\n  </tbody>\n</table>\n</div>"
          },
          "metadata": {}
        }
      ]
    },
    {
      "cell_type": "markdown",
      "source": "② 집값 그룹(medv_group) 별 교사1명당 학생수(ptratio)의 최솟값을 조회하시오.\n",
      "metadata": {
        "id": "vTM-aCiQBuRN"
      }
    },
    {
      "cell_type": "code",
      "source": "data.groupby('medv_group', as_index = False)['ptratio'].min()",
      "metadata": {
        "id": "OwjMl_JDBuRO",
        "trusted": true
      },
      "execution_count": 6,
      "outputs": [
        {
          "execution_count": 6,
          "output_type": "execute_result",
          "data": {
            "text/plain": "  medv_group  ptratio\n0        low     14.7\n1     medium     12.6\n2       high     13.0",
            "text/html": "<div>\n<style scoped>\n    .dataframe tbody tr th:only-of-type {\n        vertical-align: middle;\n    }\n\n    .dataframe tbody tr th {\n        vertical-align: top;\n    }\n\n    .dataframe thead th {\n        text-align: right;\n    }\n</style>\n<table border=\"1\" class=\"dataframe\">\n  <thead>\n    <tr style=\"text-align: right;\">\n      <th></th>\n      <th>medv_group</th>\n      <th>ptratio</th>\n    </tr>\n  </thead>\n  <tbody>\n    <tr>\n      <th>0</th>\n      <td>low</td>\n      <td>14.7</td>\n    </tr>\n    <tr>\n      <th>1</th>\n      <td>medium</td>\n      <td>12.6</td>\n    </tr>\n    <tr>\n      <th>2</th>\n      <td>high</td>\n      <td>13.0</td>\n    </tr>\n  </tbody>\n</table>\n</div>"
          },
          "metadata": {}
        }
      ]
    },
    {
      "cell_type": "markdown",
      "source": "③ 집값 그룹(medv_group) 별, 찰스강변여부(chas) 별 하위계층비율(lstat)의 평균값을 조회하시오.",
      "metadata": {
        "id": "xrcCCAwzB1Wv"
      }
    },
    {
      "cell_type": "code",
      "source": "data.groupby(['medv_group','chas'], as_index = False)['lstat'].mean()",
      "metadata": {
        "id": "EYrz8V3kB1Wv",
        "trusted": true
      },
      "execution_count": 7,
      "outputs": [
        {
          "execution_count": 7,
          "output_type": "execute_result",
          "data": {
            "text/plain": "  medv_group  chas      lstat\n0        low     0  18.476473\n1        low     1  18.548750\n2     medium     0   8.902723\n3     medium     1  11.132105\n4       high     0   4.753750\n5       high     1   4.195000",
            "text/html": "<div>\n<style scoped>\n    .dataframe tbody tr th:only-of-type {\n        vertical-align: middle;\n    }\n\n    .dataframe tbody tr th {\n        vertical-align: top;\n    }\n\n    .dataframe thead th {\n        text-align: right;\n    }\n</style>\n<table border=\"1\" class=\"dataframe\">\n  <thead>\n    <tr style=\"text-align: right;\">\n      <th></th>\n      <th>medv_group</th>\n      <th>chas</th>\n      <th>lstat</th>\n    </tr>\n  </thead>\n  <tbody>\n    <tr>\n      <th>0</th>\n      <td>low</td>\n      <td>0</td>\n      <td>18.476473</td>\n    </tr>\n    <tr>\n      <th>1</th>\n      <td>low</td>\n      <td>1</td>\n      <td>18.548750</td>\n    </tr>\n    <tr>\n      <th>2</th>\n      <td>medium</td>\n      <td>0</td>\n      <td>8.902723</td>\n    </tr>\n    <tr>\n      <th>3</th>\n      <td>medium</td>\n      <td>1</td>\n      <td>11.132105</td>\n    </tr>\n    <tr>\n      <th>4</th>\n      <td>high</td>\n      <td>0</td>\n      <td>4.753750</td>\n    </tr>\n    <tr>\n      <th>5</th>\n      <td>high</td>\n      <td>1</td>\n      <td>4.195000</td>\n    </tr>\n  </tbody>\n</table>\n</div>"
          },
          "metadata": {}
        }
      ]
    },
    {
      "cell_type": "markdown",
      "source": "④ 고속도로와 거리(rad)가 5 이내인 타운에 대해서, 집값 그룹(medv_group) 별, 방 수(rm)의 평균값을 조회하시오.",
      "metadata": {
        "id": "O2YaW1rrGHot"
      }
    },
    {
      "cell_type": "code",
      "source": "data.loc[data['rad']<= 5].groupby('medv_group', as_index = False)['rm'].mean()",
      "metadata": {
        "id": "_Ah3mYVmGHfY",
        "trusted": true
      },
      "execution_count": 8,
      "outputs": [
        {
          "execution_count": 8,
          "output_type": "execute_result",
          "data": {
            "text/plain": "  medv_group        rm\n0        low  5.834889\n1     medium  6.383266\n2       high  7.559657",
            "text/html": "<div>\n<style scoped>\n    .dataframe tbody tr th:only-of-type {\n        vertical-align: middle;\n    }\n\n    .dataframe tbody tr th {\n        vertical-align: top;\n    }\n\n    .dataframe thead th {\n        text-align: right;\n    }\n</style>\n<table border=\"1\" class=\"dataframe\">\n  <thead>\n    <tr style=\"text-align: right;\">\n      <th></th>\n      <th>medv_group</th>\n      <th>rm</th>\n    </tr>\n  </thead>\n  <tbody>\n    <tr>\n      <th>0</th>\n      <td>low</td>\n      <td>5.834889</td>\n    </tr>\n    <tr>\n      <th>1</th>\n      <td>medium</td>\n      <td>6.383266</td>\n    </tr>\n    <tr>\n      <th>2</th>\n      <td>high</td>\n      <td>7.559657</td>\n    </tr>\n  </tbody>\n</table>\n</div>"
          },
          "metadata": {}
        }
      ]
    },
    {
      "cell_type": "code",
      "source": "temp = data.loc[data['rad'] <= 5]\ntemp.groupby('medv_group', as_index = False)['rm'].mean()",
      "metadata": {
        "id": "jj4RRcRdGKxZ",
        "trusted": true
      },
      "execution_count": 13,
      "outputs": [
        {
          "execution_count": 13,
          "output_type": "execute_result",
          "data": {
            "text/plain": "  medv_group        rm\n0        low  5.834889\n1     medium  6.383266\n2       high  7.559657",
            "text/html": "<div>\n<style scoped>\n    .dataframe tbody tr th:only-of-type {\n        vertical-align: middle;\n    }\n\n    .dataframe tbody tr th {\n        vertical-align: top;\n    }\n\n    .dataframe thead th {\n        text-align: right;\n    }\n</style>\n<table border=\"1\" class=\"dataframe\">\n  <thead>\n    <tr style=\"text-align: right;\">\n      <th></th>\n      <th>medv_group</th>\n      <th>rm</th>\n    </tr>\n  </thead>\n  <tbody>\n    <tr>\n      <th>0</th>\n      <td>low</td>\n      <td>5.834889</td>\n    </tr>\n    <tr>\n      <th>1</th>\n      <td>medium</td>\n      <td>6.383266</td>\n    </tr>\n    <tr>\n      <th>2</th>\n      <td>high</td>\n      <td>7.559657</td>\n    </tr>\n  </tbody>\n</table>\n</div>"
          },
          "metadata": {}
        }
      ]
    },
    {
      "cell_type": "code",
      "source": "",
      "metadata": {},
      "execution_count": null,
      "outputs": []
    }
  ]
}