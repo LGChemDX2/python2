{
  "cells": [
    {
      "cell_type": "markdown",
      "metadata": {
        "id": "mVOYUVwYNrob"
      },
      "source": [
        "# **Lesson 5. 셰익스피어의 소네트 키워드 분석**"
      ]
    },
    {
      "cell_type": "markdown",
      "metadata": {
        "id": "94_GuqMIzzfx"
      },
      "source": [
        "# **1.비즈니스 시나리오**"
      ]
    },
    {
      "cell_type": "markdown",
      "metadata": {
        "id": "6y4AMbBWz5xt"
      },
      "source": [
        "* 긴 문장 속에는 자주 활용되는 몇 가지 핵심 단어들이 있기 마련입니다. 빈번하게 등장하는 단어의 빈도수를 계산하고 이를 시각화하는 과정은 작가의 의도와 주제를 이해할 때 사용되는 텍스트 분석의 방법 중 하나인데요.\n",
        "* 그렇다면, 셰익스피어는 어떻게 소네트를 통해 사랑과 아름다움에 대한 영원성과 희망을 표현하고자 한 것일까요?\n",
        "* 이번 실습에서는 셰익스피어가 쓴 아름다운 소네트 154편 중 8편을 골라 텍스트 분석을 진행해 보고자 합니다"
      ]
    },
    {
      "cell_type": "markdown",
      "metadata": {
        "id": "c1uOWzZl_YZH"
      },
      "source": [
        "# **2.환경준비**"
      ]
    },
    {
      "cell_type": "markdown",
      "metadata": {
        "id": "jtOUt7kVWs9D"
      },
      "source": [
        "## **(1) 환경준비**"
      ]
    },
    {
      "cell_type": "code",
      "execution_count": null,
      "metadata": {
        "id": "y-gAmYepxVLg",
        "trusted": true
      },
      "outputs": [],
      "source": [
        "# jupyter lite에서 패키지 설치\n",
        "import piplite\n",
        "await piplite.install(\"seaborn\")\n",
        "await piplite.install(\"wordcloud\")"
      ]
    },
    {
      "cell_type": "code",
      "execution_count": null,
      "metadata": {
        "id": "j-ggcuejWF7F",
        "trusted": true
      },
      "outputs": [],
      "source": [
        "import pandas as pd\n",
        "import numpy as np\n",
        "import matplotlib.pyplot as plt\n",
        "import seaborn as sns\n",
        "\n",
        "from collections import Counter\n",
        "from wordcloud import WordCloud"
      ]
    },
    {
      "cell_type": "markdown",
      "metadata": {
        "id": "RL80x0y80B3Y"
      },
      "source": [
        "# **3.텍스트 전처리**"
      ]
    },
    {
      "cell_type": "markdown",
      "metadata": {
        "id": "nT8jaWQoWJvI"
      },
      "source": [
        "* (1) 텍스트 파일 읽기 :\n",
        "    * 주어진 데이터는 셰익스피어의 소네트 키워드 텍스트파일(sonnet.txt) 입니다.\n",
        "    * 이 파일을 읽어서 변수 text에 저장합니다.\n",
        "* (2) 문장에서 단어 추출하기 : 저장한 변수 text로 부터 단어를 분리해서 리스트로 저장합니다.\n",
        "* (3) 추출한 단어 정제하기 : 쉼표와 마침표 제거, 모두 소문자로 변환, 그외 추가적인 정제 작업을 수행합니다."
      ]
    },
    {
      "cell_type": "markdown",
      "metadata": {
        "id": "YbcG6POAXDsM"
      },
      "source": [
        "## (1) 텍스트 파일 읽기"
      ]
    },
    {
      "cell_type": "code",
      "execution_count": null,
      "metadata": {
        "id": "DhZz67UbUxOA",
        "trusted": true
      },
      "outputs": [],
      "source": [
        "# 텍스트 파일을 읽기 모드('r')로 오픈합니다.\n",
        "file = open('sonnet.txt', 'r')\n",
        "\n",
        "# 파일 내용을 읽어서 text에 저장합니다.\n",
        "text = file.read()\n",
        "\n",
        "# 오픈한 파일을 닫습니다.\n",
        "file.close()"
      ]
    },
    {
      "cell_type": "code",
      "execution_count": null,
      "metadata": {
        "id": "cVo49Ir2xVLi",
        "tags": [],
        "trusted": true
      },
      "outputs": [],
      "source": [
        "# 저장한 내용을 확인해 봅시다.\n",
        "text"
      ]
    },
    {
      "cell_type": "markdown",
      "metadata": {
        "id": "Bro5QrG8XCxJ"
      },
      "source": [
        "## (2) 문장에서 단어 추출하기"
      ]
    },
    {
      "cell_type": "code",
      "execution_count": null,
      "metadata": {
        "id": "UGyTvp0UXMIY",
        "trusted": true
      },
      "outputs": [],
      "source": [
        "# 텍스트들을 단어 단위로 잘라 리스트에 담습니다.\n",
        "wordList = text.split()"
      ]
    },
    {
      "cell_type": "code",
      "execution_count": null,
      "metadata": {
        "id": "M4RBv5WHxVLk",
        "trusted": true
      },
      "outputs": [],
      "source": [
        "# 저장한 리스트에서 상위 10개를 조회해 봅시다.\n",
        "wordList[:10]"
      ]
    },
    {
      "cell_type": "markdown",
      "metadata": {
        "id": "8HeVOnAKxVLl"
      },
      "source": [
        "## (3) 추출한 단어 정제하기"
      ]
    },
    {
      "cell_type": "code",
      "execution_count": null,
      "metadata": {
        "id": "fHd0bSExxVLl",
        "trusted": true
      },
      "outputs": [],
      "source": [
        "# 단어의 갯수 지정합니다.\n",
        "n = len(wordList)\n",
        "\n",
        "# 리스트에서 단어 하나씩 뽑아서 수정합니다.\n",
        "for i in range(n) :\n",
        "    wordList[i] = wordList[i].replace(',','')    # 단어에서 , 빼기\n",
        "    wordList[i] = wordList[i].replace('.','')    # 단어에서 . 빼기\n",
        "    wordList[i] = wordList[i].lower()            # 모두 소문자로 변환\n"
      ]
    },
    {
      "cell_type": "code",
      "execution_count": null,
      "metadata": {
        "id": "c3WUhSrVxVLl",
        "trusted": true
      },
      "outputs": [],
      "source": [
        "# 정제한 단어 리스트에서 상위 10개를 조회해 봅시다.\n",
        "wordList[:10]"
      ]
    },
    {
      "cell_type": "markdown",
      "metadata": {
        "id": "EgZjRretYB3q"
      },
      "source": [
        "# **4.키워드 분석**\n",
        "* ① 단어 빈도수 계산\n",
        "    * Counter 함수로 빈도수를 계산하여 딕셔너리 형태로 저장합니다.\n",
        "    * 불용어를 제외합니다.\n",
        "* ② 시각화(워드클라우드)"
      ]
    },
    {
      "cell_type": "markdown",
      "metadata": {
        "id": "gX83ybZiYB39"
      },
      "source": [
        "## (1) 단어 빈도수 계산하기\n",
        "* 빈도수 계산(Counter)\n",
        "* 불용어 제거 :\n",
        "    * 우선 불용어 제거 없이 워드클라우드를 만듭니다.\n",
        "    * 워드클라우드를 보고 불용어 목록을 생성합니다.\n",
        "    * 불용어를 제거하고 다시 워드클라우드를 생성합니다."
      ]
    },
    {
      "cell_type": "code",
      "execution_count": null,
      "metadata": {
        "id": "YgXlqUofYB39",
        "trusted": true
      },
      "outputs": [],
      "source": [
        "# Counter 함수 : 단어와 빈도수를 계산하여 딕셔너리형태로 저장합니다.\n",
        "wordCount = Counter(wordList)"
      ]
    },
    {
      "cell_type": "code",
      "execution_count": null,
      "metadata": {
        "id": "KlEdoKqlxVLm",
        "trusted": true
      },
      "outputs": [],
      "source": [
        "# 제공된 불용어 목록에 추가해 봅시다.\n",
        "del_word = ['and','that','to','the','is', 'with','in','not','i','my','thou','as','me','of']\n",
        "\n",
        "# del_word에서 하나씩 읽어서\n",
        "for w in del_word :\n",
        "    if w in wordCount :  # 읽은 단어가 wordCount에 있으면\n",
        "        del wordCount[w] # wordCount에서 해당 단어를 삭제합니다."
      ]
    },
    {
      "cell_type": "markdown",
      "metadata": {
        "id": "QfMyLGYHYB3-"
      },
      "source": [
        "## (2) 시각화(워드클라우드)하기"
      ]
    },
    {
      "cell_type": "code",
      "execution_count": null,
      "metadata": {
        "id": "qgNEWn5-YB3-",
        "trusted": true
      },
      "outputs": [],
      "source": [
        "# word cloud 그리기 : 크기를 입력하고, 위에서 만든 키워드빈도 데이터를 넣어서 워드클라우드를 만들어 봅시다.\n",
        "wordcloud = WordCloud(width = 600, height = 400).generate_from_frequencies(wordCount)\n",
        "\n",
        "# 그림 크기 조정 가로 8, 세로 6 로 지정하세요.\n",
        "plt.figure(figsize = (8,6))\n",
        "# 이미지 보여줄 준비\n",
        "plt.imshow(wordcloud)\n",
        "# 화면에 출력\n",
        "plt.show()"
      ]
    },
    {
      "cell_type": "code",
      "execution_count": null,
      "metadata": {
        "id": "YY-kQImixVLm"
      },
      "outputs": [],
      "source": []
    }
  ],
  "metadata": {
    "colab": {
      "provenance": [],
      "toc_visible": true
    },
    "kernelspec": {
      "display_name": "Python (Pyodide)",
      "language": "python",
      "name": "python"
    },
    "language_info": {
      "codemirror_mode": {
        "name": "python",
        "version": 3
      },
      "file_extension": ".py",
      "mimetype": "text/x-python",
      "name": "python",
      "nbconvert_exporter": "python",
      "pygments_lexer": "ipython3",
      "version": "3.8"
    },
    "toc-autonumbering": false,
    "toc-showmarkdowntxt": false
  },
  "nbformat": 4,
  "nbformat_minor": 0
}