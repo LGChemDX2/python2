{
 "cells": [
  {
   "cell_type": "markdown",
   "metadata": {
    "id": "mVOYUVwYNrob"
   },
   "source": [
    "# **Topic 3. 배열 조회하기_실습**"
   ]
  },
  {
   "cell_type": "markdown",
   "metadata": {
    "id": "yzssTd9uiqzI"
   },
   "source": [
    "## **(1) 환경준비**\n"
   ]
  },
  {
   "cell_type": "markdown",
   "metadata": {
    "id": "rq2adXCMo4jo"
   },
   "source": [
    "### **1) 라이브러리 로딩**"
   ]
  },
  {
   "cell_type": "code",
   "execution_count": null,
   "metadata": {
    "id": "kffev7V1pJOh"
   },
   "outputs": [],
   "source": [
    "import numpy as np"
   ]
  },
  {
   "cell_type": "markdown",
   "metadata": {
    "id": "Ew25w97Do6lQ"
   },
   "source": [
    "### **2) 데이터 준비**"
   ]
  },
  {
   "cell_type": "code",
   "execution_count": null,
   "metadata": {
    "id": "0Hoym_jviwZd"
   },
   "outputs": [],
   "source": [
    "a = np.array([[11, 12, 13, 14],\n",
    "              [15, 16, 17, 18],\n",
    "              [19, 20, 21, 22]])"
   ]
  },
  {
   "cell_type": "markdown",
   "metadata": {
    "id": "uwdjFYCiXLGH"
   },
   "source": [
    "## **(2) 실습문제**\n",
    "위 배열을 이용하여 실습문제를 푸시오."
   ]
  },
  {
   "cell_type": "markdown",
   "metadata": {
    "id": "QrkCsl3OXvsn"
   },
   "source": [
    "### 1) 실습1 : 인덱스 조회\n",
    "* 다음의 결과를 얻도록 조회하시오.\n",
    "    * 16\n",
    "    * [19 20 21 22]\n",
    "    * [13 17 21]"
   ]
  },
  {
   "cell_type": "code",
   "execution_count": null,
   "metadata": {
    "colab": {
     "base_uri": "https://localhost:8080/"
    },
    "executionInfo": {
     "elapsed": 9,
     "status": "ok",
     "timestamp": 1693753137191,
     "user": {
      "displayName": "한기영",
      "userId": "13049187003176135487"
     },
     "user_tz": -540
    },
    "id": "ApqO5386Xvso",
    "outputId": "0196e2b1-2025-4a3f-e4d6-1b60c8bf8c78"
   },
   "outputs": [
    {
     "data": {
      "text/plain": [
       "16"
      ]
     },
     "execution_count": 3,
     "metadata": {},
     "output_type": "execute_result"
    }
   ],
   "source": [
    "# 16\n",
    "a[1,1]"
   ]
  },
  {
   "cell_type": "code",
   "execution_count": null,
   "metadata": {
    "colab": {
     "base_uri": "https://localhost:8080/"
    },
    "executionInfo": {
     "elapsed": 7,
     "status": "ok",
     "timestamp": 1693753137192,
     "user": {
      "displayName": "한기영",
      "userId": "13049187003176135487"
     },
     "user_tz": -540
    },
    "id": "uIjFmF22jYGx",
    "outputId": "90a70e93-6237-412b-c233-f58101e2f81b"
   },
   "outputs": [
    {
     "data": {
      "text/plain": [
       "array([19, 20, 21, 22])"
      ]
     },
     "execution_count": 4,
     "metadata": {},
     "output_type": "execute_result"
    }
   ],
   "source": [
    "# [19 20 21 22]\n",
    "a[2]"
   ]
  },
  {
   "cell_type": "code",
   "execution_count": null,
   "metadata": {
    "colab": {
     "base_uri": "https://localhost:8080/"
    },
    "executionInfo": {
     "elapsed": 4,
     "status": "ok",
     "timestamp": 1693753137618,
     "user": {
      "displayName": "한기영",
      "userId": "13049187003176135487"
     },
     "user_tz": -540
    },
    "id": "lGsn9kGgjYD5",
    "outputId": "2905731c-47ab-4274-c059-b76a30300d8f"
   },
   "outputs": [
    {
     "data": {
      "text/plain": [
       "array([13, 17, 21])"
      ]
     },
     "execution_count": 5,
     "metadata": {},
     "output_type": "execute_result"
    }
   ],
   "source": [
    "# [13 17 21]\n",
    "a[:,2]"
   ]
  },
  {
   "cell_type": "markdown",
   "metadata": {
    "id": "I4_tua_lf6Zg"
   },
   "source": [
    "### 2) 실습2 : 범위조회(슬라이싱)\n",
    "\n",
    "* 다음의 결과를 얻도록 조회하시오.\n",
    "    * [[15 16 17 18]  \n",
    "      [19, 20, 21, 22]]\n",
    "    * [[16 17]  \n",
    "      [20 21]]"
   ]
  },
  {
   "cell_type": "code",
   "execution_count": null,
   "metadata": {
    "colab": {
     "base_uri": "https://localhost:8080/"
    },
    "executionInfo": {
     "elapsed": 4,
     "status": "ok",
     "timestamp": 1693753277085,
     "user": {
      "displayName": "한기영",
      "userId": "13049187003176135487"
     },
     "user_tz": -540
    },
    "id": "9yjklA7Ggogg",
    "outputId": "940a61d9-2f4a-4904-de98-b545d7f1b296"
   },
   "outputs": [
    {
     "name": "stdout",
     "output_type": "stream",
     "text": [
      "[[15 16 17 18]\n",
      " [19 20 21 22]]\n"
     ]
    }
   ],
   "source": [
    "# [[15 16 17 18]\n",
    "# [19, 20, 21, 22]]\n",
    "print(a[1:])"
   ]
  },
  {
   "cell_type": "code",
   "execution_count": null,
   "metadata": {
    "colab": {
     "base_uri": "https://localhost:8080/"
    },
    "executionInfo": {
     "elapsed": 4,
     "status": "ok",
     "timestamp": 1693753296614,
     "user": {
      "displayName": "한기영",
      "userId": "13049187003176135487"
     },
     "user_tz": -540
    },
    "id": "Tao5gy56f6Zh",
    "outputId": "457ab9cf-301f-452e-85a5-6fb28fdd8ec0"
   },
   "outputs": [
    {
     "name": "stdout",
     "output_type": "stream",
     "text": [
      "[[16 17]\n",
      " [20 21]]\n"
     ]
    }
   ],
   "source": [
    "# [[16 17]\n",
    "# [20 21]]\n",
    "print(a[1:, 1:3])"
   ]
  },
  {
   "cell_type": "markdown",
   "metadata": {
    "id": "BRPWXDq5f6nq"
   },
   "source": [
    "### 3) 실습3 : 조건조회"
   ]
  },
  {
   "cell_type": "markdown",
   "metadata": {
    "id": "QWua7Tc4kX-b"
   },
   "source": [
    "* 17보다 큰 값을 조회하시오.\n",
    "    * 조건문의 결과 출력\n",
    "    * 조건문에 해당되는 값 조회"
   ]
  },
  {
   "cell_type": "code",
   "execution_count": null,
   "metadata": {
    "colab": {
     "base_uri": "https://localhost:8080/"
    },
    "executionInfo": {
     "elapsed": 3,
     "status": "ok",
     "timestamp": 1693753478419,
     "user": {
      "displayName": "한기영",
      "userId": "13049187003176135487"
     },
     "user_tz": -540
    },
    "id": "AaqtSRczf6nr",
    "outputId": "2a3682e8-335f-40f3-ab2f-2f2788768d5d"
   },
   "outputs": [
    {
     "name": "stdout",
     "output_type": "stream",
     "text": [
      "[[False False False False]\n",
      " [False False False  True]\n",
      " [ True  True  True  True]]\n"
     ]
    }
   ],
   "source": [
    "# 조건문\n",
    "print(a > 17)"
   ]
  },
  {
   "cell_type": "code",
   "execution_count": null,
   "metadata": {
    "colab": {
     "base_uri": "https://localhost:8080/"
    },
    "executionInfo": {
     "elapsed": 3,
     "status": "ok",
     "timestamp": 1693753482925,
     "user": {
      "displayName": "한기영",
      "userId": "13049187003176135487"
     },
     "user_tz": -540
    },
    "id": "q7rI6Qazkq6I",
    "outputId": "cb2f1ce9-eec0-4254-8ecd-0a7a72237c19"
   },
   "outputs": [
    {
     "name": "stdout",
     "output_type": "stream",
     "text": [
      "[18 19 20 21 22]\n"
     ]
    }
   ],
   "source": [
    "# 조건조회\n",
    "print(a[a > 17])"
   ]
  }
 ],
 "metadata": {
  "colab": {
   "provenance": []
  },
  "kernelspec": {
   "display_name": "Python 3 (ipykernel)",
   "language": "python",
   "name": "python3"
  },
  "language_info": {
   "codemirror_mode": {
    "name": "ipython",
    "version": 3
   },
   "file_extension": ".py",
   "mimetype": "text/x-python",
   "name": "python",
   "nbconvert_exporter": "python",
   "pygments_lexer": "ipython3",
   "version": "3.11.5"
  },
  "toc-autonumbering": false,
  "toc-showmarkdowntxt": false
 },
 "nbformat": 4,
 "nbformat_minor": 4
}
