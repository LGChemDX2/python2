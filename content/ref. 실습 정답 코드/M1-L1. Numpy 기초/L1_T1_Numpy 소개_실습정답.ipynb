{
  "cells": [
    {
      "cell_type": "markdown",
      "metadata": {
        "id": "mVOYUVwYNrob"
      },
      "source": [
        "# **Topic 1. Numpy 소개_실습**"
      ]
    },
    {
      "cell_type": "markdown",
      "metadata": {
        "id": "jtOUt7kVWs9D"
      },
      "source": [
        "## **(1) 환경준비**"
      ]
    },
    {
      "cell_type": "markdown",
      "metadata": {
        "id": "s1HBUG3GXvsj"
      },
      "source": [
        "### **1) 라이브러리 불러오기**"
      ]
    },
    {
      "cell_type": "code",
      "execution_count": null,
      "metadata": {
        "id": "1xqiuyahWs9E",
        "tags": []
      },
      "outputs": [],
      "source": [
        "import numpy as np\n",
        "import pandas as pd"
      ]
    },
    {
      "cell_type": "markdown",
      "metadata": {
        "id": "KH0k96uzXvsk",
        "tags": []
      },
      "source": [
        "### **2) 데이터 로딩**"
      ]
    },
    {
      "cell_type": "markdown",
      "metadata": {
        "id": "TeEzScRuXvsm",
        "tags": []
      },
      "source": [
        "* **air quality 데이터셋**\n",
        "    * 1973 뉴욕의 공기 오염도 측정 데이터\n",
        "\n",
        "|\t변수명\t|\t설명\t|\t구분\t|\n",
        "|----|----|----|\n",
        "|\tOzone \t|\t 오존농도\t|\tTarget\t|\n",
        "|\tSolar.R \t|\t태양복사열\t|\tfeature\t|\n",
        "|\tWind \t|\t 바람세기\t|\tfeature\t|\n",
        "|\tTemp \t|\t 온도(화씨)\t|\tfeature\t|\n",
        "|\tDate \t|\t yyyy-mm-dd\t|\tfeature\t|"
      ]
    },
    {
      "cell_type": "code",
      "execution_count": null,
      "metadata": {
        "id": "8oPLTJEwXvsm"
      },
      "outputs": [],
      "source": [
        "path = 'air.csv'    # 제공된 데이터 url로 로딩\n",
        "air = pd.read_csv(path)"
      ]
    },
    {
      "cell_type": "markdown",
      "metadata": {
        "id": "JqgG1UZsXvsn"
      },
      "source": [
        "----"
      ]
    },
    {
      "cell_type": "markdown",
      "metadata": {
        "id": "uwdjFYCiXLGH"
      },
      "source": [
        "## **(2) 실습문제**"
      ]
    },
    {
      "cell_type": "markdown",
      "metadata": {
        "id": "QrkCsl3OXvsn"
      },
      "source": [
        "### **1) 실습1 : 데이터 구조 이해**\n",
        "* **아래 코드를 실행한 후 다음을 설명해 봅시다.**\n",
        "    * 각 열의 의미를 확인해 봅시다.\n",
        "    * 각 행은 어떤 단위를 지니나요?"
      ]
    },
    {
      "cell_type": "code",
      "execution_count": null,
      "metadata": {
        "id": "ApqO5386Xvso"
      },
      "outputs": [],
      "source": [
        "air.head()"
      ]
    },
    {
      "cell_type": "markdown",
      "metadata": {
        "id": "CjCje52HeYEo"
      },
      "source": [
        "* 열 : 오존농도, 햇볕의 양, 바람세기, 온도, 날짜 정보\n",
        "* 행 : 일별 기상 측정값(관측값)"
      ]
    },
    {
      "cell_type": "code",
      "execution_count": null,
      "metadata": {
        "id": "5YJ1wDsQb09B"
      },
      "outputs": [],
      "source": []
    }
  ],
  "metadata": {
    "colab": {
      "provenance": [],
      "toc_visible": true
    },
    "kernelspec": {
      "display_name": "Python 3 (ipykernel)",
      "language": "python",
      "name": "python3"
    },
    "language_info": {
      "codemirror_mode": {
        "name": "ipython",
        "version": 3
      },
      "file_extension": ".py",
      "mimetype": "text/x-python",
      "name": "python",
      "nbconvert_exporter": "python",
      "pygments_lexer": "ipython3",
      "version": "3.11.5"
    },
    "toc-autonumbering": false,
    "toc-showcode": false,
    "toc-showmarkdowntxt": false
  },
  "nbformat": 4,
  "nbformat_minor": 0
}