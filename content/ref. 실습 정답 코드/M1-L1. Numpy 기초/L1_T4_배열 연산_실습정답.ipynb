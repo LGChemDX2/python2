{
  "cells": [
    {
      "cell_type": "markdown",
      "metadata": {
        "id": "mVOYUVwYNrob"
      },
      "source": [
        "# **Topic 4. 배열 연산_실습**"
      ]
    },
    {
      "cell_type": "markdown",
      "metadata": {
        "id": "yzssTd9uiqzI"
      },
      "source": [
        "## **(1) 환경준비**\n"
      ]
    },
    {
      "cell_type": "markdown",
      "metadata": {
        "id": "rq2adXCMo4jo"
      },
      "source": [
        "### **1) 라이브러리 로딩**"
      ]
    },
    {
      "cell_type": "code",
      "execution_count": null,
      "metadata": {
        "id": "0Hoym_jviwZd"
      },
      "outputs": [],
      "source": [
        "import numpy as np"
      ]
    },
    {
      "cell_type": "markdown",
      "metadata": {
        "id": "Ew25w97Do6lQ"
      },
      "source": [
        "### **2) 데이터 준비**"
      ]
    },
    {
      "cell_type": "code",
      "execution_count": null,
      "metadata": {
        "id": "-Arr_yvFioKw"
      },
      "outputs": [],
      "source": [
        "a = np.array([[2, 1], [5, 6], [8, 4]])\n",
        "b = np.array([[7, 21], [12, 8], [15, 20]])\n",
        "\n",
        "print(a)\n",
        "print(b)"
      ]
    },
    {
      "cell_type": "markdown",
      "metadata": {
        "id": "uwdjFYCiXLGH"
      },
      "source": [
        "## **(2) 실습문제**\n",
        "위 배열을 이용하여 실습문제를 푸시오."
      ]
    },
    {
      "cell_type": "markdown",
      "metadata": {
        "id": "QrkCsl3OXvsn"
      },
      "source": [
        "### 1) 실습1 : 사칙연산\n",
        "* 두 배열에 대해서 사칙연산을 수행하고 결과를 확인하시오."
      ]
    },
    {
      "cell_type": "code",
      "execution_count": null,
      "metadata": {
        "id": "ApqO5386Xvso"
      },
      "outputs": [],
      "source": [
        "# 덧셈\n",
        "a + b"
      ]
    },
    {
      "cell_type": "code",
      "execution_count": null,
      "metadata": {
        "id": "uIjFmF22jYGx"
      },
      "outputs": [],
      "source": [
        "# 뺄셈\n",
        "a - b"
      ]
    },
    {
      "cell_type": "code",
      "execution_count": null,
      "metadata": {
        "id": "lGsn9kGgjYD5"
      },
      "outputs": [],
      "source": [
        "# 곱셈\n",
        "a * b"
      ]
    },
    {
      "cell_type": "code",
      "execution_count": null,
      "metadata": {
        "id": "N_wmYhbemWoK"
      },
      "outputs": [],
      "source": [
        "# 나눗셈\n",
        "a / b"
      ]
    },
    {
      "cell_type": "markdown",
      "metadata": {
        "id": "I4_tua_lf6Zg"
      },
      "source": [
        "### 2) 실습2 : 집계함수\n",
        "\n",
        "* 배열 a에 다음 조건에 맞게 집계하시오."
      ]
    },
    {
      "cell_type": "code",
      "execution_count": null,
      "metadata": {
        "id": "9yjklA7Ggogg"
      },
      "outputs": [],
      "source": [
        "# 전체 합계\n",
        "np.sum(a)"
      ]
    },
    {
      "cell_type": "code",
      "execution_count": null,
      "metadata": {
        "id": "Tao5gy56f6Zh"
      },
      "outputs": [],
      "source": [
        "# 행 방향 평균(np.mean)\n",
        "np.mean(a, axis = 0)"
      ]
    },
    {
      "cell_type": "code",
      "execution_count": null,
      "metadata": {
        "id": "zPcXvFVOm0WP"
      },
      "outputs": [],
      "source": [
        "# 열 방향 최댓값(np.max)\n",
        "np.max(a, axis = 1)"
      ]
    },
    {
      "cell_type": "markdown",
      "metadata": {
        "id": "BRPWXDq5f6nq"
      },
      "source": [
        "### 3) 실습3 : 가장 큰 값의 인덱스\n",
        "* 배열 b에 대해서, np.argmax를 이용하여 조건에 맞게 인덱스를 조회하시오."
      ]
    },
    {
      "cell_type": "code",
      "source": [
        "print(b)"
      ],
      "metadata": {
        "id": "dlqSriV_aFWX"
      },
      "execution_count": null,
      "outputs": []
    },
    {
      "cell_type": "code",
      "execution_count": null,
      "metadata": {
        "id": "AaqtSRczf6nr"
      },
      "outputs": [],
      "source": [
        "# 전체에서 가장 큰 값의 인덱스\n",
        "np.argmax(b)"
      ]
    },
    {
      "cell_type": "code",
      "execution_count": null,
      "metadata": {
        "id": "q7rI6Qazkq6I"
      },
      "outputs": [],
      "source": [
        "# 행 방향에서 가장 큰 값의 인덱스\n",
        "np.argmax(b, axis = 0)"
      ]
    },
    {
      "cell_type": "code",
      "execution_count": null,
      "metadata": {
        "id": "Aa-8MwZtnQUR"
      },
      "outputs": [],
      "source": [
        "# 열 방향에서 가장 큰 값의 인덱스\n",
        "np.argmax(b, axis = 1)"
      ]
    },
    {
      "cell_type": "markdown",
      "metadata": {
        "id": "Ej_4P0-5ng-k"
      },
      "source": [
        "### 3) 실습4 : 조건에 따라 다른 값 지정하기\n",
        "* 배열 b에 대해서, np.where를 이용하여 조건에 맞게 다른 값을 지정하시오.\n",
        "\n",
        "|조건|참일때 값|거짓일때 값|\n",
        "|----|----|----|\n",
        "| 10 이상 이면 | 두자리수 | 한자리수|\n",
        "| 짝수이면(b % 2 == 0) | 0 | 1|\n"
      ]
    },
    {
      "cell_type": "code",
      "execution_count": null,
      "metadata": {
        "id": "hbUAOGWCng-l"
      },
      "outputs": [],
      "source": [
        "# 조건1 : 10 이상이면\n",
        "np.where(b >= 10, '두자리수', '한자리수')"
      ]
    },
    {
      "cell_type": "code",
      "execution_count": null,
      "metadata": {
        "id": "C_ihuf4Anfe9"
      },
      "outputs": [],
      "source": [
        "# 조건2 : 짝수이면\n",
        "np.where(b % 2 == 0, 0, 1)"
      ]
    }
  ],
  "metadata": {
    "colab": {
      "provenance": [],
      "toc_visible": true
    },
    "kernelspec": {
      "display_name": "Python 3 (ipykernel)",
      "language": "python",
      "name": "python3"
    },
    "language_info": {
      "codemirror_mode": {
        "name": "ipython",
        "version": 3
      },
      "file_extension": ".py",
      "mimetype": "text/x-python",
      "name": "python",
      "nbconvert_exporter": "python",
      "pygments_lexer": "ipython3",
      "version": "3.11.5"
    },
    "toc-autonumbering": false,
    "toc-showmarkdowntxt": false
  },
  "nbformat": 4,
  "nbformat_minor": 0
}