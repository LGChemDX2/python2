{
  "metadata": {
    "colab": {
      "provenance": [],
      "toc_visible": true
    },
    "kernelspec": {
      "name": "python",
      "display_name": "Python (Pyodide)",
      "language": "python"
    },
    "language_info": {
      "codemirror_mode": {
        "name": "python",
        "version": 3
      },
      "file_extension": ".py",
      "mimetype": "text/x-python",
      "name": "python",
      "nbconvert_exporter": "python",
      "pygments_lexer": "ipython3",
      "version": "3.8"
    }
  },
  "nbformat_minor": 4,
  "nbformat": 4,
  "cells": [
    {
      "cell_type": "markdown",
      "source": "# **Lesson 8. 서울시 따릉이 대여량 분석 및 예측**",
      "metadata": {
        "id": "qXUBfCONOdID"
      }
    },
    {
      "cell_type": "markdown",
      "source": "* 실습 배경\n    * 평소 따릉이를 자주 이용하는 A씨는 최근 서울시에서 진행하고 있는 따릉이 활성화 방안 제안 공모전 참가를 희망하고 있습니다. \n    * 때마침 회사에서 [Python을 활용한 실전 데이터 분석]  과정을 우수한 성적으로 수료했기에 공모전 참가에 적기라고 생각되었죠!\n    * 그렇다면, 주어진 따릉이 운영 데이터를 활용해 대여량을 분석하고 이용자가 필요할 때 부족하지 않도록 채우는 방안을 제안해 봅시다. \n\n* 데이터 분석 목표\n    * ① 시간대별 대여량에 영향을 주는 요인 도출\n    * ② 시계열에 맞는 시각화 분석",
      "metadata": {
        "id": "QB2bBgnB8NM7"
      }
    },
    {
      "cell_type": "markdown",
      "source": "## **1.환경준비**",
      "metadata": {
        "id": "DAR82IvULLEt"
      }
    },
    {
      "cell_type": "markdown",
      "source": "### **(1) 라이브러리 로딩**",
      "metadata": {
        "id": "QDhLvPrGqhKA"
      }
    },
    {
      "cell_type": "code",
      "source": "# jupyter lite에서 패키지 설치\nimport piplite\nawait piplite.install(\"seaborn\")",
      "metadata": {
        "trusted": true
      },
      "execution_count": null,
      "outputs": []
    },
    {
      "cell_type": "code",
      "source": "import pandas as pd\nimport numpy as np\n\nimport matplotlib.pyplot as plt\nimport seaborn as sns\n\nfrom statsmodels.graphics.mosaicplot import mosaic   ",
      "metadata": {
        "id": "bTVrr9iaLNsy",
        "trusted": true
      },
      "execution_count": null,
      "outputs": []
    },
    {
      "cell_type": "markdown",
      "source": "### **(2) 데이터 로딩**",
      "metadata": {
        "id": "PICN-zK6qlil"
      }
    },
    {
      "cell_type": "markdown",
      "source": "|\t변수명\t|\t설명\t|\t구분\t|  데이터 유형 |\n|----|----|----|----|\n|\tDate \t|\t 날짜\t|\tTarget\t| datetime |\n|\tHour\t|\t시간대\t|\tfeature\t| 범주형 |\n|\tCount\t|\t 대여량\t|\tfeature\t| 수치형 |\n|\tCount_B2 \t|\t 2시간전 대여량 \t|\tfeature\t| 수치형 |\n|\tTemp_B2\t|\t 2시간전 온도\t|\tfeature\t| 수치형 |\n|\tHum_B2 \t|\t 2시간전 습도\t|\tfeature\t| 수치형 |\n|\tWeekday \t|\t 요일 \t|\tfeature\t| 범주형 |\n",
      "metadata": {
        "id": "zYKHwYHatC4k"
      }
    },
    {
      "cell_type": "code",
      "source": "path = 'SeoulBike.csv'\ndata = pd.read_csv(path)\ndata['Date'] = pd.to_datetime(data['Date'])",
      "metadata": {
        "id": "QG28HshT8SfH",
        "trusted": true
      },
      "execution_count": null,
      "outputs": []
    },
    {
      "cell_type": "markdown",
      "source": "## **2.기본 탐색**",
      "metadata": {
        "id": "SpEFHt5QewTI"
      }
    },
    {
      "cell_type": "markdown",
      "source": "### **(1) 상위, 하위 5개의 정보 확인**\n* .head()\n* .tail()",
      "metadata": {
        "id": "thQJEoEze3ke"
      }
    },
    {
      "cell_type": "code",
      "source": "",
      "metadata": {
        "id": "BY7a4N5wewj5",
        "trusted": true
      },
      "execution_count": null,
      "outputs": []
    },
    {
      "cell_type": "code",
      "source": "",
      "metadata": {
        "id": "ykqYxZC_ewge",
        "trusted": true
      },
      "execution_count": null,
      "outputs": []
    },
    {
      "cell_type": "markdown",
      "source": "### **(2) 데이터프레임 정보 확인**\n* .info()",
      "metadata": {
        "id": "k1328Lu7ewP1"
      }
    },
    {
      "cell_type": "code",
      "source": "",
      "metadata": {
        "id": "3QbiOdtFfO7e",
        "trusted": true
      },
      "execution_count": null,
      "outputs": []
    },
    {
      "cell_type": "markdown",
      "source": "## **3.시계열 데이터 시각화**",
      "metadata": {
        "id": "J-JZ79AtfVAB"
      }
    },
    {
      "cell_type": "markdown",
      "source": "### **(1) 기초통계량**\n\n* 기초통계량 : .describe()",
      "metadata": {
        "id": "k9yKRvZjfm06"
      }
    },
    {
      "cell_type": "code",
      "source": "",
      "metadata": {
        "trusted": true
      },
      "execution_count": null,
      "outputs": []
    },
    {
      "cell_type": "markdown",
      "source": "### **(2) 라인차트**",
      "metadata": {
        "id": "S7P-tDDUfp8y"
      }
    },
    {
      "cell_type": "markdown",
      "source": "#### **1) 전체 기간에 대한 라인차트 그리기**",
      "metadata": {}
    },
    {
      "cell_type": "code",
      "source": "# 대여량(Count)에 대해서 라인차트 그리기\n",
      "metadata": {
        "trusted": true
      },
      "execution_count": null,
      "outputs": []
    },
    {
      "cell_type": "markdown",
      "source": "#### **2) 2018년11월에 대한 라인차트 그리기**",
      "metadata": {}
    },
    {
      "cell_type": "code",
      "source": "# 연도와 기간 조건으로 조회해서 temp로 저장\ntemp = data.loc[(data['Date'].dt.year == 2018) & ( )]\n\n# 해당 기간에 대한 라인차트 그리기\n",
      "metadata": {
        "trusted": true
      },
      "execution_count": null,
      "outputs": []
    },
    {
      "cell_type": "markdown",
      "source": "* 파악한 내용을 적어 봅시다.",
      "metadata": {
        "id": "y9JvAUNHhftm"
      }
    },
    {
      "cell_type": "code",
      "source": "",
      "metadata": {
        "id": "-eT2mZ_dhhVO"
      },
      "execution_count": null,
      "outputs": []
    },
    {
      "cell_type": "markdown",
      "source": "#### **3) 이동평균선 추가**\n* 24시간 이동평균 대여량(Count_B2)를 추가하고\n* 라인차트를 그려봅시다.",
      "metadata": {
        "id": "Gmjy0Wzbfw5b"
      }
    },
    {
      "cell_type": "code",
      "source": "# 24시간 이동평균 대여량(Count_B2)를 추가\ndata['Count_B2_MA24'] = data['Count_B2'].\n\n# 해당 기간에 대한 라인차트 그리기\n\n",
      "metadata": {
        "trusted": true
      },
      "execution_count": null,
      "outputs": []
    },
    {
      "cell_type": "markdown",
      "source": "* 추세를 파악해 봅시다.",
      "metadata": {
        "id": "MQNTMLD9hcgT"
      }
    },
    {
      "cell_type": "code",
      "source": "",
      "metadata": {
        "id": "vBuJr0qrfw5c"
      },
      "execution_count": null,
      "outputs": []
    },
    {
      "cell_type": "markdown",
      "source": "## **4. 시계열 패턴 추가**\n* 패턴으로부터 파악한 내용을 변수로 생성해 봅시다.\n    * 다음 변수를 생성합니다.\n        * 24시간 전 대여량(Count)\n        * 시간대 구분(Hour)\n            * 7~8 : 1\n            * 17~20 : 2\n            * 나머지 : 0\n    * 2시간 후의 대여량을 예측하는데, 더 필요한 변수가 있다면 생성해 봅시다.\n        * 예 : 최근 3시간 평균 온도, 평일/주말 여부 등\n        ",
      "metadata": {
        "id": "vDU0LiUZgtfj",
        "tags": []
      }
    },
    {
      "cell_type": "markdown",
      "source": "### **(1) 주어진 패턴을 변수로 추가하기**",
      "metadata": {}
    },
    {
      "cell_type": "markdown",
      "source": "#### **1) 24시간 전 대여량(Count)**\n* .shift()",
      "metadata": {
        "id": "MrXP5wQJgtfj"
      }
    },
    {
      "cell_type": "code",
      "source": "",
      "metadata": {
        "id": "kqLaa6a9k2vL",
        "trusted": true
      },
      "execution_count": null,
      "outputs": []
    },
    {
      "cell_type": "markdown",
      "source": "#### **2) 시간대 구분(Hour)**\n* .map 이용\n    * 7~8 : 1\n    * 17~20 : 2\n    * 나머지 : 0",
      "metadata": {
        "id": "o0iyuz2egtfk"
      }
    },
    {
      "cell_type": "code",
      "source": "",
      "metadata": {},
      "execution_count": null,
      "outputs": []
    },
    {
      "cell_type": "markdown",
      "source": "### **(2) 추가변수 만들기**",
      "metadata": {}
    },
    {
      "cell_type": "code",
      "source": "",
      "metadata": {
        "id": "QKhW6PAghqMj"
      },
      "execution_count": null,
      "outputs": []
    },
    {
      "cell_type": "markdown",
      "source": "## **5.예측 모델링**\n* 여러분이 추가한 변수가 무엇인지에 따라 모델의 성능이 달라집니다.",
      "metadata": {
        "id": "AhopsdLVqglH"
      }
    },
    {
      "cell_type": "code",
      "source": "from sklearn.model_selection import train_test_split\nfrom sklearn.linear_model import LinearRegression\nfrom sklearn.metrics import *",
      "metadata": {
        "id": "c1qy6xHXs7Uc",
        "trusted": true
      },
      "execution_count": null,
      "outputs": []
    },
    {
      "cell_type": "markdown",
      "source": "### **(1) 데이터 준비**\n* 모델링을 위해서는 데이터가 특별한 형태로 준비되어야 합니다.\n    * 본 실습에서는 준비에 대한 세세한 내용을 다루지는 않습니다.\n    * 가변수화 : 범주형 --> 수치형 변환\n    * 데이터 분할 : 학습용과 검증용 분할\n        * 학습용 : 모델링 용도\n        * 검증용 : 모델 성능 측정(검증)",
      "metadata": {
        "id": "E9-cspoEqy6A",
        "tags": []
      }
    },
    {
      "cell_type": "code",
      "source": "# 결측치 조치\ndata.dropna(inplace = True)",
      "metadata": {},
      "execution_count": null,
      "outputs": []
    },
    {
      "cell_type": "code",
      "source": "# 데이터 분할1 : x, y 분할\ntarget = 'Count'\nx = data.drop([target,'Date'], axis = 1)\ny = data[target]",
      "metadata": {
        "id": "gaSC14wcqjy4",
        "trusted": true
      },
      "execution_count": null,
      "outputs": []
    },
    {
      "cell_type": "code",
      "source": "# 가변수화\ncategory_cols = ['Weekday','Hour']\nx = pd.get_dummies(x, columns = category_cols, drop_first = True)",
      "metadata": {
        "id": "AqLlrhnCscJc",
        "trusted": true
      },
      "execution_count": null,
      "outputs": []
    },
    {
      "cell_type": "code",
      "source": "# 데이터 분할2 : 학습용 : 검증용\nx_train, x_test, y_train, y_test = train_test_split(x, y, test_size = 24*14, shuffle = False)",
      "metadata": {
        "id": "bd5sIiADsyYf",
        "trusted": true
      },
      "execution_count": null,
      "outputs": []
    },
    {
      "cell_type": "markdown",
      "source": "### **(2) 모델링 및 평가**\n\n* 모델링 절차\n    * 선언\n    * 학습(모델링) : x_train, y_train\n    * 예측 : x_test\n    * 평가 : y_test, 예측값\n\n* 아래 주석으로 되어 있는 코드를 그대로 작성해 봅시다.",
      "metadata": {
        "id": "jWBw4A8-tOcR"
      }
    },
    {
      "cell_type": "code",
      "source": "# 선언 : model = LinearRegression()\n\n",
      "metadata": {
        "id": "vZxA7syQtMdv"
      },
      "execution_count": null,
      "outputs": []
    },
    {
      "cell_type": "code",
      "source": "# 학습 : model.fit(x_train, y_train)\n\n",
      "metadata": {
        "id": "lXXil6LnteQF"
      },
      "execution_count": null,
      "outputs": []
    },
    {
      "cell_type": "code",
      "source": "# 예측 : pred = model.predict(x_test)\n\n",
      "metadata": {
        "id": "ApoZuLCnths3"
      },
      "execution_count": null,
      "outputs": []
    },
    {
      "cell_type": "code",
      "source": "# 평가(평균오차) : mean_absolute_error(y_test, pred)\n\n",
      "metadata": {
        "id": "KOdxaCjotpIM"
      },
      "execution_count": null,
      "outputs": []
    },
    {
      "cell_type": "markdown",
      "source": "* 모델 시각화",
      "metadata": {}
    },
    {
      "cell_type": "code",
      "source": "plt.figure(figsize = (10,4))\nplt.plot(y_test.values, label = 'Actual Value')\nplt.plot(pred, label = 'Predicted Value')\nplt.legend()\nplt.grid()\nplt.show()",
      "metadata": {},
      "execution_count": null,
      "outputs": []
    }
  ]
}