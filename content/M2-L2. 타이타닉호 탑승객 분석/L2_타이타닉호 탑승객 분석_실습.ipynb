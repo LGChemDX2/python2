{
  "metadata": {
    "colab": {
      "provenance": [],
      "toc_visible": true
    },
    "kernelspec": {
      "name": "python",
      "display_name": "Python (Pyodide)",
      "language": "python"
    },
    "language_info": {
      "codemirror_mode": {
        "name": "python",
        "version": 3
      },
      "file_extension": ".py",
      "mimetype": "text/x-python",
      "name": "python",
      "nbconvert_exporter": "python",
      "pygments_lexer": "ipython3",
      "version": "3.8"
    }
  },
  "nbformat_minor": 4,
  "nbformat": 4,
  "cells": [
    {
      "cell_type": "markdown",
      "source": "# **Lesson 2. 타이타닉호 탑승객 분석**",
      "metadata": {
        "id": "qXUBfCONOdID"
      }
    },
    {
      "cell_type": "markdown",
      "source": "# 1.비즈니스 시나리오",
      "metadata": {
        "id": "790IJBdRWl9r"
      }
    },
    {
      "cell_type": "markdown",
      "source": "* 타이타닉 탑승객 중 생존자는?\n    * 1912년 유럽에서 승객과 승무원 2200여명을 태우고 미국(뉴욕)으로\n향하는 도중, 빙산에 부딪쳐 침몰한 배 타이타닉호!\n    * 이때, 약 700여명만 생존했는데, 대부분은 구명보트를 타고 살았습니다.\n    * 그렇다면, 당시 어떤 사람들이 구명보트에 탈 수 있었을까요?\n    * 우선 탑승객의 정보를 분석해 봅시다.",
      "metadata": {
        "id": "XOiIUDJ1i11u"
      }
    },
    {
      "cell_type": "markdown",
      "source": "# 2.환경준비",
      "metadata": {
        "id": "c1uOWzZl_YZH"
      }
    },
    {
      "cell_type": "markdown",
      "source": "## (1) 라이브러리 불러오기",
      "metadata": {
        "id": "LS2rtJiJlaF0"
      }
    },
    {
      "cell_type": "code",
      "source": "# jupyter lite에서 패키지 설치\nimport piplite\nawait piplite.install(\"seaborn\")",
      "metadata": {
        "id": "sE94Gz_YKR6m"
      },
      "execution_count": null,
      "outputs": []
    },
    {
      "cell_type": "code",
      "source": "import numpy as np\nimport pandas as pd\n\nimport matplotlib.pyplot as plt\nimport seaborn as sns",
      "metadata": {
        "id": "ba319GIZlcFB"
      },
      "execution_count": null,
      "outputs": []
    },
    {
      "cell_type": "markdown",
      "source": "## (2) 데이터 로딩",
      "metadata": {
        "id": "TCceTRSHqibR"
      }
    },
    {
      "cell_type": "code",
      "source": "data = pd.read_csv('titanic_simple.csv')",
      "metadata": {
        "id": "08FGuKtjpGOj"
      },
      "execution_count": null,
      "outputs": []
    },
    {
      "cell_type": "markdown",
      "source": "|\t변수명\t|\t설명\t|\t구분\t|\n|----|----|----|\n|\tPassengerId \t|\t 승객ID\t|\t일련번호\t|\n|\tSurvived \t|\t 생존 여부(0-사망, 1-생존)\t|\t범주형\t|\n|\tPclass \t|\t 객실 등급(1,2,3)\t|\t범주형\t|\n|\tName \t|\t 승객 이름\t|\t문자열\t|\n|\tSex \t|\t 성별(male, female)\t|\t범주형\t|\n|\tEmbarked \t|\t 승선 지역(Southampton, Queenstown, Cherbourg)\t|\t범주형\t|",
      "metadata": {
        "id": "zYKHwYHatC4k"
      }
    },
    {
      "cell_type": "markdown",
      "source": "# 3.데이터 기본 조회",
      "metadata": {
        "id": "PvgI8VR1KR6n"
      }
    },
    {
      "cell_type": "markdown",
      "source": "## (1) 상위 5개 행 조회",
      "metadata": {
        "tags": [],
        "id": "VPjEuvXnKR6o"
      }
    },
    {
      "cell_type": "code",
      "source": "",
      "metadata": {
        "id": "YVpvVuA3KR6o"
      },
      "execution_count": null,
      "outputs": []
    },
    {
      "cell_type": "markdown",
      "source": "## (2) 데이터프레임 정보 조회(.info())",
      "metadata": {
        "id": "mKUBK5k7KR6o"
      }
    },
    {
      "cell_type": "code",
      "source": "",
      "metadata": {
        "id": "ER_ajubpKR6o"
      },
      "execution_count": null,
      "outputs": []
    },
    {
      "cell_type": "markdown",
      "source": "# 4.단변량분석 : 범주형 변수\n\n* 범주형 변수 분석 도구\n    * 기초통계량 : .value_counts()\n    * 시각화 : sns.countplot()\n* 분석할 내용\n    * 건수/비율이 높은 범주와, 낮은 범주를 찾고\n    * 이유를 파악(상상)해 봅시다.",
      "metadata": {
        "id": "A7QYqGKWdMZi"
      }
    },
    {
      "cell_type": "markdown",
      "source": "## (1) Survived",
      "metadata": {
        "id": "m5zcg9CCg86m"
      }
    },
    {
      "cell_type": "code",
      "source": "var = 'Survived'",
      "metadata": {
        "id": "wzqRnR1YKR6o"
      },
      "execution_count": null,
      "outputs": []
    },
    {
      "cell_type": "markdown",
      "source": "* 기초통계량",
      "metadata": {
        "id": "G3U9TwMt-7aD"
      }
    },
    {
      "cell_type": "code",
      "source": "# 범주별 빈도수\ndata[var].value_counts()",
      "metadata": {
        "id": "fzfJAos6g86m"
      },
      "execution_count": null,
      "outputs": []
    },
    {
      "cell_type": "code",
      "source": "# 범주별 비율\ndata[var].value_counts(normalize = True)",
      "metadata": {
        "id": "48ZQmSGa_FMk"
      },
      "execution_count": null,
      "outputs": []
    },
    {
      "cell_type": "markdown",
      "source": "* 시각화\n    * plt.subplot을 이용해서 1행2열 프레임에 그래프 2개를 그려 봅시다.\n    * 그래프1 : sns.countplot\n    * 그래프2 : plt.pie",
      "metadata": {
        "id": "5USCGxUd_Jd3"
      }
    },
    {
      "cell_type": "code",
      "source": "# 그래프 크기\nplt.figure(figsize = (8, 4))\n\n# 그래프1 : 막대 그래프\nplt.subplot( 1 , 2 , 1 )\nsns.countplot(x = var    , data = data   )\nplt.grid()\n\n# 그래프2 : 파이차트\nplt.subplot( 1 , 2  , 2 )\n# 먼저 집계\ntemp = data[var].value_counts()\n\n# 그래프\nplt.pie(temp.values, labels = temp.index, autopct = '%.2f%%')\n\nplt.tight_layout()\nplt.show()",
      "metadata": {
        "id": "o8aTkvBa_LbJ"
      },
      "execution_count": null,
      "outputs": []
    },
    {
      "cell_type": "markdown",
      "source": "* 파악된 내용을 적어 봅시다.",
      "metadata": {
        "id": "XZsiH_dYBvG0"
      }
    },
    {
      "cell_type": "code",
      "source": "",
      "metadata": {
        "id": "d-rqhoYcBxgA"
      },
      "execution_count": null,
      "outputs": []
    },
    {
      "cell_type": "markdown",
      "source": "## (2) Pclass",
      "metadata": {
        "id": "NzM65bOSB6ir"
      }
    },
    {
      "cell_type": "code",
      "source": "var =",
      "metadata": {
        "id": "VDLJxvstKR6p"
      },
      "execution_count": null,
      "outputs": []
    },
    {
      "cell_type": "markdown",
      "source": "* 기초통계량",
      "metadata": {
        "id": "7_lpr0xhB6i-"
      }
    },
    {
      "cell_type": "code",
      "source": "# 범주별 빈도수\ndata[    ].v",
      "metadata": {
        "id": "dVDoIYSLKR6p"
      },
      "execution_count": null,
      "outputs": []
    },
    {
      "cell_type": "code",
      "source": "# 범주별 비율\ndata[    ].v   (nor   =  )",
      "metadata": {
        "id": "dxfRogDGKR6q"
      },
      "execution_count": null,
      "outputs": []
    },
    {
      "cell_type": "markdown",
      "source": "* 시각화\n    * plt.subplot을 이용해서 1행2열 프레임에 그래프 2개를 그려 봅시다.\n    * 그래프1 : sns.countplot\n    * 그래프2 : plt.pie",
      "metadata": {
        "id": "W5NuNY36KR6q"
      }
    },
    {
      "cell_type": "code",
      "source": "# 그래프 크기\nplt.figure(figsize = (8, 4))\n\n# 그래프1 : 막대 그래프\nplt.subplot(  ,   ,  )\nsns.co   (x =    , data =    )\nplt.grid()\n\n# 그래프2 : 파이차트\nplt.subplot(  ,   ,  )\n# 먼저 집계\ntemp = data[   ].v       .sort_index()\n\n# 그래프\nplt.p   (temp.v  , labels = temp.i  , autopct = '%.2f%%')\n\nplt.show()",
      "metadata": {
        "tags": [],
        "id": "K8b8wNJcKR6q"
      },
      "execution_count": null,
      "outputs": []
    },
    {
      "cell_type": "markdown",
      "source": "* 파악된 내용을 적어 봅시다.",
      "metadata": {
        "id": "nqsZp9LJB6jA"
      }
    },
    {
      "cell_type": "code",
      "source": "",
      "metadata": {
        "id": "cCYdbJAAB6jB"
      },
      "execution_count": null,
      "outputs": []
    },
    {
      "cell_type": "markdown",
      "source": "## (3) Sex",
      "metadata": {
        "id": "htHk0SdnDeNW"
      }
    },
    {
      "cell_type": "code",
      "source": "var =",
      "metadata": {
        "id": "vM-fDtL8KR6q"
      },
      "execution_count": null,
      "outputs": []
    },
    {
      "cell_type": "markdown",
      "source": "* 기초통계량",
      "metadata": {
        "id": "9cQvLOhJE-AZ"
      }
    },
    {
      "cell_type": "code",
      "source": "# 범주별 빈도수\ndata[    ].v",
      "metadata": {
        "id": "xHwfPItRKR6q"
      },
      "execution_count": null,
      "outputs": []
    },
    {
      "cell_type": "code",
      "source": "# 범주별 비율\ndata[    ].v   (nor   =  )",
      "metadata": {
        "id": "Fu_D0e8RKR6q"
      },
      "execution_count": null,
      "outputs": []
    },
    {
      "cell_type": "markdown",
      "source": "* 시각화\n    * plt.subplot을 이용해서 1행2열 프레임에 그래프 2개를 그려 봅시다.\n    * 그래프1 : sns.countplot\n    * 그래프2 : plt.pie",
      "metadata": {
        "id": "kf9iuKewKR6u"
      }
    },
    {
      "cell_type": "code",
      "source": "# 그래프 크기\nplt.figure(figsize = (8, 4))\n\n# 그래프1 : 막대 그래프\nplt.subplot(  ,   ,  )\nsns.co   (x =    , data =    )\nplt.grid()\n\n# 그래프2 : 파이차트\nplt.subplot(  ,   ,  )\n# 먼저 집계\ntemp = data[   ].v\n\n# 그래프\nplt.p   (temp.v  , labels = temp.i  , autopct = '%.2f%%')\n\nplt.show()",
      "metadata": {
        "id": "t4CmrUSdKR6v"
      },
      "execution_count": null,
      "outputs": []
    },
    {
      "cell_type": "markdown",
      "source": "* 파악된 내용을 적어 봅시다.",
      "metadata": {
        "id": "1wwUH_KSE-Ab"
      }
    },
    {
      "cell_type": "code",
      "source": "",
      "metadata": {
        "id": "KrO82Pg_E-Ab"
      },
      "execution_count": null,
      "outputs": []
    },
    {
      "cell_type": "markdown",
      "source": "## (4) Embarked",
      "metadata": {
        "id": "hzTj8EIqDoIq"
      }
    },
    {
      "cell_type": "code",
      "source": "var =",
      "metadata": {
        "id": "9E1kGabpKR6v"
      },
      "execution_count": null,
      "outputs": []
    },
    {
      "cell_type": "markdown",
      "source": "* 기초통계량",
      "metadata": {
        "id": "grkgb9vsE_xj"
      }
    },
    {
      "cell_type": "code",
      "source": "# 범주별 빈도수\ndata[    ].v",
      "metadata": {
        "id": "tjkG4Qk3KR6v"
      },
      "execution_count": null,
      "outputs": []
    },
    {
      "cell_type": "code",
      "source": "# 범주별 비율\ndata[    ].v   (nor   =  )",
      "metadata": {
        "id": "Wsc_7LwpKR6v"
      },
      "execution_count": null,
      "outputs": []
    },
    {
      "cell_type": "markdown",
      "source": "* 시각화\n    * plt.subplot을 이용해서 1행2열 프레임에 그래프 2개를 그려 봅시다.\n    * 그래프1 : sns.countplot\n    * 그래프2 : plt.pie",
      "metadata": {
        "id": "f6ZSrY59KR6v"
      }
    },
    {
      "cell_type": "code",
      "source": "# 그래프 크기\nplt.figure(figsize = (8, 4))\n\n# 그래프1 : 막대 그래프\nplt.subplot(  ,   ,  )\nsns.co   (x =    , data =    )\nplt.grid()\n\n# 그래프2 : 파이차트\nplt.subplot(  ,   ,  )\n# 먼저 집계\ntemp = data[   ].v\n\n# 그래프\nplt.p   (temp.v  , labels = temp.i  , autopct = '%.2f%%')\n\nplt.show()",
      "metadata": {
        "id": "vSkuMzm0KR6v"
      },
      "execution_count": null,
      "outputs": []
    },
    {
      "cell_type": "markdown",
      "source": "* 파악된 내용을 적어 봅시다.",
      "metadata": {
        "id": "VVht8eRwE_xm"
      }
    },
    {
      "cell_type": "code",
      "source": "",
      "metadata": {
        "id": "un-UsppzE_xm"
      },
      "execution_count": null,
      "outputs": []
    }
  ]
}