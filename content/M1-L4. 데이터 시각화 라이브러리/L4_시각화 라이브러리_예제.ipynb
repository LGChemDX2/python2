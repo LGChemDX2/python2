{
  "metadata": {
    "colab": {
      "provenance": [],
      "toc_visible": true
    },
    "toc-autonumbering": false,
    "toc-showmarkdowntxt": false,
    "kernelspec": {
      "name": "python",
      "display_name": "Python (Pyodide)",
      "language": "python"
    },
    "language_info": {
      "codemirror_mode": {
        "name": "python",
        "version": 3
      },
      "file_extension": ".py",
      "mimetype": "text/x-python",
      "name": "python",
      "nbconvert_exporter": "python",
      "pygments_lexer": "ipython3",
      "version": "3.8"
    }
  },
  "nbformat_minor": 4,
  "nbformat": 4,
  "cells": [
    {
      "cell_type": "markdown",
      "source": "# **Lesson 4. 시각화 라이브러리_예제**\n",
      "metadata": {
        "id": "mVOYUVwYNrob"
      }
    },
    {
      "cell_type": "markdown",
      "source": "## **(1) 환경준비**",
      "metadata": {
        "id": "nm01F0E7V274"
      }
    },
    {
      "cell_type": "code",
      "source": "# jupyter lite에서 패키지 설치\nimport piplite\nawait piplite.install(\"seaborn\")",
      "metadata": {
        "trusted": true
      },
      "execution_count": null,
      "outputs": []
    },
    {
      "cell_type": "markdown",
      "source": "### 1) 라이브러리 불러오기",
      "metadata": {
        "id": "Uj2_4_07WDpA"
      }
    },
    {
      "cell_type": "code",
      "source": "import pandas as pd\nimport numpy as np",
      "metadata": {
        "id": "j-ggcuejWF7F",
        "trusted": true
      },
      "execution_count": null,
      "outputs": []
    },
    {
      "cell_type": "markdown",
      "source": "### 2) 데이터 불러오기",
      "metadata": {
        "id": "nT8jaWQoWJvI"
      }
    },
    {
      "cell_type": "markdown",
      "source": "**[airquality 데이터 셋 정보]**\n\n- Ozone: 오존 농도  \n- Solar.R: 태양복사량\n- Wind: 풍속\n- Temp: 기온\n- Date : 연,월,일",
      "metadata": {
        "id": "AKfZSXkZ7nq6"
      }
    },
    {
      "cell_type": "code",
      "source": "air = pd.read_csv('air.csv')\nair['Date'] = pd.to_datetime(air['Date']) # 날짜 타입으로 변환\nair.dropna(axis = 0, inplace = True) #\nair.head()",
      "metadata": {
        "id": "5bYePZL-45qo",
        "trusted": true
      },
      "execution_count": null,
      "outputs": []
    },
    {
      "cell_type": "markdown",
      "source": "----",
      "metadata": {
        "id": "JqgG1UZsXvsn"
      }
    },
    {
      "cell_type": "markdown",
      "source": "## **(2) Topic 1. 데이터 시각화 개요**",
      "metadata": {
        "id": "uwdjFYCiXLGH"
      }
    },
    {
      "cell_type": "markdown",
      "source": "### **1) 데이터 시각화 라이브러리**",
      "metadata": {
        "id": "QrkCsl3OXvsn"
      }
    },
    {
      "cell_type": "markdown",
      "source": "* ① matplotlib\n    * Python에서 데이터를 시각화 할때, base가 되는 라이브러리가 바로 matplotlib\n    * 다른 시각화 라이브러리를 사용하더라도 matplotlib 과 연계하여 활용",
      "metadata": {
        "id": "mGV9PndiTao3"
      }
    },
    {
      "cell_type": "code",
      "source": "import matplotlib.pyplot as plt",
      "metadata": {
        "id": "HPNJ7Sp_S9sf",
        "trusted": true
      },
      "execution_count": null,
      "outputs": []
    },
    {
      "cell_type": "markdown",
      "source": "* ② seaborn\n    * 좀 더 다양한 그래프를 손쉽게 그리도록 지원\n    * Matplotlib의 기능과 연계해서 사용\n",
      "metadata": {
        "id": "96i4bUzTT-pv"
      }
    },
    {
      "cell_type": "code",
      "source": "import seaborn as sns",
      "metadata": {
        "id": "fcl174mmT-qG",
        "trusted": true
      },
      "execution_count": null,
      "outputs": []
    },
    {
      "cell_type": "markdown",
      "source": "## **(3) Topic 2. 차트 그리기 - 기초**",
      "metadata": {
        "id": "kyX1_LhsXvsr"
      }
    },
    {
      "cell_type": "markdown",
      "source": "### **1) 그래프 그리기 기본 코드 구조**\n\n- 그래프 크기 지정\n- 그래프 그리기\n- 화면 출력",
      "metadata": {
        "id": "XPklNj6HVqwF"
      }
    },
    {
      "cell_type": "markdown",
      "source": "* **① 기본 코드 구조**",
      "metadata": {
        "id": "YbcG6POAXDsM"
      }
    },
    {
      "cell_type": "code",
      "source": "# 그래프 크기 지정\nplt.figure(figsize = (8, 5))\n\n# 그래프 그리기\nplt.plot(air['Date'], air['Ozone'])\n\n# 화면 출력\nplt.show()",
      "metadata": {
        "id": "DhZz67UbUxOA",
        "trusted": true
      },
      "execution_count": null,
      "outputs": []
    },
    {
      "cell_type": "markdown",
      "source": "* **② 크기 조절하기**",
      "metadata": {
        "id": "Bro5QrG8XCxJ"
      }
    },
    {
      "cell_type": "code",
      "source": "# 크기 조절 코드 생략하면 가로 6.4 인치, 세로 4.8 인치\n\n# 그래프 크기 지정\n# plt.figure(figsize = (8, 5))\n\n# 그래프 그리기\nplt.plot(air['Date'], air['Ozone'])\n\n# 화면 출력\nplt.show()",
      "metadata": {
        "id": "UGyTvp0UXMIY",
        "trusted": true
      },
      "execution_count": null,
      "outputs": []
    },
    {
      "cell_type": "markdown",
      "source": "* **③ 그래프 그리기**",
      "metadata": {
        "id": "xc9S3sKoXbEQ"
      }
    },
    {
      "cell_type": "code",
      "source": "# 방법1 : plt.plot(x축의 값(1차원), y축의 값(1차원))\n\n# 그래프 크기 지정\nplt.figure(figsize = (8, 5))\n\n# 그래프 그리기\nplt.plot(air['Date'], air['Ozone'])\n\n# 화면 출력\nplt.show()",
      "metadata": {
        "id": "2ZPRRC6-XMER",
        "trusted": true
      },
      "execution_count": null,
      "outputs": []
    },
    {
      "cell_type": "code",
      "source": "# 방법2 : plt.plot(x축 변수, y축 변수, data = df이름)\n\n# 그래프 크기 지정\nplt.figure(figsize = (8, 5))\n\n# 그래프 그리기\nplt.plot('Date', 'Ozone', data = air)\n\n# 화면 출력\nplt.show()",
      "metadata": {
        "id": "7hi71fSwXqGs",
        "trusted": true
      },
      "execution_count": null,
      "outputs": []
    },
    {
      "cell_type": "markdown",
      "source": "### **2) 축 이름, 타이틀 추가**",
      "metadata": {
        "id": "EgZjRretYB3q"
      }
    },
    {
      "cell_type": "markdown",
      "source": "* **① 타이틀과 축 이름**",
      "metadata": {
        "id": "gX83ybZiYB39"
      }
    },
    {
      "cell_type": "code",
      "source": "plt.figure(figsize = (8, 5))\nplt.plot(air['Date'], air['Ozone'])\n\n# 타이틀\nplt.title('Air Quality')\n\n# 축이름\nplt.xlabel('Date')\nplt.ylabel('Ozone')\n\n# 화면 출력\nplt.show()",
      "metadata": {
        "id": "YgXlqUofYB39",
        "trusted": true
      },
      "execution_count": null,
      "outputs": []
    },
    {
      "cell_type": "markdown",
      "source": "* **② 축 조정**",
      "metadata": {
        "id": "QfMyLGYHYB3-"
      }
    },
    {
      "cell_type": "code",
      "source": "plt.figure(figsize = (8, 5))\nplt.plot(air['Date'], air['Ozone'])\n\n# 타이틀\nplt.title('Air Quality')\n\n# 축이름\nplt.xlabel('Date')\nplt.ylabel('Ozone')\n\n# 축 조정\nplt.xticks( rotation = 30 )\n\n# 화면 출력\nplt.show()",
      "metadata": {
        "id": "qgNEWn5-YB3-",
        "trusted": true
      },
      "execution_count": null,
      "outputs": []
    },
    {
      "cell_type": "markdown",
      "source": "### **3) 그래프 꾸미기**",
      "metadata": {
        "id": "PKRE-zK8Y5B7"
      }
    },
    {
      "cell_type": "markdown",
      "source": "* **① 색상 조정**",
      "metadata": {
        "id": "VMcqGhMiY5Ci"
      }
    },
    {
      "cell_type": "code",
      "source": "plt.figure(figsize = (8, 5))\n\n# color 옵션\nplt.plot(air['Date'], air['Ozone'],\n         color = 'green')\n\nplt.title('Air Quality')\nplt.xlabel('Date')\nplt.ylabel('Ozone')\nplt.xticks( rotation = 30 )\n\nplt.show()",
      "metadata": {
        "id": "W_sZqmS5Y5Ci",
        "trusted": true
      },
      "execution_count": null,
      "outputs": []
    },
    {
      "cell_type": "markdown",
      "source": "* **② 라인 스타일**",
      "metadata": {
        "id": "7m57N7FZZM1e"
      }
    },
    {
      "cell_type": "code",
      "source": "plt.figure(figsize = (8, 5))\n\n# line style 옵션\nplt.plot(air['Date'], air['Ozone'],\n         color = 'green',\n         linestyle = 'dotted')\n\nplt.title('Air Quality')\nplt.xlabel('Date')\nplt.ylabel('Ozone')\nplt.xticks( rotation = 30 )\n\nplt.show()",
      "metadata": {
        "id": "H-7SvOFqZM11",
        "trusted": true
      },
      "execution_count": null,
      "outputs": []
    },
    {
      "cell_type": "markdown",
      "source": "* **③ 마커(marker)**",
      "metadata": {
        "id": "D7E6AV7wZgjR"
      }
    },
    {
      "cell_type": "code",
      "source": "plt.figure(figsize = (8, 5))\n\n# marker 옵션\nplt.plot(air['Date'], air['Ozone'],\n         color = 'green',\n         linestyle = 'dotted',\n         marker = 'o')\n\nplt.title('Air Quality')\nplt.xlabel('Date')\nplt.ylabel('Ozone')\nplt.xticks( rotation = 30 )\n\nplt.show()",
      "metadata": {
        "id": "OYShH_76ZgjT",
        "trusted": true
      },
      "execution_count": null,
      "outputs": []
    },
    {
      "cell_type": "markdown",
      "source": "## **(4) Topic 3. 차트 그리기 - 심화**",
      "metadata": {
        "id": "yYrHnGmuXvsv"
      }
    },
    {
      "cell_type": "markdown",
      "source": "### **1) 그래프 겹쳐 그리기**",
      "metadata": {
        "id": "Yi_NenuFXvsv",
        "tags": []
      }
    },
    {
      "cell_type": "markdown",
      "source": "* **① 두 그래프 겹쳐 그리기**",
      "metadata": {
        "id": "O387mmbvbGh7"
      }
    },
    {
      "cell_type": "code",
      "source": "# 첫 번째 그래프\nplt.plot('Date', 'Ozone', data = air, marker = 'o')\n\n# 두 번째 그래프\nplt.plot('Date', 'Temp', data = air, marker = 's')\n\nplt.title('Air Quality')\nplt.xlabel('Date')\nplt.xticks( rotation = 30 )\n\nplt.show()",
      "metadata": {
        "id": "jhHOzoOxXvsw",
        "trusted": true
      },
      "execution_count": null,
      "outputs": []
    },
    {
      "cell_type": "markdown",
      "source": "* **② 레이블 추가하기**",
      "metadata": {
        "id": "nBi-5xF2bOu2"
      }
    },
    {
      "cell_type": "code",
      "source": "# 첫 번째 그래프\nplt.plot('Date', 'Ozone', data = air, marker = 'o', label = 'Ozone')\n\n# 두 번째 그래프\nplt.plot('Date', 'Temp', data = air, marker = 's', label = 'Temp')\n\nplt.legend()\nplt.title('Air Quality')\nplt.xlabel('Date')\nplt.xticks( rotation = 30 )\n\nplt.show()",
      "metadata": {
        "id": "8cBIQn6-bOu3",
        "trusted": true
      },
      "execution_count": null,
      "outputs": []
    },
    {
      "cell_type": "markdown",
      "source": "### **2) 분할 프레임**\n* plt.subplot(행 수, 열 수, 그래프 순번)",
      "metadata": {
        "id": "mPS_evXGtQma",
        "tags": []
      }
    },
    {
      "cell_type": "markdown",
      "source": "* **① 1행 3열**",
      "metadata": {
        "id": "vfJZeFgVlGx_"
      }
    },
    {
      "cell_type": "code",
      "source": "plt.figure(figsize = (12, 4))\n\nplt.subplot(1, 3, 1)\nplt.plot('Date', 'Ozone', data = air, marker='o')\nplt.xticks(rotation = 30)\n\nplt.subplot(1, 3, 2)\nplt.plot('Date', 'Temp', data = air, marker='o')\nplt.xticks(rotation = 30)\n\nplt.subplot(1, 3, 3)\nplt.plot('Date', 'Wind', data = air, marker='o')\nplt.xticks(rotation = 30)\n\nplt.tight_layout() # 적절하게 여백 조정하기\nplt.show()",
      "metadata": {
        "id": "682BM0a1jFR_",
        "trusted": true
      },
      "execution_count": null,
      "outputs": []
    },
    {
      "cell_type": "markdown",
      "source": "* **② 2행 2열**",
      "metadata": {
        "id": "proG4JyecT-q"
      }
    },
    {
      "cell_type": "code",
      "source": "plt.figure(figsize = (8, 8))\n\nplt.subplot(2, 2, 1)\nplt.plot('Date', 'Ozone', data = air, marker='o')\nplt.xticks(rotation = 30)\n\nplt.subplot(2, 2, 2)\nplt.plot('Date', 'Temp', data = air, marker='o')\nplt.xticks(rotation = 30)\n\nplt.subplot(2, 2, 3)\nplt.plot('Date', 'Wind', data = air, marker='o')\nplt.xticks(rotation = 30)\n\nplt.subplot(2, 2, 4)\nplt.plot('Date', 'Solar.R', data = air, marker='o')\nplt.xticks(rotation = 30)\n\nplt.tight_layout() # 적절하게 여백 조정하기\nplt.show()",
      "metadata": {
        "id": "OgPvEB84cT-s",
        "trusted": true
      },
      "execution_count": null,
      "outputs": []
    },
    {
      "cell_type": "code",
      "source": "",
      "metadata": {
        "id": "i-TjCtczp5Hr"
      },
      "execution_count": null,
      "outputs": []
    }
  ]
}