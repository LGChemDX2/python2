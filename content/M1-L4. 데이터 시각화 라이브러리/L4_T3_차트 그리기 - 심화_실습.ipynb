{
  "metadata": {
    "colab": {
      "provenance": []
    },
    "toc-autonumbering": false,
    "toc-showmarkdowntxt": false,
    "kernelspec": {
      "name": "python",
      "display_name": "Python (Pyodide)",
      "language": "python"
    },
    "language_info": {
      "codemirror_mode": {
        "name": "python",
        "version": 3
      },
      "file_extension": ".py",
      "mimetype": "text/x-python",
      "name": "python",
      "nbconvert_exporter": "python",
      "pygments_lexer": "ipython3",
      "version": "3.8"
    }
  },
  "nbformat_minor": 4,
  "nbformat": 4,
  "cells": [
    {
      "cell_type": "markdown",
      "source": "# **Topic 3. 차트 그리기 - 심화_실습**",
      "metadata": {
        "id": "mVOYUVwYNrob"
      }
    },
    {
      "cell_type": "markdown",
      "source": "## **(1) 실습 : 환경준비**\n\n* 라이브러리 로딩",
      "metadata": {
        "id": "jtOUt7kVWs9D"
      }
    },
    {
      "cell_type": "code",
      "source": "# jupyter lite에서 패키지 설치\nimport piplite\nawait piplite.install(\"seaborn\")",
      "metadata": {},
      "execution_count": null,
      "outputs": []
    },
    {
      "cell_type": "code",
      "source": "import pandas as pd\nimport numpy as np\nimport matplotlib.pyplot as plt\nimport seaborn as sns",
      "metadata": {
        "id": "1xqiuyahWs9E"
      },
      "execution_count": null,
      "outputs": []
    },
    {
      "cell_type": "markdown",
      "source": "* 데이터 불러오기",
      "metadata": {
        "id": "KTiD22ZP8oZB"
      }
    },
    {
      "cell_type": "code",
      "source": "kospi = pd.read_csv('KOSPI_2018.csv')\nkospi['Date'] = pd.to_datetime(kospi['Date'])\nkospi2 = kospi.loc[kospi['Date'].between('2018-01-01', '2018-01-31')]\nkospi2.head()",
      "metadata": {
        "id": "560DerZ112_h"
      },
      "execution_count": null,
      "outputs": []
    },
    {
      "cell_type": "code",
      "source": "plt.figure(figsize = (8,4))\nplt.plot('Date', 'Close', data = kospi2)\nplt.grid()\nplt.show()",
      "metadata": {
        "id": "TrtuFpEDMbRz"
      },
      "execution_count": null,
      "outputs": []
    },
    {
      "cell_type": "markdown",
      "source": "## **(2) 실습1 : 겹쳐서 그리기**\n\n* Open(시가)과 Close(종가)를 겹쳐서 그려 봅시다.\n    * x축: Date, y축: Open, Close\n    * 레이블 표시\n    * marker 지정 : 's'\n    * x축 값 회전 : 45",
      "metadata": {
        "tags": [],
        "id": "KH0k96uzXvsk"
      }
    },
    {
      "cell_type": "code",
      "source": "plt.figure(figsize = (8,4))\nplt.  (   ,   , data =   , l   =   , m  = )\nplt.  (   ,   , data =   , l   =   , m  = )\n\nplt.xt  (ro   =  )\nplt.le  ()\nplt.grid()\nplt.show()",
      "metadata": {
        "id": "pGIHHroiPveo"
      },
      "execution_count": null,
      "outputs": []
    },
    {
      "cell_type": "markdown",
      "source": "## **(3) 실습2 : 분할 프레임**\n\n* 다음 조건에 맞게 그래프를 그려봅시다.\n    * 프레임 : 1행 2열\n    * 전체 크기 : 12, 4\n    * 그래프1\n        * x축 : Date, y 축 : Close\n        * 선 색 : blue\n        * marker : 'o'\n        * grid 추가\n        * title : Close\n        * x축 값 회전 : 45\n    * 그래프2\n        * x축 : Date, y 축 : Volume\n        * 선 색 : darkred\n        * marker : 'o'\n        * grid 추가\n        * title : Volume\n        * x축 값 회전 : 45",
      "metadata": {
        "tags": [],
        "id": "YOmyGRzuQc9s"
      }
    },
    {
      "cell_type": "code",
      "source": "# 전체 크기\nplt.   (  = (  ,  ))\n\n# 그래프1\nplt.su   (   ,   ,  )\nplt.plot(   ,   , data =    , m   =   , c   =   )\nplt.t  (  )\nplt.x  (ro  =   )\nplt.g  ()\n\n# 그래프2\nplt.su   (   ,   ,  )\nplt.plot(   ,   , data =    , m   =   , c   =   )\nplt.t  (  )\nplt.x  (ro  =   )\nplt.g  ()\n\nplt.tight_layout() # 프레임의 여백을 적절히 조정해주기\nplt.show()",
      "metadata": {
        "id": "73yqnLPwQc9-"
      },
      "execution_count": null,
      "outputs": []
    },
    {
      "cell_type": "code",
      "source": "",
      "metadata": {
        "id": "bLJ1Jy0jRfnz"
      },
      "execution_count": null,
      "outputs": []
    }
  ]
}