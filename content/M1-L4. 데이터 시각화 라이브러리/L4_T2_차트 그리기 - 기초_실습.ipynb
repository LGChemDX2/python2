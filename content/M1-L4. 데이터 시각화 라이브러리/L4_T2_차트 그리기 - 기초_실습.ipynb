{
  "metadata": {
    "colab": {
      "provenance": [],
      "toc_visible": true
    },
    "toc-autonumbering": false,
    "toc-showmarkdowntxt": false,
    "kernelspec": {
      "name": "python",
      "display_name": "Python (Pyodide)",
      "language": "python"
    },
    "language_info": {
      "codemirror_mode": {
        "name": "python",
        "version": 3
      },
      "file_extension": ".py",
      "mimetype": "text/x-python",
      "name": "python",
      "nbconvert_exporter": "python",
      "pygments_lexer": "ipython3",
      "version": "3.8"
    }
  },
  "nbformat_minor": 4,
  "nbformat": 4,
  "cells": [
    {
      "cell_type": "markdown",
      "source": "# **Topic 2. 차트 그리기 - 기초_실습**",
      "metadata": {
        "id": "mVOYUVwYNrob"
      }
    },
    {
      "cell_type": "markdown",
      "source": "## **(1) 실습 : 환경준비**\n\n* 라이브러리 로딩",
      "metadata": {
        "id": "jtOUt7kVWs9D"
      }
    },
    {
      "cell_type": "code",
      "source": "# jupyter lite에서 패키지 설치\nimport piplite\nawait piplite.install(\"seaborn\")",
      "metadata": {},
      "execution_count": null,
      "outputs": []
    },
    {
      "cell_type": "code",
      "source": "import pandas as pd\nimport numpy as np\nimport matplotlib.pyplot as plt\nimport seaborn as sns",
      "metadata": {
        "id": "1xqiuyahWs9E"
      },
      "execution_count": null,
      "outputs": []
    },
    {
      "cell_type": "markdown",
      "source": "* 데이터 불러오기",
      "metadata": {
        "id": "KTiD22ZP8oZB"
      }
    },
    {
      "cell_type": "code",
      "source": "kospi = pd.read_csv('KOSPI_2018.csv')\nkospi['Date'] = pd.to_datetime(kospi['Date'])\nkospi.head()",
      "metadata": {
        "id": "560DerZ112_h"
      },
      "execution_count": null,
      "outputs": []
    },
    {
      "cell_type": "markdown",
      "source": "## **(2) 실습1 : 기본 그래프 그리기**\n\n* 다음 조건에 맞게 그래프를 그려 봅시다.\n    * 그래프 크기 : 12, 5\n    * 그래프 : x축 - Date, y축 - Close",
      "metadata": {
        "tags": [],
        "id": "KH0k96uzXvsk"
      }
    },
    {
      "cell_type": "code",
      "source": "plt.f  (f   = (  ,  ))\nplt.p  (   ,    , data =   )\nplt.s  ()",
      "metadata": {
        "id": "TrtuFpEDMbRz"
      },
      "execution_count": null,
      "outputs": []
    },
    {
      "cell_type": "markdown",
      "source": "## **(3) 실습2 : 기본 그래프 그리기2**\n\n* 실습1 그래프에 다음을 추가합시다.\n    * 타이틀 : KOSPI\n    * x축이름 : Date",
      "metadata": {
        "tags": [],
        "id": "MVQ5-0C8Mtkq"
      }
    },
    {
      "cell_type": "code",
      "source": "plt.f   (f    )\nplt.p   (     )\nplt.t   (    )\nplt.xl   (   )\nplt.s",
      "metadata": {
        "id": "dKl-NEJ4Mtkq"
      },
      "execution_count": null,
      "outputs": []
    },
    {
      "cell_type": "markdown",
      "source": "## **(4) 실습3 : 기본 그래프 꾸미기**\n\n* 실습2 그래프를 꾸며 봅시다.\n    * 선 색 : green\n    * 라인 스타일 : '--'\n    * 마커 : '.'",
      "metadata": {
        "tags": [],
        "id": "jAMZYsDyNXx1"
      }
    },
    {
      "cell_type": "code",
      "source": "\nplt.    (   ,  ,  ,\n         c  =   , l   =   , m   =  )\nplt.t   (    )\nplt.xl   (   )\nplt.s",
      "metadata": {
        "id": "lkmTzbDTNXx2"
      },
      "execution_count": null,
      "outputs": []
    },
    {
      "cell_type": "markdown",
      "source": "## **(5) [추가]실습4 : 기본 그래프 꾸미기**\n\n* 실습3 그래프 코드에서, plt.show() 바로 위에 다음 코드를 추가해 봅시다.\n    * plt.grid()",
      "metadata": {
        "tags": [],
        "id": "HiigzRk0OGRq"
      }
    },
    {
      "cell_type": "code",
      "source": "plt.figure(figsize = (12, 5))\nplt.plot('Date', 'Close', data = kospi,\n         color = 'green', linestyle = '--', marker = '.')\nplt.title('KOSPI')\nplt.xlabel('Date')\n\n# 아래에 plt.grid() 를 입력하고 실행해 봅시다.\n\nplt.show()",
      "metadata": {
        "id": "4kMXTOKHOGRq"
      },
      "execution_count": null,
      "outputs": []
    },
    {
      "cell_type": "markdown",
      "source": "plt.grid() 는 그래프에 그리드 선을 추가하여 그래프로 부터 정보를 파악하는데 도움을 줍니다.",
      "metadata": {
        "id": "AhYqLPAFTNqx"
      }
    },
    {
      "cell_type": "code",
      "source": "",
      "metadata": {
        "id": "Yy-r95jwOYM7"
      },
      "execution_count": null,
      "outputs": []
    }
  ]
}