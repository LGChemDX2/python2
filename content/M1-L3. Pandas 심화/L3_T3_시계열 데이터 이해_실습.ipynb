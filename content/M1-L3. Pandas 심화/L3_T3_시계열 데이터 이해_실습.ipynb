{
  "cells": [
    {
      "cell_type": "markdown",
      "metadata": {
        "id": "mVOYUVwYNrob"
      },
      "source": [
        "# **Topic 3. 시계열 데이터 이해_실습**"
      ]
    },
    {
      "cell_type": "markdown",
      "metadata": {
        "id": "oxnVE8m_vr8H"
      },
      "source": [
        "## **(1) 환경 준비**"
      ]
    },
    {
      "cell_type": "markdown",
      "source": [
        "* 라이브러리 로딩"
      ],
      "metadata": {
        "id": "juZbxdEKvz2K"
      }
    },
    {
      "cell_type": "code",
      "execution_count": null,
      "metadata": {
        "id": "SPPuEYrHvr8I"
      },
      "outputs": [],
      "source": [
        "import pandas as pd\n",
        "import numpy as np"
      ]
    },
    {
      "cell_type": "markdown",
      "source": [
        "* 데이터 로딩\n",
        "    * pd.read_csv(   , usecols = )\n",
        "        * usecols : 데이터 셋에서 사용할 칼럼 이름만 지정"
      ],
      "metadata": {
        "id": "GvCflNu5v1u1"
      }
    },
    {
      "cell_type": "code",
      "source": [
        "kospi = pd.read_csv('KOSPI.csv', usecols = ['Date', 'Close','Volume'])\n",
        "kospi.head()"
      ],
      "metadata": {
        "id": "GusSAPnfvr8I"
      },
      "execution_count": null,
      "outputs": []
    },
    {
      "cell_type": "markdown",
      "metadata": {
        "id": "jtOUt7kVWs9D"
      },
      "source": [
        "## **(2) 실습1 : 날짜 형식으로 변경**\n",
        "\n"
      ]
    },
    {
      "cell_type": "markdown",
      "source": [
        "\n",
        "* Date 열을 날짜형식으로 변경하시오."
      ],
      "metadata": {
        "id": "WKy66uSA4BeF"
      }
    },
    {
      "cell_type": "code",
      "execution_count": null,
      "metadata": {
        "id": "1xqiuyahWs9E"
      },
      "outputs": [],
      "source": [
        "kospi['Date'] = pd.to   (    )\n",
        "kospi.info()"
      ]
    },
    {
      "cell_type": "markdown",
      "metadata": {
        "id": "nciDDo_z4BeE"
      },
      "source": [
        "## **(3) 실습2 : 날짜 요소 뽑기**\n",
        "\n"
      ]
    },
    {
      "cell_type": "markdown",
      "source": [
        "* 날짜(Date)로 부터 다음 요소를 추출해서 새 열로 추가하시오.\n",
        "    * 월(Month)\n",
        "    * 주차(Week)"
      ],
      "metadata": {
        "id": "OHCM_OMVzQZ6"
      }
    },
    {
      "cell_type": "code",
      "execution_count": null,
      "metadata": {
        "id": "zK7TZhkl4BeF"
      },
      "outputs": [],
      "source": [
        "# 월\n",
        "kospi['Month'] = kospi['Date']. .\n",
        "kospi.head()"
      ]
    },
    {
      "cell_type": "code",
      "source": [
        "# 주차(week)\n",
        "kospi['Week'] = kospi['Date']. .\n",
        "kospi.head()"
      ],
      "metadata": {
        "id": "Z82Ncc6O5gz3"
      },
      "execution_count": null,
      "outputs": []
    },
    {
      "cell_type": "markdown",
      "metadata": {
        "tags": [],
        "id": "KH0k96uzXvsk"
      },
      "source": [
        "## **(4) 실습3 : 시계열 데이터 처리**"
      ]
    },
    {
      "cell_type": "markdown",
      "source": [
        "\n",
        "* 다음의 열을 추가하시오.\n",
        "    * 전날 거래량(Volume)\n",
        "    * 5일 이동평균 종가(최소데이터 = 2일)\n",
        "    * 전날 거래량 대비 차이"
      ],
      "metadata": {
        "id": "5oXqNo3kzfsz"
      }
    },
    {
      "cell_type": "code",
      "source": [
        "# 전날 거래량\n",
        "kospi['Vol_lag1'] = kospi[  ].s\n",
        "kospi.head()"
      ],
      "metadata": {
        "id": "WGVKpscHz2qO"
      },
      "execution_count": null,
      "outputs": []
    },
    {
      "cell_type": "code",
      "source": [
        "# 5일 이동평균 종가\n",
        "kospi['Close_MA5'] = kospi[ ].r  (  , min_periods = ).m\n",
        "kospi.head(10)"
      ],
      "metadata": {
        "id": "7PuXN1s70ZJw"
      },
      "execution_count": null,
      "outputs": []
    },
    {
      "cell_type": "code",
      "source": [
        "# 전날 거래량 대비 차이\n",
        "kospi['Vol_diff'] = kospi[ ].d\n",
        "kospi.head(10)"
      ],
      "metadata": {
        "id": "j18YQLBz9Cm8"
      },
      "execution_count": null,
      "outputs": []
    },
    {
      "cell_type": "code",
      "source": [],
      "metadata": {
        "id": "ey1exgla9JmW"
      },
      "execution_count": null,
      "outputs": []
    }
  ],
  "metadata": {
    "colab": {
      "provenance": []
    },
    "kernelspec": {
      "display_name": "Python 3 (ipykernel)",
      "language": "python",
      "name": "python3"
    },
    "language_info": {
      "codemirror_mode": {
        "name": "ipython",
        "version": 3
      },
      "file_extension": ".py",
      "mimetype": "text/x-python",
      "name": "python",
      "nbconvert_exporter": "python",
      "pygments_lexer": "ipython3",
      "version": "3.10.9"
    },
    "toc-autonumbering": false,
    "toc-showmarkdowntxt": false
  },
  "nbformat": 4,
  "nbformat_minor": 0
}