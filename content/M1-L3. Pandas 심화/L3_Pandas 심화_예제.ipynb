{
  "metadata": {
    "colab": {
      "provenance": [],
      "toc_visible": true
    },
    "toc-autonumbering": false,
    "toc-showmarkdowntxt": false,
    "kernelspec": {
      "display_name": "Python (Pyodide)",
      "language": "python",
      "name": "python"
    },
    "language_info": {
      "codemirror_mode": {
        "name": "python",
        "version": 3
      },
      "file_extension": ".py",
      "mimetype": "text/x-python",
      "name": "python",
      "nbconvert_exporter": "python",
      "pygments_lexer": "ipython3",
      "version": "3.8"
    }
  },
  "nbformat_minor": 4,
  "nbformat": 4,
  "cells": [
    {
      "cell_type": "markdown",
      "source": "# **Lesson 3.Pandas 심화_예제**\n데이터 분석 초급 과정 2 (Python) > Module1. 데이터 분석을 위한 Python 라이브러리",
      "metadata": {
        "id": "mVOYUVwYNrob"
      }
    },
    {
      "cell_type": "markdown",
      "source": "## **(1) 환경준비**",
      "metadata": {
        "id": "PNQq2Uthdy0d"
      }
    },
    {
      "cell_type": "markdown",
      "source": "### **1) 라이브러리 로딩**",
      "metadata": {
        "id": "MFoyB5SJd2vC"
      }
    },
    {
      "cell_type": "code",
      "source": "import pandas as pd\nimport numpy as np",
      "metadata": {
        "id": "qoVMSBJ_d7jM"
      },
      "execution_count": null,
      "outputs": []
    },
    {
      "cell_type": "markdown",
      "source": "### **2) 데이터 로딩**",
      "metadata": {
        "id": "ccG4IgiSeC8f"
      }
    },
    {
      "cell_type": "markdown",
      "source": "**① 음식점의 팁 데이터**",
      "metadata": {
        "id": "rMJLFPwhUhzf"
      }
    },
    {
      "cell_type": "code",
      "source": "tips = pd.read_csv('tips.csv')\ntips.head()",
      "metadata": {
        "id": "D443LcMseNwZ"
      },
      "execution_count": null,
      "outputs": []
    },
    {
      "cell_type": "markdown",
      "source": "* 음식점의 팁 정보\n\n|\t변수명\t|\t설명\t|\t구분\t|\n|----|----|----|\n|\ttotal_bill_amount \t|\t 테이블 영수증 금액(달러)\t|\t수치형\t|\n|\ttip \t|\t테이블 팁 금액(달러)\t|\t수치형\t|\n|\tmale_female \t|\t 영수증을 지불한 고객의 성별\t|\t범주형\t|\n|\tsmoke_yes_no \t|\t 고객의 흡연 여부\t|\t범주형\t|\n|\tweek_name \t|\t 요일\t|\t범주형\t|\n|\tdinner_lunch \t|\t 식사시간(점심, 저녁)\t|\t범주형\t|\n|\tsize \t|\t 테이블의 고객 수\t|\t수치형\t|",
      "metadata": {
        "id": "BoKrDJbPXvsl",
        "tags": []
      }
    },
    {
      "cell_type": "markdown",
      "source": "**② 코스피 지수 데이터(2015~2018)**",
      "metadata": {
        "id": "9EDgYy62Up0R"
      }
    },
    {
      "cell_type": "code",
      "source": "kospi = pd.read_csv('KOSPI.csv')\nkospi.head()",
      "metadata": {
        "id": "Td4O8DC6Up0e"
      },
      "execution_count": null,
      "outputs": []
    },
    {
      "cell_type": "markdown",
      "source": "|\t변수명\t|\t설명\t|\t구분\t|\n|----|----|----|\n|\tDate \t|\t 날짜\t|\t날짜\t|\n|\tOpen \t|\t시작가\t|\t수치형\t|\n|\tHigh \t|\t 고가\t|\t수치형\t|\n|\tLow \t|\t 저가\t|\t수치형\t|\n|\tClose \t|\t 종가\t|\t수치형\t|\n|\tVolume \t|\t 거래량\t|\t수치형\t|",
      "metadata": {
        "id": "z_CRfZRlUp0e",
        "tags": []
      }
    },
    {
      "cell_type": "markdown",
      "source": "----",
      "metadata": {
        "id": "JqgG1UZsXvsn"
      }
    },
    {
      "cell_type": "markdown",
      "source": "## **(2) Topic 1. 데이터프레임 변경**",
      "metadata": {
        "id": "uwdjFYCiXLGH"
      }
    },
    {
      "cell_type": "markdown",
      "source": "### **1) 열 변경**",
      "metadata": {
        "id": "QrkCsl3OXvsn"
      }
    },
    {
      "cell_type": "markdown",
      "source": "**① 열 이름 변경**",
      "metadata": {
        "id": "mGV9PndiTao3"
      }
    },
    {
      "cell_type": "markdown",
      "source": "* columns 속성 변경: 모든 열 이름 변경",
      "metadata": {
        "id": "8ZHJImx2itIG"
      }
    },
    {
      "cell_type": "code",
      "source": "# 변경 연습을 하기 전에 데이터프레임 복사\ntips2 = tips.copy()",
      "metadata": {
        "id": "Yv3XJJqthuu0"
      },
      "execution_count": null,
      "outputs": []
    },
    {
      "cell_type": "code",
      "source": "tips2.columns = ['total_bill', 'tip', 'sex', 'smoker', 'day', 'time', 'size']\ntips2.head()",
      "metadata": {
        "id": "HPNJ7Sp_S9sf"
      },
      "execution_count": null,
      "outputs": []
    },
    {
      "cell_type": "markdown",
      "source": "* rename() 메서드 사용: 지정한 열 이름 변경",
      "metadata": {
        "id": "x3rt07jogKW9"
      }
    },
    {
      "cell_type": "code",
      "source": "tips.rename(columns={'total_bill_amount': 'total_bill',\n                    'male_female': 'sex',\n                    'smoke_yes_no': 'smoker',\n                    'week_name': 'day',\n                    'dinner_lunch': 'time'}, inplace=True)\ntips.head()",
      "metadata": {
        "id": "RKQJ7pUCgOYs"
      },
      "execution_count": null,
      "outputs": []
    },
    {
      "cell_type": "markdown",
      "source": "**② 새 열 추가**",
      "metadata": {
        "id": "lzAGQLLVTeG7"
      }
    },
    {
      "cell_type": "markdown",
      "source": "* 계산된 열을 추가해 봅시다.\n    * 기존 열을 이용해서 계산한 결과를 새로운 열로 추가할 수 있습니다.",
      "metadata": {
        "id": "f5UUFNdCTlQV"
      }
    },
    {
      "cell_type": "code",
      "source": "# 변경 연습을 하기 전에 데이터프레임 복사\ntips2 = tips.copy()",
      "metadata": {
        "id": "2QdSotWrh9HG"
      },
      "execution_count": null,
      "outputs": []
    },
    {
      "cell_type": "code",
      "source": "# final_amt 열 추가\ntips2['final_amt'] = tips2['total_bill'] + tips2['tip']\ntips2.head()",
      "metadata": {
        "id": "ItAfOhWTTj7P"
      },
      "execution_count": null,
      "outputs": []
    },
    {
      "cell_type": "code",
      "source": "# div_tb 열 추가\ntips2['div_tb'] = tips2['total_bill'] / tips2['size']\ntips2.head()",
      "metadata": {
        "id": "b34j4i2vhgzh"
      },
      "execution_count": null,
      "outputs": []
    },
    {
      "cell_type": "markdown",
      "source": "**③ 열 삭제**",
      "metadata": {
        "id": "4hGO4rsEhWYx"
      }
    },
    {
      "cell_type": "markdown",
      "source": "* 열 한 개 삭제",
      "metadata": {
        "id": "B5tYwPxQhWYy"
      }
    },
    {
      "cell_type": "code",
      "source": "# 열 한 개 삭제\ntips2.drop('final_amt', axis=1, inplace=True)\ntips2.head()",
      "metadata": {
        "id": "L2pZi9FXhWYz"
      },
      "execution_count": null,
      "outputs": []
    },
    {
      "cell_type": "markdown",
      "source": "* 열 두 개 이상 삭제",
      "metadata": {
        "id": "YBZrEoSNiTAS"
      }
    },
    {
      "cell_type": "code",
      "source": "# 열 두 개 이상 삭제\ntips2.drop(['div_tb', 'day'], axis=1, inplace=True)\ntips2.head()",
      "metadata": {
        "id": "lVyVyBKwiTAl"
      },
      "execution_count": null,
      "outputs": []
    },
    {
      "cell_type": "markdown",
      "source": "### **2) 값 변경**",
      "metadata": {
        "id": "ZJYzKU6hjEZZ"
      }
    },
    {
      "cell_type": "markdown",
      "source": "**① 조건에 맞는 값 변경**",
      "metadata": {
        "id": "TmmgK5R3jEZa"
      }
    },
    {
      "cell_type": "markdown",
      "source": "* 열 전체 값 변경",
      "metadata": {
        "id": "f11kg4lZjEZa"
      }
    },
    {
      "cell_type": "code",
      "source": "# 변경 연습을 하기 전에 데이터프레임 복사\ntips2 = tips.copy()",
      "metadata": {
        "id": "y3WOOKMEjgeK"
      },
      "execution_count": null,
      "outputs": []
    },
    {
      "cell_type": "code",
      "source": "tips2.head()",
      "metadata": {
        "id": "uE8B8RUdV_1o"
      },
      "execution_count": null,
      "outputs": []
    },
    {
      "cell_type": "code",
      "source": "# tips['tip'] 의 모든 값을 0으로 바꾸기\ntips2['tip'] = 0\ntips2.head()",
      "metadata": {
        "id": "Lujkh0RWjEZa"
      },
      "execution_count": null,
      "outputs": []
    },
    {
      "cell_type": "markdown",
      "source": "* 조건에 의한 값 변경1",
      "metadata": {
        "id": "WixmByj2jmuj"
      }
    },
    {
      "cell_type": "code",
      "source": "# 변경 연습을 하기 전에 데이터프레임 복사\ntips2 = tips.copy()\ntips2.head()",
      "metadata": {
        "id": "foq6WF0Zjz8a"
      },
      "execution_count": null,
      "outputs": []
    },
    {
      "cell_type": "code",
      "source": "# tips['tip'] 의 값이 3보다 작을 경우, 0으로 바꾸기\ntips2.loc[tips2['tip'] < 3, 'tip'] = 0\ntips2.head()",
      "metadata": {
        "id": "ZJuBKdx3jtT-"
      },
      "execution_count": null,
      "outputs": []
    },
    {
      "cell_type": "markdown",
      "source": "* 조건에 의한 값 변경2",
      "metadata": {
        "id": "e6mbc0pPkZMe"
      }
    },
    {
      "cell_type": "code",
      "source": "# 변경 연습을 하기 전에 데이터프레임 복사\ntips2 = tips.copy()\ntips2.head()",
      "metadata": {
        "id": "C18y_4p7kZMf"
      },
      "execution_count": null,
      "outputs": []
    },
    {
      "cell_type": "code",
      "source": "# tips[‘tip’] 의 값이 3보다 작을 경우 0, 아니면 1로 바꾸기\ntips2['tip'] = np.where(tips2['tip'] < 3, 0, 1)\ntips2.head()",
      "metadata": {
        "id": "P6cbbisRkZMg"
      },
      "execution_count": null,
      "outputs": []
    },
    {
      "cell_type": "markdown",
      "source": "**② 기존 값 치환(map)**",
      "metadata": {
        "id": "_IiVFt7Ckr9R"
      }
    },
    {
      "cell_type": "markdown",
      "source": "* 열 전체 값 변경",
      "metadata": {
        "id": "1PBK6jv8kr9T"
      }
    },
    {
      "cell_type": "code",
      "source": "# Male -> 1, Female -> 0\ntips2['sex'] = tips2['sex'].map({'Male': 1, 'Female': 0})\ntips2.head()",
      "metadata": {
        "id": "SxQLKIB6kr9T"
      },
      "execution_count": null,
      "outputs": []
    },
    {
      "cell_type": "markdown",
      "source": "**③ 숫자를 범주로(cut)**",
      "metadata": {
        "id": "SKKObNCjlOfG"
      }
    },
    {
      "cell_type": "code",
      "source": "# 변경 연습을 하기 전에 데이터프레임 복사\ntips2 = tips.copy()\ntips2.head()",
      "metadata": {
        "id": "4J0o2qY2loUR"
      },
      "execution_count": null,
      "outputs": []
    },
    {
      "cell_type": "markdown",
      "source": "* 숫자를 균등 분할하기",
      "metadata": {
        "id": "UQHpW7p7lOfb"
      }
    },
    {
      "cell_type": "code",
      "source": "# 크기로 3등분해서 등급 구하기\ntips2['tip_grp'] = pd.cut(tips2['tip'], 3, labels=['c', 'b', 'a'] )\ntips2.head(10)",
      "metadata": {
        "id": "2gz5ooRnlOfc"
      },
      "execution_count": null,
      "outputs": []
    },
    {
      "cell_type": "markdown",
      "source": "## **(3) Topic 2. 데이터프레임 결합**",
      "metadata": {
        "id": "kyX1_LhsXvsr"
      }
    },
    {
      "cell_type": "markdown",
      "source": "\n### **1) 합치기 concat**",
      "metadata": {
        "id": "XPklNj6HVqwF"
      }
    },
    {
      "cell_type": "code",
      "source": "# 예제 데이터\ndf1 = pd.DataFrame({'A':[10,25], 'B':[15,30]})\ndf2 = pd.DataFrame({'A':[20,30, 50], 'C':[35,30, 40]})\ndf2.drop([1], inplace = True)\n\ndisplay(df1)\ndisplay(df2)",
      "metadata": {
        "id": "mBvljpovQZFk"
      },
      "execution_count": null,
      "outputs": []
    },
    {
      "cell_type": "markdown",
      "source": "**① 세로로 합치기 : axis = 0**",
      "metadata": {
        "id": "ETVUejBgIJNL"
      }
    },
    {
      "cell_type": "markdown",
      "source": "* join = 'inner'",
      "metadata": {
        "id": "STeaVJv0VJb4"
      }
    },
    {
      "cell_type": "code",
      "source": "pd.concat([df1, df2], axis = 0, join = 'inner')",
      "metadata": {
        "id": "7VKskmgyU7_D"
      },
      "execution_count": null,
      "outputs": []
    },
    {
      "cell_type": "markdown",
      "source": "* join = 'outer'",
      "metadata": {
        "id": "Pa4EFD-uVSj_"
      }
    },
    {
      "cell_type": "code",
      "source": "pd.concat([df1, df2], axis = 0, join = 'outer')",
      "metadata": {
        "id": "S_sMDGzsVSkA"
      },
      "execution_count": null,
      "outputs": []
    },
    {
      "cell_type": "markdown",
      "source": "**② 가로로 합치기 : axis = 1**",
      "metadata": {
        "id": "zGDF1AkjIJOX"
      }
    },
    {
      "cell_type": "markdown",
      "source": "* join = 'inner'",
      "metadata": {
        "id": "Ur9ZFS9rVXda"
      }
    },
    {
      "cell_type": "code",
      "source": "pd.concat([df1, df2], axis = 1, join = 'inner')",
      "metadata": {
        "id": "Vhoat2HVVXda"
      },
      "execution_count": null,
      "outputs": []
    },
    {
      "cell_type": "markdown",
      "source": "* join = 'outer'",
      "metadata": {
        "id": "wduBNunVVXda"
      }
    },
    {
      "cell_type": "code",
      "source": "pd.concat([df1, df2], axis = 1, join = 'outer')",
      "metadata": {
        "id": "qkscVsGgVXda"
      },
      "execution_count": null,
      "outputs": []
    },
    {
      "cell_type": "markdown",
      "source": "### **2) 병합 (merge)**\n\n* 판다스에서 join은 굉장히 간단합니다.\n* 자동으로 key를 잡아줍니다\n* default로 inner join을 합니다.",
      "metadata": {
        "id": "vxMxUvQIVqwI"
      }
    },
    {
      "cell_type": "code",
      "source": "df1 = pd.DataFrame({'A':[1,2], 'B':[15,30], 'C':[20, 25]})\ndf2 = pd.DataFrame({'A':[2,3], 'D':[20, 35]})\n\ndisplay(df1)\ndisplay(df2)",
      "metadata": {
        "id": "aPx0_GvnRPMU"
      },
      "execution_count": null,
      "outputs": []
    },
    {
      "cell_type": "markdown",
      "source": "**① inner merge**",
      "metadata": {
        "id": "r2y6GrZBbAk4"
      }
    },
    {
      "cell_type": "code",
      "source": "pd.merge(df1, df2, how = 'inner', on = 'A')",
      "metadata": {
        "id": "Nr4WbyzAa8iX"
      },
      "execution_count": null,
      "outputs": []
    },
    {
      "cell_type": "code",
      "source": "pd.merge(df1, df2, how = 'inner')",
      "metadata": {
        "id": "YLh3kqTscb5P"
      },
      "execution_count": null,
      "outputs": []
    },
    {
      "cell_type": "markdown",
      "source": "**② left merge**",
      "metadata": {
        "id": "N0280Qt5cZNX"
      }
    },
    {
      "cell_type": "code",
      "source": "pd.merge(df1, df2, how = 'left')",
      "metadata": {
        "id": "SITN2TeKWOaR"
      },
      "execution_count": null,
      "outputs": []
    },
    {
      "cell_type": "markdown",
      "source": "**③ right merge**",
      "metadata": {
        "id": "5zfg_W7WckSZ"
      }
    },
    {
      "cell_type": "code",
      "source": "pd.merge(df1, df2, how = 'right')",
      "metadata": {
        "id": "vBFJvYfzckSZ"
      },
      "execution_count": null,
      "outputs": []
    },
    {
      "cell_type": "markdown",
      "source": "### **3) pivot**",
      "metadata": {
        "id": "owjaTBK_Rt9j"
      }
    },
    {
      "cell_type": "markdown",
      "source": "* 예제 데이터 만들기",
      "metadata": {
        "id": "YlyjUrxvTMiM"
      }
    },
    {
      "cell_type": "code",
      "source": "dict2 = {'월' : ['1월', '1월', '1월', '1월', '2월', '2월', '2월', '2월'],\n        '성별' : ['남', '여', '남', '여', '여', '여', '여', '남'],\n        '이름' : ['Aaa', 'Bbb', 'Ccc', 'Ddd', 'Eee', 'Fff', 'Ggg', 'hhh'],\n        '구매액' : [60,40,40,70,20,30,30,90] }\ndf = pd.DataFrame(dict2)\ndf",
      "metadata": {
        "id": "GbaVsXTeRt9x"
      },
      "execution_count": null,
      "outputs": []
    },
    {
      "cell_type": "markdown",
      "source": "* 월별, 성별 별, 구매액 집계",
      "metadata": {
        "id": "q9708L3KTO-A"
      }
    },
    {
      "cell_type": "code",
      "source": "temp = df.groupby(['월','성별'], as_index = False)['구매액'].sum()\ntemp",
      "metadata": {
        "id": "_PJrkThXTStR"
      },
      "execution_count": null,
      "outputs": []
    },
    {
      "cell_type": "markdown",
      "source": "* 피봇 테이블",
      "metadata": {
        "id": "C95M-jvMTds6"
      }
    },
    {
      "cell_type": "code",
      "source": "temp.pivot(index = '월', columns = '성별', values = '구매액')",
      "metadata": {
        "id": "6o9xwl1GTfat"
      },
      "execution_count": null,
      "outputs": []
    },
    {
      "cell_type": "markdown",
      "source": "## **(4) Topic 3. 시계열 데이터 이해**",
      "metadata": {
        "id": "yYrHnGmuXvsv"
      }
    },
    {
      "cell_type": "markdown",
      "source": "### **1) 시계열 데이터란?**",
      "metadata": {
        "id": "Yi_NenuFXvsv",
        "tags": []
      }
    },
    {
      "cell_type": "code",
      "source": "# 상위 데이터 조회\nkospi.head()",
      "metadata": {
        "id": "jhHOzoOxXvsw"
      },
      "execution_count": null,
      "outputs": []
    },
    {
      "cell_type": "code",
      "source": "# 정보 조회\nkospi.info()",
      "metadata": {
        "id": "w1FUqLVcT2cN"
      },
      "execution_count": null,
      "outputs": []
    },
    {
      "cell_type": "markdown",
      "source": "* 날짜 형식으로 변경 : pd.to_datetime()",
      "metadata": {
        "id": "K7uJwaUnjFR9"
      }
    },
    {
      "cell_type": "code",
      "source": "kospi['Date'] = pd.to_datetime(kospi['Date'])\nkospi.info()",
      "metadata": {
        "id": "zlPXh5YMjFR_"
      },
      "execution_count": null,
      "outputs": []
    },
    {
      "cell_type": "code",
      "source": "kospi.head()",
      "metadata": {
        "id": "N4kGwMqDqgu3"
      },
      "execution_count": null,
      "outputs": []
    },
    {
      "cell_type": "markdown",
      "source": "### **2) 시계열 데이터 처리**",
      "metadata": {
        "id": "mPS_evXGtQma",
        "tags": []
      }
    },
    {
      "cell_type": "markdown",
      "source": "**① 날짜 요소 뽑기**",
      "metadata": {
        "id": "vfJZeFgVlGx_"
      }
    },
    {
      "cell_type": "markdown",
      "source": "* 연도를 뽑아서, 새 열로 추가하기",
      "metadata": {
        "id": "u5d2mxyVXy6V"
      }
    },
    {
      "cell_type": "code",
      "source": "kospi['Year'] = kospi['Date'].dt.year\nkospi.head()",
      "metadata": {
        "id": "mq_lvHc5Xy6i"
      },
      "execution_count": null,
      "outputs": []
    },
    {
      "cell_type": "markdown",
      "source": "* 요일을 뽑아서, 새 열로 추가하기",
      "metadata": {
        "id": "mGIns2LTXiPU"
      }
    },
    {
      "cell_type": "code",
      "source": "kospi['Weekday'] = kospi['Date'].dt.day_name()\nkospi.head()",
      "metadata": {
        "id": "682BM0a1jFR_"
      },
      "execution_count": null,
      "outputs": []
    },
    {
      "cell_type": "markdown",
      "source": "**② 이전, 이후로 데이터 옮기기(shift)**",
      "metadata": {
        "id": "lHAYGJVpY44M"
      }
    },
    {
      "cell_type": "markdown",
      "source": "* 예제 데이터 준비",
      "metadata": {
        "id": "TUnr0av6Y44W"
      }
    },
    {
      "cell_type": "code",
      "source": "temp = kospi[['Date','Close']].copy()\ntemp.head()",
      "metadata": {
        "id": "_VjNrHq8ppdV"
      },
      "execution_count": null,
      "outputs": []
    },
    {
      "cell_type": "markdown",
      "source": "* 데이터 이동시키기",
      "metadata": {
        "id": "KRWKd05RpxBI"
      }
    },
    {
      "cell_type": "code",
      "source": "temp['Close_lag1'] = temp['Close'].shift()\ntemp['Close_lag2'] = temp['Close'].shift(2)\ntemp['Close_lag-1'] = temp['Close'].shift(-1)\ntemp.head()",
      "metadata": {
        "id": "OUIjA-k4Y44X"
      },
      "execution_count": null,
      "outputs": []
    },
    {
      "cell_type": "markdown",
      "source": "**③ 이동평균(rolling().mean())**",
      "metadata": {
        "id": "yd-o3qvgr8Ps"
      }
    },
    {
      "cell_type": "markdown",
      "source": "* 예제 데이터 준비",
      "metadata": {
        "id": "aW-vqiwor8Pt"
      }
    },
    {
      "cell_type": "code",
      "source": "temp = kospi[['Date','Close']].copy()\ntemp.head()",
      "metadata": {
        "id": "nUAnId7Sr8Pt"
      },
      "execution_count": null,
      "outputs": []
    },
    {
      "cell_type": "markdown",
      "source": "* 데이터 이동 평균 구하기",
      "metadata": {
        "id": "1DmkByvwr8Pu"
      }
    },
    {
      "cell_type": "code",
      "source": "temp['Cl_MA3'] = temp['Close'].rolling(3).mean()\ntemp['Cl_MM3'] = temp['Close'].rolling(3).max()\ntemp['Cl_MA3_1'] = temp['Close'].rolling(3, min_periods = 1).mean()\ntemp.head()",
      "metadata": {
        "id": "SfDggqvPr8Pu"
      },
      "execution_count": null,
      "outputs": []
    },
    {
      "cell_type": "markdown",
      "source": "**④ 차분(diff)**",
      "metadata": {
        "id": "dmVJKTAOtM0q"
      }
    },
    {
      "cell_type": "markdown",
      "source": "* 예제 데이터 준비",
      "metadata": {
        "id": "d-lrskZetM0y"
      }
    },
    {
      "cell_type": "code",
      "source": "temp = kospi[['Date','Close']].copy()\ntemp.head()",
      "metadata": {
        "id": "P0GZUDBhtM0y"
      },
      "execution_count": null,
      "outputs": []
    },
    {
      "cell_type": "markdown",
      "source": "* 이전 시점 데이터와의 차이 구하기",
      "metadata": {
        "id": "UcJ2R87AtM0y"
      }
    },
    {
      "cell_type": "code",
      "source": "temp['Cl_Diff1'] = temp['Close'].diff()\ntemp['Cl_Diff2'] = temp['Close'].diff(2)\ntemp.head()",
      "metadata": {
        "id": "q-Pm4482tM0z"
      },
      "execution_count": null,
      "outputs": []
    },
    {
      "cell_type": "code",
      "source": "",
      "metadata": {
        "id": "ZqQ2-BSAtZAy"
      },
      "execution_count": null,
      "outputs": []
    }
  ]
}