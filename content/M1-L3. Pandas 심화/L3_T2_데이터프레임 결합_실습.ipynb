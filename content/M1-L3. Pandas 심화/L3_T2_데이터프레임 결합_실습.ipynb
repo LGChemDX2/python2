{
  "cells": [
    {
      "cell_type": "markdown",
      "metadata": {
        "id": "mVOYUVwYNrob"
      },
      "source": [
        "# **Topic 2. 데이터프레임 결합_실습**\n",
        "\n",
        "* 이번 실습은 실습1 > 실습2 > 실습3 으로 이어집니다."
      ]
    },
    {
      "cell_type": "markdown",
      "metadata": {
        "id": "oxnVE8m_vr8H"
      },
      "source": [
        "## **(1) 환경 준비**"
      ]
    },
    {
      "cell_type": "markdown",
      "source": [
        "* 라이브러리 로딩"
      ],
      "metadata": {
        "id": "juZbxdEKvz2K"
      }
    },
    {
      "cell_type": "code",
      "execution_count": null,
      "metadata": {
        "id": "SPPuEYrHvr8I"
      },
      "outputs": [],
      "source": [
        "import pandas as pd\n",
        "import numpy as np"
      ]
    },
    {
      "cell_type": "markdown",
      "source": [
        "* 데이터 로딩"
      ],
      "metadata": {
        "id": "GvCflNu5v1u1"
      }
    },
    {
      "cell_type": "code",
      "source": [
        "sales1 = pd.read_csv('sales1.csv') # Store_ID == 1\n",
        "sales2 = pd.read_csv('sales2.csv') # Store_ID == 2\n",
        "sales3 = pd.read_csv('sales3.csv') # Store_ID == 3\n",
        "products = pd.read_csv('products.csv')"
      ],
      "metadata": {
        "id": "GusSAPnfvr8I"
      },
      "execution_count": null,
      "outputs": []
    },
    {
      "cell_type": "code",
      "source": [
        "sales1.head()"
      ],
      "metadata": {
        "id": "jqFykgsB3da8"
      },
      "execution_count": null,
      "outputs": []
    },
    {
      "cell_type": "code",
      "source": [
        "products.head()"
      ],
      "metadata": {
        "id": "6LQ_x2SF3fVH"
      },
      "execution_count": null,
      "outputs": []
    },
    {
      "cell_type": "markdown",
      "metadata": {
        "id": "jtOUt7kVWs9D"
      },
      "source": [
        "## **(2) 실습1 : 합치기**\n",
        "\n"
      ]
    },
    {
      "cell_type": "markdown",
      "source": [
        "\n",
        "* 다음의 세 데이터셋을 하나로 합치시오.\n",
        "    * sales1, sales2, sales3 ==> sales"
      ],
      "metadata": {
        "id": "WKy66uSA4BeF"
      }
    },
    {
      "cell_type": "code",
      "execution_count": null,
      "metadata": {
        "id": "1xqiuyahWs9E"
      },
      "outputs": [],
      "source": [
        "sales = pd.c  ([  ,  ,  ], axis = 0)\n",
        "sales.head()"
      ]
    },
    {
      "cell_type": "markdown",
      "metadata": {
        "id": "nciDDo_z4BeE"
      },
      "source": [
        "## **(3) 실습2 : 병합**\n",
        "\n"
      ]
    },
    {
      "cell_type": "markdown",
      "source": [
        "\n",
        "* 점포(Store_ID)별, 상품 카테고리(Category)별, 매출액 합계를 구해 봅시다.\n",
        "    * ① sales와 products를 병합 : merge(inner)\n",
        "    * ② 새 열 추가 Qty와 Price를 곱해서 금액(Amt) 열을 생성\n",
        "    * ③ 점포(Store_ID)별, 상품 카테고리(Category)별, 매출액 합계를 집계"
      ],
      "metadata": {
        "id": "OHCM_OMVzQZ6"
      }
    },
    {
      "cell_type": "code",
      "execution_count": null,
      "metadata": {
        "id": "zK7TZhkl4BeF"
      },
      "outputs": [],
      "source": [
        "# ① sales와 products를 병합 : merge(inner)\n",
        "temp = pd.m (   ,   , on =  )\n",
        "temp.head()"
      ]
    },
    {
      "cell_type": "code",
      "source": [
        "# ② 새 열 추가 Qty와 Price를 곱해서 금액(Amt) 열을 생성\n",
        "temp['Amt'] = temp[   ] * temp[   ]\n",
        "temp.head()"
      ],
      "metadata": {
        "id": "Z82Ncc6O5gz3"
      },
      "execution_count": null,
      "outputs": []
    },
    {
      "cell_type": "code",
      "source": [
        "# ③ 점포(Store_ID)별, 상품 카테고리(Category)별, 매출액 합계를 집계\n",
        "temp_gr = temp.g   ([  ,  ], as_index = False)[   ].\n",
        "temp_gr"
      ],
      "metadata": {
        "id": "z6IfVG1i5gw0"
      },
      "execution_count": null,
      "outputs": []
    },
    {
      "cell_type": "markdown",
      "metadata": {
        "tags": [],
        "id": "KH0k96uzXvsk"
      },
      "source": [
        "## **(4) 실습3 : pivot**"
      ]
    },
    {
      "cell_type": "markdown",
      "source": [
        "\n",
        "* 다음의 조건으로 피봇을 수행하시오.\n",
        "    * 행(index) : Category\n",
        "    * 열(columns) : Store_ID\n",
        "    * 값(values) : Amt"
      ],
      "metadata": {
        "id": "5oXqNo3kzfsz"
      }
    },
    {
      "cell_type": "code",
      "source": [
        "temp_gr.p  (   ,   ,   )"
      ],
      "metadata": {
        "id": "WGVKpscHz2qO"
      },
      "execution_count": null,
      "outputs": []
    },
    {
      "cell_type": "code",
      "source": [],
      "metadata": {
        "id": "7PuXN1s70ZJw"
      },
      "execution_count": null,
      "outputs": []
    }
  ],
  "metadata": {
    "colab": {
      "provenance": [],
      "toc_visible": true
    },
    "kernelspec": {
      "display_name": "Python 3 (ipykernel)",
      "language": "python",
      "name": "python3"
    },
    "language_info": {
      "codemirror_mode": {
        "name": "ipython",
        "version": 3
      },
      "file_extension": ".py",
      "mimetype": "text/x-python",
      "name": "python",
      "nbconvert_exporter": "python",
      "pygments_lexer": "ipython3",
      "version": "3.10.9"
    },
    "toc-autonumbering": false,
    "toc-showmarkdowntxt": false
  },
  "nbformat": 4,
  "nbformat_minor": 0
}